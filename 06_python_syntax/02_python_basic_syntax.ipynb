{
 "cells": [
  {
   "cell_type": "markdown",
   "metadata": {},
   "source": [
    "# 개요\n",
    "\n",
    "- 식별자\n",
    "- 변수(선언)\n",
    "- 자료형(Data type)\n",
    "- 데이터 형변환"
   ]
  },
  {
   "cell_type": "markdown",
   "metadata": {},
   "source": [
    "### 1.comment, print"
   ]
  },
  {
   "cell_type": "code",
   "execution_count": 1,
   "metadata": {
    "collapsed": true
   },
   "outputs": [],
   "source": [
    "# this is a function\n",
    "def education():\n",
    "    return 100"
   ]
  },
  {
   "cell_type": "code",
   "execution_count": 2,
   "metadata": {},
   "outputs": [
    {
     "name": "stdout",
     "output_type": "stream",
     "text": [
      "100\n"
     ]
    }
   ],
   "source": [
    "print(education())"
   ]
  },
  {
   "cell_type": "code",
   "execution_count": 3,
   "metadata": {},
   "outputs": [
    {
     "name": "stdout",
     "output_type": "stream",
     "text": [
      "data1\n",
      "data1\n",
      "data1\n"
     ]
    }
   ],
   "source": [
    "print(\"data1\", end=\"\\n\")\n",
    "print(\"data1\", end=\"\\n\")\n",
    "print(\"data1\", end=\"\\n\")"
   ]
  },
  {
   "cell_type": "code",
   "execution_count": 4,
   "metadata": {},
   "outputs": [
    {
     "name": "stdout",
     "output_type": "stream",
     "text": [
      "data1\tdata1\tdata1\t"
     ]
    }
   ],
   "source": [
    "print(\"data1\", end=\"\\t\")\n",
    "print(\"data1\", end=\"\\t\")\n",
    "print(\"data1\", end=\"\\t\")"
   ]
  },
  {
   "cell_type": "code",
   "execution_count": 5,
   "metadata": {},
   "outputs": [
    {
     "name": "stdout",
     "output_type": "stream",
     "text": [
      "this is a data, date, weather\n"
     ]
    }
   ],
   "source": [
    "# print format 1\n",
    "e1 = \"data\"\n",
    "e2 = \"date\"\n",
    "e3 = \"weather\"\n",
    "print(\"this is a {}, {}, {}\".format(e1, e2, e3))"
   ]
  },
  {
   "cell_type": "code",
   "execution_count": 2,
   "metadata": {},
   "outputs": [
    {
     "name": "stdout",
     "output_type": "stream",
     "text": [
      "this is your Birthday, Sujin\n"
     ]
    }
   ],
   "source": [
    "# print format 2\n",
    "e1 = \"Birthday\"\n",
    "e2 = \"Sujin\"\n",
    "print(\"this is your {anniversary}, {name}\".format(anniversary=e1, name=e2))"
   ]
  },
  {
   "cell_type": "markdown",
   "metadata": {},
   "source": [
    "### 2.식별자 \n",
    "- 변수, 함수, 클래스, 모듈, 패키지 등을 구분하기 위해 사용되는 이름\n",
    "\n",
    "- 규칙\n",
    "    - 대소문자를 구분한다 \n",
    "    - 소문자(a~z), 대문자(A~Z), 숫자(0~9), 특수문자(_)만 사용가능하다\n",
    "    - &^*% 는 사용 불가능하다\n",
    "    - 가장 앞에 `__` 을 사용하는 건 지양한다\n",
    "    - 가장 앞에 숫자 사용은 불가능하다\n",
    "    - 예약어 사용이 불가능하다 eg. def, print, int, var 등...\n",
    "    "
   ]
  },
  {
   "cell_type": "code",
   "execution_count": 7,
   "metadata": {},
   "outputs": [
    {
     "data": {
      "text/plain": [
       "(2, 1)"
      ]
     },
     "execution_count": 7,
     "metadata": {},
     "output_type": "execute_result"
    }
   ],
   "source": [
    "a = 1\n",
    "A = 2\n",
    "A, a"
   ]
  },
  {
   "cell_type": "markdown",
   "metadata": {},
   "source": [
    "### 3.변수\n",
    "- 저장공간의 메모리(?)\n",
    "- `=`는 수학적으로 같다는 의미가 아니라, 뒤에 있는 값을 앞에 있는 변수에 저장한다는 의미이다.\n",
    "- 변수(a)를 선언하면, 컴퓨터는 메모리 영역에 공간을 만들어, 해당 변수(a)에 value값과 데이터 타입을 지정한다. \n",
    "- 나중에 변수(a)를 호출하면, 컴퓨터는 메모리 영역에서, 해당 변수(a)의 value값과 데이터 타입을 가져온다. \n",
    "- 변수 선언은 보통 소스코드 상단에 해준다. 찾아서 수정하기 쉽기 때문이다"
   ]
  },
  {
   "cell_type": "code",
   "execution_count": 8,
   "metadata": {},
   "outputs": [
    {
     "data": {
      "text/plain": [
       "1"
      ]
     },
     "execution_count": 8,
     "metadata": {},
     "output_type": "execute_result"
    }
   ],
   "source": [
    "# 정수형, 소수형 등 선언가능\n",
    "\n",
    "a = 1\n",
    "a"
   ]
  },
  {
   "cell_type": "code",
   "execution_count": 9,
   "metadata": {},
   "outputs": [
    {
     "data": {
      "text/plain": [
       "'python'"
      ]
     },
     "execution_count": 9,
     "metadata": {},
     "output_type": "execute_result"
    }
   ],
   "source": [
    "# 문자열 선언가능\n",
    "\n",
    "b = \"python\"\n",
    "b"
   ]
  },
  {
   "cell_type": "markdown",
   "metadata": {},
   "source": [
    "### 사용할 수 없는 변수들"
   ]
  },
  {
   "cell_type": "code",
   "execution_count": 10,
   "metadata": {},
   "outputs": [
    {
     "ename": "SyntaxError",
     "evalue": "invalid syntax (<ipython-input-10-83f2a15f2f63>, line 2)",
     "output_type": "error",
     "traceback": [
      "\u001b[0;36m  File \u001b[0;32m\"<ipython-input-10-83f2a15f2f63>\"\u001b[0;36m, line \u001b[0;32m2\u001b[0m\n\u001b[0;31m    abc% = 10\u001b[0m\n\u001b[0m         ^\u001b[0m\n\u001b[0;31mSyntaxError\u001b[0m\u001b[0;31m:\u001b[0m invalid syntax\n"
     ]
    }
   ],
   "source": [
    "# ipython의 shellcommand 명령어(%)를 사용할 수 없다\n",
    "abc% = 10"
   ]
  },
  {
   "cell_type": "code",
   "execution_count": null,
   "metadata": {
    "collapsed": true
   },
   "outputs": [],
   "source": [
    "# 숫자가 먼저 나올 수 없다\n",
    "\n",
    "2a = 2"
   ]
  },
  {
   "cell_type": "code",
   "execution_count": null,
   "metadata": {
    "collapsed": true
   },
   "outputs": [],
   "source": [
    "# 다중할당: 한 줄에 여러 개의 변수를 선언해서 값을 넣어줍니다.\n",
    "\n",
    "numb, word = 1, \"python\"\n",
    "numb, word"
   ]
  },
  {
   "cell_type": "code",
   "execution_count": null,
   "metadata": {
    "collapsed": true
   },
   "outputs": [],
   "source": [
    "# 여러 개의 변수에 똑같은 값 할당하기\n",
    "\n",
    "a = b = c = d = 1\n",
    "a, b, c, d"
   ]
  },
  {
   "cell_type": "markdown",
   "metadata": {},
   "source": [
    "### 4.자료형(Datatype)\n",
    "- Number: int, float, complex(복소수)\n",
    "- Boolean: True, False\n",
    "- String\n",
    "- Collection\n",
    "    - List\n",
    "    - Tuple\n",
    "    - Dictionary\n",
    "    - Set"
   ]
  },
  {
   "cell_type": "markdown",
   "metadata": {},
   "source": [
    "### Number"
   ]
  },
  {
   "cell_type": "code",
   "execution_count": null,
   "metadata": {
    "collapsed": true
   },
   "outputs": [],
   "source": [
    "# Number - int (정수)\n",
    "\n",
    "a, b, c, d = 0, 12345, -1234, 13232\n",
    "\n",
    "print(a, b, c, d)\n",
    "print(type(a), type(b), type(c), type(d))"
   ]
  },
  {
   "cell_type": "code",
   "execution_count": null,
   "metadata": {
    "collapsed": true
   },
   "outputs": [],
   "source": [
    "# Number - float (소수)\n",
    "\n",
    "a, b, c, d = 0.0, 123.1234, 929.12, 0.1111\n",
    "\n",
    "print(a, b, c, d)\n",
    "print(type(a), type(b), type(c), type(d))"
   ]
  },
  {
   "cell_type": "code",
   "execution_count": null,
   "metadata": {
    "collapsed": true
   },
   "outputs": [],
   "source": [
    "# Number - complex (복소수)\n",
    "# abs는 허수 값의 근사치이다.\n",
    "\n",
    "a = 2 + 3j\n",
    "b = complex(3, -4)\n",
    "\n",
    "print(type(a), type(b))\n",
    "print(a, b)\n",
    "print(abs(a))"
   ]
  },
  {
   "cell_type": "code",
   "execution_count": null,
   "metadata": {
    "collapsed": true
   },
   "outputs": [],
   "source": [
    "# 실수부분은 real, 허수부분은 imag로 표현한다\n",
    "\n",
    "print(a.real, a.imag)\n",
    "print(type(a.real))"
   ]
  },
  {
   "cell_type": "markdown",
   "metadata": {},
   "source": [
    "### Boolean"
   ]
  },
  {
   "cell_type": "code",
   "execution_count": null,
   "metadata": {
    "collapsed": true
   },
   "outputs": [],
   "source": [
    "# Boolean\n",
    "# 첫글자는 대문자로 써야 한다\n",
    "\n",
    "a, b = True, False\n",
    "print(type(a), type(b))\n",
    "a, b"
   ]
  },
  {
   "cell_type": "markdown",
   "metadata": {},
   "source": [
    "### String"
   ]
  },
  {
   "cell_type": "code",
   "execution_count": null,
   "metadata": {
    "collapsed": true
   },
   "outputs": [],
   "source": [
    "# String\n",
    "# \"\" 안의 '', '' 안의 \"\"은 문자열로 인식한다\n",
    "\n",
    "a, b, c, d = \"One\", \"Two\", 'Three', 'Four'\n",
    "e, f = \"I 'love' you\", 'I \"love\" you'\n",
    "print(type(a), type(b), type(c), type(d))\n",
    "a, b, c, d, e, f"
   ]
  },
  {
   "cell_type": "code",
   "execution_count": null,
   "metadata": {
    "collapsed": true
   },
   "outputs": [],
   "source": [
    "# String - multi line\n",
    "# 여러 줄을 문자열로 설정할 수 있다\n",
    "\n",
    "a = \"\"\"\n",
    "fast campus ds school fighting\n",
    "\"\"\"\n",
    "print(type(a))\n",
    "print(a)"
   ]
  },
  {
   "cell_type": "code",
   "execution_count": null,
   "metadata": {
    "collapsed": true
   },
   "outputs": [],
   "source": [
    "# String - multiful string\n",
    "# 문자열이 여러 번 등장하도록 설정할 수 있다. \n",
    "# 반복문(for)을 사용하지 않을 수 있도록 하는 기능\n",
    "\n",
    "s = \"Data \" * 10\n",
    "print(s)"
   ]
  },
  {
   "cell_type": "code",
   "execution_count": 2,
   "metadata": {},
   "outputs": [
    {
     "name": "stdout",
     "output_type": "stream",
     "text": [
      "a\n",
      "abcd\n",
      "abcdefg\n",
      "abcdefg\n"
     ]
    }
   ],
   "source": [
    "# String - offset\n",
    "# 문자열 문자 하나 하나에 넘버링을 해서 문자열의 특정 위치의 문자열 선택이 가능\n",
    "# 문자열의 범위를 지정해서 가져올 수 있다\n",
    "# 맨 위치의 문자열은 포함하고 맨 마지막 위치의 문자열은 포함하지 않는다.\n",
    "\n",
    "a = \"abcdefg\"\n",
    "\n",
    "print(a[0])\n",
    "print(a[0:4])\n",
    "print(a[0:]) # 가장 앞 위치 혹은 가장 마지막 위치의 문자열을 사용하려면, 해당 문자를 쓰지 않으면 된다\n",
    "print(a[:len(a)])"
   ]
  },
  {
   "cell_type": "code",
   "execution_count": 3,
   "metadata": {},
   "outputs": [
    {
     "data": {
      "text/plain": [
       "('abcdefg', 'aceg', 'gfedcba')"
      ]
     },
     "execution_count": 3,
     "metadata": {},
     "output_type": "execute_result"
    }
   ],
   "source": [
    "# Step\n",
    "# N칸을 띄어서 출력한다\n",
    "# Step 기능은 Inverse할 때 사용한다. \n",
    "a[::1], a[::2], a[::-1]"
   ]
  },
  {
   "cell_type": "code",
   "execution_count": null,
   "metadata": {
    "collapsed": true
   },
   "outputs": [],
   "source": [
    "# String methods\n",
    "# upper\n",
    "\n",
    "b = a.upper()\n",
    "b"
   ]
  },
  {
   "cell_type": "code",
   "execution_count": null,
   "metadata": {
    "collapsed": true
   },
   "outputs": [],
   "source": [
    "# find \n",
    "# 없는 문자열을 넣으면 '-1'을 리턴\n",
    "b.find(\"BC\"), b.find(\"FG\")"
   ]
  },
  {
   "cell_type": "code",
   "execution_count": null,
   "metadata": {
    "collapsed": true
   },
   "outputs": [],
   "source": [
    "# index\n",
    "# 변수에 없는 문자열을 넣게 되면 에러가 발생한다 \n",
    "\n",
    "b.index(\"C\"), b.index(\"CD\")\n",
    "b.index(\"Y\")"
   ]
  },
  {
   "cell_type": "code",
   "execution_count": null,
   "metadata": {
    "collapsed": true
   },
   "outputs": [],
   "source": [
    "# Count\n",
    "# 특정 문자열이 몇개 있는지 개수를 세어준다\n",
    "\n",
    "b = \"adfdasdfa\"\n",
    "b.count(\"ad\")"
   ]
  },
  {
   "cell_type": "code",
   "execution_count": null,
   "metadata": {
    "collapsed": true
   },
   "outputs": [],
   "source": [
    "# Strip\n",
    "# 띄어쓰기나 공백을 제거해주는 역할을 한다\n",
    "# lstrip은 왼쪽의 공백을, rstrip은 오른쪽의 공백을, strip은 좌우에 있는 모든 공백을 제거해준다\n",
    "s = \" data science good wow \"\n",
    "ps = s.strip()\n",
    "ps"
   ]
  },
  {
   "cell_type": "code",
   "execution_count": null,
   "metadata": {
    "collapsed": true
   },
   "outputs": [],
   "source": [
    "# replace\n",
    "# 특정 문자와 다음 문자를 뒤바꿔준다\n",
    "ps.replace(\"data\", \"computer\")"
   ]
  },
  {
   "cell_type": "code",
   "execution_count": null,
   "metadata": {
    "collapsed": true
   },
   "outputs": [],
   "source": [
    "# split\n",
    "# \"\", \":\", \",\"으로 나눌 수 있다\n",
    "# split 메소드는 CSV(comma separate values) 때 주로 사용한다\n",
    "\n",
    "s.strip().split(\" \")\n",
    "x = \"data:science:school:number:victory\"\n",
    "x.split(\":\")"
   ]
  },
  {
   "cell_type": "markdown",
   "metadata": {},
   "source": [
    "### Collection"
   ]
  },
  {
   "cell_type": "markdown",
   "metadata": {},
   "source": [
    "### List"
   ]
  },
  {
   "cell_type": "code",
   "execution_count": null,
   "metadata": {
    "collapsed": true
   },
   "outputs": [],
   "source": [
    "# List\n",
    "# 순서가 있는 데이터의 집합을 가지는 데이터 타입\n",
    "# 순서가 있기 때문에 문자열처럼 offset이 있다\n",
    "# 다른 자료형(숫자, 문자, 불린)을 함께 넣을 수 있다\n",
    "\n",
    "# 선언\n",
    "ls1 = [\"data\", \"science\", \"amazing\"]\n",
    "ls3 = [[1,2,3],[4,5,6,],[7,8,9]]\n",
    "ls4 = [\"data\", True, 1234]\n",
    "\n",
    "print(type(ls4[0]))\n",
    "print(type(ls4[1]))\n",
    "print(type(ls4[2]))"
   ]
  },
  {
   "cell_type": "code",
   "execution_count": null,
   "metadata": {
    "collapsed": true
   },
   "outputs": [],
   "source": [
    "# Offset\n",
    "\n",
    "ls = [\"data\", \"science\", \"amazing\", \"powerful\"]\n",
    "\n",
    "ls[1], ls[-1], ls[:4], ls[::2], ls[::-1]"
   ]
  },
  {
   "cell_type": "code",
   "execution_count": null,
   "metadata": {
    "collapsed": true
   },
   "outputs": [],
   "source": [
    "ls[0] = \"music\"\n",
    "ls"
   ]
  },
  {
   "cell_type": "code",
   "execution_count": null,
   "metadata": {
    "collapsed": true
   },
   "outputs": [],
   "source": [
    "# Method\n",
    "# append(뒤에 추가), sort, reverse, index(데이터의 위치를 추척), insert(특정 위치에 추가), remove, pop(뒤를 삭제)\n",
    "\n",
    "# append: 맨 뒤에 문자열을 추가한다\n",
    "ls.append(\"to me\")\n",
    "ls"
   ]
  },
  {
   "cell_type": "code",
   "execution_count": null,
   "metadata": {
    "collapsed": true
   },
   "outputs": [],
   "source": [
    "# sort: 알파벳 순으로 정렬한다\n",
    "\n",
    "ls.sort()\n",
    "ls"
   ]
  },
  {
   "cell_type": "code",
   "execution_count": null,
   "metadata": {
    "collapsed": true
   },
   "outputs": [],
   "source": [
    "# reverse: sort와 반대되는 기능. 알파벳 역순으로 정렬한다\n",
    "\n",
    "ls.reverse()\n",
    "ls"
   ]
  },
  {
   "cell_type": "code",
   "execution_count": null,
   "metadata": {
    "collapsed": true
   },
   "outputs": [],
   "source": [
    "# index: 가장 앞에서 찾은 인덱스값을 불러온다\n",
    "# 리스트에 없는 값을 찾게 되면 에러가 뜬다\n",
    "ls.index(\"music\")"
   ]
  },
  {
   "cell_type": "code",
   "execution_count": null,
   "metadata": {
    "collapsed": true
   },
   "outputs": [],
   "source": [
    "ls.index(\"number\")"
   ]
  },
  {
   "cell_type": "code",
   "execution_count": null,
   "metadata": {
    "collapsed": true
   },
   "outputs": [],
   "source": [
    "# insert: 중간에 데이터 값을 넣을 수 있다\n",
    "# insert(데이터가 들어갈 위치, 파라미터) 형태로 작성하면 된다"
   ]
  },
  {
   "cell_type": "code",
   "execution_count": null,
   "metadata": {
    "collapsed": true
   },
   "outputs": [],
   "source": [
    "ls.insert(1, \"to you\")"
   ]
  },
  {
   "cell_type": "code",
   "execution_count": null,
   "metadata": {
    "collapsed": true
   },
   "outputs": [],
   "source": [
    "ls"
   ]
  },
  {
   "cell_type": "code",
   "execution_count": null,
   "metadata": {
    "collapsed": true
   },
   "outputs": [],
   "source": [
    "# remove: 특정 데이터 값을 제거할 수 있다\n",
    "# 리스트 메소드에는 특정 문자를 한꺼번에 지우는 방법이 없다. 클래스에서는 가능하다.\n",
    "ls.remove(\"to me\")\n",
    "ls"
   ]
  },
  {
   "cell_type": "code",
   "execution_count": null,
   "metadata": {
    "collapsed": true
   },
   "outputs": [],
   "source": [
    "# pop: 가장 마지막 값을 제거한다\n",
    "\n",
    "ls.pop()\n",
    "ls"
   ]
  },
  {
   "cell_type": "code",
   "execution_count": 4,
   "metadata": {},
   "outputs": [
    {
     "data": {
      "text/plain": [
       "['f', 'a', 's', 't', ' ', 'c', 'a', 'm', 'p', 'u', 's']"
      ]
     },
     "execution_count": 4,
     "metadata": {},
     "output_type": "execute_result"
    }
   ],
   "source": [
    "# ls와 문자열. ls의 범위(변수)에 문자열을 선언해주면, 문자열에 있는 개개의 데이터값이 하나씩 변환된다 \n",
    "ls = []\n",
    "ls[0:12] = \"fast campus\"\n",
    "ls"
   ]
  },
  {
   "cell_type": "code",
   "execution_count": 2,
   "metadata": {},
   "outputs": [
    {
     "data": {
      "text/plain": [
       "([1, 2, 10], [1, 2, 10])"
      ]
     },
     "execution_count": 2,
     "metadata": {},
     "output_type": "execute_result"
    }
   ],
   "source": [
    "# copy: 리스트 값을 그대로 복사한다\n",
    "# 리스트의 value값을 복사하는 방법은 =을 사용하는 방법과 copy 메소드를 사용하는 방법, 두 가지이다.\n",
    "# '='은 같은 메모리 공간을 사용하도록 한다.(종속적) 리스트 a와 리스트 b는 같은 메모리 공간을 참조(reference)한다\n",
    "# 반면, copy 메소드는 다른 메모리 공간을 사용하게 된다.(독립적) 아래처럼 같이 바뀌는 현상을 방지할 수 있다.\n",
    "\n",
    "a = [1,2,3]\n",
    "b = a\n",
    "b[2] = 10\n",
    "a, b"
   ]
  },
  {
   "cell_type": "code",
   "execution_count": null,
   "metadata": {
    "collapsed": true
   },
   "outputs": [],
   "source": [
    "# 리스트 c와 리스트 d는 리스트 a와 다른 메모리 공간을 참조한다\n",
    "c = a.copy()\n",
    "d = a.copy()\n",
    "c, d"
   ]
  },
  {
   "cell_type": "code",
   "execution_count": null,
   "metadata": {
    "collapsed": true
   },
   "outputs": [],
   "source": [
    "a[1] = 10"
   ]
  },
  {
   "cell_type": "code",
   "execution_count": null,
   "metadata": {
    "collapsed": true
   },
   "outputs": [],
   "source": [
    "# 그래서 리스트 b는 리스트 a의 값을 참조하지만, 리스트 c, d 는 참조하지 않는다\n",
    "a, b, c, d"
   ]
  },
  {
   "cell_type": "markdown",
   "metadata": {},
   "source": [
    "### Tuple"
   ]
  },
  {
   "cell_type": "code",
   "execution_count": null,
   "metadata": {
    "collapsed": true
   },
   "outputs": [],
   "source": [
    "# List처럼 순서가 있는 자료형. 리스트와 같이 Offset 인덱스를 사용할 수 있다.\n",
    "# Tuple은 (), List는 []\n",
    "# 단, 수정이 불가능하다.\n",
    "# Tuple의 사용목적. List보다 메모리(컴퓨터 자원)을 적게 사용하기 때문이다.\n",
    "# 그러므로 바뀔 가능성이 적은 배열은 리스트보다 튜플을 사용하는 게 낫다.\n",
    "\n",
    "import sys\n",
    "\n",
    "# getsizeof : byte 단위로 특정 변수에 사용하는 메모리 공간을 알려준다\n",
    "\n",
    "ls = [1,2,3,4,5]\n",
    "tu = (1,2,3,4,5)\n",
    "\n",
    "print(sys.getsizeof(ls))\n",
    "print(sys.getsizeof(tu))"
   ]
  },
  {
   "cell_type": "code",
   "execution_count": 4,
   "metadata": {},
   "outputs": [
    {
     "data": {
      "text/plain": [
       "(1, 2, 3, 4)"
      ]
     },
     "execution_count": 4,
     "metadata": {},
     "output_type": "execute_result"
    }
   ],
   "source": [
    "# Tuple 선언. ()을 쓰지 않아도 되지만, 가독성을 위해 ()을 사용하는 것을 추천한다\n",
    "\n",
    "t = 1, 2, 3, 4\n",
    "t"
   ]
  },
  {
   "cell_type": "code",
   "execution_count": null,
   "metadata": {
    "collapsed": true
   },
   "outputs": [],
   "source": [
    "# Tuple 값을 바꾸려고 하면 오류가 뜬다\n",
    "\n",
    "t(0) = 1"
   ]
  },
  {
   "cell_type": "markdown",
   "metadata": {},
   "source": [
    "### Dictionary"
   ]
  },
  {
   "cell_type": "code",
   "execution_count": 5,
   "metadata": {},
   "outputs": [
    {
     "name": "stdout",
     "output_type": "stream",
     "text": [
      "{1: 'one', 2: 'two', 3: 'three', '\\xeb\\x91\\x98': 2, '\\xec\\x85\\x8b': 3, '\\xed\\x95\\x98\\xeb\\x82\\x98': 1}\n"
     ]
    },
    {
     "data": {
      "text/plain": [
       "dict"
      ]
     },
     "execution_count": 5,
     "metadata": {},
     "output_type": "execute_result"
    }
   ],
   "source": [
    "# Dictionary는 데이터의 순서가 없다. 대신 key, value가 짝을 지어 존재한다. \n",
    "\n",
    "# 선언: {}를 사용하며, key / value의 연결은 \":\"으로, 쌍 간 구분은 \",\" 로 한다.\n",
    "# 마지막 쌍까지 \",\"를 넣어주는 게 좋다. 그 이유는 다음 쌍을 추가하거나 다른 쌍과 순서를 바꿀 때 수정할 필요가 없어 오류 가능성을 낮출 수 있기 때문이다.\n",
    "dic = {\n",
    "    1:\"one\",\n",
    "    2:\"two\",\n",
    "    3:\"three\",\n",
    "    \"하나\":1,\n",
    "    \"둘\":2,\n",
    "    \"셋\":3,\n",
    "}\n",
    "print(dic)\n",
    "type(dic)"
   ]
  },
  {
   "cell_type": "code",
   "execution_count": null,
   "metadata": {
    "collapsed": true
   },
   "outputs": [],
   "source": [
    "# 수정\n",
    "# 딕셔너리명[key] = 새로운 value 이렇게 하면 새롭게 지정된다\n",
    "dic[1] = \"원\"\n",
    "dic"
   ]
  },
  {
   "cell_type": "code",
   "execution_count": null,
   "metadata": {
    "collapsed": true
   },
   "outputs": [],
   "source": [
    "# method\n",
    "# keys(key값들을 가져온다), values(value값들을 가져온다), items(key, value값을 같이 가져온다)\n",
    "# clear(), get(리스트의 find처럼 데이터를 가져온다), copy(복사), update(2개의 딕셔너리를 합치고 싶을 때 사용한다)"
   ]
  },
  {
   "cell_type": "code",
   "execution_count": null,
   "metadata": {
    "collapsed": true
   },
   "outputs": [],
   "source": [
    "# keys: 키 값들을 가져온다\n",
    "\n",
    "dic.keys()"
   ]
  },
  {
   "cell_type": "code",
   "execution_count": null,
   "metadata": {
    "collapsed": true
   },
   "outputs": [],
   "source": [
    "# values: value 값들을 가져온다\n",
    "\n",
    "dic.values()"
   ]
  },
  {
   "cell_type": "code",
   "execution_count": null,
   "metadata": {
    "collapsed": true
   },
   "outputs": [],
   "source": [
    "# 이후 반복문(for)을 사용해서 딕셔너리를 가져올 때는, items를 사용하여 전체 쌍을 가져오는 게 좋다.\n",
    "\n",
    "dic.items()"
   ]
  },
  {
   "cell_type": "code",
   "execution_count": 6,
   "metadata": {},
   "outputs": [
    {
     "data": {
      "text/plain": [
       "(1, 'two')"
      ]
     },
     "execution_count": 6,
     "metadata": {},
     "output_type": "execute_result"
    }
   ],
   "source": [
    "# get: \"no data\"를 설정할 경우, 키 값 대신 \"no data\"를 입력하면 없는 값이 나온다\n",
    "\n",
    "dic.get(\"하나\"), dic.get(2)"
   ]
  },
  {
   "cell_type": "code",
   "execution_count": 12,
   "metadata": {
    "collapsed": true
   },
   "outputs": [],
   "source": [
    "dic2 = {\n",
    "    3:\"삼\",\n",
    "    4:\"사\",\n",
    "    5:\"오\",\n",
    "}"
   ]
  },
  {
   "cell_type": "code",
   "execution_count": null,
   "metadata": {
    "collapsed": true
   },
   "outputs": [],
   "source": [
    "# update\n",
    "# keys가 중복되는 경우, 새로운 dictionary의 value로 기존 value를 대체한다. \n",
    "\n",
    "dic.update(dic2)\n",
    "dic"
   ]
  },
  {
   "cell_type": "code",
   "execution_count": null,
   "metadata": {
    "collapsed": true
   },
   "outputs": [],
   "source": [
    "# 새로운 쌍 추가하기: \n",
    "\n",
    "dic[6] = \"육\"\n",
    "dic"
   ]
  },
  {
   "cell_type": "code",
   "execution_count": 18,
   "metadata": {},
   "outputs": [
    {
     "data": {
      "text/plain": [
       "{2: 'two', 3: 'three', '하나': 1, '둘': 2, '셋': 3}"
      ]
     },
     "execution_count": 18,
     "metadata": {},
     "output_type": "execute_result"
    }
   ],
   "source": [
    "#키값 하나 삭제하기 del \n",
    "#여러개 삭제할 때는 clear\n",
    "dic"
   ]
  },
  {
   "cell_type": "code",
   "execution_count": 16,
   "metadata": {
    "collapsed": true
   },
   "outputs": [],
   "source": [
    "del dic[1]"
   ]
  },
  {
   "cell_type": "code",
   "execution_count": 13,
   "metadata": {},
   "outputs": [
    {
     "data": {
      "text/plain": [
       "{1: 'one',\n",
       " 2: 'two',\n",
       " 3: 'three',\n",
       " '\\xeb\\x91\\x98': 2,\n",
       " '\\xec\\x85\\x8b': 3,\n",
       " '\\xed\\x95\\x98\\xeb\\x82\\x98': 1}"
      ]
     },
     "execution_count": 13,
     "metadata": {},
     "output_type": "execute_result"
    }
   ],
   "source": [
    "dic"
   ]
  },
  {
   "cell_type": "markdown",
   "metadata": {},
   "source": [
    "### Set \n",
    "\n",
    "- 중복되는 데이터가 없는 집합 형태의 데이터 타입이다. 리스트에서 중복을 제거할 때 사용한다.\n",
    "- 합집합, 차집합, 교집합과 같은 집합의 연산이 가능하다.\n",
    "- 순서가 없다."
   ]
  },
  {
   "cell_type": "code",
   "execution_count": 20,
   "metadata": {},
   "outputs": [
    {
     "data": {
      "text/plain": [
       "{1, 2, 3, 4, 5, 6, 7, 8, 9}"
      ]
     },
     "execution_count": 20,
     "metadata": {},
     "output_type": "execute_result"
    }
   ],
   "source": [
    "# 선언\n",
    "\n",
    "s = set([1,1,2,2,2,2,2,3,4,4,4,4,2,3,4,5,6,7,8,9])\n",
    "s"
   ]
  },
  {
   "cell_type": "code",
   "execution_count": 21,
   "metadata": {},
   "outputs": [
    {
     "ename": "TypeError",
     "evalue": "'set' object does not support item assignment",
     "output_type": "error",
     "traceback": [
      "\u001b[0;31m---------------------------------------------------------------------------\u001b[0m",
      "\u001b[0;31mTypeError\u001b[0m                                 Traceback (most recent call last)",
      "\u001b[0;32m<ipython-input-21-16820b94779f>\u001b[0m in \u001b[0;36m<module>\u001b[0;34m()\u001b[0m\n\u001b[0;32m----> 1\u001b[0;31m \u001b[0ms\u001b[0m\u001b[0;34m[\u001b[0m\u001b[0;36m0\u001b[0m\u001b[0;34m]\u001b[0m \u001b[0;34m=\u001b[0m \u001b[0;36m100\u001b[0m\u001b[0;34m\u001b[0m\u001b[0m\n\u001b[0m",
      "\u001b[0;31mTypeError\u001b[0m: 'set' object does not support item assignment"
     ]
    }
   ],
   "source": [
    "s[0] = 100"
   ]
  },
  {
   "cell_type": "code",
   "execution_count": 23,
   "metadata": {},
   "outputs": [
    {
     "data": {
      "text/plain": [
       "{2, 3, 4, 5, 6, 7, 8, 9, 100}"
      ]
     },
     "execution_count": 23,
     "metadata": {},
     "output_type": "execute_result"
    }
   ],
   "source": [
    "s = list(s)\n",
    "s[0] = 100\n",
    "s = set(s)\n",
    "s"
   ]
  },
  {
   "cell_type": "code",
   "execution_count": 31,
   "metadata": {},
   "outputs": [
    {
     "name": "stdout",
     "output_type": "stream",
     "text": [
      "{3, 4}\n",
      "{3, 4}\n",
      "{1, 2, 3, 4, 5, 6}\n",
      "{1, 2, 3, 4, 5, 6}\n",
      "{1, 2}\n"
     ]
    }
   ],
   "source": [
    "# set 연산: \n",
    "# 기호나 함수를 사용하면 된다\n",
    "\n",
    "s1 = set([1,2,3,4])\n",
    "s2 = set([3,4,5,6])\n",
    "\n",
    "# 교집합\n",
    "print(s1 & s2)\n",
    "print(s1.intersection(s2))\n",
    "\n",
    "# 합집합\n",
    "print(s1 | s2)\n",
    "print(s1.union(s2))\n",
    "\n",
    "# 차집합\n",
    "print(s1 - s2)\n",
    "print(s1.difference(s2))\n"
   ]
  },
  {
   "cell_type": "code",
   "execution_count": 25,
   "metadata": {},
   "outputs": [
    {
     "name": "stdout",
     "output_type": "stream",
     "text": [
      "{1, 2, 3, 4}\n"
     ]
    }
   ],
   "source": [
    "# 꾸르팁 \n",
    "# 단어 건너 뛰기: option 키 누르고 좌, 우, 위, 아래\n",
    "# 전체 건너 뛰기: command 키 누르고 좌, 우, 위, 아래\n",
    "# 들여 쓰기: 블럭설정하고 tab 누르기 \n",
    "# 주석 쓰기: 블럭설정하고 / 누르기"
   ]
  },
  {
   "cell_type": "markdown",
   "metadata": {},
   "source": [
    "### 데이터 형변환\n",
    "\n",
    "- 변수의 데이터 타입을 변경하는 것이다\n",
    "- 데이터의 값과 변경하려는 데이터의 타입에 따라, 변경이 불가능할 수 있다.\n",
    "    - 문자열은 숫자열로 변경할 수 없다."
   ]
  },
  {
   "cell_type": "code",
   "execution_count": 34,
   "metadata": {},
   "outputs": [
    {
     "name": "stdout",
     "output_type": "stream",
     "text": [
      "<class 'str'>\n"
     ]
    },
    {
     "ename": "ValueError",
     "evalue": "invalid literal for int() with base 10: 'a'",
     "output_type": "error",
     "traceback": [
      "\u001b[0;31m---------------------------------------------------------------------------\u001b[0m",
      "\u001b[0;31mValueError\u001b[0m                                Traceback (most recent call last)",
      "\u001b[0;32m<ipython-input-34-de776d1b5c4a>\u001b[0m in \u001b[0;36m<module>\u001b[0;34m()\u001b[0m\n\u001b[1;32m      1\u001b[0m \u001b[0ma\u001b[0m \u001b[0;34m=\u001b[0m \u001b[0;34m\"a\"\u001b[0m\u001b[0;34m\u001b[0m\u001b[0m\n\u001b[1;32m      2\u001b[0m \u001b[0mprint\u001b[0m\u001b[0;34m(\u001b[0m\u001b[0mtype\u001b[0m\u001b[0;34m(\u001b[0m\u001b[0ma\u001b[0m\u001b[0;34m)\u001b[0m\u001b[0;34m)\u001b[0m\u001b[0;34m\u001b[0m\u001b[0m\n\u001b[0;32m----> 3\u001b[0;31m \u001b[0mprint\u001b[0m\u001b[0;34m(\u001b[0m\u001b[0mtype\u001b[0m\u001b[0;34m(\u001b[0m\u001b[0mint\u001b[0m\u001b[0;34m(\u001b[0m\u001b[0ma\u001b[0m\u001b[0;34m)\u001b[0m\u001b[0;34m)\u001b[0m\u001b[0;34m)\u001b[0m\u001b[0;34m\u001b[0m\u001b[0m\n\u001b[0m",
      "\u001b[0;31mValueError\u001b[0m: invalid literal for int() with base 10: 'a'"
     ]
    }
   ],
   "source": [
    "a = \"a\"\n",
    "print(type(a))\n",
    "print(type(int(a)))"
   ]
  },
  {
   "cell_type": "code",
   "execution_count": 35,
   "metadata": {},
   "outputs": [
    {
     "data": {
      "text/plain": [
       "(int, 1234)"
      ]
     },
     "execution_count": 35,
     "metadata": {},
     "output_type": "execute_result"
    }
   ],
   "source": [
    "s = \"1234\"\n",
    "n = int(s)\n",
    "type(n), n\n",
    "n + 1\n",
    "s + \"a\""
   ]
  },
  {
   "cell_type": "code",
   "execution_count": 45,
   "metadata": {},
   "outputs": [
    {
     "name": "stdout",
     "output_type": "stream",
     "text": [
      "False True\n",
      "True True True True\n",
      "False True\n"
     ]
    }
   ],
   "source": [
    "# Boolean 데이터 타입으로의 형변환(중요)\n",
    "# if문 사용할 때 주로 쓴다. \n",
    "\n",
    "# 문자열: 문자열이 있으면 True, 없으면 False가 나온다\n",
    "print(bool(\"\"), bool(\"abcd\"))\n",
    "\n",
    "# 숫자열:\n",
    "print(bool(\"-1\"), bool(\"0\"), bool(\"1\"), bool(\"1234\"))\n",
    "\n",
    "# 배열(리스트)\n",
    "print(bool([]), bool([\"abcd\"]))"
   ]
  },
  {
   "cell_type": "code",
   "execution_count": 50,
   "metadata": {},
   "outputs": [
    {
     "data": {
      "text/plain": [
       "['d', 'a', 't', 'a']"
      ]
     },
     "execution_count": 50,
     "metadata": {},
     "output_type": "execute_result"
    }
   ],
   "source": [
    "# 문자열을 List로의 데이터 형변환 \n",
    "\n",
    "s = \"data\"\n",
    "list(s)\n"
   ]
  },
  {
   "cell_type": "code",
   "execution_count": 3,
   "metadata": {},
   "outputs": [
    {
     "name": "stdout",
     "output_type": "stream",
     "text": [
      "('one', 'two')\n"
     ]
    }
   ],
   "source": [
    "# 튜플과 딕셔너리의 데이터 형변환\n",
    "\n",
    "# 튜플 -> 딕셔너리 : 튜플데이터가 (key, value) 형태로 선언 되어야 한다.\n",
    "t = ((1,\"one\"),(\"A\",\"two\"))\n",
    "dict(t)\n",
    "\n",
    "# 딕셔너리 -> 튜플: keys(), values(), items() 중 무엇을 넣는지에 따라 결과가 다르게 나온다. \n",
    "p = {1: 'one', 'A': 'two'}\n",
    "print(tuple(p.values()))"
   ]
  },
  {
   "cell_type": "markdown",
   "metadata": {},
   "source": [
    "### 연산자\n",
    "- 산술연산자, 비교연산자, 할당(대입)연산자, 비트연산자, 논리연산자, 멤버연산자, 식별연산자"
   ]
  },
  {
   "cell_type": "code",
   "execution_count": 63,
   "metadata": {},
   "outputs": [
    {
     "name": "stdout",
     "output_type": "stream",
     "text": [
      "16\n",
      "8\n",
      "3.0\n",
      "48\n",
      "3\n",
      "2\n",
      "20736\n"
     ]
    }
   ],
   "source": [
    "# 산술연산자 : +, -, /, *, //(몫), %(나머지), **(제곱)\n",
    "\n",
    "a = 12\n",
    "b = 4\n",
    "c = 5\n",
    "print(a+b)\n",
    "print(a-b)\n",
    "print(a/b)\n",
    "print(a*b)\n",
    "print(a//b)\n",
    "print(a%c)\n",
    "print(a**b)"
   ]
  },
  {
   "cell_type": "code",
   "execution_count": 68,
   "metadata": {},
   "outputs": [
    {
     "name": "stdout",
     "output_type": "stream",
     "text": [
      "10 20 10\n",
      "False\n",
      "True\n",
      "True\n",
      "False\n",
      "True\n",
      "True\n"
     ]
    }
   ],
   "source": [
    "# 비교연산자 : ==, !=(다르다), >, <, >=, <=\n",
    "a, b, c = 10, 20, 10\n",
    "print(a, b, c)\n",
    "print(a == b)\n",
    "print(a != b)\n",
    "print(a < b)\n",
    "print(a > b)\n",
    "print(a <= c)\n",
    "print(a >= c)"
   ]
  },
  {
   "cell_type": "code",
   "execution_count": 77,
   "metadata": {},
   "outputs": [
    {
     "name": "stdout",
     "output_type": "stream",
     "text": [
      "a는 5\n",
      "15\n",
      "225\n"
     ]
    }
   ],
   "source": [
    "# 할당(대입)연산자 : =, +=, -+, *=, /=, //=, %=, **=\n",
    "a = 5\n",
    "print(\"a는\", a)\n",
    "a += 10\n",
    "print(a)\n",
    "\n",
    "a **= 2\n",
    "print(a)"
   ]
  },
  {
   "cell_type": "code",
   "execution_count": 86,
   "metadata": {},
   "outputs": [
    {
     "name": "stdout",
     "output_type": "stream",
     "text": [
      "1 0b1\n",
      "7 0b111\n",
      "6 0b110\n",
      "-4 -0b100\n",
      "12 0b1100\n",
      "1 0b1\n"
     ]
    }
   ],
   "source": [
    "# 비트연산자 : &, |, ^, ~, <<, >>\n",
    "# 컴퓨터가 알아듣기 쉬운 용어이기 때문에, 속도가 더 빠르다.\n",
    "# 단, 사용자가 사용하기 더 어렵다\n",
    "\n",
    "a = 3 # 011\n",
    "b = 5 # 101\n",
    "\n",
    "print(a & b, bin(a & b))\n",
    "print(a | b, bin(a | b))\n",
    "print(a ^ b, bin(a ^ b))\n",
    "print(~a, bin(~a)) # 보수. 0과 1을 바꿔서 표현을 해준다. 컴퓨터에서 뺄셈 연산을 쉽게 하기 위해서 보수 연산을 사용한다.\n",
    "print(a<<2, bin(a<<2)) # * 2**n\n",
    "print(b>>2, bin(b>>2)) # / 2**n"
   ]
  },
  {
   "cell_type": "code",
   "execution_count": 91,
   "metadata": {},
   "outputs": [
    {
     "name": "stdout",
     "output_type": "stream",
     "text": [
      "True\n",
      "False\n",
      "False\n",
      "False\n",
      "--\n",
      "True\n",
      "True\n",
      "True\n",
      "False\n",
      "--\n",
      "True\n",
      "True\n",
      "True\n",
      "False\n"
     ]
    },
    {
     "data": {
      "text/plain": [
       "True"
      ]
     },
     "execution_count": 91,
     "metadata": {},
     "output_type": "execute_result"
    }
   ],
   "source": [
    "# 논리연산자 : and, or, not \n",
    "# and : 양 변 값 모두 True 일 경우, True\n",
    "# or : 양변 값 모두 False 일 경우, False\n",
    "\n",
    "print(True and True)\n",
    "print(True and False)\n",
    "print(False and True)\n",
    "print(False and False)\n",
    "print(\"--\")\n",
    "print(True or True)\n",
    "print(True or False)\n",
    "print(False or True)\n",
    "print(False or False)\n",
    "print(\"--\")\n",
    "not(print(True or True))\n",
    "not(print(True or False))\n",
    "not(print(False or True))\n",
    "not(print(False or False))"
   ]
  },
  {
   "cell_type": "code",
   "execution_count": 94,
   "metadata": {},
   "outputs": [
    {
     "name": "stdout",
     "output_type": "stream",
     "text": [
      "True\n",
      "False\n",
      "-\n",
      "False\n",
      "True\n"
     ]
    }
   ],
   "source": [
    "# 멤버연산자 : in, not in \n",
    "ls = [1,2,3,4,5]\n",
    "\n",
    "print(1 in ls)\n",
    "print(6 in ls)\n",
    "print(\"-\")\n",
    "print(1 not in ls)\n",
    "print(6 not in ls)"
   ]
  },
  {
   "cell_type": "code",
   "execution_count": 98,
   "metadata": {},
   "outputs": [
    {
     "name": "stdout",
     "output_type": "stream",
     "text": [
      "True\n",
      "True\n",
      "True\n",
      "False\n"
     ]
    }
   ],
   "source": [
    "# 식별연산자 : is, is not\n",
    "\n",
    "# Collection이 아닌 자료형은 값을 비교한다\n",
    "a = \"a\"\n",
    "b = a\n",
    "print(a is b) # a는 b이다\n",
    "\n",
    "c = \"a\"\n",
    "print(c is a)\n",
    "\n",
    "print\n",
    "\n",
    "# Collection 자료형은 주소를 비교한다. 즉, 같은 메모리 공간에 저장되었는지를 확인한다. \n",
    "a = [1,2,3]\n",
    "b = a\n",
    "print(a is b)\n",
    "\n",
    "c = [1,2,3]\n",
    "print(a is c)"
   ]
  }
 ],
 "metadata": {
  "kernelspec": {
   "display_name": "Python 3",
   "language": "python",
   "name": "python3"
  },
  "language_info": {
   "codemirror_mode": {
    "name": "ipython",
    "version": 3
   },
   "file_extension": ".py",
   "mimetype": "text/x-python",
   "name": "python",
   "nbconvert_exporter": "python",
   "pygments_lexer": "ipython3",
   "version": "3.6.5"
  }
 },
 "nbformat": 4,
 "nbformat_minor": 2
}
