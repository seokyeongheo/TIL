{
 "cells": [
  {
   "cell_type": "markdown",
   "metadata": {},
   "source": [
    "## *OS*\n",
    "\n",
    "- 파일시스템을 파이썬 코드로 컨트롤할 수 있는 패키지"
   ]
  },
  {
   "cell_type": "code",
   "execution_count": 3,
   "metadata": {},
   "outputs": [],
   "source": [
    "import os"
   ]
  },
  {
   "cell_type": "code",
   "execution_count": 4,
   "metadata": {},
   "outputs": [
    {
     "name": "stdout",
     "output_type": "stream",
     "text": [
      "01_quiz_basic_syntax.ipynb   09_thread.ipynb\r\n",
      "02_numpy_calculate.ipynb     10_regex.ipynb\r\n",
      "02_python_basic_syntax.ipynb 11_OS.ipynb\r\n",
      "02_quiz_loop.ipynb           \u001b[1m\u001b[36m__pycache__\u001b[m\u001b[m\r\n",
      "03_condition_loop.ipynb      career_service.ipynb\r\n",
      "04_function.ipynb            dsm.py\r\n",
      "04_function_B.ipynb          jupyter notebook.ipynb\r\n",
      "05_class.ipynb               obj.p\r\n",
      "05_class_B.ipynb             python_hw_01.ipynb\r\n",
      "06_package_module.ipynb      range.b\r\n",
      "06_package_module_B.ipynb    test.txt\r\n",
      "07_try_except.ipynb          test2.txt\r\n",
      "07_try_except_B.ipynb        test3.txt\r\n",
      "08_file_pickle.ipynb         \u001b[1m\u001b[36mtest_dir\u001b[m\u001b[m\r\n",
      "08_file_pickle_B.ipynb\r\n"
     ]
    }
   ],
   "source": [
    "# 디렉토리 만들기\n",
    "\n",
    "!ls"
   ]
  },
  {
   "cell_type": "code",
   "execution_count": 28,
   "metadata": {},
   "outputs": [],
   "source": [
    "os.makedirs(\"os_dir\")\n"
   ]
  },
  {
   "cell_type": "code",
   "execution_count": 23,
   "metadata": {},
   "outputs": [
    {
     "name": "stdout",
     "output_type": "stream",
     "text": [
      "01_quiz_basic_syntax.ipynb   09_thread.ipynb\r\n",
      "02_numpy_calculate.ipynb     10_regex.ipynb\r\n",
      "02_python_basic_syntax.ipynb 11_OS.ipynb\r\n",
      "02_quiz_loop.ipynb           \u001b[1m\u001b[36m__pycache__\u001b[m\u001b[m\r\n",
      "03_condition_loop.ipynb      career_service.ipynb\r\n",
      "04_function.ipynb            dsm.py\r\n",
      "04_function_B.ipynb          jupyter notebook.ipynb\r\n",
      "05_class.ipynb               obj.p\r\n",
      "05_class_B.ipynb             \u001b[1m\u001b[36mos_dir\u001b[m\u001b[m\r\n",
      "06_package_module.ipynb      python_hw_01.ipynb\r\n",
      "06_package_module_B.ipynb    range.b\r\n",
      "07_try_except.ipynb          test.txt\r\n",
      "07_try_except_B.ipynb        test2.txt\r\n",
      "08_file_pickle.ipynb         test3.txt\r\n",
      "08_file_pickle_B.ipynb       \u001b[1m\u001b[36mtest_dir\u001b[m\u001b[m\r\n"
     ]
    }
   ],
   "source": [
    "!ls"
   ]
  },
  {
   "cell_type": "code",
   "execution_count": 29,
   "metadata": {},
   "outputs": [],
   "source": [
    "s = \"data science\"\n",
    "with open(\"os_dir/test.txt\", \"wt\") as f:\n",
    "    f.write(s)\n",
    "\n",
    "s2 = \"data science2\"\n",
    "with open(\"os_dir/test2.txt\", \"wt\") as f:\n",
    "    f.write(s)\n",
    "\n",
    "s3 = \"data,science2\"\n",
    "with open(\"os_dir/test3.csv\", \"wt\") as f:\n",
    "    f.write(s)"
   ]
  },
  {
   "cell_type": "code",
   "execution_count": 30,
   "metadata": {},
   "outputs": [
    {
     "name": "stdout",
     "output_type": "stream",
     "text": [
      "test.txt  test2.txt test3.csv\r\n"
     ]
    }
   ],
   "source": [
    "!ls os_dir"
   ]
  },
  {
   "cell_type": "code",
   "execution_count": 9,
   "metadata": {},
   "outputs": [
    {
     "data": {
      "text/plain": [
       "['test2.txt', 'test3.csv', 'test.txt']"
      ]
     },
     "execution_count": 9,
     "metadata": {},
     "output_type": "execute_result"
    }
   ],
   "source": [
    "# 파일 리스트 읽기\n",
    "\n",
    "os.listdir(\"os_dir\")"
   ]
  },
  {
   "cell_type": "code",
   "execution_count": 16,
   "metadata": {},
   "outputs": [],
   "source": [
    "# 파일 삭제\n",
    "\n",
    "os.remove(\"os_dir/test2.txt\")"
   ]
  },
  {
   "cell_type": "code",
   "execution_count": 17,
   "metadata": {},
   "outputs": [],
   "source": [
    "!ls os_dir/"
   ]
  },
  {
   "cell_type": "code",
   "execution_count": 12,
   "metadata": {},
   "outputs": [],
   "source": [
    "# 디렉토리 삭제"
   ]
  },
  {
   "cell_type": "code",
   "execution_count": 18,
   "metadata": {},
   "outputs": [],
   "source": [
    "os.removedirs(\"os_dir\")"
   ]
  },
  {
   "cell_type": "code",
   "execution_count": 27,
   "metadata": {},
   "outputs": [
    {
     "name": "stdout",
     "output_type": "stream",
     "text": [
      "01_quiz_basic_syntax.ipynb   09_thread.ipynb\r\n",
      "02_numpy_calculate.ipynb     10_regex.ipynb\r\n",
      "02_python_basic_syntax.ipynb 11_OS.ipynb\r\n",
      "02_quiz_loop.ipynb           \u001b[1m\u001b[36m__pycache__\u001b[m\u001b[m\r\n",
      "03_condition_loop.ipynb      career_service.ipynb\r\n",
      "04_function.ipynb            dsm.py\r\n",
      "04_function_B.ipynb          jupyter notebook.ipynb\r\n",
      "05_class.ipynb               obj.p\r\n",
      "05_class_B.ipynb             python_hw_01.ipynb\r\n",
      "06_package_module.ipynb      range.b\r\n",
      "06_package_module_B.ipynb    test.txt\r\n",
      "07_try_except.ipynb          test2.txt\r\n",
      "07_try_except_B.ipynb        test3.txt\r\n",
      "08_file_pickle.ipynb         \u001b[1m\u001b[36mtest_dir\u001b[m\u001b[m\r\n",
      "08_file_pickle_B.ipynb\r\n"
     ]
    }
   ],
   "source": [
    "!ls"
   ]
  },
  {
   "cell_type": "code",
   "execution_count": 26,
   "metadata": {},
   "outputs": [],
   "source": [
    "path = \"os_dir\"\n",
    "files = os.listdir(path)\n",
    "for file in files:\n",
    "    os.remove(path + \"/\" + file)\n",
    "os.removedirs(\"os_dir\")"
   ]
  },
  {
   "cell_type": "code",
   "execution_count": 31,
   "metadata": {},
   "outputs": [],
   "source": [
    "# 파일과 디렉토리를 모두 삭제 - rmtree\n",
    "\n",
    "import shutil\n",
    "shutil.rmtree(\"os_dir\")"
   ]
  },
  {
   "cell_type": "code",
   "execution_count": 32,
   "metadata": {},
   "outputs": [
    {
     "name": "stdout",
     "output_type": "stream",
     "text": [
      "01_quiz_basic_syntax.ipynb   09_thread.ipynb\r\n",
      "02_numpy_calculate.ipynb     10_regex.ipynb\r\n",
      "02_python_basic_syntax.ipynb 11_OS.ipynb\r\n",
      "02_quiz_loop.ipynb           \u001b[1m\u001b[36m__pycache__\u001b[m\u001b[m\r\n",
      "03_condition_loop.ipynb      career_service.ipynb\r\n",
      "04_function.ipynb            dsm.py\r\n",
      "04_function_B.ipynb          jupyter notebook.ipynb\r\n",
      "05_class.ipynb               obj.p\r\n",
      "05_class_B.ipynb             python_hw_01.ipynb\r\n",
      "06_package_module.ipynb      range.b\r\n",
      "06_package_module_B.ipynb    test.txt\r\n",
      "07_try_except.ipynb          test2.txt\r\n",
      "07_try_except_B.ipynb        test3.txt\r\n",
      "08_file_pickle.ipynb         \u001b[1m\u001b[36mtest_dir\u001b[m\u001b[m\r\n",
      "08_file_pickle_B.ipynb\r\n"
     ]
    }
   ],
   "source": [
    "!ls"
   ]
  },
  {
   "cell_type": "code",
   "execution_count": 35,
   "metadata": {},
   "outputs": [
    {
     "ename": "FileExistsError",
     "evalue": "[Errno 17] File exists: 'os_dir'",
     "output_type": "error",
     "traceback": [
      "\u001b[0;31m---------------------------------------------------------------------------\u001b[0m",
      "\u001b[0;31mFileExistsError\u001b[0m                           Traceback (most recent call last)",
      "\u001b[0;32m<ipython-input-35-b197d4ed2234>\u001b[0m in \u001b[0;36m<module>\u001b[0;34m()\u001b[0m\n\u001b[0;32m----> 1\u001b[0;31m \u001b[0mos\u001b[0m\u001b[0;34m.\u001b[0m\u001b[0mmakedirs\u001b[0m\u001b[0;34m(\u001b[0m\u001b[0;34m\"os_dir\"\u001b[0m\u001b[0;34m)\u001b[0m\u001b[0;34m\u001b[0m\u001b[0m\n\u001b[0m\u001b[1;32m      2\u001b[0m \u001b[0ms\u001b[0m \u001b[0;34m=\u001b[0m \u001b[0;34m\"data science\"\u001b[0m\u001b[0;34m\u001b[0m\u001b[0m\n\u001b[1;32m      3\u001b[0m \u001b[0;32mwith\u001b[0m \u001b[0mopen\u001b[0m\u001b[0;34m(\u001b[0m\u001b[0;34m\"os_dir/test.txt\"\u001b[0m\u001b[0;34m,\u001b[0m \u001b[0;34m\"wt\"\u001b[0m\u001b[0;34m)\u001b[0m \u001b[0;32mas\u001b[0m \u001b[0mf\u001b[0m\u001b[0;34m:\u001b[0m\u001b[0;34m\u001b[0m\u001b[0m\n\u001b[1;32m      4\u001b[0m     \u001b[0mf\u001b[0m\u001b[0;34m.\u001b[0m\u001b[0mwrite\u001b[0m\u001b[0;34m(\u001b[0m\u001b[0ms\u001b[0m\u001b[0;34m)\u001b[0m\u001b[0;34m\u001b[0m\u001b[0m\n\u001b[1;32m      5\u001b[0m \u001b[0;34m\u001b[0m\u001b[0m\n",
      "\u001b[0;32m/usr/local/Cellar/python/3.6.5/Frameworks/Python.framework/Versions/3.6/lib/python3.6/os.py\u001b[0m in \u001b[0;36mmakedirs\u001b[0;34m(name, mode, exist_ok)\u001b[0m\n\u001b[1;32m    218\u001b[0m             \u001b[0;32mreturn\u001b[0m\u001b[0;34m\u001b[0m\u001b[0m\n\u001b[1;32m    219\u001b[0m     \u001b[0;32mtry\u001b[0m\u001b[0;34m:\u001b[0m\u001b[0;34m\u001b[0m\u001b[0m\n\u001b[0;32m--> 220\u001b[0;31m         \u001b[0mmkdir\u001b[0m\u001b[0;34m(\u001b[0m\u001b[0mname\u001b[0m\u001b[0;34m,\u001b[0m \u001b[0mmode\u001b[0m\u001b[0;34m)\u001b[0m\u001b[0;34m\u001b[0m\u001b[0m\n\u001b[0m\u001b[1;32m    221\u001b[0m     \u001b[0;32mexcept\u001b[0m \u001b[0mOSError\u001b[0m\u001b[0;34m:\u001b[0m\u001b[0;34m\u001b[0m\u001b[0m\n\u001b[1;32m    222\u001b[0m         \u001b[0;31m# Cannot rely on checking for EEXIST, since the operating system\u001b[0m\u001b[0;34m\u001b[0m\u001b[0;34m\u001b[0m\u001b[0m\n",
      "\u001b[0;31mFileExistsError\u001b[0m: [Errno 17] File exists: 'os_dir'"
     ]
    }
   ],
   "source": [
    "os.makedirs(\"os_dir\")\n",
    "s = \"data science\"\n",
    "with open(\"os_dir/test.txt\", \"wt\") as f:\n",
    "    f.write(s)\n",
    "\n",
    "s2 = \"data science2\"\n",
    "with open(\"os_dir/test2.txt\", \"wt\") as f:\n",
    "    f.write(s)\n",
    "\n",
    "s3 = \"data,science2\"\n",
    "with open(\"os_dir/test3.csv\", \"wt\") as f:\n",
    "    f.write(s)"
   ]
  },
  {
   "cell_type": "code",
   "execution_count": 36,
   "metadata": {},
   "outputs": [
    {
     "name": "stdout",
     "output_type": "stream",
     "text": [
      "test.txt  test2.txt test3.csv\r\n"
     ]
    }
   ],
   "source": [
    "!ls os_dir"
   ]
  },
  {
   "cell_type": "code",
   "execution_count": 38,
   "metadata": {},
   "outputs": [
    {
     "data": {
      "text/plain": [
       "False"
      ]
     },
     "execution_count": 38,
     "metadata": {},
     "output_type": "execute_result"
    }
   ],
   "source": [
    "# 파일의 존재 여부 확인 = exists\n",
    "\n",
    "os.path.exists(\"os_dir/test.txt\")"
   ]
  },
  {
   "cell_type": "code",
   "execution_count": 42,
   "metadata": {},
   "outputs": [
    {
     "ename": "AttributeError",
     "evalue": "module 'posixpath' has no attribute 'dir'",
     "output_type": "error",
     "traceback": [
      "\u001b[0;31m---------------------------------------------------------------------------\u001b[0m",
      "\u001b[0;31mAttributeError\u001b[0m                            Traceback (most recent call last)",
      "\u001b[0;32m<ipython-input-42-77e6df6bc653>\u001b[0m in \u001b[0;36m<module>\u001b[0;34m()\u001b[0m\n\u001b[1;32m      1\u001b[0m \u001b[0;31m# 파일 타입을 확인 - isdir\u001b[0m\u001b[0;34m\u001b[0m\u001b[0;34m\u001b[0m\u001b[0m\n\u001b[1;32m      2\u001b[0m \u001b[0;34m\u001b[0m\u001b[0m\n\u001b[0;32m----> 3\u001b[0;31m \u001b[0mos\u001b[0m\u001b[0;34m.\u001b[0m\u001b[0mpath\u001b[0m\u001b[0;34m.\u001b[0m\u001b[0mdir\u001b[0m\u001b[0;34m(\u001b[0m\u001b[0;34m\"os_dir\"\u001b[0m\u001b[0;34m)\u001b[0m\u001b[0;34m\u001b[0m\u001b[0m\n\u001b[0m",
      "\u001b[0;31mAttributeError\u001b[0m: module 'posixpath' has no attribute 'dir'"
     ]
    }
   ],
   "source": [
    "# 파일 타입을 확인 - isdir\n",
    "\n",
    "os.path.dir(\"os_dir\")"
   ]
  },
  {
   "cell_type": "code",
   "execution_count": 41,
   "metadata": {},
   "outputs": [
    {
     "ename": "AttributeError",
     "evalue": "module 'posixpath' has no attribute 'dir'",
     "output_type": "error",
     "traceback": [
      "\u001b[0;31m---------------------------------------------------------------------------\u001b[0m",
      "\u001b[0;31mAttributeError\u001b[0m                            Traceback (most recent call last)",
      "\u001b[0;32m<ipython-input-41-9b7bbd840aae>\u001b[0m in \u001b[0;36m<module>\u001b[0;34m()\u001b[0m\n\u001b[0;32m----> 1\u001b[0;31m \u001b[0mos\u001b[0m\u001b[0;34m.\u001b[0m\u001b[0mpath\u001b[0m\u001b[0;34m.\u001b[0m\u001b[0mdir\u001b[0m\u001b[0;34m(\u001b[0m\u001b[0;34m\"os_dir/test.txt\"\u001b[0m\u001b[0;34m)\u001b[0m\u001b[0;34m\u001b[0m\u001b[0m\n\u001b[0m",
      "\u001b[0;31mAttributeError\u001b[0m: module 'posixpath' has no attribute 'dir'"
     ]
    }
   ],
   "source": [
    "os.path.dir(\"os_dir/test.txt\")"
   ]
  },
  {
   "cell_type": "code",
   "execution_count": 43,
   "metadata": {},
   "outputs": [
    {
     "data": {
      "text/plain": [
       "'copy.txt'"
      ]
     },
     "execution_count": 43,
     "metadata": {},
     "output_type": "execute_result"
    }
   ],
   "source": [
    "# 복사하기\n",
    "\n",
    "shutil.copy(\"test.txt\", 'copy.txt') # shutil.copy({copy할 대상의 파일}, {copy 파일})\n"
   ]
  },
  {
   "cell_type": "code",
   "execution_count": 45,
   "metadata": {},
   "outputs": [
    {
     "name": "stdout",
     "output_type": "stream",
     "text": [
      "01_quiz_basic_syntax.ipynb   10_regex.ipynb\r\n",
      "02_numpy_calculate.ipynb     11_OS.ipynb\r\n",
      "02_python_basic_syntax.ipynb \u001b[1m\u001b[36m__pycache__\u001b[m\u001b[m\r\n",
      "02_quiz_loop.ipynb           career_service.ipynb\r\n",
      "03_condition_loop.ipynb      copy.txt\r\n",
      "04_function.ipynb            dsm.py\r\n",
      "04_function_B.ipynb          jupyter notebook.ipynb\r\n",
      "05_class.ipynb               obj.p\r\n",
      "05_class_B.ipynb             \u001b[1m\u001b[36mos_dir\u001b[m\u001b[m\r\n",
      "06_package_module.ipynb      python_hw_01.ipynb\r\n",
      "06_package_module_B.ipynb    range.b\r\n",
      "07_try_except.ipynb          test.txt\r\n",
      "07_try_except_B.ipynb        test2.txt\r\n",
      "08_file_pickle.ipynb         test3.txt\r\n",
      "08_file_pickle_B.ipynb       \u001b[1m\u001b[36mtest_dir\u001b[m\u001b[m\r\n",
      "09_thread.ipynb\r\n"
     ]
    }
   ],
   "source": [
    "!ls"
   ]
  },
  {
   "cell_type": "code",
   "execution_count": 46,
   "metadata": {},
   "outputs": [],
   "source": [
    "# 이름 바꾸기(!mv)\n",
    "\n",
    "os.rename(\"os_dir/test.txt\", \"os_dir/text.txt\")"
   ]
  },
  {
   "cell_type": "code",
   "execution_count": 47,
   "metadata": {},
   "outputs": [
    {
     "name": "stdout",
     "output_type": "stream",
     "text": [
      "test2.txt test3.csv text.txt\r\n"
     ]
    }
   ],
   "source": [
    "!ls \"os_dir\""
   ]
  },
  {
   "cell_type": "markdown",
   "metadata": {},
   "source": [
    "### 권한 설정\n",
    "\n",
    "- `-rw-r--r--` : 10개 문자로 이루어진 권한에 관련된 정보\n",
    "    - `[:1]` : `-`, `d`. 파일의 타입\n",
    "    - `[1:4]` : `rw-` 등 소유자의 권한\n",
    "    - `[4:7]` : 그룹사용자의 권한\n",
    "    - `[7:10]` : 모든사용자의 권한\n",
    "    \n",
    "- 권한\n",
    "    - rwx : r(읽기), w(쓰기), x(실행) 권한. \n",
    "\n",
    "- 권한 설정 진법(2진수, 8진수)\n",
    "    - chmod 731.test.txt\n",
    "    - 7 - 111 - rwx\n",
    "    - 6 - 110 - rw-\n",
    "    - 5 - 101 - r-x\n",
    "    - 4 - 100 - r--\n",
    "    - ..."
   ]
  },
  {
   "cell_type": "code",
   "execution_count": 55,
   "metadata": {},
   "outputs": [],
   "source": [
    "os.chmod(\"os_dir/text.txt\", 0o736)"
   ]
  },
  {
   "cell_type": "code",
   "execution_count": 52,
   "metadata": {},
   "outputs": [],
   "source": [
    "!cd os_dir"
   ]
  },
  {
   "cell_type": "code",
   "execution_count": 54,
   "metadata": {},
   "outputs": [
    {
     "name": "stdout",
     "output_type": "stream",
     "text": [
      "test2.txt test3.csv text.txt\r\n"
     ]
    }
   ],
   "source": [
    "!ls \"os_dir\""
   ]
  }
 ],
 "metadata": {
  "kernelspec": {
   "display_name": "Python 3",
   "language": "python",
   "name": "python3"
  },
  "language_info": {
   "codemirror_mode": {
    "name": "ipython",
    "version": 3
   },
   "file_extension": ".py",
   "mimetype": "text/x-python",
   "name": "python",
   "nbconvert_exporter": "python",
   "pygments_lexer": "ipython3",
   "version": "3.6.5"
  }
 },
 "nbformat": 4,
 "nbformat_minor": 2
}
