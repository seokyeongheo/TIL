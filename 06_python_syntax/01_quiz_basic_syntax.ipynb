{
 "cells": [
  {
   "cell_type": "markdown",
   "metadata": {},
   "source": [
    "##### quiz 1\n",
    "\n",
    "아래의 데이터를 딕셔너리 형태의 데이터로 만드시오\n",
    "\n",
    "- 학생 A - 수학 : 80, 영어 : 100, 과학 : 90\n",
    "- 학생 B - 수학 : 70, 영어 : 100, 과학 : 100\n",
    "- { 'A': {'과학': 90, '수학': 80, '영어': 100}, 'B': {'과학': 100, '수학': 70, '영어': 100}} (결과)"
   ]
  },
  {
   "cell_type": "code",
   "execution_count": 4,
   "metadata": {},
   "outputs": [
    {
     "name": "stdout",
     "output_type": "stream",
     "text": [
      "{'A': {'수학': 80, '영어': 100, '과학': 90}, 'B': {'수학': 70, '영어': 100, '과학': 100}}\n"
     ]
    }
   ],
   "source": [
    "data = {\n",
    "    'A' : {\"수학\" : 80, \"영어\" : 100, '과학' : 90},\n",
    "    'B' : {'수학' : 70, '영어' : 100, '과학' : 100}\n",
    "# TODO\n",
    "}\n",
    "print(data)"
   ]
  },
  {
   "cell_type": "markdown",
   "metadata": {},
   "source": [
    "##### quiz 2\n",
    "- 리스트 중복 제거후 내림차순으로 정렬"
   ]
  },
  {
   "cell_type": "code",
   "execution_count": 25,
   "metadata": {},
   "outputs": [
    {
     "data": {
      "text/plain": [
       "[4, 3, 2, 1]"
      ]
     },
     "execution_count": 25,
     "metadata": {},
     "output_type": "execute_result"
    }
   ],
   "source": [
    "# 중복 제거\n",
    "ls = [1,3,2,1,3,4]\n",
    "\n",
    "# TODO\n",
    "\n",
    "# 중복을 제거한 다음(set), 바로 list로 형변환 \n",
    "ls = list(set(ls))\n",
    "ls.sort()\n",
    "ls.reverse()\n",
    "\n",
    "ls"
   ]
  },
  {
   "cell_type": "markdown",
   "metadata": {},
   "source": [
    "##### quiz 3\n",
    "- Arrange\n",
    "- 문장을 단어의 글자수가 낮은 단어 순서대로 재 나열 하시오\n",
    "- 문장의 첫 글자는 대문자이고 마지막은 마침표가 항상 있습니다.\n",
    "\n",
    "결과 예시\n",
    "- The lines are printed in reverse order. (입력)\n",
    "- In the are lines order printed reverse. (결과)\n",
    "\n",
    "힌트\n",
    "- 단어수대로 리스트를 오름차순으로 정렬하는 방법\n",
    "```\n",
    "ls = [\"abc\",\"a\",\"ab\"]\n",
    "ls.sort(key=len)\n",
    "```"
   ]
  },
  {
   "cell_type": "code",
   "execution_count": 30,
   "metadata": {},
   "outputs": [],
   "source": [
    "sentence = \"The lines are printed in reverse order.\"\n",
    "\n",
    "# TODO\n",
    "\n",
    "# Try\n",
    "ls = sentence.split(\" \")\n",
    "ls.sort(key=len)  # 문자열의 길이 순서대로 정렬\n",
    "\n",
    "ls"
   ]
  },
  {
   "cell_type": "code",
   "execution_count": 41,
   "metadata": {},
   "outputs": [
    {
     "data": {
      "text/plain": [
       "'In the are lines order printed reverse.'"
      ]
     },
     "execution_count": 41,
     "metadata": {},
     "output_type": "execute_result"
    }
   ],
   "source": [
    "# Anwer\n",
    "\n",
    "sentence = \"The lines are printed in reverse order.\"\n",
    "\n",
    "# TODO\n",
    "sentence = sentence.lower()[:-1] # 모두 소문자로 변경, 마침표 제거 \n",
    "ls = sentence.split(\" \") # 공백문자로 나눠서 리스트로 변환\n",
    "ls.sort(key=len) # 단어 수가 낮은 순으로 정렬\n",
    "sentence = \" \".join(ls) # 문자열로 변환 \n",
    "sentence = sentence[0].upper() + sentence[1:] + \".\" # 앞 문자를 대문자로 변경. 마지막에 마침표 추가.\n",
    "\n",
    "\n",
    "sentence"
   ]
  },
  {
   "cell_type": "code",
   "execution_count": null,
   "metadata": {},
   "outputs": [],
   "source": []
  }
 ],
 "metadata": {
  "kernelspec": {
   "display_name": "Python 3",
   "language": "python",
   "name": "python3"
  },
  "language_info": {
   "codemirror_mode": {
    "name": "ipython",
    "version": 3
   },
   "file_extension": ".py",
   "mimetype": "text/x-python",
   "name": "python",
   "nbconvert_exporter": "python",
   "pygments_lexer": "ipython3",
   "version": "3.6.5"
  }
 },
 "nbformat": 4,
 "nbformat_minor": 2
}
