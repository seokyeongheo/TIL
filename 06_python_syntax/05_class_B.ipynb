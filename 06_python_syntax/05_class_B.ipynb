{
 "cells": [
  {
   "cell_type": "markdown",
   "metadata": {},
   "source": [
    "### Class\n",
    "- 객체지향\n",
    "    - 실제세계를 모델링해서 기능이 공통적인 부분을 묶어서 개발하는 방법을 이야기합니다.\n",
    "    - 다형성, 캡슐화, 추상화, 상속등의 특징이 있습니다.\n",
    "- 공통적인 기능을 하는 변수와 함수를 묶은 사용자 정의 데이터 타입이라고도 합니다.\n",
    "- 클래스, 객체 : 클래스는 설계도, 청사진이고, 객체는 클래스를 이용해서 만든 실제 물건, 물체입니다.\n",
    "- 클래스의 구조 : 선언과 객체화\n",
    "- 생성자\n",
    "- 상속 : 단일상속, 다중상속 모두 가능\n",
    "- Super\n",
    "- getter & setter\n",
    "- private\n",
    "- is a / has a\n",
    "- magic method\n",
    "\n",
    "```\n",
    "def dss():\n",
    "    print(\"data\")\n",
    "\n",
    "dss()\n",
    "\n",
    "class handle:\n",
    "    변수..\n",
    "    함수... func1()\n",
    "\n",
    "obj = handle()\n",
    "obj.func1()\n",
    "```"
   ]
  },
  {
   "cell_type": "code",
   "execution_count": null,
   "metadata": {},
   "outputs": [],
   "source": []
  }
 ],
 "metadata": {
  "kernelspec": {
   "display_name": "Python 3",
   "language": "python",
   "name": "python3"
  },
  "language_info": {
   "codemirror_mode": {
    "name": "ipython",
    "version": 3
   },
   "file_extension": ".py",
   "mimetype": "text/x-python",
   "name": "python",
   "nbconvert_exporter": "python",
   "pygments_lexer": "ipython3",
   "version": "3.6.4"
  }
 },
 "nbformat": 4,
 "nbformat_minor": 2
}
