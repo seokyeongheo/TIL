{
 "cells": [
  {
   "cell_type": "markdown",
   "metadata": {},
   "source": [
    "### 모듈(Module)\n",
    "\n",
    "- 변수, 함수, 클래스를 모아놓은 파일\n",
    "- `import` 예약어를 사용하여 호출할 수 있다\n",
    "- 모듈 식별자는 짧은 소문자로 사용하며, 스네이크 케이스(snake_case)나 카멜 케이스(camelCase)를 사용한다\n",
    "- 모듈 식별자 중에 `_`가 앞에 붙은 것은 C/C++로 작성된 코드다\n",
    "- 모듈을 사용하는 이유는, 프로그램을 하나로 만들 수 없기 때문이다. 기능에 따라서 여러 파일로 나누어 놓는데, 그 파일들을 모듈이라고 한다."
   ]
  },
  {
   "cell_type": "code",
   "execution_count": 36,
   "metadata": {},
   "outputs": [
    {
     "name": "stdout",
     "output_type": "stream",
     "text": [
      "Overwriting dsm.py\n"
     ]
    }
   ],
   "source": [
    "%%writefile dsm.py\n",
    "\n",
    "num = 1234\n",
    "\n",
    "def disp1(s):\n",
    "    print(\"disp1:\", s)\n",
    "    \n",
    "def disp2(s):\n",
    "    print(\"disp2:\", s)\n",
    "    \n",
    "def disp3(s):\n",
    "    print(\"disp3:\", s)\n",
    "    \n",
    "class Calc:\n",
    "    def plus(self, *args):\n",
    "        return sum(args)\n"
   ]
  },
  {
   "cell_type": "code",
   "execution_count": 27,
   "metadata": {},
   "outputs": [
    {
     "name": "stdout",
     "output_type": "stream",
     "text": [
      "\r\n",
      "num = 1234\r\n",
      "\r\n",
      "def disp1(s):\r\n",
      "    print(\"disp1:\", s)\r\n",
      "    \r\n",
      "def disp2(s):\r\n",
      "    print(\"disp2:\", s)\r\n",
      "    \r\n",
      "def disp3(s):\r\n",
      "    print(\"disp3:\", s)\r\n",
      "    \r\n",
      "class Calc:\r\n",
      "    def plus(self, *args):\r\n",
      "        return sum(args)"
     ]
    }
   ],
   "source": [
    "%cat dsm.py"
   ]
  },
  {
   "cell_type": "code",
   "execution_count": 28,
   "metadata": {},
   "outputs": [],
   "source": [
    "# 모듈 호출 \n",
    "\n",
    "import dsm"
   ]
  },
  {
   "cell_type": "code",
   "execution_count": 29,
   "metadata": {},
   "outputs": [
    {
     "name": "stdout",
     "output_type": "stream",
     "text": [
      "Variable   Type        Data/Info\n",
      "--------------------------------\n",
      "disp1      function    <function disp1 at 0x104994bf8>\n",
      "disp2      function    <function disp2 at 0x10a9d6400>\n",
      "dsm        module      <module 'dsm' from '/Users/quartz/dss/dsm.py'>\n"
     ]
    }
   ],
   "source": [
    "%whos"
   ]
  },
  {
   "cell_type": "code",
   "execution_count": 30,
   "metadata": {},
   "outputs": [
    {
     "data": {
      "text/plain": [
       "1234"
      ]
     },
     "execution_count": 30,
     "metadata": {},
     "output_type": "execute_result"
    }
   ],
   "source": [
    "dsm.num"
   ]
  },
  {
   "cell_type": "code",
   "execution_count": 31,
   "metadata": {},
   "outputs": [
    {
     "name": "stdout",
     "output_type": "stream",
     "text": [
      "disp1: 1\n"
     ]
    }
   ],
   "source": [
    "dsm.disp1(1)"
   ]
  },
  {
   "cell_type": "code",
   "execution_count": 32,
   "metadata": {},
   "outputs": [
    {
     "name": "stdout",
     "output_type": "stream",
     "text": [
      "disp3: 2\n"
     ]
    }
   ],
   "source": [
    "dsm.disp2(2)"
   ]
  },
  {
   "cell_type": "code",
   "execution_count": 33,
   "metadata": {},
   "outputs": [],
   "source": [
    "cal = dsm.Calc()"
   ]
  },
  {
   "cell_type": "code",
   "execution_count": 34,
   "metadata": {},
   "outputs": [
    {
     "data": {
      "text/plain": [
       "10"
      ]
     },
     "execution_count": 34,
     "metadata": {},
     "output_type": "execute_result"
    }
   ],
   "source": [
    "cal.plus(1,2,3,4)"
   ]
  },
  {
   "cell_type": "code",
   "execution_count": 38,
   "metadata": {},
   "outputs": [
    {
     "name": "stdout",
     "output_type": "stream",
     "text": [
      "disp1: 1\n",
      "disp3: 2\n"
     ]
    },
    {
     "data": {
      "text/plain": [
       "(None, None)"
      ]
     },
     "execution_count": 38,
     "metadata": {},
     "output_type": "execute_result"
    }
   ],
   "source": [
    "# 모듈에 있는 특정 함수만 호출\n",
    "\n",
    "from dsm import disp1, disp2\n",
    "\n",
    "disp1(1), disp2(2)"
   ]
  },
  {
   "cell_type": "markdown",
   "metadata": {},
   "source": [
    "### 패키지(package)\n",
    "\n",
    "- 패키지는 디렉토리와 모듈로 구성되어 있다\n",
    "- 패키지 디렉토리에는 `__init__.py` 파일이 있어야 한다.\n",
    "- python3.3 버전 이후는 없어도 되지만, 호환성을 위해 파일을 만드는 걸 권장한다"
   ]
  },
  {
   "cell_type": "code",
   "execution_count": 40,
   "metadata": {},
   "outputs": [
    {
     "name": "stdout",
     "output_type": "stream",
     "text": [
      "04_function_B.ipynb\r\n",
      "05_class_B.ipynb\r\n",
      "06_package_module.ipynb\r\n",
      "\u001b[34mData Science\u001b[m\u001b[m\r\n",
      "Data Science School 8th OT.ipynb\r\n",
      "\u001b[34m__pycache__\u001b[m\u001b[m\r\n",
      "daily quiz.ipynb\r\n",
      "\u001b[34mdatascience\u001b[m\u001b[m\r\n",
      "dsm.py\r\n",
      "\u001b[34mpython_prog\u001b[m\u001b[m\r\n",
      "requirements.txt\r\n",
      "\u001b[34mtest_dir\u001b[m\u001b[m\r\n",
      "허석영.ipynb\r\n",
      "연습장.ipynb\r\n",
      "프로그래머스 level1 풀이노트.ipynb\r\n",
      "커리어서비스 소개.ipynb\r\n"
     ]
    }
   ],
   "source": [
    "!ls"
   ]
  },
  {
   "cell_type": "code",
   "execution_count": 41,
   "metadata": {},
   "outputs": [
    {
     "name": "stdout",
     "output_type": "stream",
     "text": [
      "/bin/sh: line 0: cd: Data: No such file or directory\r\n"
     ]
    }
   ],
   "source": [
    "!cd Data Science"
   ]
  },
  {
   "cell_type": "code",
   "execution_count": 43,
   "metadata": {},
   "outputs": [
    {
     "name": "stdout",
     "output_type": "stream",
     "text": [
      "mkdir: school: No such file or directory\r\n"
     ]
    }
   ],
   "source": [
    "!mkdir school/dss"
   ]
  },
  {
   "cell_type": "code",
   "execution_count": 44,
   "metadata": {},
   "outputs": [],
   "source": [
    "!mkdir school"
   ]
  },
  {
   "cell_type": "code",
   "execution_count": 45,
   "metadata": {},
   "outputs": [],
   "source": [
    "!mkdir school/dss"
   ]
  },
  {
   "cell_type": "code",
   "execution_count": 47,
   "metadata": {},
   "outputs": [],
   "source": [
    "!mkdir school/web"
   ]
  },
  {
   "cell_type": "code",
   "execution_count": 48,
   "metadata": {},
   "outputs": [
    {
     "name": "stdout",
     "output_type": "stream",
     "text": [
      "04_function_B.ipynb\r\n",
      "05_class_B.ipynb\r\n",
      "06_package_module.ipynb\r\n",
      "\u001b[34mData Science\u001b[m\u001b[m\r\n",
      "Data Science School 8th OT.ipynb\r\n",
      "\u001b[34m__pycache__\u001b[m\u001b[m\r\n",
      "daily quiz.ipynb\r\n",
      "\u001b[34mdatascience\u001b[m\u001b[m\r\n",
      "dsm.py\r\n",
      "\u001b[34mpython_prog\u001b[m\u001b[m\r\n",
      "requirements.txt\r\n",
      "\u001b[34mschool\u001b[m\u001b[m\r\n",
      "\u001b[34mtest_dir\u001b[m\u001b[m\r\n",
      "허석영.ipynb\r\n",
      "연습장.ipynb\r\n",
      "프로그래머스 level1 풀이노트.ipynb\r\n",
      "커리어서비스 소개.ipynb\r\n"
     ]
    }
   ],
   "source": [
    "!ls"
   ]
  },
  {
   "cell_type": "code",
   "execution_count": 49,
   "metadata": {},
   "outputs": [],
   "source": [
    "# __init__ 파일 추가\n",
    "\n",
    "!touch school/dss/__init__.py\n",
    "!touch school/web/__init__.py"
   ]
  },
  {
   "cell_type": "code",
   "execution_count": 50,
   "metadata": {},
   "outputs": [
    {
     "name": "stdout",
     "output_type": "stream",
     "text": [
      "school\r\n",
      "├── dss\r\n",
      "│   └── __init__.py\r\n",
      "└── web\r\n",
      "    └── __init__.py\r\n",
      "\r\n",
      "2 directories, 2 files\r\n"
     ]
    }
   ],
   "source": [
    "!tree school"
   ]
  },
  {
   "cell_type": "code",
   "execution_count": 66,
   "metadata": {},
   "outputs": [
    {
     "name": "stdout",
     "output_type": "stream",
     "text": [
      "Overwriting school/dss/data.py\n"
     ]
    }
   ],
   "source": [
    "%%writefile school/dss/data.py\n",
    "\n",
    "def plus(*args):\n",
    "    return sum(args)\n"
   ]
  },
  {
   "cell_type": "code",
   "execution_count": 63,
   "metadata": {},
   "outputs": [
    {
     "name": "stdout",
     "output_type": "stream",
     "text": [
      "Overwriting school/web/url.py\n"
     ]
    }
   ],
   "source": [
    "%%writefile school/web/url.py\n",
    "\n",
    "def make(url):\n",
    "    protocol = \"http://\"\n",
    "    return url if url[:7] == protocol else protocol + url"
   ]
  },
  {
   "cell_type": "code",
   "execution_count": 54,
   "metadata": {},
   "outputs": [
    {
     "name": "stdout",
     "output_type": "stream",
     "text": [
      "school\r\n",
      "├── dss\r\n",
      "│   ├── __init__.py\r\n",
      "│   └── data.py\r\n",
      "└── web\r\n",
      "    ├── __init__.py\r\n",
      "    └── url.py\r\n",
      "\r\n",
      "2 directories, 4 files\r\n"
     ]
    }
   ],
   "source": [
    "!tree school"
   ]
  },
  {
   "cell_type": "code",
   "execution_count": 59,
   "metadata": {},
   "outputs": [
    {
     "name": "stdout",
     "output_type": "stream",
     "text": [
      "Once deleted, variables cannot be recovered. Proceed (y/[n])? y\n"
     ]
    }
   ],
   "source": [
    "%reset"
   ]
  },
  {
   "cell_type": "code",
   "execution_count": 93,
   "metadata": {},
   "outputs": [],
   "source": [
    "# package import\n",
    "# import에서 가장 마지막에 나오는 단어는 \"모듈(Module)\"이어야 한다. \n",
    "\n",
    "import school.dss.data"
   ]
  },
  {
   "cell_type": "code",
   "execution_count": 96,
   "metadata": {},
   "outputs": [],
   "source": [
    "# alias\n",
    "\n",
    "import school.dss.data as\n",
    "\n",
    ".plus(1,2,3)"
   ]
  },
  {
   "cell_type": "code",
   "execution_count": 73,
   "metadata": {},
   "outputs": [
    {
     "name": "stdout",
     "output_type": "stream",
     "text": [
      "Once deleted, variables cannot be recovered. Proceed (y/[n])? y\n"
     ]
    }
   ],
   "source": [
    "%reset"
   ]
  },
  {
   "cell_type": "code",
   "execution_count": 74,
   "metadata": {},
   "outputs": [],
   "source": [
    "from school.web import url"
   ]
  },
  {
   "cell_type": "code",
   "execution_count": 75,
   "metadata": {},
   "outputs": [
    {
     "data": {
      "text/plain": [
       "'http://google.com'"
      ]
     },
     "execution_count": 75,
     "metadata": {},
     "output_type": "execute_result"
    }
   ],
   "source": [
    "url.make(\"google.com\")"
   ]
  },
  {
   "cell_type": "code",
   "execution_count": 80,
   "metadata": {},
   "outputs": [
    {
     "name": "stdout",
     "output_type": "stream",
     "text": [
      "Overwriting school/dss/__init__.py\n"
     ]
    }
   ],
   "source": [
    "%%writefile school/dss/__init__.py\n",
    "\n",
    "__all__ = ['data', 'data2']"
   ]
  },
  {
   "cell_type": "code",
   "execution_count": 77,
   "metadata": {},
   "outputs": [
    {
     "name": "stdout",
     "output_type": "stream",
     "text": [
      "school\r\n",
      "├── dss\r\n",
      "│   ├── __init__.py\r\n",
      "│   ├── __pycache__\r\n",
      "│   │   ├── __init__.cpython-36.pyc\r\n",
      "│   │   └── data.cpython-36.pyc\r\n",
      "│   └── data.py\r\n",
      "└── web\r\n",
      "    ├── __init__.py\r\n",
      "    ├── __pycache__\r\n",
      "    │   ├── __init__.cpython-36.pyc\r\n",
      "    │   └── url.cpython-36.pyc\r\n",
      "    └── url.py\r\n",
      "\r\n",
      "4 directories, 8 files\r\n"
     ]
    }
   ],
   "source": [
    "!tree school"
   ]
  },
  {
   "cell_type": "code",
   "execution_count": 90,
   "metadata": {},
   "outputs": [],
   "source": [
    "from school.dss import *"
   ]
  },
  {
   "cell_type": "code",
   "execution_count": 91,
   "metadata": {},
   "outputs": [
    {
     "name": "stdout",
     "output_type": "stream",
     "text": [
      "Variable   Type        Data/Info\n",
      "--------------------------------\n",
      "data       module      <module 'school.dss.data'<...>/dss/school/dss/data.py'>\n",
      "path       str         /Users/quartz/.ipython\n",
      "plus       function    <function plus at 0x10a5cbae8>\n",
      "sys        module      <module 'sys' (built-in)>\n",
      "url        module      <module 'school.web.url' <...>z/dss/school/web/url.py'>\n"
     ]
    }
   ],
   "source": [
    "%whos"
   ]
  },
  {
   "cell_type": "code",
   "execution_count": 85,
   "metadata": {},
   "outputs": [],
   "source": [
    "import sys"
   ]
  },
  {
   "cell_type": "code",
   "execution_count": 86,
   "metadata": {},
   "outputs": [],
   "source": [
    "sys?"
   ]
  },
  {
   "cell_type": "code",
   "execution_count": 87,
   "metadata": {},
   "outputs": [
    {
     "name": "stdout",
     "output_type": "stream",
     "text": [
      "\n",
      "/usr/local/Cellar/python/3.6.5/Frameworks/Python.framework/Versions/3.6/lib/python36.zip\n",
      "/usr/local/Cellar/python/3.6.5/Frameworks/Python.framework/Versions/3.6/lib/python3.6\n",
      "/usr/local/Cellar/python/3.6.5/Frameworks/Python.framework/Versions/3.6/lib/python3.6/lib-dynload\n",
      "/usr/local/lib/python3.6/site-packages\n",
      "/usr/local/lib/python3.6/site-packages/IPython/extensions\n",
      "/Users/quartz/.ipython\n"
     ]
    }
   ],
   "source": [
    "for path in sys.path:\n",
    "    print(path)"
   ]
  },
  {
   "cell_type": "code",
   "execution_count": 97,
   "metadata": {},
   "outputs": [
    {
     "name": "stdout",
     "output_type": "stream",
     "text": [
      "\u001b[34mextensions\u001b[m\u001b[m      \u001b[34mnbextensions\u001b[m\u001b[m    \u001b[34mprofile_default\u001b[m\u001b[m\r\n"
     ]
    }
   ],
   "source": [
    "!ls /Users/quartz/.ipython"
   ]
  },
  {
   "cell_type": "code",
   "execution_count": null,
   "metadata": {},
   "outputs": [],
   "source": []
  }
 ],
 "metadata": {
  "kernelspec": {
   "display_name": "Python 3",
   "language": "python",
   "name": "python3"
  },
  "language_info": {
   "codemirror_mode": {
    "name": "ipython",
    "version": 3
   },
   "file_extension": ".py",
   "mimetype": "text/x-python",
   "name": "python",
   "nbconvert_exporter": "python",
   "pygments_lexer": "ipython3",
   "version": "3.6.5"
  }
 },
 "nbformat": 4,
 "nbformat_minor": 2
}
