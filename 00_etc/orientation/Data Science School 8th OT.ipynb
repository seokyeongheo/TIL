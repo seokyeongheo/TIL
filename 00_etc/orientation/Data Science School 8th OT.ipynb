{
 "cells": [
  {
   "cell_type": "markdown",
   "metadata": {},
   "source": [
    "## 0.개요\n",
    "\n",
    "- 1.담당자 소개\n",
    "- 2.스쿨 안내\n",
    "- 3.공지사항, 생활 관련 안내\n",
    "- 4.수강생 소개"
   ]
  },
  {
   "cell_type": "markdown",
   "metadata": {},
   "source": [
    "### 프로덕트 매니저\n",
    "\n",
    "- 박지은\n",
    "- 수학 전공\n",
    "- DSS 3기 수료 "
   ]
  },
  {
   "cell_type": "markdown",
   "metadata": {},
   "source": [
    "### 클래스 매니저\n",
    "\n",
    "- 역할\n",
    " - 강의 전반 및 수강생 관리\n",
    " - 강의장 내부 커뮤니케이션 및 제반 사항 담당\n",
    " - PM이 없을 때는 CM에게 문의할 수 있도록.\n",
    "\n",
    "- 김현규 매니저\n",
    " - 경영학 전공\n",
    " - DSS 6기 수료 \n",
    " \n",
    "- 조한준 매니저 \n",
    " - 산업공학 전공\n",
    " - DSS 6기 수료"
   ]
  },
  {
   "cell_type": "markdown",
   "metadata": {},
   "source": [
    "## 담당 강사 "
   ]
  },
  {
   "cell_type": "markdown",
   "metadata": {},
   "source": [
    "### 김도형 박사님 \n",
    "\n",
    "- 트레이드 인포매틱스 대표\n",
    "- 적응 신호 처리 및 제어 전공, 금융공학\n",
    "- 수학(기초) 및 통계분석, 머신러닝 파트 담당 "
   ]
  },
  {
   "cell_type": "markdown",
   "metadata": {},
   "source": [
    "### 박두진 강사님\n",
    "\n",
    "- 프리랜서 개발자\n",
    "- 전 개발팀 팀장 및 다수 프로젝트 진행\n",
    "- 프로그래밍 파트 담당 "
   ]
  },
  {
   "cell_type": "markdown",
   "metadata": {},
   "source": [
    "## II.DSS 8기"
   ]
  },
  {
   "cell_type": "markdown",
   "metadata": {},
   "source": [
    "### 1.데이터 분석 이론 "
   ]
  },
  {
   "cell_type": "markdown",
   "metadata": {},
   "source": [
    "### 2.프로그래밍 실습 \n",
    "\n",
    "- python\n",
    "- linux / GIT"
   ]
  },
  {
   "cell_type": "markdown",
   "metadata": {},
   "source": [
    "### 3.팀/개인프로젝트 \n",
    "\n",
    "- small project 1: 4주차부터 진행 \n",
    "- small project 2: 9주차부터 진행\n",
    "- Personal project\n",
    "    - 12주차부터 본격적으로 진행하나, 그 전부터 꾸준히 구상 / 작업을 시작해야 한다. \n",
    "    - 개인 프로젝트는 하나보다 여러 개를 시도하는 게 좋다."
   ]
  },
  {
   "cell_type": "markdown",
   "metadata": {},
   "source": [
    "### 4.Daily Plan\n",
    "\n",
    "- 기본 강의(Lecture): 주 4~5회, 일 3~4시간씩 진행\n",
    "- Daily Quiz / Weekly Test: 채점, 기록. 나의 역량에 대해 가늠할 수 있다.\n",
    "- 프로젝트: 총 2회 팀프, 총 1회 개인프\n",
    "    - 기존 수료생 중 최대 5개까지 소화한 케이스도 있었다.\n",
    "    - 팀프 진행시, 개인 별 기여도를 조사.\n",
    "- 스터디: 수학, 프로그래밍\n",
    "    - DSS 하든 하지 않든 필요하다.\n",
    "    - 1,2주차 self / 이후 팀스터디."
   ]
  },
  {
   "cell_type": "markdown",
   "metadata": {},
   "source": [
    "## III.공지사항"
   ]
  },
  {
   "cell_type": "markdown",
   "metadata": {},
   "source": [
    "### 1.슬랙(Main messenger)"
   ]
  },
  {
   "cell_type": "markdown",
   "metadata": {},
   "source": [
    "### 2.피드백\n",
    "언제, 어떤 내용이든"
   ]
  },
  {
   "cell_type": "markdown",
   "metadata": {},
   "source": [
    "### 3.스터디룸 \n",
    "\n",
    "- 오전 10시부터 오후 10시까지 지정 강의장 이용 가능. \n",
    "- 행사, 강의 일정으로 타 강의장 이용 가능."
   ]
  },
  {
   "cell_type": "markdown",
   "metadata": {},
   "source": [
    "### 4.사물함 이용 "
   ]
  },
  {
   "cell_type": "markdown",
   "metadata": {},
   "source": [
    "### 5.학칙\n",
    "\n",
    "- 수강생, 매니저와 서로 예의지킬 것(OO님).\n",
    "- 출결 엄수\n",
    "- 기한 엄수\n",
    "    - 과제\n",
    "    - 이력서 \n",
    "    - 자기소개서\n",
    "    - 포트폴리오\n",
    "\n",
    "- 강의장 내 개인 물품 정돈\n",
    "- 택배 배송 금지. 외부 배달 음식 주문 금지.\n",
    "    - 김밥, 샌드위치 류 (O)\n",
    "    - 피자, 치킨 류 (X)\n",
    "- 타 강의장 사용 금지\n",
    "- 수업 중 음식물 섭취 금지\n",
    "- 전화통화 금지"
   ]
  },
  {
   "cell_type": "markdown",
   "metadata": {},
   "source": [
    "### 6.벌점제도\n",
    "\n",
    "- 출석 및 결석\n",
    "    - 매일 출석체크: 지각(-0.5), 무단결석(-1.0)\n",
    "\n",
    "- 생활 관련\n",
    "    - 사항 별 각 1점씩 벌점 부여\n",
    "    - 학칙에 대한 동일한 컴플레인 3회 이상 시 매니저 면담 진행\n",
    "    - 면담 후 컴플레인이 발생한 경우 재면담 후 퇴원 조치까지 가능.\n",
    "\n",
    "- 벌점 10점 이상시 퇴원 조치"
   ]
  },
  {
   "cell_type": "markdown",
   "metadata": {},
   "source": [
    "## IV. 수강생 소개"
   ]
  },
  {
   "cell_type": "markdown",
   "metadata": {},
   "source": [
    "### 이름 / 이력 및 소개 / 수강하게 된 동기 / 관심 있는 분야 및 회사 / 각오\n",
    "\n",
    "- 게임, 금융 쪽 데이터가 풍부하다"
   ]
  },
  {
   "cell_type": "markdown",
   "metadata": {},
   "source": [
    "#### 맹효열\n",
    "- 나이 32\n",
    "- 공대 도시공학과\n",
    "- 공무원 준비 이후 취업준비 중. \n",
    "- 핀테크, 퀀트에 관심.\n",
    "- DS가 중요하다고 생각해서 지원하게 되었음.\n"
   ]
  },
  {
   "cell_type": "markdown",
   "metadata": {},
   "source": [
    "#### 정혜란\n",
    "- 경영학 재학중\n",
    "- 마케팅 분야 관심\n",
    "- 해외 프로젝트 경험(대학을 바꾸기 위한)\n",
    "- 리서치 부분에 부족함, 관심을 느낌.\n",
    "- DSS에 지원\n",
    "- 스타트업에도 관심이 많음\n",
    "- 처음부터 끝까지 할 수 있는 만큼, 열심히."
   ]
  },
  {
   "cell_type": "markdown",
   "metadata": {},
   "source": [
    "#### 김민우\n",
    "\n",
    "- 나이 31\n",
    "- 건축 전공. \n",
    "- 부동산 컨설팅, IT회사, 건설회사(현장 근무): 관리직 중심으로.\n",
    "- AI, DS에 흥미를 느껴서 DSS 지원. \n",
    "- 좋은 인맥 풀을 얻고 싶다.\n",
    "- 많이 주고받을 수 있었으면."
   ]
  },
  {
   "cell_type": "markdown",
   "metadata": {},
   "source": [
    "#### 김준호\n",
    "\n",
    "- 나이 26\n",
    "- 아이티 경영 전공\n",
    "- 전략 경영 분야 인턴. R 텍스트 마이닝 경험.\n",
    "- 흥미, 교수님 추천으로 DSS 지원.\n",
    "- 모든 데이터를 다루는 것이 재미있음.\n",
    "- 설렘을 끝까지 가지고 가고 싶다."
   ]
  },
  {
   "cell_type": "markdown",
   "metadata": {},
   "source": [
    "#### 양승우\n",
    "- 대학 휴학 중\n",
    "- 태국어, 융복합소프트웨어 전공\n",
    "- DS 동기. 흥미가 있는데, 배울 게 너무 많았다. DSS가 종합적으로 기본기를 다질 수 있을 것 같아 지원.\n",
    "- 창업 관심. ebay에서 판매자 활동 경험. \n",
    "- 역직구, 직구 시장에 관심이 많다.\n",
    "- 1,2달이면 꺼지는 타입이라 그때 다잡아야 할 것 같다."
   ]
  },
  {
   "cell_type": "markdown",
   "metadata": {},
   "source": [
    "#### 백승흔\n",
    "\n",
    "- 대학 휴학 중\n",
    "- 식물자원학과: 농업 쪽 생명과학. 빅데이터 복수전공. \n",
    "- 빅데이터에 관심이 생겨서 패캠 지원. \n",
    "- 바이오인포매틱스에 관심이 있다. \n",
    "- 열심히 해서 많이 얻고 싶다."
   ]
  },
  {
   "cell_type": "markdown",
   "metadata": {},
   "source": [
    "#### 전찬민\n",
    "\n",
    "- 국내 증권사 리서치 업무\n",
    "- 작년부터 데이터 분석에 재미를 느꼈다\n",
    "- 사내 패캠 수업을 들으면서, 풀타임교육의 필요성을 절실히 느꼈다\n",
    "- 금융 관련 데이터에 더욱 많은 관심\n",
    "- 꼳히면 끝장을 보는 스타일. 좋은 경험으로 남았으면 좋겠다"
   ]
  },
  {
   "cell_type": "markdown",
   "metadata": {},
   "source": [
    "#### 이정택\n",
    "\n",
    "- 철학, 경제학 전공\n",
    "- 금융 분야 포함한 모든 분야에 관심이 있다\n",
    "- R과정을 듣다가, 심층적으로 DS를 깊숙히 알고 싶어서 지원하게 되었다\n"
   ]
  },
  {
   "cell_type": "markdown",
   "metadata": {},
   "source": [
    "#### 김혜진\n",
    "\n",
    "- 산업경제, 환경 쪽 전공\n",
    "- 공공기관 통계 보고서 작성 업무\n",
    "- 데이터 분석 업무를 하고 싶어서 DSS에 지원.\n",
    "- 마지막 커리어 전환의 계기. 열심히 하고 싶다."
   ]
  },
  {
   "cell_type": "markdown",
   "metadata": {},
   "source": [
    "#### 표준희\n",
    "\n",
    "- 약학, 통계학 전공(박사 과정 중)\n",
    "- 데이터 처리, 분석을 위해서 참여"
   ]
  },
  {
   "cell_type": "markdown",
   "metadata": {},
   "source": [
    "#### 조영우\n",
    "- 다이슨\n",
    "- e-commerce / 스타트업\n",
    "- 회사 생활 7년 \n",
    "- 기획, 운영 혁신 업무 주로. 전문성 있는 데이터 분석 업무를 하기 위해 지원. \n",
    "- 라이프스타일, 오버워치, 농구, 상추농사 좋아한다.\n",
    "- \"아무 생각없이 꾸준하게 열심히 해보겠습니다.\""
   ]
  },
  {
   "cell_type": "markdown",
   "metadata": {},
   "source": [
    "#### 지윤서\n",
    "- 서울아산병원 의학물리 레지던트(박사 과정 중)\n",
    "- 건강 상 문제로 쉬는 중\n",
    "- 임상 업무, 데이터 업무를 병행하면서 자신감... \n",
    "- DSS에서 기본기를 탄탄하게 다지고 싶다"
   ]
  },
  {
   "cell_type": "markdown",
   "metadata": {},
   "source": [
    "#### 김종재\n",
    "- 부산\n",
    "- 증권회사 3년 근무 후 DS 관심. \n",
    "- 금융 데이터 분석, 시스템 트레이닝에 접목 업무 희망.\n",
    "- 금융, 알고리즘 트레이닝 관심. \n",
    "- \"개인 프로젝트 3개로 만드는 게 각오\""
   ]
  },
  {
   "cell_type": "markdown",
   "metadata": {},
   "source": [
    "#### 홍재영\n",
    "- 부산. 3일 전 서울로 전입신고\n",
    "- 나이키 풋에어 이노베이터로 업무.\n",
    "- 스포츠, 수평적 조직문화 선호. \n",
    "- \"절실하다.\"(여자친구)"
   ]
  },
  {
   "cell_type": "markdown",
   "metadata": {},
   "source": [
    "#### 전현일\n",
    "- 나이 24\n",
    "- 건설환경 공학부\n",
    "- 군 복무하다가 적성, 특기를 살릴 수 있는 분야를 찾다가 DS에 관심이 생겼음.\n",
    "- 어플, 게임 분야 관심. 성장.\n",
    "- 학교를 때려쳤다."
   ]
  },
  {
   "cell_type": "markdown",
   "metadata": {},
   "source": [
    "#### 김휘수\n",
    "\n",
    "- 휴학 중\n",
    "- 영문, 경영 전공\n",
    "- 텍스트 마이닝, 마케팅, 스타트업에 관심. \n",
    "- 단기 목표: 팀 고객 데이터 관리. \n",
    "- 배수진."
   ]
  },
  {
   "cell_type": "markdown",
   "metadata": {},
   "source": [
    "## V.스터디"
   ]
  },
  {
   "cell_type": "markdown",
   "metadata": {},
   "source": [
    "- 레벨, 카테고리 별 미션 수행\n",
    "- 프로그래밍: 상, 중, 하\n",
    "- 수학: 미분, 선형대수, 확통\n",
    "    - 택 1\n",
    "- 데일리 스크럼(Daily Scrum) 작성"
   ]
  }
 ],
 "metadata": {
  "kernelspec": {
   "display_name": "Python 3",
   "language": "python",
   "name": "python3"
  },
  "language_info": {
   "codemirror_mode": {
    "name": "ipython",
    "version": 3
   },
   "file_extension": ".py",
   "mimetype": "text/x-python",
   "name": "python",
   "nbconvert_exporter": "python",
   "pygments_lexer": "ipython3",
   "version": "3.6.5"
  }
 },
 "nbformat": 4,
 "nbformat_minor": 2
}
