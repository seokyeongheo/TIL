{
 "cells": [
  {
   "cell_type": "markdown",
   "metadata": {},
   "source": [
    "# SETUP\n",
    "- - -"
   ]
  },
  {
   "cell_type": "code",
   "execution_count": 10,
   "metadata": {},
   "outputs": [],
   "source": [
    "import pandas as pd\n",
    "import numpy as np\n",
    "\n",
    "import matplotlib.pyplot as plt\n",
    "%matplotlib inline\n",
    "\n",
    "import seaborn as sns\n",
    "sns.set()\n",
    "import platform\n",
    "import re"
   ]
  },
  {
   "cell_type": "code",
   "execution_count": null,
   "metadata": {},
   "outputs": [],
   "source": []
  },
  {
   "cell_type": "code",
   "execution_count": 2,
   "metadata": {},
   "outputs": [
    {
     "data": {
      "text/html": [
       "<div>\n",
       "<style scoped>\n",
       "    .dataframe tbody tr th:only-of-type {\n",
       "        vertical-align: middle;\n",
       "    }\n",
       "\n",
       "    .dataframe tbody tr th {\n",
       "        vertical-align: top;\n",
       "    }\n",
       "\n",
       "    .dataframe thead th {\n",
       "        text-align: right;\n",
       "    }\n",
       "</style>\n",
       "<table border=\"1\" class=\"dataframe\">\n",
       "  <thead>\n",
       "    <tr style=\"text-align: right;\">\n",
       "      <th></th>\n",
       "      <th>관서명</th>\n",
       "      <th>살인(발생)</th>\n",
       "      <th>살인(검거)</th>\n",
       "      <th>강도(발생)</th>\n",
       "      <th>강도(검거)</th>\n",
       "      <th>강간(발생)</th>\n",
       "      <th>강간(검거)</th>\n",
       "      <th>절도(발생)</th>\n",
       "      <th>절도(검거)</th>\n",
       "      <th>폭력(발생)</th>\n",
       "      <th>폭력(검거)</th>\n",
       "    </tr>\n",
       "  </thead>\n",
       "  <tbody>\n",
       "    <tr>\n",
       "      <th>26</th>\n",
       "      <td>노원서</td>\n",
       "      <td>10</td>\n",
       "      <td>10</td>\n",
       "      <td>7</td>\n",
       "      <td>7</td>\n",
       "      <td>197</td>\n",
       "      <td>121</td>\n",
       "      <td>2,193</td>\n",
       "      <td>801</td>\n",
       "      <td>2,723</td>\n",
       "      <td>2,329</td>\n",
       "    </tr>\n",
       "    <tr>\n",
       "      <th>27</th>\n",
       "      <td>방배서</td>\n",
       "      <td>1</td>\n",
       "      <td>2</td>\n",
       "      <td>1</td>\n",
       "      <td>1</td>\n",
       "      <td>59</td>\n",
       "      <td>56</td>\n",
       "      <td>653</td>\n",
       "      <td>186</td>\n",
       "      <td>547</td>\n",
       "      <td>491</td>\n",
       "    </tr>\n",
       "    <tr>\n",
       "      <th>28</th>\n",
       "      <td>은평서</td>\n",
       "      <td>1</td>\n",
       "      <td>1</td>\n",
       "      <td>7</td>\n",
       "      <td>5</td>\n",
       "      <td>96</td>\n",
       "      <td>82</td>\n",
       "      <td>1,095</td>\n",
       "      <td>418</td>\n",
       "      <td>1,461</td>\n",
       "      <td>1,268</td>\n",
       "    </tr>\n",
       "    <tr>\n",
       "      <th>29</th>\n",
       "      <td>도봉서</td>\n",
       "      <td>3</td>\n",
       "      <td>3</td>\n",
       "      <td>9</td>\n",
       "      <td>10</td>\n",
       "      <td>102</td>\n",
       "      <td>106</td>\n",
       "      <td>1,063</td>\n",
       "      <td>478</td>\n",
       "      <td>1,487</td>\n",
       "      <td>1,303</td>\n",
       "    </tr>\n",
       "    <tr>\n",
       "      <th>30</th>\n",
       "      <td>수서서</td>\n",
       "      <td>10</td>\n",
       "      <td>7</td>\n",
       "      <td>6</td>\n",
       "      <td>6</td>\n",
       "      <td>149</td>\n",
       "      <td>124</td>\n",
       "      <td>1,439</td>\n",
       "      <td>666</td>\n",
       "      <td>1,819</td>\n",
       "      <td>1,559</td>\n",
       "    </tr>\n",
       "  </tbody>\n",
       "</table>\n",
       "</div>"
      ],
      "text/plain": [
       "    관서명  살인(발생)  살인(검거)  강도(발생)  강도(검거)  강간(발생)  강간(검거) 절도(발생) 절도(검거) 폭력(발생)  \\\n",
       "26  노원서      10      10       7       7     197     121  2,193    801  2,723   \n",
       "27  방배서       1       2       1       1      59      56    653    186    547   \n",
       "28  은평서       1       1       7       5      96      82  1,095    418  1,461   \n",
       "29  도봉서       3       3       9      10     102     106  1,063    478  1,487   \n",
       "30  수서서      10       7       6       6     149     124  1,439    666  1,819   \n",
       "\n",
       "   폭력(검거)  \n",
       "26  2,329  \n",
       "27    491  \n",
       "28  1,268  \n",
       "29  1,303  \n",
       "30  1,559  "
      ]
     },
     "execution_count": 2,
     "metadata": {},
     "output_type": "execute_result"
    }
   ],
   "source": [
    "file_path = './../../../data/seoul_crime/seoul_crime_2015.csv'\n",
    "data_raw = pd.read_csv(file_path, encoding='euc-kr')\n",
    "data_raw.tail()"
   ]
  },
  {
   "cell_type": "code",
   "execution_count": 3,
   "metadata": {},
   "outputs": [
    {
     "data": {
      "text/plain": [
       "관서명       object\n",
       "살인(발생)     int64\n",
       "살인(검거)     int64\n",
       "강도(발생)     int64\n",
       "강도(검거)     int64\n",
       "강간(발생)     int64\n",
       "강간(검거)     int64\n",
       "절도(발생)    object\n",
       "절도(검거)    object\n",
       "폭력(발생)    object\n",
       "폭력(검거)    object\n",
       "dtype: object"
      ]
     },
     "execution_count": 3,
     "metadata": {},
     "output_type": "execute_result"
    }
   ],
   "source": [
    "data_raw.dtypes"
   ]
  },
  {
   "cell_type": "code",
   "execution_count": 5,
   "metadata": {},
   "outputs": [
    {
     "data": {
      "text/plain": [
       "0    foo\n",
       "1    fuz\n",
       "2    NaN\n",
       "dtype: object"
      ]
     },
     "execution_count": 5,
     "metadata": {},
     "output_type": "execute_result"
    }
   ],
   "source": [
    "# pandas replace with regex\n",
    "\n",
    "test_sr = pd.Series(['foo', 'fuz', np.nan])\n",
    "test_sr.str.replace('f.', 'ba', regex=True)\n",
    "test_sr"
   ]
  },
  {
   "cell_type": "code",
   "execution_count": 9,
   "metadata": {},
   "outputs": [
    {
     "data": {
      "text/plain": [
       "0    oof\n",
       "1    zuf\n",
       "2    NaN\n",
       "dtype: object"
      ]
     },
     "execution_count": 9,
     "metadata": {},
     "output_type": "execute_result"
    }
   ],
   "source": [
    "repl = lambda m : m.group(0)[::-1]\n",
    "test_sr.str.replace(r'[a-z]+', repl)"
   ]
  },
  {
   "cell_type": "code",
   "execution_count": 21,
   "metadata": {},
   "outputs": [
    {
     "name": "stdout",
     "output_type": "stream",
     "text": [
      "True ['pdj1224@daum.com', 'radajin1224@gmail.com']\n"
     ]
    }
   ],
   "source": [
    "s = \"저의 이메일 주소는 pdj1224@daum.com 입니다. 또한 radajin1224@gmail.com 역시 마찬가지 입니다.\"\n",
    "p = \"[0-9a-zA-Z]+@[0-9a-z]+\\.[0-9a-z]+\"\n",
    "result = True if re.search(p, s) else False\n",
    "print(result, re.findall(p, s))"
   ]
  },
  {
   "cell_type": "code",
   "execution_count": 26,
   "metadata": {},
   "outputs": [
    {
     "data": {
      "text/plain": [
       "'1211'"
      ]
     },
     "execution_count": 26,
     "metadata": {},
     "output_type": "execute_result"
    }
   ],
   "source": [
    "w = '1,211'\n",
    "pattern = \"([0-9]),([0-9])\"\n",
    "repl = \"\"\n",
    "\n",
    "re.sub(\"[^\\d\\.]\", \"\", w)"
   ]
  },
  {
   "cell_type": "code",
   "execution_count": null,
   "metadata": {},
   "outputs": [],
   "source": []
  },
  {
   "cell_type": "code",
   "execution_count": 28,
   "metadata": {},
   "outputs": [],
   "source": [
    "data_raw.replace(to_replace=\"[^\\d\\.]\", value=\"\", inplace=True)"
   ]
  },
  {
   "cell_type": "code",
   "execution_count": null,
   "metadata": {},
   "outputs": [],
   "source": []
  },
  {
   "cell_type": "code",
   "execution_count": null,
   "metadata": {},
   "outputs": [],
   "source": []
  },
  {
   "cell_type": "code",
   "execution_count": 12,
   "metadata": {},
   "outputs": [
    {
     "name": "stdout",
     "output_type": "stream",
     "text": [
      "1,170\n",
      "1,355\n",
      "477\n",
      "1,070\n",
      "1,278\n",
      "413\n",
      "794\n",
      "869\n",
      "382\n",
      "1,711\n",
      "2,056\n",
      "738\n",
      "861\n",
      "1,015\n",
      "424\n",
      "1,704\n",
      "2,050\n",
      "587\n",
      "1,015\n",
      "1,194\n",
      "409\n",
      "2,227\n",
      "2,548\n",
      "814\n",
      "2,519\n",
      "2,983\n",
      "813\n",
      "2,961\n",
      "3,572\n",
      "978\n",
      "1,395\n",
      "1,612\n",
      "597\n",
      "1,587\n",
      "1,910\n",
      "661\n",
      "2,180\n",
      "2,625\n",
      "1,277\n",
      "1,038\n",
      "1,192\n",
      "293\n",
      "2,348\n",
      "2,649\n",
      "618\n",
      "1,776\n",
      "2,054\n",
      "888\n",
      "2,407\n",
      "2,847\n",
      "829\n",
      "2,146\n",
      "2,465\n",
      "984\n",
      "2,642\n",
      "3,298\n",
      "827\n",
      "2,718\n",
      "3,207\n",
      "1,260\n",
      "2,248\n",
      "2,712\n",
      "789\n",
      "840\n",
      "1,015\n",
      "332\n",
      "2,432\n",
      "3,007\n",
      "889\n",
      "1,607\n",
      "1,852\n",
      "905\n",
      "2,030\n",
      "2,509\n",
      "672\n",
      "2,786\n",
      "3,295\n",
      "1,129\n",
      "2,329\n",
      "2,723\n",
      "801\n",
      "491\n",
      "547\n",
      "186\n",
      "1,268\n",
      "1,461\n",
      "418\n",
      "1,303\n",
      "1,487\n",
      "478\n",
      "1,559\n",
      "1,819\n",
      "666\n"
     ]
    },
    {
     "data": {
      "text/html": [
       "<div>\n",
       "<style scoped>\n",
       "    .dataframe tbody tr th:only-of-type {\n",
       "        vertical-align: middle;\n",
       "    }\n",
       "\n",
       "    .dataframe tbody tr th {\n",
       "        vertical-align: top;\n",
       "    }\n",
       "\n",
       "    .dataframe thead th {\n",
       "        text-align: right;\n",
       "    }\n",
       "</style>\n",
       "<table border=\"1\" class=\"dataframe\">\n",
       "  <thead>\n",
       "    <tr style=\"text-align: right;\">\n",
       "      <th></th>\n",
       "      <th>관서명</th>\n",
       "      <th>살인(발생)</th>\n",
       "      <th>살인(검거)</th>\n",
       "      <th>강도(발생)</th>\n",
       "      <th>강도(검거)</th>\n",
       "      <th>강간(발생)</th>\n",
       "      <th>강간(검거)</th>\n",
       "      <th>절도(발생)</th>\n",
       "      <th>절도(검거)</th>\n",
       "      <th>폭력(발생)</th>\n",
       "      <th>폭력(검거)</th>\n",
       "    </tr>\n",
       "  </thead>\n",
       "  <tbody>\n",
       "    <tr>\n",
       "      <th>26</th>\n",
       "      <td>노원서</td>\n",
       "      <td>10</td>\n",
       "      <td>10</td>\n",
       "      <td>7</td>\n",
       "      <td>7</td>\n",
       "      <td>197</td>\n",
       "      <td>121</td>\n",
       "      <td>2,193</td>\n",
       "      <td>801</td>\n",
       "      <td>2,723</td>\n",
       "      <td>2,329</td>\n",
       "    </tr>\n",
       "    <tr>\n",
       "      <th>27</th>\n",
       "      <td>방배서</td>\n",
       "      <td>1</td>\n",
       "      <td>2</td>\n",
       "      <td>1</td>\n",
       "      <td>1</td>\n",
       "      <td>59</td>\n",
       "      <td>56</td>\n",
       "      <td>653</td>\n",
       "      <td>186</td>\n",
       "      <td>547</td>\n",
       "      <td>491</td>\n",
       "    </tr>\n",
       "    <tr>\n",
       "      <th>28</th>\n",
       "      <td>은평서</td>\n",
       "      <td>1</td>\n",
       "      <td>1</td>\n",
       "      <td>7</td>\n",
       "      <td>5</td>\n",
       "      <td>96</td>\n",
       "      <td>82</td>\n",
       "      <td>1,095</td>\n",
       "      <td>418</td>\n",
       "      <td>1,461</td>\n",
       "      <td>1,268</td>\n",
       "    </tr>\n",
       "    <tr>\n",
       "      <th>29</th>\n",
       "      <td>도봉서</td>\n",
       "      <td>3</td>\n",
       "      <td>3</td>\n",
       "      <td>9</td>\n",
       "      <td>10</td>\n",
       "      <td>102</td>\n",
       "      <td>106</td>\n",
       "      <td>1,063</td>\n",
       "      <td>478</td>\n",
       "      <td>1,487</td>\n",
       "      <td>1,303</td>\n",
       "    </tr>\n",
       "    <tr>\n",
       "      <th>30</th>\n",
       "      <td>수서서</td>\n",
       "      <td>10</td>\n",
       "      <td>7</td>\n",
       "      <td>6</td>\n",
       "      <td>6</td>\n",
       "      <td>149</td>\n",
       "      <td>124</td>\n",
       "      <td>1,439</td>\n",
       "      <td>666</td>\n",
       "      <td>1,819</td>\n",
       "      <td>1,559</td>\n",
       "    </tr>\n",
       "  </tbody>\n",
       "</table>\n",
       "</div>"
      ],
      "text/plain": [
       "    관서명  살인(발생)  살인(검거)  강도(발생)  강도(검거)  강간(발생)  강간(검거) 절도(발생) 절도(검거) 폭력(발생)  \\\n",
       "26  노원서      10      10       7       7     197     121  2,193    801  2,723   \n",
       "27  방배서       1       2       1       1      59      56    653    186    547   \n",
       "28  은평서       1       1       7       5      96      82  1,095    418  1,461   \n",
       "29  도봉서       3       3       9      10     102     106  1,063    478  1,487   \n",
       "30  수서서      10       7       6       6     149     124  1,439    666  1,819   \n",
       "\n",
       "   폭력(검거)  \n",
       "26  2,329  \n",
       "27    491  \n",
       "28  1,268  \n",
       "29  1,303  \n",
       "30  1,559  "
      ]
     },
     "execution_count": 12,
     "metadata": {},
     "output_type": "execute_result"
    }
   ],
   "source": [
    "for region in data_raw.values:\n",
    "    for info in region[-1:-4:-1]:\n",
    "        re.sub(\",\", \"  \", info)\n",
    "        print(info)\n",
    "data_raw.tail()"
   ]
  },
  {
   "cell_type": "code",
   "execution_count": 28,
   "metadata": {},
   "outputs": [
    {
     "data": {
      "text/plain": [
       "(array(['중부서', 2, 2, 3, 2, 105, 65, '1,395', '477', '1,355', '1,170'],\n",
       "       dtype=object),\n",
       " array(['477', '1,355', '1,170'], dtype=object),\n",
       " array(['1,170', '1,355', '477'], dtype=object))"
      ]
     },
     "execution_count": 28,
     "metadata": {},
     "output_type": "execute_result"
    }
   ],
   "source": [
    "data_raw.values[0], data_raw.values[0][8:12:1], data_raw.values[0][-1:-4:-1]"
   ]
  },
  {
   "cell_type": "code",
   "execution_count": null,
   "metadata": {},
   "outputs": [],
   "source": []
  },
  {
   "cell_type": "code",
   "execution_count": null,
   "metadata": {},
   "outputs": [],
   "source": []
  },
  {
   "cell_type": "code",
   "execution_count": null,
   "metadata": {},
   "outputs": [],
   "source": []
  },
  {
   "cell_type": "code",
   "execution_count": null,
   "metadata": {},
   "outputs": [],
   "source": []
  },
  {
   "cell_type": "code",
   "execution_count": null,
   "metadata": {},
   "outputs": [],
   "source": []
  },
  {
   "cell_type": "code",
   "execution_count": null,
   "metadata": {},
   "outputs": [],
   "source": []
  }
 ],
 "metadata": {
  "kernelspec": {
   "display_name": "Python 3",
   "language": "python",
   "name": "python3"
  },
  "language_info": {
   "codemirror_mode": {
    "name": "ipython",
    "version": 3
   },
   "file_extension": ".py",
   "mimetype": "text/x-python",
   "name": "python",
   "nbconvert_exporter": "python",
   "pygments_lexer": "ipython3",
   "version": "3.6.5"
  }
 },
 "nbformat": 4,
 "nbformat_minor": 2
}
