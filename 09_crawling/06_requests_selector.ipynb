{
 "cells": [
  {
   "cell_type": "markdown",
   "metadata": {},
   "source": [
    "## _크롤링_\n",
    "\n",
    "- resquests : 브라우저가 아닌 코드에서 서버로 리퀘스트를 보내는 것. \n",
    "    - 1.API 이용 : request를 던져서 JSON이라는 데이터 포맷(문자열)으로 데이터를 받는다. 문자열을 JSON object로 바꾸어주고 위해 파싱(parsing)을 한다. 그리고 JSON에서 필요한 데이터를 모으면 된다.\n",
    "    - 2.HTML 코드 이용 : request를 던져서 HTML 코드를 문자열로 받는다. beautifulsoup4(bs4)를 이용해서 파싱(parsing)한다. 그러면 css-selector로 데이터를 모으면 된다. / 정적 웹페이지를 크롤링할 때 사용한다 / \n",
    "    - 3.Selenium 이용 : 프론트엔드 페이지 테스팅 도구. 직접 브라우저를 띄우고 css-selector를 이용해서 특정 데이터를 가져온다. / 동적 웹페이지를 크롤링할 때 사용한다\n",
    "    - 4.scrapy 이용 : 웹 크롤링을 위해 만들어진 파이썬 패키지. request/response 방식. 크롤링 정책을 설정할 수 있다. 동적 페이지를 가져오기 위해서는 Selenium을 사용해야 한다. \n",
    "\n",
    "\n",
    "\n",
    "- 우선순위 : 1 > 2 > 3\n",
    "    - JSON : 필요한 데이터만 집약되어 있다 \n",
    "    - HTML : JSON에 비해 상대적으로 불필요한 데이터가 있다. request/response로 데이터만 가져온다.\n",
    "    - Selenium : 브라우저를 띄우고 데이터를 가져오는데 자원이 소모된다.\n",
    "\n",
    "\n",
    "\n",
    "- 기타 : 화면이 없는 서버에서 오류가 나지 않도록 하기 위해서\n",
    "    - 크롬드라이버 헤드리스 : 화면을 띄우지 않은 상태에서 크롤링하는 것. Selenium이 이제 더는 phantom.JS를 지원하지 않음.\n",
    "    - XVfb : 메모리 상 가상화면을 만들어서, 로컬의 화면을 그대로 가져와서 사용할 수 있다."
   ]
  },
  {
   "cell_type": "code",
   "execution_count": 33,
   "metadata": {},
   "outputs": [],
   "source": [
    "import requests\n",
    "from bs4 import BeautifulSoup\n",
    "import forecastio\n",
    "import pandas as pd"
   ]
  },
  {
   "cell_type": "markdown",
   "metadata": {},
   "source": [
    "### *실습*\n",
    "\n",
    "- api json : 네이버 주식 데이터 크롤링\n",
    "- api josn / forecastio : dark sky api로 날씨 데이터를 수집\n",
    "- bs4 : 네이버 실시간 키워드, 다음 실시간 키워드 크롤링\n",
    "- web file url로 파일을 다운로드 받는 방법"
   ]
  },
  {
   "cell_type": "markdown",
   "metadata": {},
   "source": [
    "### _네이버 주식데이터 가져오기_\n",
    "\n",
    "- 목적 : 데이터를 가져와서 판다스의 데이터프레임으로 만드는 함수\n",
    "- 모바일웹 사용 : 크롤링하기 더욱 용이하다\n",
    "- text, dit, list\n",
    "    - response.text : text 형태로 가져온다\n",
    "    - json_info : dict 형태로 가져온다\n",
    "    - companys : List 형태로 가져온다"
   ]
  },
  {
   "cell_type": "code",
   "execution_count": 36,
   "metadata": {},
   "outputs": [],
   "source": [
    "def make_url(pageSize=10, page=1):\n",
    "    return \"http://m.stock.naver.com/api/json/sise/siseListJson.nhn?\\\n",
    "    menu=market_sum&sosok=0&pageSize=\" + str(pageSize) + \"&page=\" + str(page)"
   ]
  },
  {
   "cell_type": "code",
   "execution_count": 37,
   "metadata": {},
   "outputs": [],
   "source": [
    "# columns 직접 지정하기\n",
    "\n",
    "def get_data(url):\n",
    "    response = requests.get(url)\n",
    "    json_info = response.json()\n",
    "    companys = json_info[\"result\"][\"itemList\"]\n",
    "    df = pd.DataFrame(columns=[\"종목\", \"시세\", \"전일비\", \"등락율\", \"시가총액\", \"거래량\"])\n",
    "    \n",
    "    for company in companys:\n",
    "        df.loc[len(df)] = {\n",
    "            \"종목\":company[\"nm\"],\n",
    "            \"시세\":company[\"nv\"],\n",
    "            \"전일비\":company[\"cv\"],\n",
    "            \"등락율\":company[\"cr\"],\n",
    "            \"시가총액\":company[\"mks\"],\n",
    "            \"거래량\":company[\"aq\"],\n",
    "        }  \n",
    "        \n",
    "    return df"
   ]
  },
  {
   "cell_type": "code",
   "execution_count": 39,
   "metadata": {},
   "outputs": [
    {
     "data": {
      "text/html": [
       "<div>\n",
       "<style scoped>\n",
       "    .dataframe tbody tr th:only-of-type {\n",
       "        vertical-align: middle;\n",
       "    }\n",
       "\n",
       "    .dataframe tbody tr th {\n",
       "        vertical-align: top;\n",
       "    }\n",
       "\n",
       "    .dataframe thead th {\n",
       "        text-align: right;\n",
       "    }\n",
       "</style>\n",
       "<table border=\"1\" class=\"dataframe\">\n",
       "  <thead>\n",
       "    <tr style=\"text-align: right;\">\n",
       "      <th></th>\n",
       "      <th>종목</th>\n",
       "      <th>시세</th>\n",
       "      <th>전일비</th>\n",
       "      <th>등락율</th>\n",
       "      <th>시가총액</th>\n",
       "      <th>거래량</th>\n",
       "    </tr>\n",
       "  </thead>\n",
       "  <tbody>\n",
       "    <tr>\n",
       "      <th>1452</th>\n",
       "      <td>진흥기업2우B</td>\n",
       "      <td>7970</td>\n",
       "      <td>-30</td>\n",
       "      <td>-0.37</td>\n",
       "      <td>23</td>\n",
       "      <td>356</td>\n",
       "    </tr>\n",
       "    <tr>\n",
       "      <th>1453</th>\n",
       "      <td>KBSTAR 우량업종</td>\n",
       "      <td>11295</td>\n",
       "      <td>80</td>\n",
       "      <td>0.71</td>\n",
       "      <td>23</td>\n",
       "      <td>14</td>\n",
       "    </tr>\n",
       "    <tr>\n",
       "      <th>1454</th>\n",
       "      <td>ARIRANG 스마트베타4종결합</td>\n",
       "      <td>10365</td>\n",
       "      <td>-30</td>\n",
       "      <td>-0.29</td>\n",
       "      <td>21</td>\n",
       "      <td>23</td>\n",
       "    </tr>\n",
       "    <tr>\n",
       "      <th>1455</th>\n",
       "      <td>ARIRANG 스마트베타 Momentum</td>\n",
       "      <td>9410</td>\n",
       "      <td>-15</td>\n",
       "      <td>-0.16</td>\n",
       "      <td>19</td>\n",
       "      <td>23</td>\n",
       "    </tr>\n",
       "    <tr>\n",
       "      <th>1456</th>\n",
       "      <td>ARIRANG 200동일가중</td>\n",
       "      <td>9605</td>\n",
       "      <td>-5</td>\n",
       "      <td>-0.05</td>\n",
       "      <td>14</td>\n",
       "      <td>23</td>\n",
       "    </tr>\n",
       "  </tbody>\n",
       "</table>\n",
       "</div>"
      ],
      "text/plain": [
       "                          종목     시세  전일비   등락율 시가총액  거래량\n",
       "1452                 진흥기업2우B   7970  -30 -0.37   23  356\n",
       "1453             KBSTAR 우량업종  11295   80  0.71   23   14\n",
       "1454       ARIRANG 스마트베타4종결합  10365  -30 -0.29   21   23\n",
       "1455  ARIRANG 스마트베타 Momentum   9410  -15 -0.16   19   23\n",
       "1456         ARIRANG 200동일가중   9605   -5 -0.05   14   23"
      ]
     },
     "execution_count": 39,
     "metadata": {},
     "output_type": "execute_result"
    }
   ],
   "source": [
    "url = make_url(1458, 1)\n",
    "get_data(url).tail()"
   ]
  },
  {
   "cell_type": "code",
   "execution_count": 40,
   "metadata": {},
   "outputs": [],
   "source": [
    "from pandas.io.json import json_normalize"
   ]
  },
  {
   "cell_type": "code",
   "execution_count": 43,
   "metadata": {},
   "outputs": [],
   "source": [
    "# json_normalize 함수 사용하기\n",
    "\n",
    "def get_data2(url):\n",
    "    response = requests.get(url)\n",
    "    json_info = response.json()\n",
    "    companys = json_info[\"result\"][\"itemList\"]\n",
    "\n",
    "    return json_normalize(companys)"
   ]
  },
  {
   "cell_type": "code",
   "execution_count": 44,
   "metadata": {},
   "outputs": [
    {
     "data": {
      "text/html": [
       "<div>\n",
       "<style scoped>\n",
       "    .dataframe tbody tr th:only-of-type {\n",
       "        vertical-align: middle;\n",
       "    }\n",
       "\n",
       "    .dataframe tbody tr th {\n",
       "        vertical-align: top;\n",
       "    }\n",
       "\n",
       "    .dataframe thead th {\n",
       "        text-align: right;\n",
       "    }\n",
       "</style>\n",
       "<table border=\"1\" class=\"dataframe\">\n",
       "  <thead>\n",
       "    <tr style=\"text-align: right;\">\n",
       "      <th></th>\n",
       "      <th>aa</th>\n",
       "      <th>aq</th>\n",
       "      <th>cd</th>\n",
       "      <th>cr</th>\n",
       "      <th>cv</th>\n",
       "      <th>mks</th>\n",
       "      <th>mt</th>\n",
       "      <th>nm</th>\n",
       "      <th>nv</th>\n",
       "      <th>pcv</th>\n",
       "      <th>rf</th>\n",
       "    </tr>\n",
       "  </thead>\n",
       "  <tbody>\n",
       "    <tr>\n",
       "      <th>1452</th>\n",
       "      <td>2</td>\n",
       "      <td>356</td>\n",
       "      <td>002787</td>\n",
       "      <td>-0.37</td>\n",
       "      <td>-30</td>\n",
       "      <td>23</td>\n",
       "      <td>0</td>\n",
       "      <td>진흥기업2우B</td>\n",
       "      <td>7970</td>\n",
       "      <td>8000</td>\n",
       "      <td>5</td>\n",
       "    </tr>\n",
       "    <tr>\n",
       "      <th>1453</th>\n",
       "      <td>0</td>\n",
       "      <td>14</td>\n",
       "      <td>140580</td>\n",
       "      <td>0.71</td>\n",
       "      <td>80</td>\n",
       "      <td>23</td>\n",
       "      <td>0</td>\n",
       "      <td>KBSTAR 우량업종</td>\n",
       "      <td>11295</td>\n",
       "      <td>11215</td>\n",
       "      <td>2</td>\n",
       "    </tr>\n",
       "    <tr>\n",
       "      <th>1454</th>\n",
       "      <td>0</td>\n",
       "      <td>23</td>\n",
       "      <td>244820</td>\n",
       "      <td>-0.29</td>\n",
       "      <td>-30</td>\n",
       "      <td>21</td>\n",
       "      <td>0</td>\n",
       "      <td>ARIRANG 스마트베타4종결합</td>\n",
       "      <td>10365</td>\n",
       "      <td>10395</td>\n",
       "      <td>5</td>\n",
       "    </tr>\n",
       "    <tr>\n",
       "      <th>1455</th>\n",
       "      <td>0</td>\n",
       "      <td>23</td>\n",
       "      <td>222190</td>\n",
       "      <td>-0.16</td>\n",
       "      <td>-15</td>\n",
       "      <td>19</td>\n",
       "      <td>0</td>\n",
       "      <td>ARIRANG 스마트베타 Momentum</td>\n",
       "      <td>9410</td>\n",
       "      <td>9425</td>\n",
       "      <td>5</td>\n",
       "    </tr>\n",
       "    <tr>\n",
       "      <th>1456</th>\n",
       "      <td>0</td>\n",
       "      <td>23</td>\n",
       "      <td>295820</td>\n",
       "      <td>-0.05</td>\n",
       "      <td>-5</td>\n",
       "      <td>14</td>\n",
       "      <td>0</td>\n",
       "      <td>ARIRANG 200동일가중</td>\n",
       "      <td>9605</td>\n",
       "      <td>9610</td>\n",
       "      <td>5</td>\n",
       "    </tr>\n",
       "  </tbody>\n",
       "</table>\n",
       "</div>"
      ],
      "text/plain": [
       "      aa   aq      cd    cr  cv  mks mt                      nm     nv    pcv  \\\n",
       "1452   2  356  002787 -0.37 -30   23  0                 진흥기업2우B   7970   8000   \n",
       "1453   0   14  140580  0.71  80   23  0             KBSTAR 우량업종  11295  11215   \n",
       "1454   0   23  244820 -0.29 -30   21  0       ARIRANG 스마트베타4종결합  10365  10395   \n",
       "1455   0   23  222190 -0.16 -15   19  0  ARIRANG 스마트베타 Momentum   9410   9425   \n",
       "1456   0   23  295820 -0.05  -5   14  0         ARIRANG 200동일가중   9605   9610   \n",
       "\n",
       "     rf  \n",
       "1452  5  \n",
       "1453  2  \n",
       "1454  5  \n",
       "1455  5  \n",
       "1456  5  "
      ]
     },
     "execution_count": 44,
     "metadata": {},
     "output_type": "execute_result"
    }
   ],
   "source": [
    "url = make_url(1458, 1)\n",
    "get_data2(url).tail()"
   ]
  },
  {
   "cell_type": "markdown",
   "metadata": {},
   "source": [
    "### _dark sky api_\n",
    "\n",
    "- dark sky api : 위도와 경도를 입력하면 날씨 정보를 알려주는 api"
   ]
  },
  {
   "cell_type": "code",
   "execution_count": 8,
   "metadata": {},
   "outputs": [],
   "source": [
    "FORECAST_TOKEN = \"30dc208a4ebd307081cbb81003d5e455\""
   ]
  },
  {
   "cell_type": "code",
   "execution_count": 9,
   "metadata": {},
   "outputs": [],
   "source": [
    "def forecast(lat, lng):\n",
    "    url = \"https://api.darksky.net/forecast/{}/{},{}\"\\\n",
    "    .format(FORECAST_TOKEN, lat, lng)\n",
    "    response = requests.get(url)\n",
    "    json_info = response.json()\n",
    "    return json_info[\"timezone\"], json_info[\"hourly\"][\"summary\"]"
   ]
  },
  {
   "cell_type": "code",
   "execution_count": 10,
   "metadata": {},
   "outputs": [
    {
     "data": {
      "text/plain": [
       "('Asia/Seoul',\n",
       " 'Mostly cloudy starting tonight, continuing until tomorrow afternoon.')"
      ]
     },
     "execution_count": 10,
     "metadata": {},
     "output_type": "execute_result"
    }
   ],
   "source": [
    "forecast(37.53, 127.04)"
   ]
  },
  {
   "cell_type": "markdown",
   "metadata": {},
   "source": [
    "### _forecastio_\n",
    "\n",
    "- 복잡한 api인 경우에는 패키지를 사용하는 것이 좋을 수 있다"
   ]
  },
  {
   "cell_type": "code",
   "execution_count": 11,
   "metadata": {},
   "outputs": [
    {
     "data": {
      "text/plain": [
       "'Mostly cloudy starting tonight, continuing until tomorrow afternoon.'"
      ]
     },
     "execution_count": 11,
     "metadata": {},
     "output_type": "execute_result"
    }
   ],
   "source": [
    "def forecast2(lat, lng):\n",
    "    forecast = forecastio.load_forecast(FORECAST_TOKEN, lat, lng)\n",
    "    byHourly = forecast.hourly()\n",
    "    return byHourly.summary\n",
    "forecast2(37.53, 127.04)"
   ]
  },
  {
   "cell_type": "markdown",
   "metadata": {},
   "source": [
    "### _bs4_\n",
    "\n",
    "- 네이버 키워드 랭킹 데이터 크롤링\n",
    "- 다음 키워드 랭킹 데이터 크롤링\n",
    "- dom : HTML 모델\n",
    "- dom.select : 여러 개의 html 엘리먼트를 셀렉팅할 때 사용. 결과로 리스트 데이터를 리턴한다.\n",
    "- dom.select_one : 하나의 html 엘리먼트를 셀렉팅할 때 사용. 결과로 문자열 데이터를 리턴한다."
   ]
  },
  {
   "cell_type": "code",
   "execution_count": 54,
   "metadata": {},
   "outputs": [],
   "source": [
    "def naver():\n",
    "    df = pd.DataFrame(columns=[\"rank\", \"keyword\"])\n",
    "    \n",
    "    response = requests.get(\"http://www.naver.com/\")\n",
    "    dom = BeautifulSoup(response.content, \"html.parser\") # dom : document object model\n",
    "    keywords = dom.select(\".ah_roll_area > .ah_l > .ah_item\")\n",
    "    \n",
    "    for keyword in keywords:\n",
    "        df.loc[len(df)] = {\n",
    "            \"rank\": keyword.select_one(\".ah_r\").text,\n",
    "            \"keyword\": keyword.select_one(\".ah_k\").text,\n",
    "        }\n",
    "    \n",
    "    return df\n",
    "naver_df = naver()"
   ]
  },
  {
   "cell_type": "code",
   "execution_count": 30,
   "metadata": {},
   "outputs": [],
   "source": [
    "# 네이버 실시간 검색어 자동화\n",
    "\n",
    "import time\n",
    "ls = []\n",
    "for idx in range(3):\n",
    "    ls.append(naver())\n",
    "    time.sleep(5*1*1)\n",
    "ls"
   ]
  },
  {
   "cell_type": "markdown",
   "metadata": {},
   "source": [
    "### *실습*\n",
    "    1. daum 실시간 이슈 검색어 10개 수집\n",
    "    2. 네이버 20개 데이터와 다음 10개 데이터에서 중복되는 데이터 출력"
   ]
  },
  {
   "cell_type": "code",
   "execution_count": 49,
   "metadata": {},
   "outputs": [
    {
     "data": {
      "text/html": [
       "<div>\n",
       "<style scoped>\n",
       "    .dataframe tbody tr th:only-of-type {\n",
       "        vertical-align: middle;\n",
       "    }\n",
       "\n",
       "    .dataframe tbody tr th {\n",
       "        vertical-align: top;\n",
       "    }\n",
       "\n",
       "    .dataframe thead th {\n",
       "        text-align: right;\n",
       "    }\n",
       "</style>\n",
       "<table border=\"1\" class=\"dataframe\">\n",
       "  <thead>\n",
       "    <tr style=\"text-align: right;\">\n",
       "      <th></th>\n",
       "      <th>rank</th>\n",
       "      <th>keyword</th>\n",
       "    </tr>\n",
       "  </thead>\n",
       "  <tbody>\n",
       "    <tr>\n",
       "      <th>0</th>\n",
       "      <td>1위</td>\n",
       "      <td>차범근</td>\n",
       "    </tr>\n",
       "    <tr>\n",
       "      <th>1</th>\n",
       "      <td>2위</td>\n",
       "      <td>일본 세네갈</td>\n",
       "    </tr>\n",
       "    <tr>\n",
       "      <th>2</th>\n",
       "      <td>3위</td>\n",
       "      <td>이종수</td>\n",
       "    </tr>\n",
       "    <tr>\n",
       "      <th>3</th>\n",
       "      <td>4위</td>\n",
       "      <td>문재인</td>\n",
       "    </tr>\n",
       "    <tr>\n",
       "      <th>4</th>\n",
       "      <td>5위</td>\n",
       "      <td>지드래곤</td>\n",
       "    </tr>\n",
       "    <tr>\n",
       "      <th>5</th>\n",
       "      <td>6위</td>\n",
       "      <td>추서</td>\n",
       "    </tr>\n",
       "    <tr>\n",
       "      <th>6</th>\n",
       "      <td>7위</td>\n",
       "      <td>파나마</td>\n",
       "    </tr>\n",
       "    <tr>\n",
       "      <th>7</th>\n",
       "      <td>8위</td>\n",
       "      <td>sc제일은행</td>\n",
       "    </tr>\n",
       "    <tr>\n",
       "      <th>8</th>\n",
       "      <td>9위</td>\n",
       "      <td>황교익</td>\n",
       "    </tr>\n",
       "    <tr>\n",
       "      <th>9</th>\n",
       "      <td>10위</td>\n",
       "      <td>한국 독일</td>\n",
       "    </tr>\n",
       "  </tbody>\n",
       "</table>\n",
       "</div>"
      ],
      "text/plain": [
       "  rank keyword\n",
       "0   1위     차범근\n",
       "1   2위  일본 세네갈\n",
       "2   3위     이종수\n",
       "3   4위     문재인\n",
       "4   5위    지드래곤\n",
       "5   6위      추서\n",
       "6   7위     파나마\n",
       "7   8위  sc제일은행\n",
       "8   9위     황교익\n",
       "9  10위   한국 독일"
      ]
     },
     "execution_count": 49,
     "metadata": {},
     "output_type": "execute_result"
    }
   ],
   "source": [
    "# dict 타입으로 하나씩 집어넣기\n",
    "\n",
    "def daum1():\n",
    "    df = pd.DataFrame(columns=[\"rank\", \"keyword\"])\n",
    "    \n",
    "    response = requests.get(\"https://www.daum.net/\")\n",
    "    dom = BeautifulSoup(response.content, \"html.parser\")\n",
    "    keywords = dom.select(\".realtime_part > .list_hotissue.issue_row > li\")\n",
    "    \n",
    "    for keyword in keywords:\n",
    "        df.loc[len(df)] = {\n",
    "            \"rank\": keyword.select_one(\".ir_wa\").text,\n",
    "            \"keyword\": keyword.select_one(\".link_issue\").text,\n",
    "        }\n",
    "        \n",
    "    return df\n",
    "daum1()"
   ]
  },
  {
   "cell_type": "code",
   "execution_count": 53,
   "metadata": {},
   "outputs": [],
   "source": [
    "# list로 만들어서 집어넣기\n",
    "\n",
    "def daum2():\n",
    "    df = pd.DataFrame()\n",
    "    rank = []\n",
    "    keyword = []\n",
    "    response = requests.get(\"https://www.daum.net\")\n",
    "    dom = BeautifulSoup(response.content, 'html.parser')\n",
    "    keywords = dom.select(\".realtime_part .list_hotissue.issue_row > li\")\n",
    "\n",
    "    rank = [ keyword.select_one(\".ir_wa\").text for keyword in keywords]\n",
    "    keyword = [ keyword.select_one(\".link_issue\").text for keyword in keywords]\n",
    "    \n",
    "    df[\"rank\"] = rank\n",
    "    df[\"keyword\"] = keyword\n",
    "    \n",
    "    return df\n",
    "daum_df = daum2()"
   ]
  },
  {
   "cell_type": "code",
   "execution_count": 55,
   "metadata": {},
   "outputs": [
    {
     "data": {
      "text/plain": [
       "{'sc제일은행', '이종수', '일본 세네갈', '지드래곤'}"
      ]
     },
     "execution_count": 55,
     "metadata": {},
     "output_type": "execute_result"
    }
   ],
   "source": [
    "# 중복 값 확인하기 : set 자료형 활용\n",
    "\n",
    "set(daum_df[\"keyword\"]) & set(naver_df[\"keyword\"])"
   ]
  },
  {
   "cell_type": "code",
   "execution_count": 56,
   "metadata": {},
   "outputs": [
    {
     "data": {
      "text/plain": [
       "['지드래곤', '일본 세네갈', 'sc제일은행', '이종수']"
      ]
     },
     "execution_count": 56,
     "metadata": {},
     "output_type": "execute_result"
    }
   ],
   "source": [
    "# 중복 값 확인하기 : \n",
    "\n",
    "result = [\n",
    "    keyword\n",
    "    for keyword in naver_df[\"keyword\"]\n",
    "    if daum_df[\"keyword\"].str.contains(keyword).any()\n",
    "]\n",
    "result"
   ]
  },
  {
   "cell_type": "markdown",
   "metadata": {},
   "source": [
    "### _file down load : requests_\n",
    "\n",
    "- file의 url을 받아서 해당 url의 파일을 다운로드하는 방법\n",
    "- 청크\n",
    "- 특정 키워드 영상의 url을 가지고 반복적으로 지속가능하게 다운로드할 수 있다\n"
   ]
  },
  {
   "cell_type": "code",
   "execution_count": null,
   "metadata": {},
   "outputs": [],
   "source": [
    "url = \"https://bit.ly/2tbDF7n\"\n",
    "title = \"video.mp4\""
   ]
  },
  {
   "cell_type": "code",
   "execution_count": null,
   "metadata": {},
   "outputs": [],
   "source": [
    "def download(title, download_link):\n",
    "    response = requests.get(download_link, stream=True)\n",
    "    file_size = 0\n",
    "    with open(title, 'wb') as f:\n",
    "        for chunk in response.iter_content(chunk_size=1024): # chunk의 단위는 byte\n",
    "            if chunk:\n",
    "                file_size += 1024\n",
    "                f.write(chunk)\n",
    "    return file_size/1024/1024"
   ]
  },
  {
   "cell_type": "code",
   "execution_count": null,
   "metadata": {},
   "outputs": [],
   "source": [
    "download_link = \"https://bit.ly/2tbDF7n\"\n",
    "title = \"video.mp4\"\n",
    "download(title, download_link)"
   ]
  }
 ],
 "metadata": {
  "kernelspec": {
   "display_name": "Python 3",
   "language": "python",
   "name": "python3"
  },
  "language_info": {
   "codemirror_mode": {
    "name": "ipython",
    "version": 3
   },
   "file_extension": ".py",
   "mimetype": "text/x-python",
   "name": "python",
   "nbconvert_exporter": "python",
   "pygments_lexer": "ipython3",
   "version": "3.6.5"
  }
 },
 "nbformat": 4,
 "nbformat_minor": 2
}
