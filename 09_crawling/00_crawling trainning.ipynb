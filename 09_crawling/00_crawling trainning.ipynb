{
 "cells": [
  {
   "cell_type": "markdown",
   "metadata": {},
   "source": [
    "### _Using API_"
   ]
  },
  {
   "cell_type": "code",
   "execution_count": null,
   "metadata": {},
   "outputs": [],
   "source": [
    "# 뉴스 크롤링"
   ]
  },
  {
   "cell_type": "code",
   "execution_count": null,
   "metadata": {},
   "outputs": [],
   "source": [
    "def make_url(count=10, start=1):\n",
    "    return \"https://m.naver.com/api_airs_news?st=rec&display=\"\\\n",
    "+ str(count) + \"&start=\" + str(start)\n",
    "make_url(100, 1)"
   ]
  },
  {
   "cell_type": "code",
   "execution_count": null,
   "metadata": {},
   "outputs": [],
   "source": [
    "response = requests.get(\"https://m.naver.com/api_airs_news?st=rec&display=100&start=1\")\n",
    "json_info = response.json()\n",
    "news = json_info[\"message\"]\n",
    "news"
   ]
  },
  {
   "cell_type": "code",
   "execution_count": null,
   "metadata": {},
   "outputs": [],
   "source": [
    "def get_news(url):\n",
    "    response = requests.get(url)\n",
    "    json_info = response.json()\n",
    "    news = json_info[\"result\"][\"recommend\"]\n",
    "    df2 = pd.DataFrame(columns=[\"언론사\"])\n",
    "    \n",
    "    \n",
    "    for new in news:\n",
    "        df2.loc[len(df2)] = {\n",
    "            \"언론사\": new[\"office_name\"],\n",
    "        }  \n",
    "    return df2"
   ]
  },
  {
   "cell_type": "code",
   "execution_count": null,
   "metadata": {},
   "outputs": [],
   "source": [
    "url = make_url()\n",
    "df2 = get_data(url)\n",
    "df2.tail()"
   ]
  },
  {
   "cell_type": "code",
   "execution_count": null,
   "metadata": {},
   "outputs": [],
   "source": []
  },
  {
   "cell_type": "code",
   "execution_count": null,
   "metadata": {},
   "outputs": [],
   "source": [
    "# 실습 : 유튜브 특정 키워드 중심으로, 방송사 스트리밍 현황 수집하기\n",
    "# \n",
    "\n",
    "def auto_fullshot(link):\n",
    "    url = link\n",
    "    driver = webdriver.Chrome()\n",
    "    driver.get(url)\n",
    "    time.sleep(1) # 로딩 속도에 따라서 스크린샷(파일)이 깨지는 상황을 방지하기 위해서.\n",
    "    driver.find_element_by_css_selector(\".ytp-fullscreen-button.ytp-button\").click()\n",
    "    time.sleep(1)\n",
    "    \n",
    "    for idx in range(1, 6):\n",
    "        driver.save_screenshot(\"fullshot_\"+str(idx)+\".png\")"
   ]
  },
  {
   "cell_type": "code",
   "execution_count": null,
   "metadata": {},
   "outputs": [],
   "source": [
    "from selenium import webdriver"
   ]
  },
  {
   "cell_type": "code",
   "execution_count": null,
   "metadata": {},
   "outputs": [],
   "source": [
    "def open_youtube(link):\n",
    "    url = link\n",
    "    driver = webdriver.Chrome()\n",
    "    driver.get(url)"
   ]
  },
  {
   "cell_type": "code",
   "execution_count": null,
   "metadata": {},
   "outputs": [],
   "source": [
    "def search_bot(keyword):\n",
    "    driver.find_element_by_css_selector(\"#search\").send_keys(keyword)"
   ]
  },
  {
   "cell_type": "code",
   "execution_count": null,
   "metadata": {},
   "outputs": [],
   "source": [
    "url = \"https://www.youtube.com/\"\n",
    "open_youtube(url)"
   ]
  },
  {
   "cell_type": "code",
   "execution_count": null,
   "metadata": {},
   "outputs": [],
   "source": [
    "driver.find_element_by_css_selector(\"#search\").send_keys(\"문재인\")"
   ]
  },
  {
   "cell_type": "code",
   "execution_count": null,
   "metadata": {},
   "outputs": [],
   "source": [
    "driver.find_element_by_css_selector(\"#query\").send_keys(\"패스트캠퍼스\")\n",
    "driver.find_element_by_css_selector(\"#search_btn\").click()"
   ]
  },
  {
   "cell_type": "code",
   "execution_count": null,
   "metadata": {},
   "outputs": [],
   "source": []
  },
  {
   "cell_type": "code",
   "execution_count": null,
   "metadata": {},
   "outputs": [],
   "source": []
  },
  {
   "cell_type": "code",
   "execution_count": null,
   "metadata": {},
   "outputs": [],
   "source": []
  },
  {
   "cell_type": "code",
   "execution_count": null,
   "metadata": {},
   "outputs": [],
   "source": []
  },
  {
   "cell_type": "code",
   "execution_count": null,
   "metadata": {},
   "outputs": [],
   "source": []
  },
  {
   "cell_type": "code",
   "execution_count": null,
   "metadata": {},
   "outputs": [],
   "source": []
  }
 ],
 "metadata": {
  "kernelspec": {
   "display_name": "Python 3",
   "language": "python",
   "name": "python3"
  },
  "language_info": {
   "codemirror_mode": {
    "name": "ipython",
    "version": 3
   },
   "file_extension": ".py",
   "mimetype": "text/x-python",
   "name": "python",
   "nbconvert_exporter": "python",
   "pygments_lexer": "ipython3",
   "version": "3.6.5"
  }
 },
 "nbformat": 4,
 "nbformat_minor": 2
}
