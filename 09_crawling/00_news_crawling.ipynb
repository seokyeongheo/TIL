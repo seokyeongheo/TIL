{
 "cells": [
  {
   "cell_type": "code",
   "execution_count": 1,
   "metadata": {},
   "outputs": [],
   "source": [
    "from selenium import webdriver"
   ]
  },
  {
   "cell_type": "code",
   "execution_count": 2,
   "metadata": {},
   "outputs": [],
   "source": [
    "news_url = \"http://m.news.naver.com/rankingList.nhn?sid1=100&date=20180620\"\n",
    "driver = webdriver.Chrome()\n",
    "driver.get(news_url)"
   ]
  },
  {
   "cell_type": "code",
   "execution_count": 3,
   "metadata": {},
   "outputs": [
    {
     "data": {
      "text/plain": [
       "30"
      ]
     },
     "execution_count": 3,
     "metadata": {},
     "output_type": "execute_result"
    }
   ],
   "source": [
    "news = driver.find_elements_by_css_selector(\".ranking_news > .commonlist > li\")\n",
    "len(news)"
   ]
  },
  {
   "cell_type": "code",
   "execution_count": null,
   "metadata": {},
   "outputs": [],
   "source": [
    "items = driver.find_elements_by_css_selector(\".best-list:nth-child(3) > ul > li\")\n",
    "\n",
    "dict_list = []\n",
    "\n",
    "for item in items:\n",
    "    dict_list.append({\n",
    "        \"title\" : item.find_element_by_css_selector(\".itemname\").text,\n",
    "        \"link\" : item.find_element_by_css_selector(\".itemname\").get_attribute(\"href\"),\n",
    "        \"o-price\" : item.find_element_by_css_selector(\".o-price\").text.replace(\",\",\"\")[:-1],\n",
    "        \"s-price\" : item.find_element_by_css_selector(\".s-price\").text.split(\" \")[0].replace(\",\",\"\")[:-1]\n",
    "    })"
   ]
  },
  {
   "cell_type": "code",
   "execution_count": null,
   "metadata": {},
   "outputs": [],
   "source": []
  }
 ],
 "metadata": {
  "kernelspec": {
   "display_name": "Python 3",
   "language": "python",
   "name": "python3"
  },
  "language_info": {
   "codemirror_mode": {
    "name": "ipython",
    "version": 3
   },
   "file_extension": ".py",
   "mimetype": "text/x-python",
   "name": "python",
   "nbconvert_exporter": "python",
   "pygments_lexer": "ipython3",
   "version": "3.6.5"
  }
 },
 "nbformat": 4,
 "nbformat_minor": 2
}
