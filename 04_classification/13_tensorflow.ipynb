{
 "cells": [
  {
   "cell_type": "markdown",
   "metadata": {},
   "source": [
    "# SETUP\n",
    "- - -"
   ]
  },
  {
   "cell_type": "code",
   "execution_count": 1,
   "metadata": {},
   "outputs": [],
   "source": [
    "import numpy as np\n",
    "import pandas as pd\n",
    "import matplotlib.pyplot as plt\n",
    "\n",
    "from sklearn.metrics import confusion_matrix\n",
    "import tensorflow as tf"
   ]
  },
  {
   "cell_type": "markdown",
   "metadata": {},
   "source": [
    "# _TENSOR FLOW_"
   ]
  },
  {
   "cell_type": "markdown",
   "metadata": {},
   "source": [
    "### Symbol"
   ]
  },
  {
   "cell_type": "code",
   "execution_count": null,
   "metadata": {},
   "outputs": [],
   "source": [
    "x = tf.Variable(1.0)\n",
    "y = tf.Variable(2.0)\n",
    "\n",
    "type(x), type(y)"
   ]
  },
  {
   "cell_type": "code",
   "execution_count": null,
   "metadata": {},
   "outputs": [],
   "source": [
    "z = x + y"
   ]
  },
  {
   "cell_type": "code",
   "execution_count": null,
   "metadata": {},
   "outputs": [],
   "source": [
    "type(z)"
   ]
  },
  {
   "cell_type": "code",
   "execution_count": null,
   "metadata": {},
   "outputs": [],
   "source": [
    "u = tf.log(z)\n",
    "type(u)"
   ]
  },
  {
   "cell_type": "markdown",
   "metadata": {},
   "source": [
    "### 세션"
   ]
  },
  {
   "cell_type": "code",
   "execution_count": null,
   "metadata": {},
   "outputs": [],
   "source": [
    "sess = tf.Session()\n",
    "init = tf.global_variables_initializer()\n",
    "sess.run(init)\n",
    "print(sess.run(z))\n",
    "print(sess.run(u))\n",
    "sess.close()"
   ]
  },
  {
   "cell_type": "code",
   "execution_count": null,
   "metadata": {},
   "outputs": [],
   "source": []
  },
  {
   "cell_type": "markdown",
   "metadata": {},
   "source": [
    "### 미분 / 최적화"
   ]
  },
  {
   "cell_type": "code",
   "execution_count": null,
   "metadata": {},
   "outputs": [],
   "source": [
    "f = x ** 2\n",
    "fx = tf.gradients(f, [x])\n",
    "\n",
    "with tf.Session() as sess:\n",
    "    init = tf.global_variables_initializer()\n",
    "    sess.run(init)\n",
    "    print(sess.run(f))\n",
    "    print(sess.run(fx))"
   ]
  },
  {
   "cell_type": "code",
   "execution_count": null,
   "metadata": {},
   "outputs": [],
   "source": []
  },
  {
   "cell_type": "markdown",
   "metadata": {},
   "source": [
    "### tensorboard 용 로그 생성"
   ]
  },
  {
   "cell_type": "code",
   "execution_count": null,
   "metadata": {},
   "outputs": [],
   "source": []
  },
  {
   "cell_type": "markdown",
   "metadata": {},
   "source": [
    "### 예제 1 : 퍼셉트론\n",
    "- - -"
   ]
  },
  {
   "cell_type": "code",
   "execution_count": null,
   "metadata": {},
   "outputs": [],
   "source": []
  },
  {
   "cell_type": "code",
   "execution_count": null,
   "metadata": {},
   "outputs": [],
   "source": []
  },
  {
   "cell_type": "markdown",
   "metadata": {},
   "source": [
    "### 연습 문제 1\n",
    "- - - \n",
    "\n",
    "- y값은 0과 1이라는 값만 가진다.\n",
    "- 활성화 함수는 로지스틱 함수를 사용한다.\n",
    "- 코스트 함수는 다음과 같은 오차 제곱 합수를 사용한다."
   ]
  },
  {
   "cell_type": "code",
   "execution_count": null,
   "metadata": {},
   "outputs": [],
   "source": [
    "from sklearn.datasets import load_iris"
   ]
  },
  {
   "cell_type": "code",
   "execution_count": null,
   "metadata": {},
   "outputs": [],
   "source": [
    "iris = load_iris()\n",
    "idx = np.in1d(iris.target, [0, 2]) \n",
    "X_data = iris.data[idx, 0:2]\n",
    "y_data = (iris.target[idx] / 2)[:, np.newaxis]"
   ]
  },
  {
   "cell_type": "code",
   "execution_count": null,
   "metadata": {},
   "outputs": [],
   "source": [
    "np.random.seed(0)\n",
    "w = tf.Variable(1e-3 * np.random.randn(2, 1))\n",
    "b = tf.Variable(1e-3 * np.random.randn(1)[0])\n",
    "d = 1 / (1 + tf.exp(- tf.matmul(X_data, w) - b))\n",
    "\n",
    "cost = tf.reduce_sum((y_data - d)**2)\n",
    "optimizer = tf.train.GradientDescentOptimizer(1e-2)\n",
    "train = optimizer.minimize(cost)"
   ]
  },
  {
   "cell_type": "code",
   "execution_count": null,
   "metadata": {},
   "outputs": [],
   "source": [
    "sess = tf.Session()\n",
    "\n",
    "w_summary = tf.summary.histogram(\"w\", w)\n",
    "b_summary = tf.summary.scalar(\"b\", b)\n",
    "d_summary = tf.summary.histogram(\"d\", d)\n",
    "cost_summary = tf.summary.scalar(\"cost\", cost)\n",
    "merged = tf.summary.merge([w_summary, b_summary, d_summary, cost_summary])"
   ]
  },
  {
   "cell_type": "code",
   "execution_count": null,
   "metadata": {},
   "outputs": [],
   "source": [
    "init = tf.global_variables_initializer()\n",
    "sess.run(init)\n",
    "\n",
    "writer = tf.summary.FileWriter(\"/Users/quartz/test/\", sess.graph)"
   ]
  },
  {
   "cell_type": "code",
   "execution_count": null,
   "metadata": {
    "scrolled": true
   },
   "outputs": [],
   "source": [
    "for i in range(1000):\n",
    "    sess.run(train)\n",
    "    summary = sess.run(merged)\n",
    "    writer.add_summary(summary, i)\n",
    "    if i % 10 == 0:\n",
    "        print(\"{:4d}: \".format(i), sess.run(cost))"
   ]
  },
  {
   "cell_type": "code",
   "execution_count": null,
   "metadata": {},
   "outputs": [],
   "source": [
    "y_pred = sess.run(tf.round(d))"
   ]
  },
  {
   "cell_type": "code",
   "execution_count": null,
   "metadata": {},
   "outputs": [],
   "source": [
    "sess.close()"
   ]
  },
  {
   "cell_type": "code",
   "execution_count": null,
   "metadata": {},
   "outputs": [],
   "source": [
    "from sklearn.metrics import confusion_matrix\n",
    "\n",
    "confusion_matrix(y_data, y_pred)"
   ]
  },
  {
   "cell_type": "code",
   "execution_count": null,
   "metadata": {},
   "outputs": [],
   "source": []
  },
  {
   "cell_type": "markdown",
   "metadata": {},
   "source": [
    "# _KERAS_"
   ]
  },
  {
   "cell_type": "code",
   "execution_count": null,
   "metadata": {},
   "outputs": [],
   "source": [
    "%%time\n",
    "\n",
    "from keras.datasets import mnist"
   ]
  },
  {
   "cell_type": "code",
   "execution_count": null,
   "metadata": {},
   "outputs": [],
   "source": [
    "(X_train0, y_train0), (X_test0, y_test0) = mnist.load_data()"
   ]
  },
  {
   "cell_type": "code",
   "execution_count": null,
   "metadata": {},
   "outputs": [],
   "source": [
    "print(X_train0.shape, X_train0.dtype)"
   ]
  },
  {
   "cell_type": "code",
   "execution_count": null,
   "metadata": {},
   "outputs": [],
   "source": [
    "X_train = X_train0.reshape(60000, 784).astype('float32') / 255"
   ]
  },
  {
   "cell_type": "code",
   "execution_count": null,
   "metadata": {},
   "outputs": [],
   "source": []
  },
  {
   "cell_type": "code",
   "execution_count": null,
   "metadata": {},
   "outputs": [],
   "source": []
  },
  {
   "cell_type": "code",
   "execution_count": null,
   "metadata": {},
   "outputs": [],
   "source": []
  },
  {
   "cell_type": "markdown",
   "metadata": {},
   "source": [
    "### 연습 문제 1\n",
    "- - -\n",
    "\n",
    "- 150개 전부 분류(트레이닝 퍼포먼스 위주)\n",
    "- 결과물 : 코드. accuracy trainning plot, 최종 confusion matrix"
   ]
  },
  {
   "cell_type": "code",
   "execution_count": 2,
   "metadata": {},
   "outputs": [],
   "source": [
    "from sklearn.datasets import load_iris\n",
    "\n",
    "iris = load_iris()"
   ]
  },
  {
   "cell_type": "code",
   "execution_count": 3,
   "metadata": {},
   "outputs": [],
   "source": [
    "X = iris.data\n",
    "y = iris.target"
   ]
  },
  {
   "cell_type": "code",
   "execution_count": 4,
   "metadata": {},
   "outputs": [
    {
     "name": "stdout",
     "output_type": "stream",
     "text": [
      "(150, 4) float64\n",
      "(150,) int64\n"
     ]
    }
   ],
   "source": [
    "print(X.shape, X.dtype)\n",
    "print(y.shape, y.dtype)"
   ]
  },
  {
   "cell_type": "code",
   "execution_count": 5,
   "metadata": {},
   "outputs": [
    {
     "name": "stderr",
     "output_type": "stream",
     "text": [
      "Using TensorFlow backend.\n"
     ]
    }
   ],
   "source": [
    "from keras.utils import np_utils\n",
    "\n",
    "y_train = np_utils.to_categorical(y, 3)"
   ]
  },
  {
   "cell_type": "code",
   "execution_count": 6,
   "metadata": {},
   "outputs": [],
   "source": [
    "from keras.models import Sequential\n",
    "from keras.layers.core import Dense\n",
    "from keras.optimizers import SGD\n",
    "\n",
    "np.random.seed(0)\n",
    "\n",
    "model = Sequential()\n",
    "model.add(Dense(8, input_dim=4, activation=\"sigmoid\"))\n",
    "model.add(Dense(3, activation=\"sigmoid\"))\n",
    "model.compile(optimizer=SGD(lr=0.3), loss='mean_squared_error', metrics=[\"accuracy\"])"
   ]
  },
  {
   "cell_type": "code",
   "execution_count": 11,
   "metadata": {},
   "outputs": [
    {
     "name": "stdout",
     "output_type": "stream",
     "text": [
      "Epoch 1/100\n",
      " - 0s - loss: 0.1036 - acc: 0.9133\n",
      "Epoch 2/100\n",
      " - 0s - loss: 0.1031 - acc: 0.9333\n",
      "Epoch 3/100\n",
      " - 0s - loss: 0.1026 - acc: 0.9333\n",
      "Epoch 4/100\n",
      " - 0s - loss: 0.1025 - acc: 0.9400\n",
      "Epoch 5/100\n",
      " - 0s - loss: 0.1020 - acc: 0.9067\n",
      "Epoch 6/100\n",
      " - 0s - loss: 0.1010 - acc: 0.9600\n",
      "Epoch 7/100\n",
      " - 0s - loss: 0.1009 - acc: 0.9267\n",
      "Epoch 8/100\n",
      " - 0s - loss: 0.1005 - acc: 0.9533\n",
      "Epoch 9/100\n",
      " - 0s - loss: 0.0994 - acc: 0.9600\n",
      "Epoch 10/100\n",
      " - 0s - loss: 0.0996 - acc: 0.9067\n",
      "Epoch 11/100\n",
      " - 0s - loss: 0.0988 - acc: 0.9600\n",
      "Epoch 12/100\n",
      " - 0s - loss: 0.0980 - acc: 0.9533\n",
      "Epoch 13/100\n",
      " - 0s - loss: 0.0984 - acc: 0.9333\n",
      "Epoch 14/100\n",
      " - 0s - loss: 0.0976 - acc: 0.9333\n",
      "Epoch 15/100\n",
      " - 0s - loss: 0.0970 - acc: 0.9467\n",
      "Epoch 16/100\n",
      " - 0s - loss: 0.0967 - acc: 0.9333\n",
      "Epoch 17/100\n",
      " - 0s - loss: 0.0960 - acc: 0.9667\n",
      "Epoch 18/100\n",
      " - 0s - loss: 0.0953 - acc: 0.9600\n",
      "Epoch 19/100\n",
      " - 0s - loss: 0.0949 - acc: 0.9467\n",
      "Epoch 20/100\n",
      " - 0s - loss: 0.0944 - acc: 0.9667\n",
      "Epoch 21/100\n",
      " - 0s - loss: 0.0940 - acc: 0.9600\n",
      "Epoch 22/100\n",
      " - 0s - loss: 0.0935 - acc: 0.9533\n",
      "Epoch 23/100\n",
      " - 0s - loss: 0.0930 - acc: 0.9600\n",
      "Epoch 24/100\n",
      " - 0s - loss: 0.0928 - acc: 0.9667\n",
      "Epoch 25/100\n",
      " - 0s - loss: 0.0921 - acc: 0.9267\n",
      "Epoch 26/100\n",
      " - 0s - loss: 0.0918 - acc: 0.9667\n",
      "Epoch 27/100\n",
      " - 0s - loss: 0.0910 - acc: 0.9600\n",
      "Epoch 28/100\n",
      " - 0s - loss: 0.0907 - acc: 0.9667\n",
      "Epoch 29/100\n",
      " - 0s - loss: 0.0907 - acc: 0.9667\n",
      "Epoch 30/100\n",
      " - 0s - loss: 0.0902 - acc: 0.9400\n",
      "Epoch 31/100\n",
      " - 0s - loss: 0.0901 - acc: 0.9600\n",
      "Epoch 32/100\n",
      " - 0s - loss: 0.0891 - acc: 0.9533\n",
      "Epoch 33/100\n",
      " - 0s - loss: 0.0888 - acc: 0.9600\n",
      "Epoch 34/100\n",
      " - 0s - loss: 0.0888 - acc: 0.9600\n",
      "Epoch 35/100\n",
      " - 0s - loss: 0.0877 - acc: 0.9600\n",
      "Epoch 36/100\n",
      " - 0s - loss: 0.0871 - acc: 0.9600\n",
      "Epoch 37/100\n",
      " - 0s - loss: 0.0868 - acc: 0.9533\n",
      "Epoch 38/100\n",
      " - 0s - loss: 0.0864 - acc: 0.9600\n",
      "Epoch 39/100\n",
      " - 0s - loss: 0.0864 - acc: 0.9533\n",
      "Epoch 40/100\n",
      " - 0s - loss: 0.0856 - acc: 0.9667\n",
      "Epoch 41/100\n",
      " - 0s - loss: 0.0849 - acc: 0.9667\n",
      "Epoch 42/100\n",
      " - 0s - loss: 0.0846 - acc: 0.9667\n",
      "Epoch 43/100\n",
      " - 0s - loss: 0.0842 - acc: 0.9600\n",
      "Epoch 44/100\n",
      " - 0s - loss: 0.0834 - acc: 0.9667\n",
      "Epoch 45/100\n",
      " - 0s - loss: 0.0846 - acc: 0.9667\n",
      "Epoch 46/100\n",
      " - 0s - loss: 0.0826 - acc: 0.9600\n",
      "Epoch 47/100\n",
      " - 0s - loss: 0.0824 - acc: 0.9600\n",
      "Epoch 48/100\n",
      " - 0s - loss: 0.0820 - acc: 0.9733\n",
      "Epoch 49/100\n",
      " - 0s - loss: 0.0812 - acc: 0.9667\n",
      "Epoch 50/100\n",
      " - 0s - loss: 0.0815 - acc: 0.9600\n",
      "Epoch 51/100\n",
      " - 0s - loss: 0.0808 - acc: 0.9667\n",
      "Epoch 52/100\n",
      " - 0s - loss: 0.0804 - acc: 0.9667\n",
      "Epoch 53/100\n",
      " - 0s - loss: 0.0803 - acc: 0.9600\n",
      "Epoch 54/100\n",
      " - 0s - loss: 0.0793 - acc: 0.9667\n",
      "Epoch 55/100\n",
      " - 0s - loss: 0.0790 - acc: 0.9667\n",
      "Epoch 56/100\n",
      " - 0s - loss: 0.0783 - acc: 0.9667\n",
      "Epoch 57/100\n",
      " - 0s - loss: 0.0779 - acc: 0.9667\n",
      "Epoch 58/100\n",
      " - 0s - loss: 0.0773 - acc: 0.9667\n",
      "Epoch 59/100\n",
      " - 0s - loss: 0.0777 - acc: 0.9600\n",
      "Epoch 60/100\n",
      " - 0s - loss: 0.0769 - acc: 0.9667\n",
      "Epoch 61/100\n",
      " - 0s - loss: 0.0762 - acc: 0.9667\n",
      "Epoch 62/100\n",
      " - 0s - loss: 0.0758 - acc: 0.9667\n",
      "Epoch 63/100\n",
      " - 0s - loss: 0.0756 - acc: 0.9667\n",
      "Epoch 64/100\n",
      " - 0s - loss: 0.0749 - acc: 0.9600\n",
      "Epoch 65/100\n",
      " - 0s - loss: 0.0746 - acc: 0.9733\n",
      "Epoch 66/100\n",
      " - 0s - loss: 0.0743 - acc: 0.9733\n",
      "Epoch 67/100\n",
      " - 0s - loss: 0.0740 - acc: 0.9667\n",
      "Epoch 68/100\n",
      " - 0s - loss: 0.0734 - acc: 0.9533\n",
      "Epoch 69/100\n",
      " - 0s - loss: 0.0731 - acc: 0.9600\n",
      "Epoch 70/100\n",
      " - 0s - loss: 0.0734 - acc: 0.9733\n",
      "Epoch 71/100\n",
      " - 0s - loss: 0.0735 - acc: 0.9667\n",
      "Epoch 72/100\n",
      " - 0s - loss: 0.0727 - acc: 0.9733\n",
      "Epoch 73/100\n",
      " - 0s - loss: 0.0720 - acc: 0.9667\n",
      "Epoch 74/100\n",
      " - 0s - loss: 0.0714 - acc: 0.9733\n",
      "Epoch 75/100\n",
      " - 0s - loss: 0.0704 - acc: 0.9600\n",
      "Epoch 76/100\n",
      " - 0s - loss: 0.0703 - acc: 0.9733\n",
      "Epoch 77/100\n",
      " - 0s - loss: 0.0698 - acc: 0.9667\n",
      "Epoch 78/100\n",
      " - 0s - loss: 0.0701 - acc: 0.9800\n",
      "Epoch 79/100\n",
      " - 0s - loss: 0.0689 - acc: 0.9667\n",
      "Epoch 80/100\n",
      " - 0s - loss: 0.0694 - acc: 0.9600\n",
      "Epoch 81/100\n",
      " - 0s - loss: 0.0684 - acc: 0.9733\n",
      "Epoch 82/100\n",
      " - 0s - loss: 0.0685 - acc: 0.9600\n",
      "Epoch 83/100\n",
      " - 0s - loss: 0.0678 - acc: 0.9733\n",
      "Epoch 84/100\n",
      " - 0s - loss: 0.0676 - acc: 0.9733\n",
      "Epoch 85/100\n",
      " - 0s - loss: 0.0669 - acc: 0.9667\n",
      "Epoch 86/100\n",
      " - 0s - loss: 0.0661 - acc: 0.9733\n",
      "Epoch 87/100\n",
      " - 0s - loss: 0.0659 - acc: 0.9667\n",
      "Epoch 88/100\n",
      " - 0s - loss: 0.0665 - acc: 0.9667\n",
      "Epoch 89/100\n",
      " - 0s - loss: 0.0656 - acc: 0.9733\n",
      "Epoch 90/100\n",
      " - 0s - loss: 0.0652 - acc: 0.9600\n",
      "Epoch 91/100\n",
      " - 0s - loss: 0.0647 - acc: 0.9733\n",
      "Epoch 92/100\n",
      " - 0s - loss: 0.0649 - acc: 0.9600\n",
      "Epoch 93/100\n",
      " - 0s - loss: 0.0649 - acc: 0.9667\n",
      "Epoch 94/100\n",
      " - 0s - loss: 0.0641 - acc: 0.9733\n",
      "Epoch 95/100\n",
      " - 0s - loss: 0.0633 - acc: 0.9800\n",
      "Epoch 96/100\n",
      " - 0s - loss: 0.0626 - acc: 0.9667\n",
      "Epoch 97/100\n",
      " - 0s - loss: 0.0627 - acc: 0.9733\n",
      "Epoch 98/100\n",
      " - 0s - loss: 0.0632 - acc: 0.9733\n",
      "Epoch 99/100\n",
      " - 0s - loss: 0.0619 - acc: 0.9867\n",
      "Epoch 100/100\n",
      " - 0s - loss: 0.0619 - acc: 0.9600\n",
      "CPU times: user 1.17 s, sys: 157 ms, total: 1.32 s\n",
      "Wall time: 1.1 s\n"
     ]
    }
   ],
   "source": [
    "%%time\n",
    "\n",
    "hist = model.fit(X, y_train, epochs=100, batch_size=30, verbose=2)"
   ]
  },
  {
   "cell_type": "code",
   "execution_count": 12,
   "metadata": {},
   "outputs": [
    {
     "data": {
      "image/png": "[encoded data removed]",
      "text/plain": [
       "<Figure size 432x288 with 1 Axes>"
      ]
     },
     "metadata": {},
     "output_type": "display_data"
    }
   ],
   "source": [
    "plt.plot(hist.history['acc'], 'r:')\n",
    "plt.title(\"Accuracy\")\n",
    "plt.show()"
   ]
  },
  {
   "cell_type": "code",
   "execution_count": 13,
   "metadata": {},
   "outputs": [
    {
     "data": {
      "text/plain": [
       "array([0, 0, 0, 0, 0, 0, 0, 0, 0, 0, 0, 0, 0, 0, 0, 0, 0, 0, 0, 0, 0, 0,\n",
       "       0, 0, 0, 0, 0, 0, 0, 0, 0, 0, 0, 0, 0, 0, 0, 0, 0, 0, 0, 0, 0, 0,\n",
       "       0, 0, 0, 0, 0, 0, 1, 1, 1, 1, 1, 1, 1, 1, 1, 1, 1, 1, 1, 1, 1, 1,\n",
       "       1, 1, 2, 1, 2, 1, 2, 1, 1, 1, 1, 1, 1, 1, 1, 1, 1, 2, 2, 1, 1, 1,\n",
       "       1, 1, 1, 1, 1, 1, 1, 1, 1, 1, 1, 1, 2, 2, 2, 2, 2, 2, 2, 2, 2, 2,\n",
       "       2, 2, 2, 2, 2, 2, 2, 2, 2, 2, 2, 2, 2, 2, 2, 2, 2, 2, 2, 2, 2, 2,\n",
       "       2, 2, 2, 2, 2, 2, 2, 2, 2, 2, 2, 2, 2, 2, 2, 2, 2, 2])"
      ]
     },
     "execution_count": 13,
     "metadata": {},
     "output_type": "execute_result"
    }
   ],
   "source": [
    "y_pred = model.predict_classes(X, 3)\n",
    "y_pred"
   ]
  },
  {
   "cell_type": "code",
   "execution_count": 14,
   "metadata": {},
   "outputs": [
    {
     "data": {
      "text/plain": [
       "array([[50,  0,  0],\n",
       "       [ 0, 45,  5],\n",
       "       [ 0,  0, 50]])"
      ]
     },
     "execution_count": 14,
     "metadata": {},
     "output_type": "execute_result"
    }
   ],
   "source": [
    "confusion_matrix(y, y_pred)"
   ]
  },
  {
   "cell_type": "code",
   "execution_count": null,
   "metadata": {},
   "outputs": [],
   "source": []
  },
  {
   "cell_type": "markdown",
   "metadata": {},
   "source": [
    "### Olivetti"
   ]
  },
  {
   "cell_type": "code",
   "execution_count": 16,
   "metadata": {},
   "outputs": [],
   "source": [
    "from sklearn.datasets import fetch_olivetti_faces"
   ]
  },
  {
   "cell_type": "code",
   "execution_count": 17,
   "metadata": {},
   "outputs": [],
   "source": [
    "oliv = fetch_olivetti_faces()"
   ]
  },
  {
   "cell_type": "code",
   "execution_count": 18,
   "metadata": {},
   "outputs": [
    {
     "data": {
      "text/plain": [
       "((400, 4096), (400,))"
      ]
     },
     "execution_count": 18,
     "metadata": {},
     "output_type": "execute_result"
    }
   ],
   "source": [
    "X2 = oliv.data\n",
    "y2 = oliv.target\n",
    "\n",
    "X2.shape, y2.shape"
   ]
  },
  {
   "cell_type": "code",
   "execution_count": 19,
   "metadata": {},
   "outputs": [],
   "source": [
    "from sklearn.model_selection import train_test_split"
   ]
  },
  {
   "cell_type": "code",
   "execution_count": 22,
   "metadata": {},
   "outputs": [],
   "source": [
    "X_train, X_test, y_train, y_test = train_test_split(oliv.data, oliv.target, test_size=0.5)"
   ]
  },
  {
   "cell_type": "code",
   "execution_count": 23,
   "metadata": {},
   "outputs": [
    {
     "data": {
      "text/plain": [
       "((200, 4096), (200, 4096))"
      ]
     },
     "execution_count": 23,
     "metadata": {},
     "output_type": "execute_result"
    }
   ],
   "source": [
    "X_train.shape, X_test.shape"
   ]
  },
  {
   "cell_type": "code",
   "execution_count": 24,
   "metadata": {},
   "outputs": [
    {
     "data": {
      "text/plain": [
       "((200,), (200,))"
      ]
     },
     "execution_count": 24,
     "metadata": {},
     "output_type": "execute_result"
    }
   ],
   "source": [
    "y_train.shape, y_test.shape"
   ]
  },
  {
   "cell_type": "code",
   "execution_count": null,
   "metadata": {},
   "outputs": [],
   "source": []
  },
  {
   "cell_type": "code",
   "execution_count": null,
   "metadata": {},
   "outputs": [],
   "source": []
  },
  {
   "cell_type": "code",
   "execution_count": null,
   "metadata": {},
   "outputs": [],
   "source": []
  }
 ],
 "metadata": {
  "kernelspec": {
   "display_name": "Python 3",
   "language": "python",
   "name": "python3"
  },
  "language_info": {
   "codemirror_mode": {
    "name": "ipython",
    "version": 3
   },
   "file_extension": ".py",
   "mimetype": "text/x-python",
   "name": "python",
   "nbconvert_exporter": "python",
   "pygments_lexer": "ipython3",
   "version": "3.6.5"
  }
 },
 "nbformat": 4,
 "nbformat_minor": 2
}
