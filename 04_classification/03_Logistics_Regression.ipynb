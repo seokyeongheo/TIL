{
 "cells": [
  {
   "cell_type": "markdown",
   "metadata": {},
   "source": [
    "# Logistic Regression\n",
    "- - -"
   ]
  },
  {
   "cell_type": "markdown",
   "metadata": {},
   "source": [
    "## Basic\n",
    "\n",
    "1. 개념\n",
    "    - 로지스틱 회귀(logistic regression)은 독립변수의 선형 결합을 이용하여 종속변수 발생 가능성을 예측하는 알고리즘이다.\n",
    "    - 선형 회귀처럼, 독립변수로 종속변수를 설명한다. 그러나 선형 회귀와 다르게 종속변수가 범주형 데이터일 때 주로 사용하기 때문에 일종의 분류(classification) 알고리즘이라고도 할 수 있다.\n",
    "    - 종속변수가 두 개 이상의 범주인 경우, 다항 로지스틱 회귀(multinomial logistic regression) 또는 분화 로지스틱 회귀(polytomous logistic regression) 알고리즘을 사용한다.\n",
    "2. 원리\n",
    "    - 종속변수가 베르누이 분포를 따른다고 가정하고, 모수 $\\mu$를 추정한다.\n",
    "    - 종속변수가 베르누이 분포를 따른다면, 베르누이 분포의 모수 $\\mu$는 0과 1 사이 실수이다. 왜냐하면 베르누이 확률변수의 모수 $\\mu$는 1이 나올 확률을 의미하는데, 확률은 0과 1 사이의 사이의 실수이기 때문이다.\n",
    "    - 그런데 모수 $\\mu$을 추정하기 위한, 표본 데이터 $y_1, y_2, y_3$은 0과 1 사이의 실수가 아닌 음의 무한대와 양의 무한대 사이의 실수, 즉 모든 실수이다. \n",
    "    - 그러므로 모든 실수로 나오는 종속변수가, 0과 1 사이의 베르누이 분포를 띄는 종속변수로 나오도록 하기 위해서는 아래와 같은 일련의 과정이 필요하다.\n",
    "    \n",
    "    \n",
    "(i) odds ratio를 활용하여, 0과 1 사이의 실수를 0과 양의 무한대 사이의 실수로 변환한다. \n",
    "$$\\text{odds ratio} = \\dfrac{\\mu}{1-\\mu}$$\n",
    "\n",
    "(ii) odds ratio를 로그 변환하여, 로지트 함수(Logit function)를 만든다.\n",
    "$$z = \\text{logit}(\\text{odds ratio}) = \\log \\left(\\dfrac{\\mu}{1-\\mu}\\right)$$\n",
    "\n",
    "(iii) 로지트 함수의 역함수, 로지스틱 함수(logistic function)을 만든다. 로지스틱 함수는, $-\\infty$에서 $\\infty$까지의 실수를 0부터 1사이의 실수로 변환한다."
   ]
  },
  {
   "cell_type": "markdown",
   "metadata": {},
   "source": [
    "- - -"
   ]
  },
  {
   "cell_type": "markdown",
   "metadata": {},
   "source": [
    "## Loss Function : "
   ]
  },
  {
   "cell_type": "code",
   "execution_count": null,
   "metadata": {},
   "outputs": [],
   "source": []
  },
  {
   "cell_type": "markdown",
   "metadata": {},
   "source": [
    "- - -"
   ]
  },
  {
   "cell_type": "markdown",
   "metadata": {},
   "source": [
    "## 모수 추정 - Maximum Likelihood Estimation\n",
    "\n",
    "1. 모수 추정\n",
    "    (i) 확률분포의 표본 데이터 $x_1, x_2, x_3, ..., x_n$ 값은 알고 있는데, 모수를 알지 못하는 경우, 표본 데이터를 활용하여 역으로 모수를 추정하고 나아가 새로운 표본 데이터를 생성할 수 있다.\n",
    "    (ii) 모멘트 방법, 최대 가능도 추정(MLE), 베이지안 추정 등 방법이 있다.\n",
    "    \n",
    "2. 최대 가능도 모수 추정의 원리\n",
    "    (i) \n"
   ]
  },
  {
   "cell_type": "markdown",
   "metadata": {},
   "source": [
    "## 베르누이 분포\n",
    "\n",
    "1. 베르누이 확률변수\n",
    "    - 베르누이 확률변수는 베루누이 확률변수의 결과를 실수 0 또는 실수 1로 바꾼 것이다.\n",
    "    - 두 가지 값 - 0, 1 - 중 하나만 가질 수 있으므로 이산확률변수라고도 한다. \n",
    "    \n",
    "    $$\\text{Bern}(x;\\mu) = \n",
    "\\begin{cases} \n",
    "\\mu   & \\text{if }x=1, \\\\\n",
    "1-\\mu & \\text{if }x=0\n",
    "\\end{cases}$$\n",
    "\n",
    "    - 베르누이 확률변수는 1이 나올 확률을 의미하는 $\\mu$라는 모수(parameter)를 가진다."
   ]
  },
  {
   "cell_type": "markdown",
   "metadata": {},
   "source": [
    "## 최적화 (Gradient Descent)"
   ]
  },
  {
   "cell_type": "code",
   "execution_count": null,
   "metadata": {},
   "outputs": [],
   "source": []
  },
  {
   "cell_type": "code",
   "execution_count": null,
   "metadata": {},
   "outputs": [],
   "source": []
  }
 ],
 "metadata": {
  "kernelspec": {
   "display_name": "Python 3",
   "language": "python",
   "name": "python3"
  },
  "language_info": {
   "codemirror_mode": {
    "name": "ipython",
    "version": 3
   },
   "file_extension": ".py",
   "mimetype": "text/x-python",
   "name": "python",
   "nbconvert_exporter": "python",
   "pygments_lexer": "ipython3",
   "version": "3.6.5"
  }
 },
 "nbformat": 4,
 "nbformat_minor": 2
}
