{
 "cells": [
  {
   "cell_type": "markdown",
   "metadata": {},
   "source": [
    "## I.Jupyter Notebook 마크다운(Markdown) 언어를 배워봅시다"
   ]
  },
  {
   "cell_type": "markdown",
   "metadata": {},
   "source": [
    "### 1.Heading: 글씨크기를 다르게 해봅시다 ('#')\n",
    "\n",
    "# 글씨를\n",
    "## 작게\n",
    "### 조금 더 작게\n",
    "#### 더욱 작게 해보자\n",
    "##### 이탤릭체로"
   ]
  },
  {
   "cell_type": "markdown",
   "metadata": {},
   "source": [
    "### 2. 인용('>') 문구를 만들어봅시다\n",
    "> 들여쓰기\n",
    ">> 더욱 깊게 \n",
    ">>> 더더욱 깊게"
   ]
  },
  {
   "cell_type": "markdown",
   "metadata": {},
   "source": [
    "### 3.리스트를 만들어봅시다. ('-', '*')\n",
    "\n",
    "---\n",
    "\n",
    "- fastcampus\n",
    " - data\n",
    " - science school\n",
    "\n",
    "* dss\n",
    " * math\n",
    " * programming"
   ]
  },
  {
   "cell_type": "markdown",
   "metadata": {},
   "source": [
    "### 4.코드블럭을 만들어봅시다.\n",
    "\n",
    "`-test`\n",
    "\n",
    "- 작은 코드\n",
    "\n",
    "```\n",
    "    def test():\n",
    "        return 100\n",
    "```\n",
    "- 큰 코드"
   ]
  },
  {
   "cell_type": "markdown",
   "metadata": {},
   "source": [
    "### 5.링크를 만들어봅시다  ([text](url_link))"
   ]
  },
  {
   "cell_type": "markdown",
   "metadata": {},
   "source": [
    "[fastcampus](http://fastcampus.co.kr)"
   ]
  },
  {
   "cell_type": "markdown",
   "metadata": {},
   "source": [
    "### 6.가로선 긋기를 만들어봅시다\n",
    "---"
   ]
  },
  {
   "cell_type": "markdown",
   "metadata": {},
   "source": [
    "### 함수 예제"
   ]
  },
  {
   "cell_type": "code",
   "execution_count": 1,
   "metadata": {},
   "outputs": [
    {
     "name": "stdout",
     "output_type": "stream",
     "text": [
      "20\n",
      "10\n"
     ]
    }
   ],
   "source": [
    "fastcampus = 20\n",
    "while fastcampus > 0:\n",
    "    print(fastcampus)\n",
    "    fastcampus = fastcampus - 10"
   ]
  },
  {
   "cell_type": "code",
   "execution_count": 2,
   "metadata": {},
   "outputs": [],
   "source": [
    "def test():\n",
    "    \"do test!\"\n",
    "    return 200"
   ]
  },
  {
   "cell_type": "code",
   "execution_count": 3,
   "metadata": {},
   "outputs": [],
   "source": [
    "def test_se():\n",
    "    \"second test\"\n",
    "    return 300"
   ]
  },
  {
   "cell_type": "code",
   "execution_count": 4,
   "metadata": {},
   "outputs": [
    {
     "data": {
      "text/plain": [
       "500"
      ]
     },
     "execution_count": 4,
     "metadata": {},
     "output_type": "execute_result"
    }
   ],
   "source": [
    "result = test() + test_se()\n",
    "result"
   ]
  },
  {
   "cell_type": "markdown",
   "metadata": {},
   "source": [
    "### ??코드는 함수가 어떤 역할을 하는지 알 수 있도록 합니다."
   ]
  },
  {
   "cell_type": "code",
   "execution_count": 5,
   "metadata": {},
   "outputs": [],
   "source": [
    "test??"
   ]
  },
  {
   "cell_type": "markdown",
   "metadata": {},
   "source": [
    "---\n",
    "\n",
    "## II.Magic Command를 실습해봅시다"
   ]
  },
  {
   "cell_type": "markdown",
   "metadata": {},
   "source": [
    "### 0. Magic Command의 기본 사용방법 및 종류\n",
    "\n",
    "`%(command)`\n",
    "- 한 줄을 매직커멘드로 사용할 때 활용합니다\n",
    "\n",
    "`%%(command)`\n",
    "- 두 줄 이상을 매직커멘드로 사용할 때 활용합니다\n",
    "\n",
    "`%(command)?`\n",
    "- 키워드에 대한 상세 설명을 볼 수 있습니다\n",
    "\n",
    "```\n",
    "pwd: 현재위치\n",
    "ls: 현재 디렉토리 파일 조회\n",
    "whos: 현재 정의된 변수 확인\n",
    "reset: 현재 정의된 변수 삭제\n",
    "time: 실행시간을 알려줌\n",
    "timeit: 평균 실행시간을 알려줌\n",
    "writefile: 파일 작성\n",
    "magic: 각 키워드의 상세 도움말 출력\n",
    "ismagic: magic 키워드 출력\n",
    "run: python file code 실행\n",
    "history: 커멘드라인 상 명령 출력\n",
    "matplotlib inline: matplotlib을 내부에서 실행할 수 있도록 함\n",
    "\n",
    "```"
   ]
  },
  {
   "cell_type": "markdown",
   "metadata": {},
   "source": [
    "### 1.pwd: 현재 파일의 위치를 알 수 있습니다"
   ]
  },
  {
   "cell_type": "code",
   "execution_count": 6,
   "metadata": {},
   "outputs": [
    {
     "data": {
      "text/plain": [
       "'/Users/quartz/dss'"
      ]
     },
     "execution_count": 6,
     "metadata": {},
     "output_type": "execute_result"
    }
   ],
   "source": [
    "%pwd"
   ]
  },
  {
   "cell_type": "markdown",
   "metadata": {},
   "source": [
    "### 2.ls: 현재 디렉토리에 들어있는 다른 파일 및 폴더를 알 수 있습니다"
   ]
  },
  {
   "cell_type": "code",
   "execution_count": 7,
   "metadata": {},
   "outputs": [
    {
     "name": "stdout",
     "output_type": "stream",
     "text": [
      "01_python_basic_syntax.ipynb      requirements.txt\r\n",
      "Data Science School 8th OT.ipynb  \u001b[34mtest_dir\u001b[m\u001b[m/\r\n",
      "jupyter notebook.ipynb            커리어서비스 소개.ipynb\r\n"
     ]
    }
   ],
   "source": [
    "%ls"
   ]
  },
  {
   "cell_type": "markdown",
   "metadata": {},
   "source": [
    "### 3.whos: 현재 어떤 변수가 정의되어 있는지 파악할 수 있습니다"
   ]
  },
  {
   "cell_type": "code",
   "execution_count": 8,
   "metadata": {},
   "outputs": [
    {
     "name": "stdout",
     "output_type": "stream",
     "text": [
      "Variable     Type        Data/Info\n",
      "----------------------------------\n",
      "fastcampus   int         0\n",
      "result       int         500\n",
      "test         function    <function test at 0x106604048>\n",
      "test_se      function    <function test_se at 0x1066040d0>\n"
     ]
    }
   ],
   "source": [
    "%whos"
   ]
  },
  {
   "cell_type": "markdown",
   "metadata": {},
   "source": [
    "### 4.reset: 현재 정의된 모든 변수들을 리셋할 수 있습니다"
   ]
  },
  {
   "cell_type": "code",
   "execution_count": null,
   "metadata": {},
   "outputs": [],
   "source": [
    "%reset"
   ]
  },
  {
   "cell_type": "markdown",
   "metadata": {},
   "source": [
    "### 5.time: 실행시간을 결과값으로 알려줍니다"
   ]
  },
  {
   "cell_type": "code",
   "execution_count": null,
   "metadata": {},
   "outputs": [],
   "source": [
    "%%time\n",
    "ls = []\n",
    "for idex in range(1000):\n",
    "    ls.append(idex)"
   ]
  },
  {
   "cell_type": "markdown",
   "metadata": {},
   "source": [
    "### 6.timeit: 평균 실행시간을 결과값으로 알려줍니다"
   ]
  },
  {
   "cell_type": "code",
   "execution_count": null,
   "metadata": {},
   "outputs": [],
   "source": [
    "%%timeit\n",
    "ls = []\n",
    "for idex in range(1000):\n",
    "    ls.append(idex)"
   ]
  },
  {
   "cell_type": "markdown",
   "metadata": {},
   "source": [
    "### 7.writefile: 파일을 작성할 때 쓸 수 있습니다"
   ]
  },
  {
   "cell_type": "code",
   "execution_count": null,
   "metadata": {},
   "outputs": [],
   "source": [
    "%%writefile test2.py\n",
    "def test():\n",
    "    return 50\n",
    "print(test())"
   ]
  },
  {
   "cell_type": "markdown",
   "metadata": {},
   "source": [
    "### 8.run: 파일을 실행할 수 있습니다."
   ]
  },
  {
   "cell_type": "code",
   "execution_count": null,
   "metadata": {},
   "outputs": [],
   "source": [
    "%run test2.py"
   ]
  },
  {
   "cell_type": "markdown",
   "metadata": {},
   "source": [
    "### 9.load: 파일의 소스코드를 불러올 수 있습니다"
   ]
  },
  {
   "cell_type": "code",
   "execution_count": null,
   "metadata": {},
   "outputs": [],
   "source": [
    "# %load test2.py\n",
    "def test():\n",
    "    return 50\n",
    "print(test())"
   ]
  },
  {
   "cell_type": "markdown",
   "metadata": {},
   "source": [
    "### 10.history: 그 동안 커멘트라인에 사용한 명령을 불러옵니다 "
   ]
  },
  {
   "cell_type": "code",
   "execution_count": null,
   "metadata": {},
   "outputs": [],
   "source": [
    "%history"
   ]
  },
  {
   "cell_type": "markdown",
   "metadata": {},
   "source": [
    "## III. Shell Command를 실습해 봅시다"
   ]
  },
  {
   "cell_type": "markdown",
   "metadata": {},
   "source": [
    "### 0.(bash) Shell Command의 기본 사용방법\n",
    "\n",
    "- '!'을 사용합니다.\n",
    "```\n",
    "ls: 파일 리스트를 출력합니다\n",
    "echo: 문자열을 출력합니다\n",
    "touch\n",
    "cat\n",
    "mkdir\n",
    "rmdir\n",
    "mv\n",
    "cp\n",
    "rm\n",
    "df\n",
    "```"
   ]
  },
  {
   "cell_type": "markdown",
   "metadata": {},
   "source": []
  },
  {
   "cell_type": "code",
   "execution_count": null,
   "metadata": {},
   "outputs": [],
   "source": [
    "# ls: 현재 폴더(pwd)에 어떤 파일, 폴더가 있는 지 알 수 있습니다. \n",
    "\n",
    "!ls"
   ]
  },
  {
   "cell_type": "code",
   "execution_count": null,
   "metadata": {},
   "outputs": [],
   "source": [
    "# echo: 문자열을 그대로 출력합니다.\n",
    "\n",
    "!echo test.py test"
   ]
  },
  {
   "cell_type": "code",
   "execution_count": null,
   "metadata": {},
   "outputs": [],
   "source": [
    "# touch: 파일을 생성합니다\n",
    "\n",
    "!touch data.py"
   ]
  },
  {
   "cell_type": "code",
   "execution_count": null,
   "metadata": {},
   "outputs": [],
   "source": [
    "# cat: 파일의 소스코드를 출력합니다\n",
    "\n",
    "!cat test.py"
   ]
  },
  {
   "cell_type": "code",
   "execution_count": null,
   "metadata": {},
   "outputs": [],
   "source": [
    "# 해당 위치에 ...이라는 폴더를 만듭니다 / 지웁니다\n",
    "\n",
    "!mkdir test3\n",
    "!rmdir test3"
   ]
  },
  {
   "cell_type": "code",
   "execution_count": null,
   "metadata": {},
   "outputs": [],
   "source": [
    "# 파일을 복사합니다\n",
    "\n",
    "!cp test.py"
   ]
  },
  {
   "cell_type": "code",
   "execution_count": null,
   "metadata": {},
   "outputs": [],
   "source": [
    "!mv test2.py test_dir"
   ]
  },
  {
   "cell_type": "code",
   "execution_count": null,
   "metadata": {},
   "outputs": [],
   "source": [
    "!ls"
   ]
  },
  {
   "cell_type": "code",
   "execution_count": null,
   "metadata": {},
   "outputs": [],
   "source": [
    "!mv data.py test_dir # data.py를 test_dir라는 폴더에 넣습니다\n",
    "!mv data.py ./test_dir # \"\"\n",
    "!mv data.py ../data # data.py를 data폴더 상위 폴더에 넣습니다\n",
    "!mv data.py data/data2 # data.py를 data폴더 안 data2 안에 넣습니다"
   ]
  },
  {
   "cell_type": "code",
   "execution_count": null,
   "metadata": {},
   "outputs": [],
   "source": [
    "!ls"
   ]
  },
  {
   "cell_type": "markdown",
   "metadata": {},
   "source": [
    "## IV. jupyter notebook expression. \n",
    "\n",
    "- MC, SC 결과값을 변수로 할당 가능\n",
    "- 이전 셀에서 "
   ]
  },
  {
   "cell_type": "code",
   "execution_count": null,
   "metadata": {},
   "outputs": [],
   "source": [
    "# ls_1에 !ls를 선언하고 호출하면,\n",
    "\n",
    "ls_1 = !ls\n",
    "ls_1"
   ]
  },
  {
   "cell_type": "code",
   "execution_count": null,
   "metadata": {},
   "outputs": [],
   "source": [
    "# '_'은 변수에 설정된 결과 값을 그대로 가져온다.\n",
    "_\n",
    "ls_2 = _\n",
    "ls_2\n",
    "\n",
    "# `_` 는 결과 값을 그대로 가져오는 역할을 합니다. 데이터 타입까지 그대로 가져옵니다. \n",
    "# 단, 파이썬 문법에서 출력한 결과값을 가져온 것은 아닙니다. 그러므로 `_` 은 ipython에 내재되어 있는 명령문입니다."
   ]
  }
 ],
 "metadata": {
  "kernelspec": {
   "display_name": "Python 3",
   "language": "python",
   "name": "python3"
  },
  "language_info": {
   "codemirror_mode": {
    "name": "ipython",
    "version": 3
   },
   "file_extension": ".py",
   "mimetype": "text/x-python",
   "name": "python",
   "nbconvert_exporter": "python",
   "pygments_lexer": "ipython3",
   "version": "3.6.5"
  }
 },
 "nbformat": 4,
 "nbformat_minor": 2
}
