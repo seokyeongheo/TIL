{
 "cells": [
  {
   "cell_type": "markdown",
   "metadata": {},
   "source": [
    "## Fuction\n",
    "\n",
    "- 선언, 호출\n",
    "- parameter, argument 개념(parameter라고 눙쳐서 쓰고는 하지만 엄밀히 말하면 다른 개념이다)\n",
    "- return \n",
    "- `*args`, `**kwargs`: parameter를 가변적으로 받을 수 있도록 하는 방법\n",
    "- docstring: 함수에 대한 설명을 담은 문구(?)\n",
    "- scope: 변수가 선언되어 사용하는 범위는 global, local 영역으로 나누어진다. \n",
    "- inner function: 함수 안 함수. \n",
    "- lambda function: 함수를 축약해서 쓰는 함수\n",
    "- map, filter, reduce: 위 함수는 리스트 데이터를 수정, 가공할 때 용이하다.\n",
    "- decorlator: 파이썬 특화 개념. 다른 언어에는 많이 있지 않다.\n"
   ]
  },
  {
   "cell_type": "markdown",
   "metadata": {},
   "source": [
    "### 선언, 호출\n",
    "- 함수는 parameter를 받아서 어떤 논리를 실행하는 변수이다\n",
    "- 함수 선언은 식별자 규칙을 그대로 따라간다\n",
    "\n",
    "```\n",
    "# 선언\n",
    "def <function_name>():\n",
    "    code\n",
    "``` "
   ]
  },
  {
   "cell_type": "code",
   "execution_count": 2,
   "metadata": {},
   "outputs": [
    {
     "name": "stdout",
     "output_type": "stream",
     "text": [
      "Function!\n"
     ]
    }
   ],
   "source": [
    "# 선언\n",
    "def test():\n",
    "    print(\"Function!\")\n",
    "\n",
    "# 호출\n",
    "test()\n"
   ]
  },
  {
   "cell_type": "markdown",
   "metadata": {},
   "source": [
    "### parameters, arguments"
   ]
  },
  {
   "cell_type": "code",
   "execution_count": 35,
   "metadata": {},
   "outputs": [
    {
     "name": "stdout",
     "output_type": "stream",
     "text": [
      "3\n",
      "7\n",
      "7\n"
     ]
    }
   ],
   "source": [
    "# parameter: 함수로 받는 값은 parameters\n",
    "# arguments 함수 안에 넣어주면, 그 parameter값에 따라 다른 결과가 나오도록 할 수 있다 \n",
    "\n",
    "def sum_func(a, b):\n",
    "    print(a + b)\n",
    "sum_func(1, 2)\n",
    "\n",
    "# arguments: 함수로 넘겨주는 값은 arguments\n",
    "sum_func(2, 5)\n",
    "\n",
    "# 숫자 대신, 변수를 넣을 수도 있다(num1, num2)\n",
    "num1, num2 = 2, 5\n",
    "sum_func(num1, num2)"
   ]
  },
  {
   "cell_type": "code",
   "execution_count": null,
   "metadata": {
    "collapsed": true
   },
   "outputs": [],
   "source": [
    "# keyword argument: 순서에 따라 argument가 넘겨지지 않고, 키워드에 따라 넘겨지게 된다. 2 >> b, 10 >> a\n",
    "\n",
    "def div_func(a, b):\n",
    "    print(a / b)\n",
    "\n",
    "div_func(b=2, a=10)"
   ]
  },
  {
   "cell_type": "code",
   "execution_count": null,
   "metadata": {
    "collapsed": true
   },
   "outputs": [],
   "source": [
    "# default parameter: default가 아닌 parameter를 dafault parameter 앞에 써줘야 한다\n",
    "# default parameter라는 이름처럼, arguments 영역이 아닌 parameter 영역에 default 값을 설정해준다\n",
    "\n",
    "def sum_func(num1, num2=2):\n",
    "    print(num1 * num2)\n",
    "    \n",
    "sum_func(2)"
   ]
  },
  {
   "cell_type": "markdown",
   "metadata": {},
   "source": [
    "### Return\n",
    "\n",
    "- 함수를 호출했을 때 결과를 반환하는 용도로 사용한다"
   ]
  },
  {
   "cell_type": "code",
   "execution_count": 24,
   "metadata": {},
   "outputs": [
    {
     "data": {
      "text/plain": [
       "3"
      ]
     },
     "execution_count": 24,
     "metadata": {},
     "output_type": "execute_result"
    }
   ],
   "source": [
    "def sum_func(num1, num2):\n",
    "    return num1 + num2\n",
    "\n",
    "sum_func(1, 2)"
   ]
  },
  {
   "cell_type": "code",
   "execution_count": 39,
   "metadata": {},
   "outputs": [
    {
     "name": "stdout",
     "output_type": "stream",
     "text": [
      "(7, 9, 8)\n",
      "7\n",
      "9\n",
      "8\n"
     ]
    }
   ],
   "source": [
    "# 결과 데이터를 튜플 형태로 출력할 수도 있고, 나눠서 출력할 수도 있다 ***\n",
    "\n",
    "def calc_func(num1, num2, num3):\n",
    "    return num1 + num2, num2 + num3, num1 + num3\n",
    "\n",
    "result1, result2, result3 = calc_func(3, 4, 5)\n",
    "\n",
    "print(calc_func(3, 4, 5))\n",
    "print(result1)\n",
    "print(result2)\n",
    "print(result3)"
   ]
  },
  {
   "cell_type": "markdown",
   "metadata": {},
   "source": [
    "### `*args`, `**kwargs`\n",
    "\n",
    "- *args: arguments의 약자. 모든 arguments라는 의미\n",
    "- **kwargs: keyword arguments의 약자. 모든 keywords arguments라는 의미\n",
    "- `*`: 전부, 모두, all의 의미를 지닌다"
   ]
  },
  {
   "cell_type": "code",
   "execution_count": 41,
   "metadata": {},
   "outputs": [
    {
     "data": {
      "text/plain": [
       "55"
      ]
     },
     "execution_count": 41,
     "metadata": {},
     "output_type": "execute_result"
    }
   ],
   "source": [
    "# *args: arguments의 수에 상관없이 parameter에서 모든 arguments를 받는다(tuple 형태로)\n",
    "def sum_func(*args):\n",
    "    return sum(args)\n",
    "sum_func(1, 2, 3, 4, 5, 6, 7, 8, 9, 10)"
   ]
  },
  {
   "cell_type": "code",
   "execution_count": 42,
   "metadata": {},
   "outputs": [
    {
     "name": "stdout",
     "output_type": "stream",
     "text": [
      "{'num1': 1, 'num2': 2, 'num3': 3}\n"
     ]
    }
   ],
   "source": [
    "# **kwargs: arguments가 keywords가 있는 경우, kwargs를 사용한다\n",
    "# kwargs 출력은 dictionary 형으로 출력된다\n",
    "\n",
    "def sum_func(**kwargs):\n",
    "    print(kwargs)\n",
    "\n",
    "sum_func(num1=1, \n",
    "         num2=2,\n",
    "         num3=3,\n",
    "        )"
   ]
  },
  {
   "cell_type": "code",
   "execution_count": 2,
   "metadata": {},
   "outputs": [
    {
     "name": "stdout",
     "output_type": "stream",
     "text": [
      "(1, 2, 3)\n",
      "{'num1': 2, 'num2': 3, 'num3': 4, 'num4': 5}\n"
     ]
    }
   ],
   "source": [
    "# kwagrs와 args를 같이 받을 경우, args는 args대로, kwagrgs는 kwagrs대로 받는다. \n",
    "# 단, positional argument는 keyword arguments보다 앞에 나와야 한다\n",
    "# 출력도 따로 이루어진다.\n",
    "\n",
    "def fun(*args, **kwagrs):\n",
    "    print(args)\n",
    "    print(kwagrs)\n",
    "\n",
    "fun(1,2,3, num1 = 2, num2 = 3, num3 = 4, num4 = 5)"
   ]
  },
  {
   "cell_type": "code",
   "execution_count": 56,
   "metadata": {},
   "outputs": [
    {
     "name": "stdout",
     "output_type": "stream",
     "text": [
      "([1, 2, 3],)\n",
      "[1, 2, 3]\n",
      "(1, 2, 3)\n",
      "1\n"
     ]
    }
   ],
   "source": [
    "# \"*\"는 parameter 뿐만 아니라, argument에도 사용할 수 있다\n",
    "# list를 argument로 받을 때 \"*\"를 사용하면, 각 개체가 나누어져 출력된다\n",
    "# 그러나 \"*\"를 사용하지 않으면, 하나의 list로 묶어서 출력된다\n",
    "\n",
    "def test(*args):\n",
    "    return(args)\n",
    "\n",
    "ls = [1,2,3]\n",
    "print(test(ls)) # 1,2,3이 하나로 묶여서 입력\n",
    "print(test(ls)[0])\n",
    "\n",
    "print(test(*ls)) # 1,2,3이 각각 나뉘어서 입력\n",
    "print(test(*ls)[0])"
   ]
  },
  {
   "cell_type": "markdown",
   "metadata": {},
   "source": [
    "### docstring\n",
    "\n",
    "- 함수를 설명할 때 사용\n",
    "\n",
    "```\n",
    "def <function_name>():\n",
    "    \"\"\"\n",
    "    description\n",
    "    \"\"\"\n",
    "```\n",
    "\n",
    "- PEP20 : Zen of Python(파이썬의 철학, 정신, 영혼...?)\n",
    "    - readability counts : 가독성은 중요하다\n",
    "\n",
    "- PEP8 : Coding Convention\n",
    "    - 협업시, 혹은 패키지 업로드시 필수적으로 준수해야 한다\n",
    "```\n",
    "eg.\n",
    "first_number # Snake case(채택)\n",
    "firstNumber # Carmel case\n",
    "FirstNumber # \n",
    "```"
   ]
  },
  {
   "cell_type": "code",
   "execution_count": 58,
   "metadata": {},
   "outputs": [
    {
     "name": "stdout",
     "output_type": "stream",
     "text": [
      "dss\n"
     ]
    },
    {
     "data": {
      "text/plain": [
       "'dss'"
      ]
     },
     "execution_count": 58,
     "metadata": {},
     "output_type": "execute_result"
    }
   ],
   "source": [
    "# docstring\n",
    "# 협업하는 사람끼리 docstring의 형식을 정한다. 예를 들어, Numpy 그룹과 python 그룹의 Convention은 다른 형태의 docstring을 가지고 있다\n",
    "# 내용: 설명, 역할, parameter 내용, 간단한 코드 및 코드를 사용할 수 있는 예제를 주로 담는다\n",
    "\n",
    "def echo(anything):\n",
    "    \"\"\"\n",
    "    echo returns its input argument\n",
    "    the operation is:\n",
    "        1. print (anything)\n",
    "        2. return (anything)\n",
    "    \"\"\"\n",
    "    print(anything)\n",
    "    return anything\n",
    "echo(\"dss\")"
   ]
  },
  {
   "cell_type": "code",
   "execution_count": 58,
   "metadata": {
    "collapsed": true
   },
   "outputs": [],
   "source": [
    "# only docstring\n",
    "echo?\n",
    "\n",
    "# docstring with code\n",
    "echo??\n",
    "help(echo)"
   ]
  },
  {
   "cell_type": "markdown",
   "metadata": {},
   "source": [
    "### Scope\n",
    "\n",
    "- global\n",
    "- local"
   ]
  },
  {
   "cell_type": "code",
   "execution_count": 59,
   "metadata": {},
   "outputs": [
    {
     "name": "stdout",
     "output_type": "stream",
     "text": [
      "100\n",
      "10\n"
     ]
    }
   ],
   "source": [
    "# global : 전역\n",
    "# local : 지역\n",
    "gv = 10\n",
    "def print_gv():\n",
    "    gv = 100\n",
    "    return gv\n",
    "\n",
    "print(print_gv()) # local\n",
    "print(gv) # global"
   ]
  },
  {
   "cell_type": "code",
   "execution_count": 60,
   "metadata": {},
   "outputs": [
    {
     "name": "stdout",
     "output_type": "stream",
     "text": [
      "100 200\n",
      "10 20\n",
      "{'gv2': 200, 'gv': 100}\n"
     ]
    }
   ],
   "source": [
    "# globals(), locals() 함수\n",
    "# locals() : 지역에서 사용해야, 그 함수 안에 있는 local 변수를 가져온다. global 영역에서 사용하면 전부 다 가져온다.\n",
    "# globals() : 지역에서 전역함수 및 변수를 사용할 수 있다\n",
    "\n",
    "gv = 10\n",
    "gv2 = 20\n",
    "\n",
    "def print_gv():\n",
    "    gv = 100    \n",
    "    gv2 = 200\n",
    "    print(gv, gv2)\n",
    "    print(globals()[\"gv\"], globals()[\"gv2\"])\n",
    "    print(locals())\n",
    "    \n",
    "print_gv()"
   ]
  },
  {
   "cell_type": "code",
   "execution_count": 67,
   "metadata": {},
   "outputs": [
    {
     "name": "stdout",
     "output_type": "stream",
     "text": [
      "100\n"
     ]
    }
   ],
   "source": [
    "# global <변수> : global 변수를 local 변수로 사용하고 싶을 때 쓸 수 있다\n",
    "\n",
    "gv = 10\n",
    "gv2 = 20\n",
    "gv3 = 30\n",
    "\n",
    "def change_gv():\n",
    "    global gv\n",
    "    gv = 100\n",
    "    return gv\n",
    "change_gv()\n",
    "print(gv)"
   ]
  },
  {
   "cell_type": "markdown",
   "metadata": {},
   "source": [
    "### inner function\n",
    "\n",
    "- global : 전역 - 전역함수, 지역변수\n",
    "- local : 지역 - 지역함수, 지역변수\n",
    "- inner function은 지역함수, 익명함수이다\n",
    "- 자신의 코드를 노출시키고 싶지 않을 때, 바깥에서 코드를 수정하면 안 될 때, 협업자가 굳이 해당 코드를 알 필요가 없을 때 사용한다"
   ]
  },
  {
   "cell_type": "code",
   "execution_count": 12,
   "metadata": {},
   "outputs": [
    {
     "data": {
      "text/plain": [
       "3"
      ]
     },
     "execution_count": 12,
     "metadata": {},
     "output_type": "execute_result"
    }
   ],
   "source": [
    "def outer(a, b):    \n",
    "    def inner(c, d):\n",
    "        return c + d\n",
    "    return inner(a, b)\n",
    "outer(1,2)"
   ]
  },
  {
   "cell_type": "markdown",
   "metadata": {},
   "source": [
    "### lambda function\n",
    "\n",
    "- 사람마다 사용 빈도가 다르다\n",
    "- 간단한 함수를 선언하지 않고 함수처럼 사용하는 함수\n",
    "\n",
    "```\n",
    "lambda <parameters> : <return_value>\n",
    "```\n",
    "\n",
    "- lambda function을 쓰면, 호출할 때만 코드를 작성하기 때문에 메모리 소모량을 줄일 수 있다 "
   ]
  },
  {
   "cell_type": "code",
   "execution_count": 13,
   "metadata": {},
   "outputs": [
    {
     "data": {
      "text/plain": [
       "3"
      ]
     },
     "execution_count": 13,
     "metadata": {},
     "output_type": "execute_result"
    }
   ],
   "source": [
    "허# method1 : lambda function을 쓰지 않는 경우\n",
    "\n",
    "def sum_func(x, y):\n",
    "    return x + y\n",
    "print(sum_func(1, 2))"
   ]
  },
  {
   "cell_type": "code",
   "execution_count": 14,
   "metadata": {},
   "outputs": [
    {
     "data": {
      "text/plain": [
       "3"
      ]
     },
     "execution_count": 14,
     "metadata": {},
     "output_type": "execute_result"
    }
   ],
   "source": [
    "# method2 : lambda function을 쓰는 경우\n",
    "\n",
    "sum_func2 = lambda x, y : x + y\n",
    "print(sum_func2(1, 2))"
   ]
  },
  {
   "cell_type": "markdown",
   "metadata": {},
   "source": [
    "### Map & Filter & Reduce\n",
    "\n",
    "- 리스트 형태(iterables. 순서가 있는 데이터 집합)의 데이터를 함수와 함께 가공하기 위해 사용하는 함수\n",
    "- map : 리스트 안에 모든 value에 함수를 적용, 그 결과 데이터를 리스트 형태로 반환한다\n",
    "- filter : 리스트 안에 있는 value 데이터를 특정 함수로 필터링해준다\n",
    "- reduce : 리스트 안에 있는 value 데이터를 하나씩 함수에 적용해서 하나의 결과를 얻도록 한다"
   ]
  },
  {
   "cell_type": "code",
   "execution_count": 22,
   "metadata": {},
   "outputs": [
    {
     "data": {
      "text/plain": [
       "[0, 1, 2, 3]"
      ]
     },
     "execution_count": 22,
     "metadata": {},
     "output_type": "execute_result"
    }
   ],
   "source": [
    "# map : list 형으로 출력. 리스트 형태의 데이터를 그대로 가져가기 때문이다.\n",
    "\n",
    "ls = [1,2,3,4]\n",
    "\n",
    "def sum_func(num):\n",
    "    return num - 1 # ls의 객체 전체에 sum_func을 한번씩 적용해준다\n",
    "list(map(sum_func, ls))"
   ]
  },
  {
   "cell_type": "code",
   "execution_count": 31,
   "metadata": {},
   "outputs": [
    {
     "data": {
      "text/plain": [
       "[2, 4]"
      ]
     },
     "execution_count": 31,
     "metadata": {},
     "output_type": "execute_result"
    }
   ],
   "source": [
    "# filter\n",
    "\n",
    "ls = [1,2,3,4]\n",
    "\n",
    "def is_even(num):\n",
    "    return True if num % 2 == 0 else False # ls 객체 전체에 is_even을 적용하여, True 값만 출력한다\n",
    "\n",
    "list(filter(is_even, ls))"
   ]
  },
  {
   "cell_type": "code",
   "execution_count": 69,
   "metadata": {},
   "outputs": [
    {
     "data": {
      "text/plain": [
       "24"
      ]
     },
     "execution_count": 69,
     "metadata": {},
     "output_type": "execute_result"
    }
   ],
   "source": [
    "# reduce * lambda\n",
    "\n",
    "from functools import reduce\n",
    "\n",
    "ls = [1,2,3,4]\n",
    "reduce(lambda num1, num2 : num1 * num2, ls) # ls 전체에 lambda 함수 값을 적용하여, 단 하나의 값만을 출력한다"
   ]
  },
  {
   "cell_type": "code",
   "execution_count": 2,
   "metadata": {},
   "outputs": [
    {
     "data": {
      "text/plain": [
       "[0, 1, 2, 3, 4]"
      ]
     },
     "execution_count": 2,
     "metadata": {},
     "output_type": "execute_result"
    }
   ],
   "source": [
    "# map 없을시 \n",
    "\n",
    "ls = [1,2,3,4,5]\n",
    "\n",
    "def minus_one(number):\n",
    "    return number - 1\n",
    "\n",
    "result = []\n",
    "for number in ls:\n",
    "    result.append(minus_one(number))\n",
    "result"
   ]
  },
  {
   "cell_type": "code",
   "execution_count": 4,
   "metadata": {},
   "outputs": [
    {
     "data": {
      "text/plain": [
       "[0, 1, 2, 3, 4]"
      ]
     },
     "execution_count": 4,
     "metadata": {},
     "output_type": "execute_result"
    }
   ],
   "source": [
    "# map function 이용\n",
    "\n",
    "list(map(minus_one, ls))"
   ]
  },
  {
   "cell_type": "code",
   "execution_count": 5,
   "metadata": {},
   "outputs": [
    {
     "data": {
      "text/plain": [
       "[0, 1, 2, 3, 4]"
      ]
     },
     "execution_count": 5,
     "metadata": {},
     "output_type": "execute_result"
    }
   ],
   "source": [
    "# lambda function 이용\n",
    "\n",
    "list(map(lambda number : number - 1, ls))"
   ]
  },
  {
   "cell_type": "code",
   "execution_count": 6,
   "metadata": {},
   "outputs": [
    {
     "data": {
      "text/plain": [
       "[6, 8, 10, 12]"
      ]
     },
     "execution_count": 6,
     "metadata": {},
     "output_type": "execute_result"
    }
   ],
   "source": [
    "# map에 여러 개 리스트 데이터 넣을 때\n",
    "# 리스트의 숫자가 다를 때는 가장 개체 숫자가 적은 리스트를 따라간다\n",
    "\n",
    "ls1 = [1,2,3,4]\n",
    "ls2 = [5,6,7,8]\n",
    "\n",
    "list(map(lambda num1, num2 : num1 + num2, ls1, ls2))"
   ]
  },
  {
   "cell_type": "code",
   "execution_count": 7,
   "metadata": {},
   "outputs": [
    {
     "data": {
      "text/plain": [
       "['Kim', 'Lee', 'Park', 'Lee']"
      ]
     },
     "execution_count": 7,
     "metadata": {},
     "output_type": "execute_result"
    }
   ],
   "source": [
    "# 퀴즈 1 - map을 이용하여 사람의 성만 결과로 출력하는 프로그램 작성\n",
    "\n",
    "names = [\"Kim python\", \"Lee data\", \"Park science\", \"Lee school\"]\n",
    "\n",
    "def last_name(name):\n",
    "    return name.split(\" \")[0]\n",
    "\n",
    "result = list(map(last_name, names))\n",
    "# result = list(map(lambda name : name.split(\" \")[0], names))\n",
    "#TODO\n",
    "\n",
    "result\n",
    "\n",
    "# result - [\"Kim\", \"Lee\", \"Park\", \"Lee\"]"
   ]
  },
  {
   "cell_type": "code",
   "execution_count": 62,
   "metadata": {},
   "outputs": [
    {
     "name": "stdout",
     "output_type": "stream",
     "text": [
      "{1: 'odd', 2: 'even', 3: 'odd', 4: 'even', 5: 'odd', 6: 'even', 7: 'odd', 8: 'even', 9: 'odd', 10: 'even'}\n"
     ]
    }
   ],
   "source": [
    "# 퀴즈 2 - 1 ~ 10까지 숫자 데이터에서 짝수는 even 홀수는 odd를 출력하고 key:value 형태의 dic 출력 ***\n",
    "\n",
    "ls = list(range(1,11))\n",
    "result = list(map(lambda number : \"even\" if number % 2 == 0 else \"odd\", ls))\n",
    "print(dict(zip(ls, result)))"
   ]
  },
  {
   "cell_type": "code",
   "execution_count": 30,
   "metadata": {},
   "outputs": [
    {
     "data": {
      "text/plain": [
       "[15, 18, 21, 24]"
      ]
     },
     "execution_count": 30,
     "metadata": {},
     "output_type": "execute_result"
    }
   ],
   "source": [
    "# 퀴즈 3 - map function 만들기 *****\n",
    "ls1, ls2, ls3 = [1,2,3,4], [5,6,7,8], [9,10,11,12]\n",
    "\n",
    "def sum_func(*args):\n",
    "    return sum(args)\n",
    "    \n",
    "def map_func(func, *args):\n",
    "    \n",
    "    result = []\n",
    "    \n",
    "    # map function은 여러 리스트 중 가장 value값이 적은 리스트의 value값에 맞추어, 결과를 출력한다.\n",
    "    # 그러므로 여러 리스트 중 가장 value값이 적은 리스트의 value 수를 찾아야 한다.\n",
    "    \n",
    "    # 4 args 중 첫번째 리스트의 value값으로 시작한다.\n",
    "    value_count = len(args[0]) \n",
    "    \n",
    "    # 3 가장 큰 리스트에서, 총 몇 개의 하위 리스트(parameter라고도 할 수 있다)를 가지고 있는지 알려주는 코드.\n",
    "    # 리스트가 3개 이므로 3이다.   \n",
    "    params_count = len(args) \n",
    "    \n",
    "    # 모든 리스트에서, 최소 몇 개의 value 값을 가지고 있는지 찾아 value_count라는 변수에 저장하는 for문. \n",
    "    # range error가 나지 않도록 해준다.\n",
    "    for idx in range(params_count): \n",
    "        value_count = value_count if value_count < len(args[idx]) else len(args[idx])\n",
    "    \n",
    "    # 두 변수 value_count와 params_count를 사용하여, 각 리스트의 각 value값을 활용해야 한다.\n",
    "    # 그래서 value_count for 문(idx1)과 params_count for문(idx2)을 돌려서,\n",
    "    # args[0][0] / args[1][0] / args[2][0] ... 값에 func을 적용해준다.\n",
    "    for idx1 in range(value_count): # \n",
    "        params = []\n",
    "        for idx2 in range(params_count):\n",
    "            params.append(args[idx2][idx1])\n",
    "        result.append(func(*params))\n",
    "    \n",
    "    return result\n",
    "    \n",
    "result = map_func(sum_func, ls1, ls2, ls3)\n",
    "result\n",
    "# result - [15, 18, 21, 24]"
   ]
  },
  {
   "cell_type": "markdown",
   "metadata": {},
   "source": [
    "### Filter\n",
    "\n",
    "- 리스트 데이터에서 조건에 맞는 value 데이터만 남기는 필터링 기능을 하는 함수이다\n",
    "- filter의 argument로 들어가는 함수는 항상 리턴값이 True 혹은 False여야 한다\n",
    "- True 값 데이터는 남고, False 값 데이터는 제거되도록.\n",
    "\n",
    "- `filter(<function>,<list(iterable>)`"
   ]
  },
  {
   "cell_type": "code",
   "execution_count": 11,
   "metadata": {},
   "outputs": [
    {
     "data": {
      "text/plain": [
       "[2, 4, 6, 8, 10]"
      ]
     },
     "execution_count": 11,
     "metadata": {},
     "output_type": "execute_result"
    }
   ],
   "source": [
    "# filter를 사용하여 리스트에서 짝수 데이터만 남기는 프로그램 작성\n",
    "\n",
    "ls = list(range(1,11))\n",
    "\n",
    "list(filter(lambda number : number % 2 == 0, ls))"
   ]
  },
  {
   "cell_type": "code",
   "execution_count": 1,
   "metadata": {},
   "outputs": [
    {
     "name": "stdout",
     "output_type": "stream",
     "text": [
      "['Lee data', 'Lee school']\n",
      "['Lee data', 'Lee school']\n"
     ]
    }
   ],
   "source": [
    "# 퀴즈 - 성이 Lee씨인 사람의 이름만 결과로 출력하는 프로그램 작성 \n",
    "\n",
    "names = [\"Kim python\", \"Lee data\", \"Park science\", \"Lee school\"]\n",
    "\n",
    "result = list(filter(lambda name : name.split(\" \")[0] == \"Lee\", names))\n",
    "print(result)\n",
    "\n",
    "result = [name for name in names if name.split(\" \")[0] == \"Lee\" ]\n",
    "print(result)\n",
    "# list(filter(lambda name : name.split(\" \")[0] == \"Lee\", names))"
   ]
  },
  {
   "cell_type": "code",
   "execution_count": 6,
   "metadata": {},
   "outputs": [
    {
     "data": {
      "text/plain": [
       "['Kim python', 'Lee data', 'Park science', 'Lee school']"
      ]
     },
     "execution_count": 6,
     "metadata": {},
     "output_type": "execute_result"
    }
   ],
   "source": [
    "names = [\"Kim python\", \"lee data\", \"Park science\", \"Lee school\"]\n",
    "\n",
    "names = list(map(lambda name : name[0].upper() + name[1:], names))\n",
    "\n",
    "result"
   ]
  },
  {
   "cell_type": "code",
   "execution_count": 97,
   "metadata": {},
   "outputs": [
    {
     "data": {
      "text/plain": [
       "([1, 3, 5, 7, 9], [2, 4, 6, 8, 10])"
      ]
     },
     "execution_count": 97,
     "metadata": {},
     "output_type": "execute_result"
    }
   ],
   "source": [
    "# 퀴즈2 - filter funciotn 구현, 홀수와 짝수를 필터링하는 함수를 구현\n",
    "\n",
    "ls = list(range(1, 11))\n",
    "\n",
    "is_odd_even = {\n",
    "    \"odd\": lambda num : num % 2 == 1,\n",
    "    \"even\": lambda num : num % 2 == 0,\n",
    "}\n",
    "\n",
    "def filter_func(func, data_list):\n",
    "    result = []\n",
    "    for data in data_list:\n",
    "        if func(data):\n",
    "            result.append(data)\n",
    "    return result\n",
    "    \n",
    "result_1 = filter_func(is_odd_even[\"odd\"], ls)\n",
    "result_2 = filter_func(is_odd_even[\"even\"], ls)\n",
    "result_1, result_2"
   ]
  },
  {
   "cell_type": "markdown",
   "metadata": {},
   "source": [
    "### reduce\n",
    "\n",
    "- 리스트 데이터를 처음부터 순서대로 특정 함수를 실행하여 나온 결과를 다음 데이터와 함께 또 다시 함수를 실행하여, 마지막에 하나의 데이터를 남기는 함수\n",
    "- `reduce(<function>, <list(iterable)>)`"
   ]
  },
  {
   "cell_type": "code",
   "execution_count": 14,
   "metadata": {},
   "outputs": [
    {
     "data": {
      "text/plain": [
       "15"
      ]
     },
     "execution_count": 14,
     "metadata": {},
     "output_type": "execute_result"
    }
   ],
   "source": [
    "from functools import reduce\n",
    "\n",
    "ls = [1,2,3,4,5]\n",
    "reduce(lambda num1, num2 : num1 + num2, ls)"
   ]
  },
  {
   "cell_type": "code",
   "execution_count": 15,
   "metadata": {},
   "outputs": [
    {
     "data": {
      "text/plain": [
       "7"
      ]
     },
     "execution_count": 15,
     "metadata": {},
     "output_type": "execute_result"
    }
   ],
   "source": [
    "# 가장 큰 수를 구하는 프로그램 작성\n",
    "\n",
    "ls = [1,3,7,5,2]\n",
    "\n",
    "reduce(lambda num1, num2 : num1 if num1 > num2 else num2, ls) # 각 단계 별 리턴값은 num1로.\n",
    "\n"
   ]
  },
  {
   "cell_type": "code",
   "execution_count": 16,
   "metadata": {},
   "outputs": [
    {
     "data": {
      "text/plain": [
       "'Park science'"
      ]
     },
     "execution_count": 16,
     "metadata": {},
     "output_type": "execute_result"
    }
   ],
   "source": [
    "# 퀴즈 1 - 사람 이름이 가장 긴 사람을 출력하는 프로그램 작성\n",
    "\n",
    "names = [\"Kim python\", \"Lee data\", \"Park science\", \"Lee school\"]\n",
    "\n",
    "reduce(lambda name1, name2 : name1 if len(name1) > len(name2) else name2, names)"
   ]
  },
  {
   "cell_type": "code",
   "execution_count": 9,
   "metadata": {},
   "outputs": [
    {
     "data": {
      "text/plain": [
       "15"
      ]
     },
     "execution_count": 9,
     "metadata": {},
     "output_type": "execute_result"
    }
   ],
   "source": [
    "# 퀴즈 2 - reduce 구현하는 프로그램 작성 *****\n",
    "\n",
    "ls = [1,2,3,4,5]\n",
    "\n",
    "def reduce_func(func, data_list):\n",
    "    \n",
    "    #TODO\n",
    "    result = data_list[0]\n",
    "    del data_list[0]\n",
    "    \n",
    "    for data in data_list:\n",
    "        result = func(result, data)\n",
    "        \n",
    "    return result\n",
    "\n",
    "reduce_func(lambda num1, num2 : num1 + num2, ls)\n",
    "# result - 15"
   ]
  },
  {
   "cell_type": "markdown",
   "metadata": {},
   "source": [
    "### Decolator\n",
    "\n",
    "- 코드를 바꾸지 않고 함수의 기능을 추가할 때 사용한다\n",
    "- 여러 개의 함수에서 공통된 기능을 뽑아서 하나의 함수로 만들어서 쓸 때, 사용한다\n",
    "\n",
    "\n",
    "- inner function, *args, **kwargs\n",
    "- `@<function_name>`\n",
    "\n",
    "```\n",
    "def A():\n",
    "    code1\n",
    "    code2\n",
    "    code3\n",
    "    \n",
    "def B():\n",
    "    code1\n",
    "    code4\n",
    "    code3\n",
    "```\n",
    "```\n",
    "def C():\n",
    "    def wrapper(*args, **kwagrs):\n",
    "        code1\n",
    "        result = func(*args, **kwagrs)\n",
    "        code3\n",
    "        return result\n",
    "    return wrapper\n",
    "\n",
    "@C\n",
    "def A():\n",
    "    result = code2\n",
    "    return result\n",
    "\n",
    "@C\n",
    "def B():\n",
    "    code4\n",
    "\n",
    "A() - code1, code2, code3, return result\n",
    "B() - code1, code4, code3, return result\n",
    "or C(A)(params)\n",
    "```"
   ]
  },
  {
   "cell_type": "code",
   "execution_count": 41,
   "metadata": {},
   "outputs": [],
   "source": [
    "# display를 해주는 데코레이터 만들기\n",
    "\n",
    "def disp(func):\n",
    "    def wrapper(*args, **kwargs):\n",
    "        \n",
    "        # code1\n",
    "        print(\"running function name :\", func.__name__)\n",
    "        print(\"args : \", args)\n",
    "        print(\"kwargs : \", kwargs)\n",
    "        \n",
    "        #code2(A), code4(B)\n",
    "        result = func(*args, **kwargs)\n",
    "        \n",
    "        # code3\n",
    "        print(\"result :\", result)\n",
    "        return result\n",
    "    return wrapper\n",
    "\n"
   ]
  },
  {
   "cell_type": "code",
   "execution_count": 42,
   "metadata": {},
   "outputs": [
    {
     "name": "stdout",
     "output_type": "stream",
     "text": [
      "running function name : sum_func\n",
      "args :  (1, 2)\n",
      "kwargs :  {}\n",
      "1+2=3\n",
      "result : None\n"
     ]
    }
   ],
   "source": [
    "# A\n",
    "@disp\n",
    "def sum_func(a, b):\n",
    "    # code1 ()\n",
    "    print(\"{}+{}={}\".format(a, b, a + b))\n",
    "    # code3 - print(\"rsult :\", )\n",
    "sum_func(1, 2)"
   ]
  },
  {
   "cell_type": "code",
   "execution_count": 43,
   "metadata": {},
   "outputs": [
    {
     "name": "stdout",
     "output_type": "stream",
     "text": [
      "running function name : minus_func\n",
      "args :  (1, 2)\n",
      "kwargs :  {}\n",
      "1-2=-1\n",
      "result : None\n"
     ]
    }
   ],
   "source": [
    "# B\n",
    "\n",
    "@disp\n",
    "def minus_func(a, b):\n",
    "    # code1 ()\n",
    "    print(\"{}-{}={}\".format(a, b, a - b))\n",
    "    # code3 - print(\"result :\", )\n",
    "    \n",
    "minus_func(1, 2)"
   ]
  },
  {
   "cell_type": "code",
   "execution_count": 33,
   "metadata": {},
   "outputs": [
    {
     "name": "stdout",
     "output_type": "stream",
     "text": [
      "running function name : div_func\n",
      "args :  (2, 1)\n",
      "kwargs :  {}\n",
      "2 / 1 = 2.0\n",
      "result : None\n"
     ]
    }
   ],
   "source": [
    "# C\n",
    "\n",
    "@disp\n",
    "def div_func(a, b):\n",
    "    print(\"{} / {} = {}\".format(a, b, a / b))\n",
    "div_func(2,1)"
   ]
  },
  {
   "cell_type": "code",
   "execution_count": 46,
   "metadata": {},
   "outputs": [],
   "source": [
    "# timer decolator - 함수가 실행되는데 걸리는 시간을 측정하는 데코레이터\n",
    "\n",
    "import time\n",
    "\n",
    "def timer(func):\n",
    "    def wrapper(*args, **kwargs):\n",
    "        \n",
    "        # code 1\n",
    "        start_time = time.time()\n",
    "        \n",
    "        # code 2, 4(A, B)\n",
    "        result = func(*args, **kwargs)\n",
    "        \n",
    "        # code 3\n",
    "        end_time = time.time()\n",
    "        print(\"running time :\", end_time - start_time)\n",
    "    return wrapper"
   ]
  },
  {
   "cell_type": "code",
   "execution_count": 47,
   "metadata": {},
   "outputs": [
    {
     "name": "stdout",
     "output_type": "stream",
     "text": [
      "running time : 3.0994415283203125e-06\n"
     ]
    }
   ],
   "source": [
    "@timer\n",
    "def pow_func(num1, num2):\n",
    "    return num1 ** num2\n",
    "\n",
    "pow_func(2,100)"
   ]
  },
  {
   "cell_type": "code",
   "execution_count": 48,
   "metadata": {},
   "outputs": [],
   "source": [
    "# 데코레이터를 사용해서 관리자 계정이면 패스워드를 출력하고, 관리자 계정이 아니면 패스워드를 출력하지 않는 데코레이터 작성\n",
    "# 현업에서도 데코레이터는 자주 사용한다 \n",
    "\n",
    "admin_ls = [\"pdf\", \"dss\"]\n",
    "pw = \"dss8\"\n",
    "\n",
    "def admin(func):\n",
    "    def wrapper(*args, **kwargs):\n",
    "        is_admin = False\n",
    "        user_id = func(*args, **kwargs)\n",
    "        \n",
    "        if user_id in admin_ls:\n",
    "            is_admin = True\n",
    "        \n",
    "        if is_admin:\n",
    "            print(\"passwrd : \", pw)\n",
    "        else:\n",
    "            print(\"you are not admin.\")\n",
    "        return is_admin\n",
    "    return wrapper"
   ]
  },
  {
   "cell_type": "code",
   "execution_count": 54,
   "metadata": {},
   "outputs": [
    {
     "name": "stdout",
     "output_type": "stream",
     "text": [
      "insert user ID : dss\n",
      "passwrd :  dss8\n"
     ]
    }
   ],
   "source": [
    "@admin\n",
    "def input_user():\n",
    "    return input(\"insert user ID : \")\n",
    "\n",
    "input_user()"
   ]
  },
  {
   "cell_type": "code",
   "execution_count": null,
   "metadata": {},
   "outputs": [],
   "source": [
    "user_id = {\n",
    "    1:\"dss\"\n",
    "    2:\"data\"\n",
    "    3:\"science\"\n",
    "}"
   ]
  }
 ],
 "metadata": {
  "kernelspec": {
   "display_name": "Python 3",
   "language": "python",
   "name": "python3"
  },
  "language_info": {
   "codemirror_mode": {
    "name": "ipython",
    "version": 3
   },
   "file_extension": ".py",
   "mimetype": "text/x-python",
   "name": "python",
   "nbconvert_exporter": "python",
   "pygments_lexer": "ipython3",
   "version": "3.6.5"
  }
 },
 "nbformat": 4,
 "nbformat_minor": 2
}
