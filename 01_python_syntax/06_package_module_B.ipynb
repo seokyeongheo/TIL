{
 "cells": [
  {
   "cell_type": "markdown",
   "metadata": {},
   "source": [
    "##### Module\n",
    "- 변수, 함수, 클래스를 모아놓은 파일입니다.\n",
    "- `import` 예약어를 사용하여 호출할수 있습니다.\n",
    "- 모듈 식별자는 짧은 소문자로 사용하며 합성어를 사용하게 될경우에는 스네이크케이스(snake_case), 카멜케이스(camelCase)로 구분합니다\n",
    "- 모듈 식별자 중에 `_`가 앞에 붙은것은 C/C++로 작성된 코드입니다.\n",
    "- 모듈을 사용하는 이유는 프로그램을 하나의 파일로 만들수 없기 때문에 기능에 따라서 파일을 나눠 높아 모듈로 사용합니다."
   ]
  },
  {
   "cell_type": "code",
   "execution_count": 1,
   "metadata": {},
   "outputs": [
    {
     "name": "stdout",
     "output_type": "stream",
     "text": [
      "Writing dsm.py\n"
     ]
    }
   ],
   "source": [
    "%%writefile dsm.py\n",
    "\n",
    "num = 1234\n",
    "\n",
    "def disp1(s):\n",
    "    print(\"disp1:\",s)\n",
    "    \n",
    "def disp2(s):\n",
    "    print(\"disp2:\",s)\n",
    "    \n",
    "def disp3(s):\n",
    "    print(\"disp3:\",s)\n",
    "    \n",
    "class Calc:\n",
    "    def plus(self, *args):\n",
    "        return sum(args)"
   ]
  },
  {
   "cell_type": "code",
   "execution_count": 2,
   "metadata": {},
   "outputs": [],
   "source": [
    "# 모듈 호출\n",
    "import dsm"
   ]
  },
  {
   "cell_type": "code",
   "execution_count": 3,
   "metadata": {},
   "outputs": [
    {
     "name": "stdout",
     "output_type": "stream",
     "text": [
      "Variable   Type      Data/Info\n",
      "------------------------------\n",
      "dsm        module    <module 'dsm' from '/User<...>01_python_syntax/dsm.py'>\n"
     ]
    }
   ],
   "source": [
    "%whos"
   ]
  },
  {
   "cell_type": "code",
   "execution_count": 4,
   "metadata": {},
   "outputs": [
    {
     "data": {
      "text/plain": [
       "1234"
      ]
     },
     "execution_count": 4,
     "metadata": {},
     "output_type": "execute_result"
    }
   ],
   "source": [
    "dsm.num"
   ]
  },
  {
   "cell_type": "code",
   "execution_count": 7,
   "metadata": {},
   "outputs": [
    {
     "name": "stdout",
     "output_type": "stream",
     "text": [
      "disp2: test\n"
     ]
    }
   ],
   "source": [
    "dsm.disp2(\"test\")"
   ]
  },
  {
   "cell_type": "code",
   "execution_count": 8,
   "metadata": {},
   "outputs": [],
   "source": [
    "cal = dsm.Calc()"
   ]
  },
  {
   "cell_type": "code",
   "execution_count": 9,
   "metadata": {},
   "outputs": [
    {
     "data": {
      "text/plain": [
       "6"
      ]
     },
     "execution_count": 9,
     "metadata": {},
     "output_type": "execute_result"
    }
   ],
   "source": [
    "cal.plus(1,2,3)"
   ]
  },
  {
   "cell_type": "code",
   "execution_count": 15,
   "metadata": {},
   "outputs": [
    {
     "name": "stdout",
     "output_type": "stream",
     "text": [
      "Once deleted, variables cannot be recovered. Proceed (y/[n])? y\n"
     ]
    }
   ],
   "source": [
    "# 모듈에 있는 특정 함수만 호출\n",
    "%reset"
   ]
  },
  {
   "cell_type": "code",
   "execution_count": 12,
   "metadata": {},
   "outputs": [],
   "source": [
    "from dsm import disp1, disp2"
   ]
  },
  {
   "cell_type": "code",
   "execution_count": 13,
   "metadata": {},
   "outputs": [
    {
     "name": "stdout",
     "output_type": "stream",
     "text": [
      "Variable   Type        Data/Info\n",
      "--------------------------------\n",
      "disp1      function    <function disp1 at 0x1104d0ea0>\n",
      "disp2      function    <function disp2 at 0x110541378>\n"
     ]
    }
   ],
   "source": [
    "%whos"
   ]
  },
  {
   "cell_type": "code",
   "execution_count": 14,
   "metadata": {},
   "outputs": [
    {
     "name": "stdout",
     "output_type": "stream",
     "text": [
      "disp1: dss\n"
     ]
    }
   ],
   "source": [
    "disp1(\"dss\")"
   ]
  },
  {
   "cell_type": "code",
   "execution_count": 16,
   "metadata": {},
   "outputs": [
    {
     "name": "stdout",
     "output_type": "stream",
     "text": [
      "Once deleted, variables cannot be recovered. Proceed (y/[n])? y\n"
     ]
    }
   ],
   "source": [
    "%reset"
   ]
  },
  {
   "cell_type": "code",
   "execution_count": 17,
   "metadata": {},
   "outputs": [],
   "source": [
    "from dsm import *"
   ]
  },
  {
   "cell_type": "code",
   "execution_count": 18,
   "metadata": {},
   "outputs": [
    {
     "name": "stdout",
     "output_type": "stream",
     "text": [
      "Variable   Type        Data/Info\n",
      "--------------------------------\n",
      "Calc       type        <class 'dsm.Calc'>\n",
      "disp1      function    <function disp1 at 0x1104d0ea0>\n",
      "disp2      function    <function disp2 at 0x110541378>\n",
      "disp3      function    <function disp3 at 0x110541400>\n",
      "num        int         1234\n"
     ]
    }
   ],
   "source": [
    "%whos"
   ]
  },
  {
   "cell_type": "markdown",
   "metadata": {},
   "source": [
    "##### 패키지 - package\n",
    "- 패키지는 디렉토리와 모듈로 구성되어 있습니다.\n",
    "- 패키지에서 디렉토리에는 `__init__.py` 파일이 있어야 합니다. (python3.3 버전 이후에는 없어도 됩니다.)\n",
    "- 하지만 호환성을 위해서 반드시 파일을 추가해 주세요."
   ]
  },
  {
   "cell_type": "code",
   "execution_count": 20,
   "metadata": {},
   "outputs": [],
   "source": [
    "# 디렉토리 만들기\n",
    "!mkdir school"
   ]
  },
  {
   "cell_type": "code",
   "execution_count": 21,
   "metadata": {},
   "outputs": [],
   "source": [
    "!mkdir school/dss"
   ]
  },
  {
   "cell_type": "code",
   "execution_count": 22,
   "metadata": {},
   "outputs": [],
   "source": [
    "!mkdir school/web"
   ]
  },
  {
   "cell_type": "code",
   "execution_count": 23,
   "metadata": {},
   "outputs": [
    {
     "name": "stdout",
     "output_type": "stream",
     "text": [
      "school\r\n",
      "├── dss\r\n",
      "└── web\r\n",
      "\r\n",
      "2 directories, 0 files\r\n"
     ]
    }
   ],
   "source": [
    "!tree school"
   ]
  },
  {
   "cell_type": "code",
   "execution_count": 24,
   "metadata": {},
   "outputs": [],
   "source": [
    "# __init__ 파일 추가\n",
    "!touch school/dss/__init__.py\n",
    "!touch school/web/__init__.py"
   ]
  },
  {
   "cell_type": "code",
   "execution_count": null,
   "metadata": {},
   "outputs": [],
   "source": [
    "# $ brew install tree"
   ]
  },
  {
   "cell_type": "code",
   "execution_count": 25,
   "metadata": {},
   "outputs": [
    {
     "name": "stdout",
     "output_type": "stream",
     "text": [
      "school\r\n",
      "├── dss\r\n",
      "│   └── __init__.py\r\n",
      "└── web\r\n",
      "    └── __init__.py\r\n",
      "\r\n",
      "2 directories, 2 files\r\n"
     ]
    }
   ],
   "source": [
    "!tree school"
   ]
  },
  {
   "cell_type": "code",
   "execution_count": 26,
   "metadata": {},
   "outputs": [],
   "source": [
    "# 모듈 작성"
   ]
  },
  {
   "cell_type": "code",
   "execution_count": 27,
   "metadata": {},
   "outputs": [
    {
     "name": "stdout",
     "output_type": "stream",
     "text": [
      "Writing school/dss/data.py\n"
     ]
    }
   ],
   "source": [
    "%%writefile school/dss/data.py\n",
    "\n",
    "def plus(*args):\n",
    "    return sum(args)\n"
   ]
  },
  {
   "cell_type": "code",
   "execution_count": 45,
   "metadata": {},
   "outputs": [
    {
     "name": "stdout",
     "output_type": "stream",
     "text": [
      "Writing school/dss/data2.py\n"
     ]
    }
   ],
   "source": [
    "%%writefile school/dss/data2.py\n",
    "\n",
    "def plus(*args):\n",
    "    print(\"data2\")\n",
    "    return sum(args)\n"
   ]
  },
  {
   "cell_type": "code",
   "execution_count": 28,
   "metadata": {},
   "outputs": [
    {
     "name": "stdout",
     "output_type": "stream",
     "text": [
      "Writing school/web/url.py\n"
     ]
    }
   ],
   "source": [
    "%%writefile school/web/url.py\n",
    "\n",
    "def make(url):\n",
    "    protocol = \"http://\"\n",
    "    return url if url[:7] == protocol else protocol + url\n"
   ]
  },
  {
   "cell_type": "code",
   "execution_count": 29,
   "metadata": {},
   "outputs": [
    {
     "name": "stdout",
     "output_type": "stream",
     "text": [
      "school\r\n",
      "├── dss\r\n",
      "│   ├── __init__.py\r\n",
      "│   └── data.py\r\n",
      "└── web\r\n",
      "    ├── __init__.py\r\n",
      "    └── url.py\r\n",
      "\r\n",
      "2 directories, 4 files\r\n"
     ]
    }
   ],
   "source": [
    "!tree school"
   ]
  },
  {
   "cell_type": "code",
   "execution_count": 32,
   "metadata": {},
   "outputs": [
    {
     "name": "stdout",
     "output_type": "stream",
     "text": [
      "Once deleted, variables cannot be recovered. Proceed (y/[n])? y\n"
     ]
    }
   ],
   "source": [
    "%reset"
   ]
  },
  {
   "cell_type": "code",
   "execution_count": 33,
   "metadata": {},
   "outputs": [],
   "source": [
    "# import package \n",
    "# import에서 가장 마지막은 모듈이어야 합니다.\n",
    "import school.dss.data"
   ]
  },
  {
   "cell_type": "code",
   "execution_count": 34,
   "metadata": {},
   "outputs": [
    {
     "name": "stdout",
     "output_type": "stream",
     "text": [
      "Variable   Type      Data/Info\n",
      "------------------------------\n",
      "school     module    <module 'school' (namespace)>\n"
     ]
    }
   ],
   "source": [
    "%whos"
   ]
  },
  {
   "cell_type": "code",
   "execution_count": 35,
   "metadata": {},
   "outputs": [
    {
     "data": {
      "text/plain": [
       "6"
      ]
     },
     "execution_count": 35,
     "metadata": {},
     "output_type": "execute_result"
    }
   ],
   "source": [
    "school.dss.data.plus(1,2,3)"
   ]
  },
  {
   "cell_type": "code",
   "execution_count": 36,
   "metadata": {},
   "outputs": [],
   "source": [
    "# alias\n",
    "import school.dss.data as test"
   ]
  },
  {
   "cell_type": "code",
   "execution_count": 37,
   "metadata": {},
   "outputs": [
    {
     "name": "stdout",
     "output_type": "stream",
     "text": [
      "Variable   Type      Data/Info\n",
      "------------------------------\n",
      "school     module    <module 'school' (namespace)>\n",
      "test       module    <module 'school.dss.data'<...>on/B/school/dss/data.py'>\n"
     ]
    }
   ],
   "source": [
    "%whos"
   ]
  },
  {
   "cell_type": "code",
   "execution_count": 38,
   "metadata": {},
   "outputs": [
    {
     "data": {
      "text/plain": [
       "9"
      ]
     },
     "execution_count": 38,
     "metadata": {},
     "output_type": "execute_result"
    }
   ],
   "source": [
    "test.plus(2,3,4)"
   ]
  },
  {
   "cell_type": "code",
   "execution_count": 39,
   "metadata": {},
   "outputs": [
    {
     "data": {
      "text/plain": [
       "'http://fastcampus.com'"
      ]
     },
     "execution_count": 39,
     "metadata": {},
     "output_type": "execute_result"
    }
   ],
   "source": [
    "import school.web.url as url\n",
    "url.make(\"fastcampus.com\")"
   ]
  },
  {
   "cell_type": "code",
   "execution_count": 40,
   "metadata": {},
   "outputs": [
    {
     "name": "stdout",
     "output_type": "stream",
     "text": [
      "Once deleted, variables cannot be recovered. Proceed (y/[n])? y\n"
     ]
    }
   ],
   "source": [
    "%reset"
   ]
  },
  {
   "cell_type": "code",
   "execution_count": 41,
   "metadata": {},
   "outputs": [],
   "source": [
    "from school.web import url"
   ]
  },
  {
   "cell_type": "code",
   "execution_count": 42,
   "metadata": {},
   "outputs": [
    {
     "data": {
      "text/plain": [
       "'http://google.com'"
      ]
     },
     "execution_count": 42,
     "metadata": {},
     "output_type": "execute_result"
    }
   ],
   "source": [
    "url.make(\"google.com\")"
   ]
  },
  {
   "cell_type": "code",
   "execution_count": 43,
   "metadata": {},
   "outputs": [],
   "source": [
    "# __init__.py - all"
   ]
  },
  {
   "cell_type": "code",
   "execution_count": 46,
   "metadata": {},
   "outputs": [
    {
     "name": "stdout",
     "output_type": "stream",
     "text": [
      "school\r\n",
      "├── dss\r\n",
      "│   ├── __init__.py\r\n",
      "│   ├── __pycache__\r\n",
      "│   │   ├── __init__.cpython-36.pyc\r\n",
      "│   │   └── data.cpython-36.pyc\r\n",
      "│   ├── data.py\r\n",
      "│   └── data2.py\r\n",
      "└── web\r\n",
      "    ├── __init__.py\r\n",
      "    ├── __pycache__\r\n",
      "    │   ├── __init__.cpython-36.pyc\r\n",
      "    │   └── url.cpython-36.pyc\r\n",
      "    └── url.py\r\n",
      "\r\n",
      "4 directories, 9 files\r\n"
     ]
    }
   ],
   "source": [
    "!tree school"
   ]
  },
  {
   "cell_type": "code",
   "execution_count": 47,
   "metadata": {},
   "outputs": [
    {
     "name": "stdout",
     "output_type": "stream",
     "text": [
      "Overwriting school/dss/__init__.py\n"
     ]
    }
   ],
   "source": [
    "%%writefile school/dss/__init__.py\n",
    "__all__ = ['data','data2']"
   ]
  },
  {
   "cell_type": "code",
   "execution_count": 1,
   "metadata": {},
   "outputs": [],
   "source": [
    "from school.dss import *"
   ]
  },
  {
   "cell_type": "code",
   "execution_count": 2,
   "metadata": {},
   "outputs": [
    {
     "name": "stdout",
     "output_type": "stream",
     "text": [
      "Variable   Type      Data/Info\n",
      "------------------------------\n",
      "data       module    <module 'school.dss.data'<...>on/B/school/dss/data.py'>\n",
      "data2      module    <module 'school.dss.data2<...>n/B/school/dss/data2.py'>\n"
     ]
    }
   ],
   "source": [
    "%whos"
   ]
  },
  {
   "cell_type": "code",
   "execution_count": 3,
   "metadata": {},
   "outputs": [
    {
     "name": "stdout",
     "output_type": "stream",
     "text": [
      "Overwriting school/dss/__init__.py\n"
     ]
    }
   ],
   "source": [
    "%%writefile school/dss/__init__.py\n",
    "__all__ = ['data2']"
   ]
  },
  {
   "cell_type": "code",
   "execution_count": 1,
   "metadata": {},
   "outputs": [],
   "source": [
    "from school.dss import *"
   ]
  },
  {
   "cell_type": "code",
   "execution_count": 2,
   "metadata": {},
   "outputs": [
    {
     "name": "stdout",
     "output_type": "stream",
     "text": [
      "Variable   Type      Data/Info\n",
      "------------------------------\n",
      "data2      module    <module 'school.dss.data2<...>n/B/school/dss/data2.py'>\n"
     ]
    }
   ],
   "source": [
    "%whos"
   ]
  },
  {
   "cell_type": "code",
   "execution_count": 4,
   "metadata": {},
   "outputs": [],
   "source": [
    "import sys"
   ]
  },
  {
   "cell_type": "code",
   "execution_count": 5,
   "metadata": {},
   "outputs": [
    {
     "name": "stdout",
     "output_type": "stream",
     "text": [
      "\n",
      "/usr/local/Cellar/python3/3.6.4_2/Frameworks/Python.framework/Versions/3.6/lib/python36.zip\n",
      "/usr/local/Cellar/python3/3.6.4_2/Frameworks/Python.framework/Versions/3.6/lib/python3.6\n",
      "/usr/local/Cellar/python3/3.6.4_2/Frameworks/Python.framework/Versions/3.6/lib/python3.6/lib-dynload\n",
      "/Users/rada/Library/Python/3.6/lib/python/site-packages\n",
      "/usr/local/Cellar/python3/3.6.4_2/Frameworks/Python.framework/Versions/3.6/lib/python3.6/site-packages\n",
      "/usr/local/Cellar/python3/3.6.4_2/Frameworks/Python.framework/Versions/3.6/lib/python3.6/site-packages/IPython/extensions\n",
      "/Users/rada/.ipython\n"
     ]
    }
   ],
   "source": [
    "for path in sys.path:\n",
    "    print(path)"
   ]
  },
  {
   "cell_type": "code",
   "execution_count": 6,
   "metadata": {},
   "outputs": [
    {
     "name": "stdout",
     "output_type": "stream",
     "text": [
      "LICENSE.txt                       mailcap.py\r\n",
      "__future__.py                     mimetypes.py\r\n",
      "__phello__.foo.py                 modulefinder.py\r\n",
      "\u001b[1m\u001b[36m__pycache__\u001b[m\u001b[m                       \u001b[1m\u001b[36mmultiprocessing\u001b[m\u001b[m\r\n",
      "_bootlocale.py                    netrc.py\r\n",
      "_collections_abc.py               nntplib.py\r\n",
      "_compat_pickle.py                 ntpath.py\r\n",
      "_compression.py                   nturl2path.py\r\n",
      "_dummy_thread.py                  numbers.py\r\n",
      "_markupbase.py                    opcode.py\r\n",
      "_osx_support.py                   operator.py\r\n",
      "_pydecimal.py                     optparse.py\r\n",
      "_pyio.py                          os.py\r\n",
      "_sitebuiltins.py                  pathlib.py\r\n",
      "_strptime.py                      \u001b[31mpdb.py\u001b[m\u001b[m\r\n",
      "_sysconfigdata_m_darwin_darwin.py pickle.py\r\n",
      "_threading_local.py               pickletools.py\r\n",
      "_weakrefset.py                    pipes.py\r\n",
      "abc.py                            pkgutil.py\r\n",
      "aifc.py                           \u001b[31mplatform.py\u001b[m\u001b[m\r\n",
      "antigravity.py                    plistlib.py\r",
      "\r\n",
      "argparse.py                       poplib.py\r\n",
      "ast.py                            posixpath.py\r\n",
      "asynchat.py                       pprint.py\r\n",
      "\u001b[1m\u001b[36masyncio\u001b[m\u001b[m                           \u001b[31mprofile.py\u001b[m\u001b[m\r\n",
      "asyncore.py                       pstats.py\r\n",
      "\u001b[31mbase64.py\u001b[m\u001b[m                         pty.py\r\n",
      "bdb.py                            py_compile.py\r\n",
      "binhex.py                         pyclbr.py\r\n",
      "bisect.py                         pydoc.py\r\n",
      "bz2.py                            \u001b[1m\u001b[36mpydoc_data\u001b[m\u001b[m\r\n",
      "\u001b[31mcProfile.py\u001b[m\u001b[m                       queue.py\r\n",
      "calendar.py                       \u001b[31mquopri.py\u001b[m\u001b[m\r\n",
      "\u001b[31mcgi.py\u001b[m\u001b[m                            random.py\r\n",
      "cgitb.py                          re.py\r\n",
      "chunk.py                          reprlib.py\r\n",
      "cmd.py                            rlcompleter.py\r\n",
      "code.py                           runpy.py\r\n",
      "codecs.py                         sched.py\r\n",
      "codeop.py                         secrets.py\r\n",
      "\u001b[1m\u001b[36mcollections\u001b[m\u001b[m                       selectors.py\r\n",
      "colorsys.py                       shelve.py\r\n",
      "compileall.py                     shlex.py\r\n",
      "\u001b[1m\u001b[36mconcurrent\u001b[m\u001b[m                        shutil.py\r\n",
      "\u001b[1m\u001b[36mconfig-3.6m-darwin\u001b[m\u001b[m                signal.py\r\n",
      "configparser.py                   \u001b[35msite-packages\u001b[m\u001b[m\r\n",
      "contextlib.py                     site.py\r\n",
      "copy.py                           \u001b[31msmtpd.py\u001b[m\u001b[m\r\n",
      "copyreg.py                        \u001b[31msmtplib.py\u001b[m\u001b[m\r\n",
      "crypt.py                          sndhdr.py\r\n",
      "csv.py                            socket.py\r\n",
      "\u001b[1m\u001b[36mctypes\u001b[m\u001b[m                            socketserver.py\r\n",
      "\u001b[1m\u001b[36mcurses\u001b[m\u001b[m                            \u001b[1m\u001b[36msqlite3\u001b[m\u001b[m\r\n",
      "datetime.py                       sre_compile.py\r\n",
      "\u001b[1m\u001b[36mdbm\u001b[m\u001b[m                               sre_constants.py\r\n",
      "decimal.py                        sre_parse.py\r\n",
      "difflib.py                        ssl.py\r\n",
      "dis.py                            stat.py\r\n",
      "\u001b[1m\u001b[36mdistutils\u001b[m\u001b[m                         statistics.py\r\n",
      "doctest.py                        string.py\r\n",
      "dummy_threading.py                stringprep.py\r\n",
      "\u001b[1m\u001b[36memail\u001b[m\u001b[m                             struct.py\r\n",
      "\u001b[1m\u001b[36mencodings\u001b[m\u001b[m                         subprocess.py\r\n",
      "\u001b[1m\u001b[36mensurepip\u001b[m\u001b[m                         sunau.py\r\n",
      "enum.py                           \u001b[31msymbol.py\u001b[m\u001b[m\r\n",
      "filecmp.py                        symtable.py\r\n",
      "fileinput.py                      sysconfig.py\r\n",
      "fnmatch.py                        \u001b[31mtabnanny.py\u001b[m\u001b[m\r\n",
      "formatter.py                      \u001b[31mtarfile.py\u001b[m\u001b[m\r\n",
      "fractions.py                      telnetlib.py\r\n",
      "ftplib.py                         tempfile.py\r\n",
      "functools.py                      \u001b[1m\u001b[36mtest\u001b[m\u001b[m\r\n",
      "genericpath.py                    textwrap.py\r\n",
      "getopt.py                         this.py\r\n",
      "getpass.py                        threading.py\r\n",
      "gettext.py                        \u001b[31mtimeit.py\u001b[m\u001b[m\r\n",
      "glob.py                           \u001b[1m\u001b[36mtkinter\u001b[m\u001b[m\r\n",
      "gzip.py                           token.py\r\n",
      "hashlib.py                        tokenize.py\r\n",
      "heapq.py                          \u001b[31mtrace.py\u001b[m\u001b[m\r\n",
      "hmac.py                           traceback.py\r\n",
      "\u001b[1m\u001b[36mhtml\u001b[m\u001b[m                              tracemalloc.py\r\n",
      "\u001b[1m\u001b[36mhttp\u001b[m\u001b[m                              tty.py\r\n",
      "\u001b[1m\u001b[36midlelib\u001b[m\u001b[m                           turtle.py\r\n",
      "imaplib.py                        \u001b[1m\u001b[36mturtledemo\u001b[m\u001b[m\r\n",
      "imghdr.py                         types.py\r\n",
      "imp.py                            typing.py\r\n",
      "\u001b[1m\u001b[36mimportlib\u001b[m\u001b[m                         \u001b[1m\u001b[36munittest\u001b[m\u001b[m\r\n",
      "inspect.py                        \u001b[1m\u001b[36murllib\u001b[m\u001b[m\r\n",
      "io.py                             \u001b[31muu.py\u001b[m\u001b[m\r\n",
      "ipaddress.py                      uuid.py\r\n",
      "\u001b[1m\u001b[36mjson\u001b[m\u001b[m                              \u001b[1m\u001b[36mvenv\u001b[m\u001b[m\r\n",
      "\u001b[31mkeyword.py\u001b[m\u001b[m                        warnings.py\r\n",
      "\u001b[1m\u001b[36mlib-dynload\u001b[m\u001b[m                       wave.py\r\n",
      "\u001b[1m\u001b[36mlib2to3\u001b[m\u001b[m                           weakref.py\r\n",
      "linecache.py                      \u001b[31mwebbrowser.py\u001b[m\u001b[m\r\n",
      "locale.py                         \u001b[1m\u001b[36mwsgiref\u001b[m\u001b[m\r\n",
      "\u001b[1m\u001b[36mlogging\u001b[m\u001b[m                           xdrlib.py\r\n",
      "lzma.py                           \u001b[1m\u001b[36mxml\u001b[m\u001b[m\r\n",
      "macpath.py                        \u001b[1m\u001b[36mxmlrpc\u001b[m\u001b[m\r\n",
      "macurl2path.py                    zipapp.py\r\n",
      "mailbox.py                        zipfile.py\r\n"
     ]
    }
   ],
   "source": [
    "!ls /usr/local/Cellar/python3/3.6.4_2/Frameworks/Python.framework/Versions/3.6/lib/python3.6"
   ]
  }
 ],
 "metadata": {
  "kernelspec": {
   "display_name": "Python 3",
   "language": "python",
   "name": "python3"
  },
  "language_info": {
   "codemirror_mode": {
    "name": "ipython",
    "version": 3
   },
   "file_extension": ".py",
   "mimetype": "text/x-python",
   "name": "python",
   "nbconvert_exporter": "python",
   "pygments_lexer": "ipython3",
   "version": "3.6.5"
  }
 },
 "nbformat": 4,
 "nbformat_minor": 2
}
