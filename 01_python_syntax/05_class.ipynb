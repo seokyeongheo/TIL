{
 "cells": [
  {
   "cell_type": "markdown",
   "metadata": {},
   "source": [
    "### 객체지향\n",
    "\n",
    "- **실제 세계를 모델링**해서 기능이 공통적인 부분을 묶어서 개발하는 방법을 이야기한다\n",
    "- 실제 세계와 비슷하게 모델링한다면, 사람이 인지하고 활용하는 속도가 빠를 수 있기 때문이다\n",
    "- **다형성, 캡슐화, 추상화, 상속** 등의 특징이 있다\n",
    "- 클래스와 함수는 규모가 다르다. 개발에 드는 비용을 줄여준다\n",
    "- 자바가 대표적 객체지향 언어이다"
   ]
  },
  {
   "cell_type": "markdown",
   "metadata": {},
   "source": [
    "## Class\n",
    "\n",
    "- 클래스(Class)는 **공통적 기능을 하는 변수와 함수를 묶는 사용자 정의 데이터 타입**이다\n",
    "- 클래스는 클래스와 객체로 이루어져 있다. 클래스를 실제로 사용하기 위해서는 객체 형태로 변환한 다음, 그 객체를 사용해야 한다\n",
    "- **클래스 : 설계도, 청사진 / 객체 : 클래스를 이용해서 만든 실제 물건, 물체**\n",
    "- 클래스의 구조 : 선언, 객체화\n",
    "- 생성자 : 클래스의 내부 구성\n",
    "- 상속 : 기능의 추가(?)\n",
    "    - 자바 같은 언어에서는 단일상속만 가능하다\n",
    "    - 그러나 파이썬에서는 다중상속, 단일상속 모두 가능하다\n",
    "- Super : 부모로부터 재료를 가져오는 것(?)\n",
    "- getter & setter :\n",
    "- private : 선언한 변수, 함수를 외부에서 사용하지 못하도록 한다\n",
    "- is a / has a\n",
    "- magic method(special method)\n",
    "\n",
    "```\n",
    "class handle:\n",
    "    변수..\n",
    "    함수..\n",
    "    \n",
    "obj = handle()\n",
    "obj.func1() \n",
    "```"
   ]
  },
  {
   "cell_type": "markdown",
   "metadata": {},
   "source": [
    "### 클래스 선언과 객체화\n",
    "\n",
    "```\n",
    "class <class_name(CamelCase)>(<상속받을 클래스명 1>, <상속 받을 클래스명 2>, ...):\n",
    "    변수..\n",
    "    함수.. 들을 정의한다\n",
    "\n",
    "# 클래스의 객체화 : cls를 이용해서 변수, 함수를 사용할 수 있다\n",
    "\n",
    "cls = <class_name>(변수나 함수의 식별자가 올 수 있다 - argument와 비슷)\n",
    "```\n",
    "\n",
    "- 같은 클래스를 객체화하더라도, 어떻게 하는지에 따라 결과가 다르다\n",
    "- \"string\", \"integer\"를 구분하는 것도 클래스에 의해 이루어진다"
   ]
  },
  {
   "cell_type": "code",
   "execution_count": 1,
   "metadata": {},
   "outputs": [],
   "source": [
    "# 계산기 클래스 선언\n",
    "\n",
    "class Calculator:\n",
    "    \n",
    "    # 두 개의 수를 입력 받는 함수\n",
    "    \n",
    "    def setdata(self, num1, num2):\n",
    "        self.num1 = num1\n",
    "        self.num2 = num2\n",
    "        \n",
    "    def plus(self):\n",
    "        return self.num1 + self.num2\n",
    "    \n",
    "    def minus(self):\n",
    "        return self.num1 - self.num2"
   ]
  },
  {
   "cell_type": "code",
   "execution_count": 3,
   "metadata": {},
   "outputs": [],
   "source": [
    "# 클래스의 객체화\n",
    "\n",
    "cal = Calculator()\n",
    "\n",
    "cal.setdata(1,2)"
   ]
  },
  {
   "cell_type": "code",
   "execution_count": 4,
   "metadata": {},
   "outputs": [
    {
     "data": {
      "text/plain": [
       "(3, -1)"
      ]
     },
     "execution_count": 4,
     "metadata": {},
     "output_type": "execute_result"
    }
   ],
   "source": [
    "cal.plus(), cal.minus()"
   ]
  },
  {
   "cell_type": "code",
   "execution_count": 7,
   "metadata": {},
   "outputs": [
    {
     "data": {
      "text/plain": [
       "(5, 6)"
      ]
     },
     "execution_count": 7,
     "metadata": {},
     "output_type": "execute_result"
    }
   ],
   "source": [
    "cal.num1, cal.num2"
   ]
  },
  {
   "cell_type": "code",
   "execution_count": 8,
   "metadata": {},
   "outputs": [],
   "source": [
    "# self - 객체 자신\n",
    "\n",
    "cal.setdata(3, 4) # 주로 사용하는 방식\n",
    "Calculator.setdata(cal, 5, 6) # cal 오브젝트를 생성한 다음 사용해야 한다 "
   ]
  },
  {
   "cell_type": "markdown",
   "metadata": {},
   "source": [
    "### Constructor(생성자)\n",
    "\n",
    "- 클래스가 객체화될 때, 변수의 초기값을 설정하는 역할을 한다\n",
    "- 생성자를 사용하는 이유는, **변수가 선언되지 않은 상태의 객체에서 함수를 사용하는 에러를 예방하기 위해서다**"
   ]
  },
  {
   "cell_type": "code",
   "execution_count": 27,
   "metadata": {},
   "outputs": [],
   "source": [
    "# 계산기 클래스 선언2(with 생성자) - 사용할 수 없는 객체는 아예 생성하지 않는다(메모리 할당 X)\n",
    "# 재료(parameter)가 없이는 객체화가 되지 않도록.\n",
    "# __init__ 객체가 생성될 때 바로 실행되는 함수. 사실상 모든 변수를 __init__ 함수(생성자)에서 다루어줘야 한다\n",
    "\n",
    "\n",
    "class Calculator2:\n",
    "    \n",
    "    # 두 개의 수를 입력 받는 함수\n",
    "    \n",
    "    def __init__(self, num1, num2):\n",
    "        self.num1 = num1\n",
    "        self.num2 = num2\n",
    "    \n",
    "    def setdata(self, num1, num2):\n",
    "        self.num1 = num1\n",
    "        self.num2 = num2\n",
    "        \n",
    "    def plus(self):\n",
    "        return self.num1 + self.num2\n",
    "    \n",
    "    def minus(self):\n",
    "        return self.num1 - self.num2"
   ]
  },
  {
   "cell_type": "code",
   "execution_count": 20,
   "metadata": {},
   "outputs": [
    {
     "data": {
      "text/plain": [
       "7"
      ]
     },
     "execution_count": 20,
     "metadata": {},
     "output_type": "execute_result"
    }
   ],
   "source": [
    "cal2 = Calculator2(3,4)\n",
    "cal2.plus()"
   ]
  },
  {
   "cell_type": "markdown",
   "metadata": {},
   "source": [
    "### 3.Inheritance - 상속\n",
    "\n",
    "- 기존 클래스에 기능을 추가할 때 사용한다\n",
    "- python은 단일상속, 다중상속 모두 지원한다\n",
    "- overinding, overloading은 다양성의 특징을 구현한다\n",
    "- overinding - 함수를 재정의한다\n",
    "- overloading - 같은 이름의 함수를 파라미터 수에 따라 다른 동작을 하게 하는 것을 의미한다\n",
    "\n",
    "```\n",
    "class A(): #parent\n",
    "    method - send_mail\n",
    "    \n",
    "class B(A): #child(?)\n",
    "    method - call_phone\n",
    "   \n",
    "class C(B): #child(?)\n",
    "    method - show_image\n",
    "\n",
    "class D:\n",
    "    method - wifi\n",
    "\n",
    "class E(A, D): # 다중상속\n",
    "    method - game\n",
    "\n",
    "A - send_mail\n",
    "B - send_mail, call_phone\n",
    "C - send-mail, call_phone, show_image\n",
    "D - wifi\n",
    "E - send_mail, wifi, game\n",
    "```\n",
    "- 여러 단계로 설계하면 너무 복잡해진다. 보통 3대까지 사용한다.\n",
    "- 다중상속으로 인해 method가 중복되는 경우, 맨 앞 혹은 맨 뒤 클래스의 method를 따라간다"
   ]
  },
  {
   "cell_type": "code",
   "execution_count": 23,
   "metadata": {},
   "outputs": [
    {
     "data": {
      "text/plain": [
       "10"
      ]
     },
     "execution_count": 23,
     "metadata": {},
     "output_type": "execute_result"
    }
   ],
   "source": [
    "def test(a=None):\n",
    "    if a == None:\n",
    "        return 10\n",
    "    else:\n",
    "        return a\n",
    "\n",
    "test()"
   ]
  },
  {
   "cell_type": "code",
   "execution_count": 31,
   "metadata": {},
   "outputs": [],
   "source": [
    "class ImprovedCalc(Calculator2):\n",
    "    def pow_func(self):\n",
    "        return self.num1 ** self.num2"
   ]
  },
  {
   "cell_type": "code",
   "execution_count": 32,
   "metadata": {},
   "outputs": [
    {
     "data": {
      "text/plain": [
       "8"
      ]
     },
     "execution_count": 32,
     "metadata": {},
     "output_type": "execute_result"
    }
   ],
   "source": [
    "ical = ImprovedCalc(2, 3)\n",
    "ical.pow_func()"
   ]
  },
  {
   "cell_type": "code",
   "execution_count": 49,
   "metadata": {},
   "outputs": [],
   "source": [
    "# 다중상속 - Human, Korean, Indian 클래스 샐성\n",
    "\n",
    "class Human:    \n",
    "    \n",
    "    def walk(self):\n",
    "        print(\"walking...\")\n",
    "    \n",
    "    \n",
    "class Korean:\n",
    "    \n",
    "    def eat(self):\n",
    "        print(\"eating kimchi...\")\n",
    "        \n",
    "        \n",
    "class Indian:\n",
    "    \n",
    "    def eat(self):\n",
    "        print(\"eating curry...\")"
   ]
  },
  {
   "cell_type": "code",
   "execution_count": 62,
   "metadata": {},
   "outputs": [],
   "source": [
    "class Sujin(Human, Korean):\n",
    "    \n",
    "    def skill(self):\n",
    "        print(\"coding\")\n",
    "\n",
    "    # overiding 구현. eating >> eating noodle. \n",
    "    # parents class에 convention method 넣고, child class에 개별적 method 넣기.\n",
    "    \n",
    "    def eat(self):\n",
    "        print(\"eating noodle...\")\n",
    "\n",
    "class Anchal(Human, Indian):\n",
    "    \n",
    "    def skill(self):\n",
    "        print(\"english\")\n",
    "        \n",
    "    def eat(self, place=None):\n",
    "        if place == None:\n",
    "            print(\"eating curry...\")\n",
    "        else:\n",
    "            print(\"eating curry in the\", place)"
   ]
  },
  {
   "cell_type": "code",
   "execution_count": 57,
   "metadata": {},
   "outputs": [],
   "source": [
    "j, a = Sujin(), Anchal()"
   ]
  },
  {
   "cell_type": "code",
   "execution_count": 58,
   "metadata": {},
   "outputs": [
    {
     "name": "stdout",
     "output_type": "stream",
     "text": [
      "walking...\n",
      "eating noodle...\n",
      "coding\n"
     ]
    },
    {
     "data": {
      "text/plain": [
       "(None, None, None)"
      ]
     },
     "execution_count": 58,
     "metadata": {},
     "output_type": "execute_result"
    }
   ],
   "source": [
    "j.walk(), j.eat(), j.skill()"
   ]
  },
  {
   "cell_type": "code",
   "execution_count": 64,
   "metadata": {},
   "outputs": [
    {
     "name": "stdout",
     "output_type": "stream",
     "text": [
      "walking...\n",
      "eating curry in the seoul\n",
      "english\n"
     ]
    },
    {
     "data": {
      "text/plain": [
       "(None, None, None)"
      ]
     },
     "execution_count": 64,
     "metadata": {},
     "output_type": "execute_result"
    }
   ],
   "source": [
    "a.walk(), a.eat(\"seoul\"), a.skill()"
   ]
  },
  {
   "cell_type": "markdown",
   "metadata": {},
   "source": [
    "### Super\n",
    "\n",
    "- 부모 클래스의 생성자 변수를 가져올 때 사용한다"
   ]
  },
  {
   "cell_type": "code",
   "execution_count": 96,
   "metadata": {},
   "outputs": [],
   "source": [
    "# starcraft 예제 - Human, Marine, Madic\n",
    "\n",
    "class Human:\n",
    "    \n",
    "    def __init__(self):\n",
    "        self.health = 40\n",
    "        \n",
    "    def set_health(self, val):\n",
    "        self.health += val"
   ]
  },
  {
   "cell_type": "code",
   "execution_count": 97,
   "metadata": {},
   "outputs": [],
   "source": [
    "# super : parents class의 생성자를 가져올 때 사용한다\n",
    "# super(Dataschoo, self).__init__(language, framework)\n",
    "\n",
    "class Marine(Human):\n",
    "    \n",
    "    def __init__(self):\n",
    "        super(Marine, self).__init__()\n",
    "        self.attack_power = 5\n",
    "        self.kill = 0\n",
    "    \n",
    "    def attack(self, obj):\n",
    "        obj.set_health(-self.attack_power)\n",
    "        \n",
    "        if obj.health <= 0:\n",
    "            obj.health = 0\n",
    "            self.kill += 1\n",
    "            return \"die\"\n",
    "        \n",
    "        return \"alive [health:{}]\".format(obj.health)"
   ]
  },
  {
   "cell_type": "code",
   "execution_count": 110,
   "metadata": {},
   "outputs": [],
   "source": [
    "m1, m2 = Marine(), Marine()"
   ]
  },
  {
   "cell_type": "code",
   "execution_count": 111,
   "metadata": {},
   "outputs": [
    {
     "data": {
      "text/plain": [
       "(40, 40)"
      ]
     },
     "execution_count": 111,
     "metadata": {},
     "output_type": "execute_result"
    }
   ],
   "source": [
    "m1.health, m2.health"
   ]
  },
  {
   "cell_type": "code",
   "execution_count": 108,
   "metadata": {},
   "outputs": [
    {
     "data": {
      "text/plain": [
       "'die'"
      ]
     },
     "execution_count": 108,
     "metadata": {},
     "output_type": "execute_result"
    }
   ],
   "source": [
    "m1.attack(m2)"
   ]
  },
  {
   "cell_type": "code",
   "execution_count": 132,
   "metadata": {},
   "outputs": [],
   "source": [
    "class Medic(Human):\n",
    "    \n",
    "    def __init__(self):\n",
    "        super(Medic, self).__init__()\n",
    "        self.heal_power = 3\n",
    "        self.heal = 0\n",
    "        \n",
    "    def heal(self, obj):\n",
    "        if obj.health == 0:\n",
    "            print(\"already die\")\n",
    "            return\n",
    "        \n",
    "        obj.set_health(self.heal_power)\n",
    "        \n",
    "        if obj.health >= 40:\n",
    "            obj.health = 40\n",
    "            self.heal += 1\n",
    "            return \"full charge\"\n",
    "        \n",
    "        return \"alive [health:{}]\".format(obj.health)"
   ]
  },
  {
   "cell_type": "code",
   "execution_count": 133,
   "metadata": {},
   "outputs": [],
   "source": [
    "m3, m4 = Medic(), Medic()"
   ]
  },
  {
   "cell_type": "code",
   "execution_count": 134,
   "metadata": {},
   "outputs": [
    {
     "data": {
      "text/plain": [
       "(40, 40)"
      ]
     },
     "execution_count": 134,
     "metadata": {},
     "output_type": "execute_result"
    }
   ],
   "source": [
    "m3.health, m4.health"
   ]
  },
  {
   "cell_type": "code",
   "execution_count": 121,
   "metadata": {},
   "outputs": [
    {
     "data": {
      "text/plain": [
       "'alive [health:5]'"
      ]
     },
     "execution_count": 121,
     "metadata": {},
     "output_type": "execute_result"
    }
   ],
   "source": [
    "m2.attack(m1)"
   ]
  },
  {
   "cell_type": "code",
   "execution_count": 135,
   "metadata": {},
   "outputs": [
    {
     "ename": "TypeError",
     "evalue": "'int' object is not callable",
     "output_type": "error",
     "traceback": [
      "\u001b[0;31m---------------------------------------------------------------------------\u001b[0m",
      "\u001b[0;31mTypeError\u001b[0m                                 Traceback (most recent call last)",
      "\u001b[0;32m<ipython-input-135-39e2c9a43b15>\u001b[0m in \u001b[0;36m<module>\u001b[0;34m()\u001b[0m\n\u001b[0;32m----> 1\u001b[0;31m \u001b[0mm3\u001b[0m\u001b[0;34m.\u001b[0m\u001b[0mheal\u001b[0m\u001b[0;34m(\u001b[0m\u001b[0mm1\u001b[0m\u001b[0;34m)\u001b[0m\u001b[0;34m\u001b[0m\u001b[0m\n\u001b[0m",
      "\u001b[0;31mTypeError\u001b[0m: 'int' object is not callable"
     ]
    }
   ],
   "source": [
    "m3.heal(m1)"
   ]
  },
  {
   "cell_type": "code",
   "execution_count": 152,
   "metadata": {},
   "outputs": [
    {
     "data": {
      "text/plain": [
       "[['ksb(김선빈)', '타석 : 476', '안타 : 176']]"
      ]
     },
     "execution_count": 152,
     "metadata": {},
     "output_type": "execute_result"
    }
   ],
   "source": [
    "# 퀴즈 - 아래의 데이터에서 리스트, 딕셔너리, 클래스로 데이터를 나타내는 프로그램 작성\n",
    "# 클래스로 나타낼 때는 타율을 계산하는 기능을 추가\n",
    "\n",
    "# ksb(김선빈) : 타석:476, 안타: 176\n",
    "# pgu(박건우) : 타석:483, 안타: 177\n",
    "# pmw(박민우) : 타석:388, 안타: 141\n",
    "\n",
    "# 리스트\n",
    "\n",
    "ls = [\n",
    "    [\"ksb(김선빈)\", \"타석 : 476\", \"안타 : 176\"]\n",
    "]\n",
    "\n",
    "ls\n",
    "\n",
    "# 수정\n",
    "\n"
   ]
  },
  {
   "cell_type": "code",
   "execution_count": 155,
   "metadata": {},
   "outputs": [
    {
     "data": {
      "text/plain": [
       "{'ksb(김선빈)': {'타석': 476, '안타': 176},\n",
       " 'pgw(박건우)': {'타석': 483, '안타': 177},\n",
       " 'pgw(박건빈)': {'타석': 483, '안타': 177}}"
      ]
     },
     "execution_count": 155,
     "metadata": {},
     "output_type": "execute_result"
    }
   ],
   "source": [
    "# 딕셔너리\n",
    "\n",
    "dic = {\n",
    "    \"ksb(김선빈)\" : {\n",
    "        \"타석\" : 476,\n",
    "        \"안타\" : 176,\n",
    "    },\n",
    "    \"pgw(박건우)\" : {\n",
    "        \"타석\" : 483,\n",
    "        \"안타\" : 177,\n",
    "    },\n",
    "    \"pgw(박건빈)\" : {\n",
    "        \"타석\" : 483,\n",
    "        \"안타\" : 177,\n",
    "    }\n",
    "}\n",
    "dic\n",
    "\n",
    "\n"
   ]
  },
  {
   "cell_type": "code",
   "execution_count": 162,
   "metadata": {},
   "outputs": [],
   "source": [
    "class Pro:\n",
    "    \n",
    "    def __init__(self, ab, hit):\n",
    "        self.ab = ab\n",
    "        self.hit = hit\n",
    "    \n",
    "    def avg(self):\n",
    "        return round(self.hit / self.ab, 3)"
   ]
  },
  {
   "cell_type": "code",
   "execution_count": 163,
   "metadata": {},
   "outputs": [
    {
     "data": {
      "text/plain": [
       "0.37"
      ]
     },
     "execution_count": 163,
     "metadata": {},
     "output_type": "execute_result"
    }
   ],
   "source": [
    "ksb = Pro(476, 176)\n",
    "ksb.avg()"
   ]
  },
  {
   "cell_type": "markdown",
   "metadata": {},
   "source": [
    "### getter & setter\n",
    "\n",
    "- OOP 객체지향 : 캡슬화, 은닉화 기능을 제공하기 위해 사용한다 \n",
    "- 클래스 -> 변수 : 클래스의 변수에 접근할 때 특정 함수를 거쳐서 접근하도록 하는 기능이다 \n",
    "- 캡슐화, 은닉화하려는 변수 만큼 함수가 필요하다\n",
    "- 사용 방법 : property, decorator"
   ]
  },
  {
   "cell_type": "code",
   "execution_count": 32,
   "metadata": {},
   "outputs": [],
   "source": [
    "# property 활용 : 함수를 실행해서, return 값을 가져오거나 명령을 실행하도록 한다\n",
    "\n",
    "class Person:\n",
    "    \n",
    "    def __init__(self, input_name1, input_name2):\n",
    "        self.hidden_name1 = input_name1\n",
    "        self.hidden_name2 = input_name2\n",
    "\n",
    "# Getter 함수\n",
    "    def disp_name1(self):\n",
    "        print(\"disp_name1\")\n",
    "        return self.hidden_name1.upper()\n",
    "    \n",
    "    def disp_name2(self):\n",
    "        print(\"disp_name2\")\n",
    "        return self.hidden_name2\n",
    "\n",
    "# Setter 함수\n",
    "    def setter1(self, input_name):\n",
    "        print(\"setter1\")\n",
    "        self.hidden_name1 = \"Mr. \" + input_name\n",
    "    \n",
    "    def setter2(self, input_name):\n",
    "        print(\"setter2\")\n",
    "        self.hidden_name2 = input_name\n",
    "\n",
    "    name1 = property(disp_name1, setter1)\n",
    "    name2 = property(disp_name2, setter2)"
   ]
  },
  {
   "cell_type": "code",
   "execution_count": 33,
   "metadata": {},
   "outputs": [],
   "source": [
    "p = Person(\"Heo\", \"seokyeong\")"
   ]
  },
  {
   "cell_type": "code",
   "execution_count": 34,
   "metadata": {},
   "outputs": [
    {
     "data": {
      "text/plain": [
       "('Heo', 'seokyeong')"
      ]
     },
     "execution_count": 34,
     "metadata": {},
     "output_type": "execute_result"
    }
   ],
   "source": [
    "# direct\n",
    "\n",
    "p.hidden_name1, p.hidden_name2"
   ]
  },
  {
   "cell_type": "code",
   "execution_count": 35,
   "metadata": {},
   "outputs": [
    {
     "name": "stdout",
     "output_type": "stream",
     "text": [
      "disp_name1\n",
      "disp_name2\n"
     ]
    },
    {
     "data": {
      "text/plain": [
       "('HEO', 'seokyeong')"
      ]
     },
     "execution_count": 35,
     "metadata": {},
     "output_type": "execute_result"
    }
   ],
   "source": [
    "# getter를 이용한 접근\n",
    "\n",
    "p.name1, p.name2"
   ]
  },
  {
   "cell_type": "code",
   "execution_count": 36,
   "metadata": {},
   "outputs": [
    {
     "name": "stdout",
     "output_type": "stream",
     "text": [
      "setter1\n",
      "disp_name1\n"
     ]
    },
    {
     "data": {
      "text/plain": [
       "'MR. LEE'"
      ]
     },
     "execution_count": 36,
     "metadata": {},
     "output_type": "execute_result"
    }
   ],
   "source": [
    "p.name1 = \"Lee\"\n",
    "p.name1"
   ]
  },
  {
   "cell_type": "code",
   "execution_count": 46,
   "metadata": {},
   "outputs": [],
   "source": [
    "# decolator 활용\n",
    "\n",
    "class Person:\n",
    "    def __init__(self, input_name):\n",
    "        self.hidden_name = input_name\n",
    "    \n",
    "    @property\n",
    "    def name(self):\n",
    "        return self.hidden_name\n",
    "    \n",
    "    @name.setter\n",
    "    def name(self, input_name):\n",
    "        self.hidden_name = input_name"
   ]
  },
  {
   "cell_type": "code",
   "execution_count": 47,
   "metadata": {},
   "outputs": [
    {
     "data": {
      "text/plain": [
       "'Seokyeong'"
      ]
     },
     "execution_count": 47,
     "metadata": {},
     "output_type": "execute_result"
    }
   ],
   "source": [
    "p = Person(\"Seokyeong\")\n",
    "p.hidden_name"
   ]
  },
  {
   "cell_type": "markdown",
   "metadata": {},
   "source": [
    "### private\n",
    "\n",
    "- 클래스 내부 변수에 다이렉트로 접근하지 못하도록 하는 기능이다\n",
    "- 메서드를 포함한 기능을 은닉하고 싶을 때 사용한다\n",
    "- mangling(맹글링) : 클래스 생성자에서 변수 선언시 앞에 `__`를 추가한다.\n",
    "- 완벽하게 접근을 차단하지 못한다.\n",
    "    - ```{객체}._{클래스명}{변수명}```\n",
    "    - 앞에 `_{클래스}`를 넣어서 불러올 수 있다"
   ]
  },
  {
   "cell_type": "code",
   "execution_count": 2,
   "metadata": {},
   "outputs": [],
   "source": [
    "# 맹글링 활용\n",
    "\n",
    "class Person:\n",
    "    def __init__(self, input_name):\n",
    "        self.__hidden_name = input_name\n",
    "    \n",
    "    @property\n",
    "    def name(self):\n",
    "        return self.hidden_name\n",
    "    \n",
    "    @name.setter\n",
    "    def name(self, input_name):\n",
    "        self.hidden_name = input_name"
   ]
  },
  {
   "cell_type": "code",
   "execution_count": 3,
   "metadata": {},
   "outputs": [
    {
     "data": {
      "text/plain": [
       "'Sujin'"
      ]
     },
     "execution_count": 3,
     "metadata": {},
     "output_type": "execute_result"
    }
   ],
   "source": [
    "p = Person(\"Sujin\")\n",
    "p._Person__hidden_name"
   ]
  },
  {
   "cell_type": "code",
   "execution_count": 4,
   "metadata": {},
   "outputs": [
    {
     "ename": "AttributeError",
     "evalue": "'Person' object has no attribute '__hidden_name'",
     "output_type": "error",
     "traceback": [
      "\u001b[0;31m---------------------------------------------------------------------------\u001b[0m",
      "\u001b[0;31mAttributeError\u001b[0m                            Traceback (most recent call last)",
      "\u001b[0;32m<ipython-input-4-644e9aeb981a>\u001b[0m in \u001b[0;36m<module>\u001b[0;34m()\u001b[0m\n\u001b[0;32m----> 1\u001b[0;31m \u001b[0mp\u001b[0m\u001b[0;34m.\u001b[0m\u001b[0m__hidden_name\u001b[0m\u001b[0;34m\u001b[0m\u001b[0m\n\u001b[0m",
      "\u001b[0;31mAttributeError\u001b[0m: 'Person' object has no attribute '__hidden_name'"
     ]
    }
   ],
   "source": [
    "p.__hidden_name"
   ]
  },
  {
   "cell_type": "code",
   "execution_count": null,
   "metadata": {},
   "outputs": [],
   "source": [
    "# private function"
   ]
  },
  {
   "cell_type": "code",
   "execution_count": null,
   "metadata": {},
   "outputs": [],
   "source": []
  },
  {
   "cell_type": "markdown",
   "metadata": {},
   "source": [
    "### is a / has a\n",
    "\n",
    "- 클래스들을 설계할 때 사용되는 방법론, 개념\n",
    "- is a\n",
    "    - A is a B = A는 B이다\n",
    "    - 상속 이용\n",
    "- has a\n",
    "    - A has a B = A는 B를 가지고 있다\n",
    "    - 객체 안의 변수로 객체를 가진다\n"
   ]
  },
  {
   "cell_type": "code",
   "execution_count": null,
   "metadata": {},
   "outputs": [],
   "source": [
    "# person - name, email"
   ]
  },
  {
   "cell_type": "code",
   "execution_count": 58,
   "metadata": {},
   "outputs": [],
   "source": [
    "# is - a\n",
    "\n",
    "class Info:\n",
    "    \n",
    "    def __init__(self, name, email):\n",
    "        self.name = name\n",
    "        self.email = email\n",
    "    \n",
    "\n",
    "class Person(Info):\n",
    "    \n",
    "    def about(self):\n",
    "        return self.name, self.email"
   ]
  },
  {
   "cell_type": "code",
   "execution_count": 59,
   "metadata": {},
   "outputs": [],
   "source": [
    "p = Person(\"Seokyeong\", \"syh602@gmail.com\")"
   ]
  },
  {
   "cell_type": "code",
   "execution_count": 60,
   "metadata": {},
   "outputs": [
    {
     "data": {
      "text/plain": [
       "('Seokyeong', 'syh602@gmail.com')"
      ]
     },
     "execution_count": 60,
     "metadata": {},
     "output_type": "execute_result"
    }
   ],
   "source": [
    "p.about()"
   ]
  },
  {
   "cell_type": "code",
   "execution_count": 64,
   "metadata": {},
   "outputs": [],
   "source": [
    "# has - a\n",
    "\n",
    "class Name:\n",
    "    \n",
    "    def __init__(self, name):\n",
    "        self.name = name\n",
    "    \n",
    "\n",
    "class Email:\n",
    "    \n",
    "    def __init__(self, email):\n",
    "        self.email = email\n",
    "        \n",
    "\n",
    "class Person:\n",
    "    \n",
    "    def __init__(self, name, email):\n",
    "        self.name_obj = name\n",
    "        self.email_obj = email\n",
    "    \n",
    "    def about(self):\n",
    "        return self.name_obj.name, self.email_obj.email"
   ]
  },
  {
   "cell_type": "code",
   "execution_count": 65,
   "metadata": {},
   "outputs": [],
   "source": [
    "name = Name(\"seokyeong\")\n",
    "email = Email(\"syh602@gmail.com\")"
   ]
  },
  {
   "cell_type": "code",
   "execution_count": 66,
   "metadata": {},
   "outputs": [
    {
     "data": {
      "text/plain": [
       "('seokyeong', 'syh602@gmail.com')"
      ]
     },
     "execution_count": 66,
     "metadata": {},
     "output_type": "execute_result"
    }
   ],
   "source": [
    "p = Person(name, email)\n",
    "p.about()"
   ]
  },
  {
   "cell_type": "markdown",
   "metadata": {},
   "source": [
    "### 매직 메서드(Magic Method)\n",
    "\n",
    "- 비교(Compare)\n",
    "        - `__eq__` : == (EQual)\n",
    "        - `__ne__` : != (Not Equal)\n",
    "        - `__lt__` : <\n",
    "        - `__gt__` : >\n",
    "        - `__le__` : <= (Less than Equal)\n",
    "        - `__ge__` : >= (Greater than Equal\n",
    "        \n",
    "- 연산\n",
    "        - `__add__` : +\n",
    "        - `__sub__` : -\n",
    "        - `__mul__` : *\n",
    "        - `__pow__` : **\n",
    "        - ...\n",
    "\n",
    "- `__repr__`, `__str__`, `__len__` ..."
   ]
  },
  {
   "cell_type": "code",
   "execution_count": 72,
   "metadata": {},
   "outputs": [],
   "source": [
    "# __eq__ : 기존의 \"==\"의 기능을 다른 것으로 바꾼다. \n",
    "# 일반적 obj는 ==를 사용할 때 주소값을 비교한다. 그러나 다른 것으로 바꿀 수 있다\n",
    "\n",
    "class Txt:\n",
    "    \n",
    "    def __init__(self, txt):\n",
    "        self.txt = txt\n",
    "        \n",
    "    def equals(self, txt_obj):\n",
    "        return self.txt.lower() == txt_obj.txt.lower()"
   ]
  },
  {
   "cell_type": "code",
   "execution_count": 73,
   "metadata": {},
   "outputs": [],
   "source": [
    "txt1 = Txt(\"fast\")\n",
    "txt2 = Txt(\"FAST\")\n",
    "txt3 = Txt(\"Data\")\n",
    "txt4 = Txt(\"fast\")\n",
    "txt = txt1"
   ]
  },
  {
   "cell_type": "code",
   "execution_count": 74,
   "metadata": {},
   "outputs": [
    {
     "data": {
      "text/plain": [
       "True"
      ]
     },
     "execution_count": 74,
     "metadata": {},
     "output_type": "execute_result"
    }
   ],
   "source": [
    "txt1.equals(txt2)"
   ]
  },
  {
   "cell_type": "code",
   "execution_count": 75,
   "metadata": {},
   "outputs": [],
   "source": [
    "class Txt:\n",
    "    \n",
    "    def __init__(self, txt):\n",
    "        self.txt = txt\n",
    "    \n",
    "    def equals(self, txt_obj):\n",
    "        return self.txt.lower() == txt_obj.txt.lower()"
   ]
  },
  {
   "cell_type": "code",
   "execution_count": 82,
   "metadata": {},
   "outputs": [
    {
     "data": {
      "text/plain": [
       "['b', 'c']"
      ]
     },
     "execution_count": 82,
     "metadata": {},
     "output_type": "execute_result"
    }
   ],
   "source": [
    "# __ne__\n",
    "\n",
    "ls = [\"a\", \"b\", \"a\", \"c\", \"a\"]\n",
    "s = \"a\"\n",
    "\n",
    "ls = [data for data in ls if data != s]\n",
    "ls"
   ]
  },
  {
   "cell_type": "code",
   "execution_count": 85,
   "metadata": {},
   "outputs": [
    {
     "data": {
      "text/plain": [
       "['b', 'c']"
      ]
     },
     "execution_count": 85,
     "metadata": {},
     "output_type": "execute_result"
    }
   ],
   "source": [
    "# __ne__\n",
    "\n",
    "ls = [\"a\", \"b\", \"a\", \"c\", \"a\"]\n",
    "s = \"a\"\n",
    "\n",
    "list(filter(s.__ne__, ls))"
   ]
  },
  {
   "cell_type": "code",
   "execution_count": 93,
   "metadata": {},
   "outputs": [
    {
     "data": {
      "text/plain": [
       "(5, 6)"
      ]
     },
     "execution_count": 93,
     "metadata": {},
     "output_type": "execute_result"
    }
   ],
   "source": [
    "# __add__\n",
    "\n",
    "txt = 2\n",
    "p2p = 3\n",
    "\n",
    "2 + 3, (3).__add__(3)"
   ]
  },
  {
   "cell_type": "code",
   "execution_count": 94,
   "metadata": {},
   "outputs": [],
   "source": [
    "class Number:\n",
    "    def __init__(self, num):\n",
    "        self.num = num\n",
    "    \n",
    "    def __add__(self, ohter_obj):\n",
    "        return self.num + other_obj.num\n",
    "    \n",
    "class Number2:\n",
    "    \n",
    "    def __init__(self, num):\n",
    "        self.num = num\n",
    "        \n",
    "    def __add__(self, other_obj):\n",
    "        return self.num - other_obj.num"
   ]
  },
  {
   "cell_type": "code",
   "execution_count": 95,
   "metadata": {},
   "outputs": [
    {
     "data": {
      "text/plain": [
       "-1"
      ]
     },
     "execution_count": 95,
     "metadata": {},
     "output_type": "execute_result"
    }
   ],
   "source": [
    "n1 = Number2(2)\n",
    "n2 = Number2(3)\n",
    "n1 + n2"
   ]
  },
  {
   "cell_type": "markdown",
   "metadata": {},
   "source": [
    "### __str__, __repr__\n",
    "\n",
    "- `__str__` : 값을 출력할 때 사용한다 (사용자 대상)\n",
    "- `__repr__` : 객체를 출력할 때 사용한다 (개발자 대상), 그냥 실행하면 같은 객체가 만들어 지도록 출력한다"
   ]
  },
  {
   "cell_type": "code",
   "execution_count": 107,
   "metadata": {},
   "outputs": [],
   "source": [
    "class Number:\n",
    "    \n",
    "    def __init__(self, num):\n",
    "        self.num = num\n",
    "\n",
    "    def __str__(self):\n",
    "        return str(self.num) + \"입니다.\"\n",
    "    \n",
    "    def __repr__(self):\n",
    "        return str(str(self.num))"
   ]
  },
  {
   "cell_type": "code",
   "execution_count": 108,
   "metadata": {},
   "outputs": [],
   "source": [
    "n = Number(5)"
   ]
  },
  {
   "cell_type": "code",
   "execution_count": 104,
   "metadata": {},
   "outputs": [
    {
     "name": "stdout",
     "output_type": "stream",
     "text": [
      "5입니다.\n"
     ]
    }
   ],
   "source": [
    "# __str__ \n",
    "print(n)"
   ]
  },
  {
   "cell_type": "code",
   "execution_count": 109,
   "metadata": {},
   "outputs": [
    {
     "data": {
      "text/plain": [
       "5"
      ]
     },
     "execution_count": 109,
     "metadata": {},
     "output_type": "execute_result"
    }
   ],
   "source": [
    "# __repr __\n",
    "n"
   ]
  },
  {
   "cell_type": "code",
   "execution_count": 113,
   "metadata": {},
   "outputs": [],
   "source": [
    "int.__eq__?"
   ]
  },
  {
   "cell_type": "code",
   "execution_count": null,
   "metadata": {},
   "outputs": [],
   "source": []
  }
 ],
 "metadata": {
  "kernelspec": {
   "display_name": "Python 3",
   "language": "python",
   "name": "python3"
  },
  "language_info": {
   "codemirror_mode": {
    "name": "ipython",
    "version": 3
   },
   "file_extension": ".py",
   "mimetype": "text/x-python",
   "name": "python",
   "nbconvert_exporter": "python",
   "pygments_lexer": "ipython3",
   "version": "3.6.5"
  }
 },
 "nbformat": 4,
 "nbformat_minor": 2
}
