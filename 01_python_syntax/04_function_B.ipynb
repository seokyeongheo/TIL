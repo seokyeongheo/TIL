{
 "cells": [
  {
   "cell_type": "markdown",
   "metadata": {},
   "source": [
    "### Function\n",
    "- 선언, 호출\n",
    "- parameter, argument 개념\n",
    "- return\n",
    "- `*args`, `**kwargs`\n",
    "- docstring\n",
    "- scope (global, local)\n",
    "- inner function\n",
    "- lambda funtion\n",
    "- map, filter, reduce\n",
    "- decorlator"
   ]
  },
  {
   "cell_type": "markdown",
   "metadata": {},
   "source": [
    "##### 선언, 호출\n",
    "```\n",
    "# 선언\n",
    "def <function_name>():\n",
    "    code\n",
    "``` \n",
    "```\n",
    "# 호출\n",
    "<function_name>()\n",
    "```"
   ]
  },
  {
   "cell_type": "code",
   "execution_count": 1,
   "metadata": {},
   "outputs": [
    {
     "name": "stdout",
     "output_type": "stream",
     "text": [
      "this is test function!\n"
     ]
    }
   ],
   "source": [
    "# 선언\n",
    "def test():\n",
    "    print(\"this is test function!\")\n",
    "\n",
    "# 호출\n",
    "test()"
   ]
  },
  {
   "cell_type": "code",
   "execution_count": 4,
   "metadata": {},
   "outputs": [
    {
     "data": {
      "text/plain": [
       "(function, str)"
      ]
     },
     "execution_count": 4,
     "metadata": {},
     "output_type": "execute_result"
    }
   ],
   "source": [
    "s = \"data\"\n",
    "type(test), type(s)"
   ]
  },
  {
   "cell_type": "code",
   "execution_count": 6,
   "metadata": {},
   "outputs": [
    {
     "name": "stdout",
     "output_type": "stream",
     "text": [
      "this is test function!\n"
     ]
    }
   ],
   "source": [
    "test()"
   ]
  },
  {
   "cell_type": "code",
   "execution_count": 5,
   "metadata": {},
   "outputs": [
    {
     "name": "stdout",
     "output_type": "stream",
     "text": [
      "data\n"
     ]
    }
   ],
   "source": [
    "print(s)"
   ]
  },
  {
   "cell_type": "markdown",
   "metadata": {},
   "source": [
    "##### parameter & argument"
   ]
  },
  {
   "cell_type": "code",
   "execution_count": 11,
   "metadata": {},
   "outputs": [
    {
     "name": "stdout",
     "output_type": "stream",
     "text": [
      "7\n"
     ]
    }
   ],
   "source": [
    "# parameters\n",
    "def sum_func(a, b):\n",
    "    print(a + b)\n",
    "\n",
    "# arguments\n",
    "num1, num2 = 2, 5\n",
    "sum_func(num1, num2)"
   ]
  },
  {
   "cell_type": "code",
   "execution_count": 15,
   "metadata": {},
   "outputs": [
    {
     "name": "stdout",
     "output_type": "stream",
     "text": [
      "5.0\n"
     ]
    }
   ],
   "source": [
    "# keyword argument\n",
    "def div_func(a, b):\n",
    "    print(a / b)\n",
    "\n",
    "div_func(b=2, a=10)"
   ]
  },
  {
   "cell_type": "code",
   "execution_count": 26,
   "metadata": {},
   "outputs": [
    {
     "name": "stdout",
     "output_type": "stream",
     "text": [
      "17\n"
     ]
    }
   ],
   "source": [
    "# default parameter\n",
    "def sum_func(num0, num1, num2=0, num3=10):\n",
    "    print(num1 + num2 + num3)\n",
    "\n",
    "sum_func(1, 3, 4)"
   ]
  },
  {
   "cell_type": "markdown",
   "metadata": {},
   "source": [
    "##### Return\n",
    "- 함수를 호출했을때 결과를 반환하는 용도로 사용합니다."
   ]
  },
  {
   "cell_type": "code",
   "execution_count": 27,
   "metadata": {},
   "outputs": [],
   "source": [
    "def sum_func(num1, num2):\n",
    "    return num1 + num2"
   ]
  },
  {
   "cell_type": "code",
   "execution_count": 33,
   "metadata": {},
   "outputs": [
    {
     "data": {
      "text/plain": [
       "3"
      ]
     },
     "execution_count": 33,
     "metadata": {},
     "output_type": "execute_result"
    }
   ],
   "source": [
    "result = sum_func(1,2)\n",
    "result"
   ]
  },
  {
   "cell_type": "code",
   "execution_count": 34,
   "metadata": {},
   "outputs": [],
   "source": [
    "def calc_func(num1, num2):\n",
    "    return num1 + num2, num1 - num2"
   ]
  },
  {
   "cell_type": "code",
   "execution_count": 38,
   "metadata": {},
   "outputs": [
    {
     "data": {
      "text/plain": [
       "(7, 3)"
      ]
     },
     "execution_count": 38,
     "metadata": {},
     "output_type": "execute_result"
    }
   ],
   "source": [
    "result_1, result_2 = calc_func(5, 2)"
   ]
  },
  {
   "cell_type": "code",
   "execution_count": 39,
   "metadata": {},
   "outputs": [
    {
     "name": "stdout",
     "output_type": "stream",
     "text": [
      "7 3\n"
     ]
    }
   ],
   "source": [
    "print(result_1, result_2)"
   ]
  },
  {
   "cell_type": "markdown",
   "metadata": {},
   "source": [
    "##### `*args`, `**kwargs`\n",
    "- `*` 전부, 모두, All"
   ]
  },
  {
   "cell_type": "code",
   "execution_count": 53,
   "metadata": {},
   "outputs": [
    {
     "name": "stdout",
     "output_type": "stream",
     "text": [
      "1 3 5 7 9\n",
      "<class 'tuple'>\n",
      "1 3\n"
     ]
    },
    {
     "data": {
      "text/plain": [
       "25"
      ]
     },
     "execution_count": 53,
     "metadata": {},
     "output_type": "execute_result"
    }
   ],
   "source": [
    "# *args\n",
    "def sum_func(*args):\n",
    "    print(*args)\n",
    "    print(type(args))\n",
    "    print(args[0], args[1])\n",
    "    return sum(args)\n",
    "\n",
    "sum_func(1, 3, 5, 7, 9)"
   ]
  },
  {
   "cell_type": "code",
   "execution_count": 57,
   "metadata": {},
   "outputs": [
    {
     "name": "stdout",
     "output_type": "stream",
     "text": [
      "{'num1': 1, 'num2': 2}\n",
      "<class 'dict'>\n",
      "1 2\n"
     ]
    }
   ],
   "source": [
    "# **kwargs\n",
    "def sum_func(**kwargs):\n",
    "    print(kwargs)\n",
    "    print(type(kwargs))\n",
    "    print(kwargs[\"num1\"], kwargs[\"num2\"])\n",
    "    \n",
    "sum_func(num1=1, num2=2)"
   ]
  },
  {
   "cell_type": "code",
   "execution_count": 58,
   "metadata": {},
   "outputs": [
    {
     "name": "stdout",
     "output_type": "stream",
     "text": [
      "(1, 2, 3)\n",
      "{'num1': 2, 'num2': 3}\n"
     ]
    }
   ],
   "source": [
    "# 키워드가 없는 아규먼트들은 args로 받아지고,\n",
    "# 키워드가 있는 아규먼트들은 kwargs받아 집니다.\n",
    "def fun(*args, **kwargs):\n",
    "    print(args)\n",
    "    print(kwargs)\n",
    "    \n",
    "fun(1, 2, 3, num1=2, num2=3)"
   ]
  },
  {
   "cell_type": "code",
   "execution_count": 63,
   "metadata": {},
   "outputs": [
    {
     "name": "stdout",
     "output_type": "stream",
     "text": [
      "(1, 2, 3)\n"
     ]
    }
   ],
   "source": [
    "# argument에 * 사용\n",
    "def test(*args):\n",
    "    print(args)\n",
    "\n",
    "ls = [1,2,3]\n",
    "test(*ls)"
   ]
  },
  {
   "cell_type": "markdown",
   "metadata": {},
   "source": [
    "##### docstring\n",
    "- 함수를 설명할때 사용됩니다.\n",
    "```\n",
    "def <function_name>():\n",
    "    \"\"\"\n",
    "    description\n",
    "    \"\"\"\n",
    "```\n",
    "- PEP20 : Zen of Python\n",
    " - readablity counts : 가독성은 중요하다. \n",
    "- PEP8 : coding convention"
   ]
  },
  {
   "cell_type": "code",
   "execution_count": 64,
   "metadata": {},
   "outputs": [
    {
     "name": "stdout",
     "output_type": "stream",
     "text": [
      "The Zen of Python, by Tim Peters\n",
      "\n",
      "Beautiful is better than ugly.\n",
      "Explicit is better than implicit.\n",
      "Simple is better than complex.\n",
      "Complex is better than complicated.\n",
      "Flat is better than nested.\n",
      "Sparse is better than dense.\n",
      "Readability counts.\n",
      "Special cases aren't special enough to break the rules.\n",
      "Although practicality beats purity.\n",
      "Errors should never pass silently.\n",
      "Unless explicitly silenced.\n",
      "In the face of ambiguity, refuse the temptation to guess.\n",
      "There should be one-- and preferably only one --obvious way to do it.\n",
      "Although that way may not be obvious at first unless you're Dutch.\n",
      "Now is better than never.\n",
      "Although never is often better than *right* now.\n",
      "If the implementation is hard to explain, it's a bad idea.\n",
      "If the implementation is easy to explain, it may be a good idea.\n",
      "Namespaces are one honking great idea -- let's do more of those!\n"
     ]
    }
   ],
   "source": [
    "import this"
   ]
  },
  {
   "cell_type": "code",
   "execution_count": 71,
   "metadata": {},
   "outputs": [],
   "source": [
    "def echo(anything):\n",
    "    \"\"\"\n",
    "    echo returns its input argument\n",
    "    the operation is:\n",
    "        1. print (anything)\n",
    "        2. return (anything)\n",
    "    \"\"\"\n",
    "    print(anything)\n",
    "    return anything"
   ]
  },
  {
   "cell_type": "code",
   "execution_count": 72,
   "metadata": {},
   "outputs": [
    {
     "name": "stdout",
     "output_type": "stream",
     "text": [
      "dss\n"
     ]
    },
    {
     "data": {
      "text/plain": [
       "'dss'"
      ]
     },
     "execution_count": 72,
     "metadata": {},
     "output_type": "execute_result"
    }
   ],
   "source": [
    "echo(\"dss\")"
   ]
  },
  {
   "cell_type": "code",
   "execution_count": 73,
   "metadata": {},
   "outputs": [],
   "source": [
    "# only docstring\n",
    "echo?"
   ]
  },
  {
   "cell_type": "code",
   "execution_count": 74,
   "metadata": {},
   "outputs": [],
   "source": [
    "# docstring with code\n",
    "echo??"
   ]
  },
  {
   "cell_type": "code",
   "execution_count": 75,
   "metadata": {},
   "outputs": [
    {
     "name": "stdout",
     "output_type": "stream",
     "text": [
      "Help on function echo in module __main__:\n",
      "\n",
      "echo(anything)\n",
      "    echo returns its input argument\n",
      "    the operation is:\n",
      "        1. print (anything)\n",
      "        2. return (anything)\n",
      "\n"
     ]
    }
   ],
   "source": [
    "# help\n",
    "help(echo)"
   ]
  },
  {
   "cell_type": "markdown",
   "metadata": {},
   "source": [
    "##### Scope\n",
    "- global, local"
   ]
  },
  {
   "cell_type": "code",
   "execution_count": 76,
   "metadata": {},
   "outputs": [
    {
     "name": "stdout",
     "output_type": "stream",
     "text": [
      "10\n"
     ]
    }
   ],
   "source": [
    "# global\n",
    "gv = 10\n",
    "def print_gv():\n",
    "    print(gv)\n",
    "print_gv()"
   ]
  },
  {
   "cell_type": "code",
   "execution_count": 78,
   "metadata": {},
   "outputs": [
    {
     "name": "stdout",
     "output_type": "stream",
     "text": [
      "100\n"
     ]
    }
   ],
   "source": [
    "gv = 10\n",
    "def print_gv():\n",
    "    gv = 100\n",
    "    print(gv)\n",
    "print_gv()"
   ]
  },
  {
   "cell_type": "code",
   "execution_count": 79,
   "metadata": {},
   "outputs": [
    {
     "data": {
      "text/plain": [
       "10"
      ]
     },
     "execution_count": 79,
     "metadata": {},
     "output_type": "execute_result"
    }
   ],
   "source": [
    "gv"
   ]
  },
  {
   "cell_type": "code",
   "execution_count": 5,
   "metadata": {},
   "outputs": [
    {
     "name": "stdout",
     "output_type": "stream",
     "text": [
      "10 20\n"
     ]
    }
   ],
   "source": [
    "gv = 10\n",
    "gv2 = 20\n",
    "def print_gv():\n",
    "    gv = 100\n",
    "    gv2 = 200\n",
    "    print(globals()[\"gv\"], globals()[\"gv2\"])\n",
    "print_gv()"
   ]
  },
  {
   "cell_type": "code",
   "execution_count": 9,
   "metadata": {},
   "outputs": [
    {
     "name": "stdout",
     "output_type": "stream",
     "text": [
      "{'gv2': 200, 'gv': 100, 'test': <function print_gv.<locals>.test at 0x11367dd90>}\n"
     ]
    }
   ],
   "source": [
    "gv = 10\n",
    "gv2 = 20\n",
    "def print_gv():\n",
    "    \n",
    "    def test():\n",
    "        print(1)\n",
    "        \n",
    "    gv = 100\n",
    "    gv2 = 200\n",
    "    print(locals())\n",
    "print_gv()"
   ]
  },
  {
   "cell_type": "code",
   "execution_count": 10,
   "metadata": {},
   "outputs": [
    {
     "name": "stdout",
     "output_type": "stream",
     "text": [
      "100\n"
     ]
    }
   ],
   "source": [
    "# global\n",
    "gv = 10\n",
    "def change_gv():\n",
    "    global gv\n",
    "    gv = 100\n",
    "    print(gv)\n",
    "change_gv()"
   ]
  },
  {
   "cell_type": "code",
   "execution_count": 11,
   "metadata": {},
   "outputs": [
    {
     "data": {
      "text/plain": [
       "100"
      ]
     },
     "execution_count": 11,
     "metadata": {},
     "output_type": "execute_result"
    }
   ],
   "source": [
    "gv"
   ]
  },
  {
   "cell_type": "markdown",
   "metadata": {},
   "source": [
    "##### inner function\n",
    "- global : 전역 - 전역함수, 전역변수\n",
    "- local : 지역 - 지역함수, 지역변수\n",
    "- 지역함수, 익명함수"
   ]
  },
  {
   "cell_type": "code",
   "execution_count": 12,
   "metadata": {},
   "outputs": [],
   "source": [
    "def outer(a, b):\n",
    "    \n",
    "    def inner(c, d):\n",
    "        return c + d\n",
    "    \n",
    "    return inner(a, b)"
   ]
  },
  {
   "cell_type": "code",
   "execution_count": 13,
   "metadata": {},
   "outputs": [
    {
     "data": {
      "text/plain": [
       "3"
      ]
     },
     "execution_count": 13,
     "metadata": {},
     "output_type": "execute_result"
    }
   ],
   "source": [
    "outer(1, 2)"
   ]
  },
  {
   "cell_type": "code",
   "execution_count": 12,
   "metadata": {},
   "outputs": [],
   "source": [
    "def outer(a, b):\n",
    "    \n",
    "    def inner(c, d):\n",
    "        print(\"inner\")\n",
    "        return c + d\n",
    "    \n",
    "    return inner"
   ]
  },
  {
   "cell_type": "code",
   "execution_count": 13,
   "metadata": {},
   "outputs": [],
   "source": [
    "func = outer(1,2)"
   ]
  },
  {
   "cell_type": "code",
   "execution_count": 14,
   "metadata": {},
   "outputs": [
    {
     "name": "stdout",
     "output_type": "stream",
     "text": [
      "inner\n"
     ]
    },
    {
     "data": {
      "text/plain": [
       "3"
      ]
     },
     "execution_count": 14,
     "metadata": {},
     "output_type": "execute_result"
    }
   ],
   "source": [
    "func(1,2)"
   ]
  },
  {
   "cell_type": "code",
   "execution_count": 14,
   "metadata": {},
   "outputs": [
    {
     "ename": "NameError",
     "evalue": "name 'inner' is not defined",
     "output_type": "error",
     "traceback": [
      "\u001b[0;31m---------------------------------------------------------------------------\u001b[0m",
      "\u001b[0;31mNameError\u001b[0m                                 Traceback (most recent call last)",
      "\u001b[0;32m<ipython-input-14-dd177a464828>\u001b[0m in \u001b[0;36m<module>\u001b[0;34m()\u001b[0m\n\u001b[0;32m----> 1\u001b[0;31m \u001b[0minner\u001b[0m\u001b[0;34m(\u001b[0m\u001b[0;36m1\u001b[0m\u001b[0;34m,\u001b[0m\u001b[0;36m3\u001b[0m\u001b[0;34m)\u001b[0m\u001b[0;34m\u001b[0m\u001b[0m\n\u001b[0m",
      "\u001b[0;31mNameError\u001b[0m: name 'inner' is not defined"
     ]
    }
   ],
   "source": [
    "inner(1,3)"
   ]
  },
  {
   "cell_type": "markdown",
   "metadata": {},
   "source": [
    "##### lambda function\n",
    "- 간단한 함수를 선언하지 않고 함수 처럼 사용하는 함수\n",
    "- `lambda <parameters> : <return_value>`"
   ]
  },
  {
   "cell_type": "code",
   "execution_count": 16,
   "metadata": {},
   "outputs": [
    {
     "data": {
      "text/plain": [
       "3"
      ]
     },
     "execution_count": 16,
     "metadata": {},
     "output_type": "execute_result"
    }
   ],
   "source": [
    "def sum_func(x, y):\n",
    "    return x + y\n",
    "sum_func(1, 2)"
   ]
  },
  {
   "cell_type": "code",
   "execution_count": 17,
   "metadata": {},
   "outputs": [
    {
     "data": {
      "text/plain": [
       "3"
      ]
     },
     "execution_count": 17,
     "metadata": {},
     "output_type": "execute_result"
    }
   ],
   "source": [
    "sum_func2 = lambda x, y : x + y\n",
    "sum_func2(1, 2)"
   ]
  },
  {
   "cell_type": "code",
   "execution_count": 18,
   "metadata": {},
   "outputs": [
    {
     "data": {
      "text/plain": [
       "(function, function)"
      ]
     },
     "execution_count": 18,
     "metadata": {},
     "output_type": "execute_result"
    }
   ],
   "source": [
    "type(sum_func), type(sum_func2)"
   ]
  },
  {
   "cell_type": "code",
   "execution_count": 26,
   "metadata": {},
   "outputs": [],
   "source": [
    "def test(func, num1):\n",
    "    return func(num1)"
   ]
  },
  {
   "cell_type": "code",
   "execution_count": 21,
   "metadata": {},
   "outputs": [
    {
     "data": {
      "text/plain": [
       "0.5"
      ]
     },
     "execution_count": 21,
     "metadata": {},
     "output_type": "execute_result"
    }
   ],
   "source": [
    "def sum_func(x, y):\n",
    "    return x + y\n",
    "def div_func(x, y):\n",
    "    return x / y\n",
    "# test(div_func, 1, 2)"
   ]
  },
  {
   "cell_type": "code",
   "execution_count": 27,
   "metadata": {},
   "outputs": [
    {
     "data": {
      "text/plain": [
       "1"
      ]
     },
     "execution_count": 27,
     "metadata": {},
     "output_type": "execute_result"
    }
   ],
   "source": [
    "test(lambda x, y=0: x - y, 1)"
   ]
  },
  {
   "cell_type": "markdown",
   "metadata": {},
   "source": [
    "##### Map & Filter & Reduce\n",
    "- 리스트 형태의 데이터를 함수와 함께 가공 해주기 위해서 사용되는 함수 입니다.\n",
    "- map : 리스트 안에 모든 value에 함수를 적용해서 결과 데이터를 리스트 형태로 반환\n",
    "- filter : 리스트 안에 있는 value 데이터를 특정 함수로 필터링 해주는 함수 입니다.\n",
    "- reduce : 리스트 안에 있는 value 데이터를 하나씩 함수에 적용해서 하나의 결과를 얻는 함수 입니다."
   ]
  },
  {
   "cell_type": "code",
   "execution_count": 35,
   "metadata": {},
   "outputs": [
    {
     "data": {
      "text/plain": [
       "[0, 1, 2, 3]"
      ]
     },
     "execution_count": 35,
     "metadata": {},
     "output_type": "execute_result"
    }
   ],
   "source": [
    "ls = [1,2,3,4]\n",
    "def sum_func(num):\n",
    "    return num - 1\n",
    "\n",
    "list(map(sum_func, ls))"
   ]
  },
  {
   "cell_type": "code",
   "execution_count": 4,
   "metadata": {},
   "outputs": [
    {
     "data": {
      "text/plain": [
       "[2, 4]"
      ]
     },
     "execution_count": 4,
     "metadata": {},
     "output_type": "execute_result"
    }
   ],
   "source": [
    "def is_even(num):\n",
    "    return True if num % 2 == 0 else False\n",
    "    \n",
    "list(filter(is_even, ls))"
   ]
  },
  {
   "cell_type": "code",
   "execution_count": 39,
   "metadata": {},
   "outputs": [
    {
     "data": {
      "text/plain": [
       "10"
      ]
     },
     "execution_count": 39,
     "metadata": {},
     "output_type": "execute_result"
    }
   ],
   "source": [
    "from functools import reduce\n",
    "\n",
    "def sum_func2(num1, num2):\n",
    "    return num1 + num2\n",
    "\n",
    "reduce(sum_func2, ls)"
   ]
  },
  {
   "cell_type": "code",
   "execution_count": 16,
   "metadata": {},
   "outputs": [
    {
     "data": {
      "text/plain": [
       "[0, 1, 2, 3, 4]"
      ]
     },
     "execution_count": 16,
     "metadata": {},
     "output_type": "execute_result"
    }
   ],
   "source": [
    "ls = [1,2,3,4,5]\n",
    "\n",
    "def minus_one(number):\n",
    "    return number - 1\n",
    "\n",
    "result = []\n",
    "for number in ls:\n",
    "    result.append(minus_one(number))\n",
    "result"
   ]
  },
  {
   "cell_type": "code",
   "execution_count": 17,
   "metadata": {},
   "outputs": [
    {
     "data": {
      "text/plain": [
       "[0, 1, 2, 3, 4]"
      ]
     },
     "execution_count": 17,
     "metadata": {},
     "output_type": "execute_result"
    }
   ],
   "source": [
    "# map 함수 이용\n",
    "list(map(minus_one, ls))"
   ]
  },
  {
   "cell_type": "code",
   "execution_count": 18,
   "metadata": {},
   "outputs": [
    {
     "data": {
      "text/plain": [
       "[0, 1, 2, 3, 4]"
      ]
     },
     "execution_count": 18,
     "metadata": {},
     "output_type": "execute_result"
    }
   ],
   "source": [
    "# 람다 함수\n",
    "list(map(lambda number : number - 1, ls))"
   ]
  },
  {
   "cell_type": "code",
   "execution_count": 22,
   "metadata": {},
   "outputs": [
    {
     "data": {
      "text/plain": [
       "[6, 8, 10, 12]"
      ]
     },
     "execution_count": 22,
     "metadata": {},
     "output_type": "execute_result"
    }
   ],
   "source": [
    "# map에는 여러개의 리스트 데이터를 넣으수 있습니다.\n",
    "ls1 = [1,2,3,4]\n",
    "ls2 = [5,6,7,8]\n",
    "\n",
    "list(map(lambda num1, num2: num1 + num2, ls1, ls2))"
   ]
  },
  {
   "cell_type": "code",
   "execution_count": 23,
   "metadata": {},
   "outputs": [
    {
     "data": {
      "text/plain": [
       "['Kim', 'Lee', 'Park', 'Lee']"
      ]
     },
     "execution_count": 23,
     "metadata": {},
     "output_type": "execute_result"
    }
   ],
   "source": [
    "# 퀴즈 1 - map을 이용하여 사람의 성만 결과로 출력하는 코드를 작성하세요.\n",
    "names = [\"Kim python\", \"Lee data\", \"Park science\", \"Lee school\"]\n",
    "\n",
    "# TODO\n",
    "result = list(map(lambda name : name.split(\" \")[0], names))\n",
    "\n",
    "result\n",
    "# result - [\"Kim\", \"Lee\", \"Park\", \"Lee\"]"
   ]
  },
  {
   "cell_type": "code",
   "execution_count": 27,
   "metadata": {},
   "outputs": [
    {
     "name": "stdout",
     "output_type": "stream",
     "text": [
      "{1: 'odd', 2: 'even', 3: 'odd', 4: 'even', 5: 'odd', 6: 'even', 7: 'odd', 8: 'even', 9: 'odd', 10: 'even'}\n"
     ]
    }
   ],
   "source": [
    "# 퀴즈 2 - 1 ~ 10까지 숫자 데이터에서 짝수는 even 홀수는 odd를 만들고 데이터를 key:value 형태의 dict 출력\n",
    "ls = list(range(1,11))\n",
    "\n",
    "# TODO\n",
    "result = list(map(lambda number : \"even\" if number % 2 == 0 else \"odd\", ls))\n",
    "result = dict(zip(ls, result))\n",
    "\n",
    "print(result)\n",
    "# result - {1:\"odd\", 2:\"even\", 3:\"odd\", 4:\"even\"...}"
   ]
  },
  {
   "cell_type": "code",
   "execution_count": 7,
   "metadata": {},
   "outputs": [
    {
     "data": {
      "text/plain": [
       "[]"
      ]
     },
     "execution_count": 7,
     "metadata": {},
     "output_type": "execute_result"
    }
   ],
   "source": [
    "# 퀴즈 3 - map 함수를 구현하세요.\n",
    "ls1, ls2, ls3 = [1,2,3,4,5], [5,6,7,8], [9,10,11,12,13]\n",
    "\n",
    "def sum_func(*args):\n",
    "    return sum(args)\n",
    "    \n",
    "def map_func(func, *args):\n",
    "    result = []\n",
    "    \n",
    "    # TODO\n",
    "    values_count = len(args[0]) # 4\n",
    "    for idx in range(len(args)):\n",
    "        values_count = values_count if values_count < len(args[idx]) else len(args[idx])\n",
    "        \n",
    "    params_count = len(args) # 3\n",
    "    \n",
    "    for idx1 in range(values_count):\n",
    "        params = []\n",
    "        for idx2 in range(params_count):\n",
    "            params.append(args[idx2][idx1])\n",
    "        result.append(func(*params))\n",
    "    \n",
    "    return result\n",
    "\n",
    "result = map_func(sum_func, ls1, ls2, ls3)\n",
    "result\n",
    "# result - [15, 18, 21, 24]"
   ]
  },
  {
   "cell_type": "code",
   "execution_count": 35,
   "metadata": {},
   "outputs": [
    {
     "data": {
      "text/plain": [
       "6"
      ]
     },
     "execution_count": 35,
     "metadata": {},
     "output_type": "execute_result"
    }
   ],
   "source": [
    "ls = [1,2,3]\n",
    "sum(ls)\n",
    "# sum_func(ls)\n",
    "\n",
    "sum_func(1,2,3)\n",
    "sum_func(*ls)"
   ]
  },
  {
   "cell_type": "markdown",
   "metadata": {},
   "source": [
    "##### Filter\n",
    "- 리스트 데이터에서 조건에 맞는 value 데이터만 남기는 필터링 기능을 하는 함수 입니다.\n",
    "- filter의 아규먼트로 들어가는 함수는 항상 리턴값이 True 아니면 False로 리턴 되어야 합니다.\n",
    "- True 값인 데이터는 남고 False 값인 데이터는 제거됩니다.\n",
    "- `filter(<function>,><list(iterable)>)`"
   ]
  },
  {
   "cell_type": "code",
   "execution_count": 42,
   "metadata": {},
   "outputs": [
    {
     "data": {
      "text/plain": [
       "[2, 4, 6, 8, 10]"
      ]
     },
     "execution_count": 42,
     "metadata": {},
     "output_type": "execute_result"
    }
   ],
   "source": [
    "# filter를 사용하여 리스트에서 짝수 데이터만 남기는 코드를 작성\n",
    "ls = list(range(1,11))\n",
    "\n",
    "list(filter(lambda num : num % 2 == 0, ls))"
   ]
  },
  {
   "cell_type": "code",
   "execution_count": 46,
   "metadata": {},
   "outputs": [
    {
     "data": {
      "text/plain": [
       "['Lee data', 'Lee school']"
      ]
     },
     "execution_count": 46,
     "metadata": {},
     "output_type": "execute_result"
    }
   ],
   "source": [
    "# 퀴즈 1 - 성이 Lee씨 인 사람의 이름만 결과로 출력하는 코드를 작성해주세요.(filter 사용, list comprehention 사용)\n",
    "names = [\"Kim python\", \"Lee data\", \"Park science\", \"Lee school\"]\n",
    "\n",
    "result = list(filter(lambda name : name.split(\" \")[0] == \"Lee\", names ))\n",
    "result = [name for name in names if name.split(\" \")[0] == \"Lee\"]\n",
    "\n",
    "result\n",
    "# result - [\"Lee data\", \"Lee school\"]"
   ]
  },
  {
   "cell_type": "code",
   "execution_count": 51,
   "metadata": {},
   "outputs": [
    {
     "data": {
      "text/plain": [
       "([1, 3, 5, 7, 9], [2, 4, 6, 8, 10])"
      ]
     },
     "execution_count": 51,
     "metadata": {},
     "output_type": "execute_result"
    }
   ],
   "source": [
    "# 퀴즈 2 - filter function 구현, 홀수와 짝수를 필터링하는 함수를 구현\n",
    "ls = list(range(1, 11))\n",
    "\n",
    "is_odd_even = {\n",
    "    \"odd\": lambda num : num % 2 == 1,\n",
    "    \"even\": lambda num : num % 2 == 0,\n",
    "}\n",
    "\n",
    "def filter_func(func, data_list):\n",
    "    result = []\n",
    "    # TODO\n",
    "    for data in data_list:\n",
    "        if func(data):\n",
    "            result.append(data)            \n",
    "    return result\n",
    "\n",
    "result_1 = filter_func(is_odd_even[\"odd\"], ls)\n",
    "result_2 = filter_func(is_odd_even[\"even\"], ls)\n",
    "result_1, result_2    \n",
    "# result_1 - [1,3,5,7,9], result_2 - [2,4,6,8,10]"
   ]
  },
  {
   "cell_type": "markdown",
   "metadata": {},
   "source": [
    "##### Reduce\n",
    "- 리스트 데이터를 처음부터 순서대로 특정 함수를 실행하여 나온 결과를 다음 데이터와 함께 또 다시 함수를 실행하여\n",
    "- 마지막에 하나의 데이터를 남기는 함수입니다.\n",
    "- `reduce(<function>, <list(iterable)>)`"
   ]
  },
  {
   "cell_type": "code",
   "execution_count": 55,
   "metadata": {},
   "outputs": [
    {
     "data": {
      "text/plain": [
       "15"
      ]
     },
     "execution_count": 55,
     "metadata": {},
     "output_type": "execute_result"
    }
   ],
   "source": [
    "from functools import reduce\n",
    "\n",
    "ls = [1,2,3,4,5]\n",
    "reduce(lambda num1, num2 : num1 + num2, ls)"
   ]
  },
  {
   "cell_type": "code",
   "execution_count": 56,
   "metadata": {},
   "outputs": [
    {
     "data": {
      "text/plain": [
       "7"
      ]
     },
     "execution_count": 56,
     "metadata": {},
     "output_type": "execute_result"
    }
   ],
   "source": [
    "# 가장 큰수를 구하는 코드를 작성\n",
    "ls = [1,3,7,5,2]\n",
    "reduce(lambda num1, num2 : num1 if num1 > num2 else num2, ls)"
   ]
  },
  {
   "cell_type": "code",
   "execution_count": 57,
   "metadata": {},
   "outputs": [
    {
     "data": {
      "text/plain": [
       "'Park science'"
      ]
     },
     "execution_count": 57,
     "metadata": {},
     "output_type": "execute_result"
    }
   ],
   "source": [
    "# 퀴즈 1 - 사람 이름이 가장 긴 사람을 출력하는 코드를 reduce를 이용해서 작성해주세요.\n",
    "names = [\"Kim python\", \"Lee data\", \"Park science\", \"Lee school\"]\n",
    "\n",
    "reduce(lambda name1, name2 : name1 if len(name1) > len(name2) else name2, names)"
   ]
  },
  {
   "cell_type": "code",
   "execution_count": 61,
   "metadata": {},
   "outputs": [
    {
     "name": "stdout",
     "output_type": "stream",
     "text": [
      "Once deleted, variables cannot be recovered. Proceed (y/[n])? y\n"
     ]
    }
   ],
   "source": [
    "%reset"
   ]
  },
  {
   "cell_type": "code",
   "execution_count": 64,
   "metadata": {},
   "outputs": [
    {
     "data": {
      "text/plain": [
       "0"
      ]
     },
     "execution_count": 64,
     "metadata": {},
     "output_type": "execute_result"
    }
   ],
   "source": [
    "# 퀴즈 2 - reduce 구현\n",
    "ls = [1,2,3,4,5]\n",
    "\n",
    "def reduce_func(func, data_list):\n",
    "    result = 0\n",
    "    # TODO\n",
    "    \n",
    "    return result\n",
    "\n",
    "reduce_func(lambda num1, num2 : num1 + num2, ls)\n",
    "# result - 15"
   ]
  },
  {
   "cell_type": "markdown",
   "metadata": {},
   "source": [
    "##### Decolator\n",
    "- 코드를 바꾸지 않고 함수의 기능을 추가할때 사용됩니다.\n",
    "- 여러개의 함수에서 공통된 기능을 뽑아서 하나의 함수로 만들어서 사용할때 사용됩니다.\n",
    "- inner function, *args, **kwargs\n",
    "- `@<function_name>`\n",
    "\n",
    "```\n",
    "def A(params):\n",
    "    code1\n",
    "    code2\n",
    "    code3\n",
    "\n",
    "A(params)\n",
    "\n",
    "def B():\n",
    "    code1\n",
    "    code4\n",
    "    code3    \n",
    "```\n",
    "\n",
    "\n",
    "```\n",
    "def C(func):\n",
    "    def wrapper(*args, **kwargs):\n",
    "        code1\n",
    "        result = func(*args, **kwargs)\n",
    "        code3\n",
    "        return result\n",
    "    return wrapper\n",
    "\n",
    "@C\n",
    "def A(params):\n",
    "    result = code2\n",
    "    return result\n",
    "\n",
    "@C\n",
    "def B():\n",
    "    code4\n",
    "\n",
    "A(params) - code1, code2, code3, return result\n",
    "B() - code1, code4, code3, return result\n",
    "\n",
    "\n",
    "C(A)(params)\n",
    "\n",
    "```"
   ]
  },
  {
   "cell_type": "code",
   "execution_count": 77,
   "metadata": {},
   "outputs": [],
   "source": [
    "# display를 해주는 데코레이터를 만들어 보도록 하겠습니다.\n",
    "\n",
    "# C\n",
    "def disp(func):\n",
    "    \n",
    "    def wrapper(*args, **kwargs):\n",
    "\n",
    "        # code1\n",
    "        print(\"running function name :\", func.__name__)\n",
    "        print(\"args :\", args)\n",
    "        print(\"kwargs :\", kwargs)\n",
    "        print(\"dss8 fighting!\")\n",
    "        \n",
    "        # code2(A), code4(B)\n",
    "        result = func(*args, **kwargs)\n",
    "        \n",
    "        # code3\n",
    "        print(\"result :\", result)\n",
    "        return result\n",
    "    \n",
    "    return wrapper"
   ]
  },
  {
   "cell_type": "code",
   "execution_count": 69,
   "metadata": {},
   "outputs": [],
   "source": [
    "# A\n",
    "def sum_func(a, b):\n",
    "    # code1 - print(function name, args, kwargs)\n",
    "    print(\"{} + {} = {}\".format(a, b, a+b))\n",
    "    # code3 - print(\"result :\", a+b)\n",
    "    return a + b"
   ]
  },
  {
   "cell_type": "code",
   "execution_count": 70,
   "metadata": {},
   "outputs": [
    {
     "name": "stdout",
     "output_type": "stream",
     "text": [
      "1 + 2 = 3\n"
     ]
    },
    {
     "data": {
      "text/plain": [
       "3"
      ]
     },
     "execution_count": 70,
     "metadata": {},
     "output_type": "execute_result"
    }
   ],
   "source": [
    "sum_func(1, 2)"
   ]
  },
  {
   "cell_type": "code",
   "execution_count": 71,
   "metadata": {},
   "outputs": [],
   "source": [
    "# B\n",
    "def minus_func(a, b):\n",
    "    # code1 - print(function name, args, kwargs)\n",
    "    print(\"{} - {} = {}\".format(a, b, a-b))\n",
    "    # code3 - print(\"result :\", a+b)\n",
    "    return a - b"
   ]
  },
  {
   "cell_type": "code",
   "execution_count": 72,
   "metadata": {},
   "outputs": [
    {
     "name": "stdout",
     "output_type": "stream",
     "text": [
      "1 - 2 = -1\n"
     ]
    },
    {
     "data": {
      "text/plain": [
       "-1"
      ]
     },
     "execution_count": 72,
     "metadata": {},
     "output_type": "execute_result"
    }
   ],
   "source": [
    "minus_func(1, 2)"
   ]
  },
  {
   "cell_type": "code",
   "execution_count": 80,
   "metadata": {},
   "outputs": [],
   "source": [
    "@disp\n",
    "def sum_func(a, b):\n",
    "    # code1 - print(function name, args, kwargs)\n",
    "    print(\"{} + {} = {}\".format(a, b, a+b))\n",
    "    # code3 - print(\"result :\", a+b)\n",
    "    return a + b"
   ]
  },
  {
   "cell_type": "code",
   "execution_count": 81,
   "metadata": {},
   "outputs": [
    {
     "name": "stdout",
     "output_type": "stream",
     "text": [
      "running function name : sum_func\n",
      "args : (1, 2)\n",
      "kwargs : {}\n",
      "dss8 fighting!\n",
      "1 + 2 = 3\n",
      "result : 3\n"
     ]
    },
    {
     "data": {
      "text/plain": [
       "3"
      ]
     },
     "execution_count": 81,
     "metadata": {},
     "output_type": "execute_result"
    }
   ],
   "source": [
    "sum_func(1, 2)"
   ]
  },
  {
   "cell_type": "code",
   "execution_count": 78,
   "metadata": {},
   "outputs": [],
   "source": [
    "@disp\n",
    "def div_func(a, b):\n",
    "    return a / b"
   ]
  },
  {
   "cell_type": "code",
   "execution_count": 79,
   "metadata": {},
   "outputs": [
    {
     "name": "stdout",
     "output_type": "stream",
     "text": [
      "running function name : div_func\n",
      "args : (10, 3)\n",
      "kwargs : {}\n",
      "dss8 fighting!\n",
      "result : 3.3333333333333335\n"
     ]
    },
    {
     "data": {
      "text/plain": [
       "3.3333333333333335"
      ]
     },
     "execution_count": 79,
     "metadata": {},
     "output_type": "execute_result"
    }
   ],
   "source": [
    "div_func(10,3)"
   ]
  },
  {
   "cell_type": "code",
   "execution_count": 82,
   "metadata": {},
   "outputs": [],
   "source": [
    "# timer decolator - 함수가 실행되는데 걸리는 시간을 측정하는 데코레이터\n",
    "import time\n",
    "def timer(func):\n",
    "    def wrapper(*args, **kwargs):\n",
    "        start_time = time.time()\n",
    "        result = func(*args, **kwargs)\n",
    "        end_time = time.time()\n",
    "        print(\"running time :\", end_time - start_time)\n",
    "        return result\n",
    "    return wrapper"
   ]
  },
  {
   "cell_type": "code",
   "execution_count": 87,
   "metadata": {},
   "outputs": [],
   "source": [
    "@timer\n",
    "def pow_func(num1, num2):\n",
    "#     start_time = time.time()\n",
    "    result = num1 ** num2\n",
    "#     end_time = time.time()\n",
    "#     print(\"running time :\", end_time - start_time)\n",
    "    return result "
   ]
  },
  {
   "cell_type": "code",
   "execution_count": 88,
   "metadata": {},
   "outputs": [
    {
     "name": "stdout",
     "output_type": "stream",
     "text": [
      "running time : 5.0067901611328125e-06\n"
     ]
    },
    {
     "data": {
      "text/plain": [
       "10715086071862673209484250490600018105614048117055336074437503883703510511249361224931983788156958581275946729175531468251871452856923140435984577574698574803934567774824230985421074605062371141877954182153046474983581941267398767559165543946077062914571196477686542167660429831652624386837205668069376"
      ]
     },
     "execution_count": 88,
     "metadata": {},
     "output_type": "execute_result"
    }
   ],
   "source": [
    "pow_func(2,1000)"
   ]
  },
  {
   "cell_type": "code",
   "execution_count": 89,
   "metadata": {},
   "outputs": [],
   "source": [
    "# 데코레이터를 사용해서 관리자계정이면 패스워드를 출력하고 관리자 계정이 아니면 패스워드를 출력하지 않는 데코레이터를 만들겠습니다.\n",
    "admin_ls = [\"pdj\", \"dss\"]\n",
    "pw = \"dss8\"\n",
    "\n",
    "def admin(func):\n",
    "    def wrapper(*args, **kwargs):\n",
    "        is_admin = False\n",
    "        user_id = func(*args, **kwargs)\n",
    "        \n",
    "        if user_id in admin_ls:\n",
    "            is_admin = True\n",
    "        \n",
    "        if is_admin:\n",
    "            print(\"password :\", pw)\n",
    "        else:\n",
    "            print(\"you are not admin!\")\n",
    "        \n",
    "        return is_admin\n",
    "        \n",
    "    return wrapper"
   ]
  },
  {
   "cell_type": "code",
   "execution_count": 92,
   "metadata": {},
   "outputs": [],
   "source": [
    "@admin\n",
    "def input_user():\n",
    "    return input(\"insert user id : \")"
   ]
  },
  {
   "cell_type": "code",
   "execution_count": 94,
   "metadata": {},
   "outputs": [
    {
     "name": "stdout",
     "output_type": "stream",
     "text": [
      "insert user id : data\n",
      "you are not admin!\n"
     ]
    },
    {
     "data": {
      "text/plain": [
       "False"
      ]
     },
     "execution_count": 94,
     "metadata": {},
     "output_type": "execute_result"
    }
   ],
   "source": [
    "input_user()"
   ]
  },
  {
   "cell_type": "code",
   "execution_count": 96,
   "metadata": {},
   "outputs": [],
   "source": [
    "user_id = {\n",
    "    1:\"dss\",\n",
    "    2:\"data\",\n",
    "    3:\"science\",\n",
    "}\n",
    "@admin\n",
    "def input_id(id_number):\n",
    "    return user_id[id_number]"
   ]
  },
  {
   "cell_type": "code",
   "execution_count": 98,
   "metadata": {},
   "outputs": [
    {
     "name": "stdout",
     "output_type": "stream",
     "text": [
      "password : dss8\n"
     ]
    },
    {
     "data": {
      "text/plain": [
       "True"
      ]
     },
     "execution_count": 98,
     "metadata": {},
     "output_type": "execute_result"
    }
   ],
   "source": [
    "input_id(1)"
   ]
  }
 ],
 "metadata": {
  "kernelspec": {
   "display_name": "Python 3",
   "language": "python",
   "name": "python3"
  },
  "language_info": {
   "codemirror_mode": {
    "name": "ipython",
    "version": 3
   },
   "file_extension": ".py",
   "mimetype": "text/x-python",
   "name": "python",
   "nbconvert_exporter": "python",
   "pygments_lexer": "ipython3",
   "version": "3.6.5"
  }
 },
 "nbformat": 4,
 "nbformat_minor": 2
}
