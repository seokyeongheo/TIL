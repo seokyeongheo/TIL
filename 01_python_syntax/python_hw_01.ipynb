{
 "cells": [
  {
   "cell_type": "markdown",
   "metadata": {},
   "source": [
    "##### 1. 5명의 이름을 입력 받아 kim인 성을 가진 사람의 수를 출력\n",
    "- [성(공백)이름] 형태로만 입력(ex : park doojin)"
   ]
  },
  {
   "cell_type": "code",
   "execution_count": 30,
   "metadata": {},
   "outputs": [
    {
     "name": "stdout",
     "output_type": "stream",
     "text": [
      "Enter the names: kim sung, Kim daegu, park sangjin, lee minsung, jung sunin\n",
      "2\n"
     ]
    }
   ],
   "source": [
    "# kim sung, Kim daegu, park sangjin, lee minsung, jung sunin\n",
    "\n",
    "# TODO\n",
    "\n",
    "# 변수 count, 리스트 finder 선언한다\n",
    "count = 0\n",
    "finder = []\n",
    "\n",
    "# 입력(input)받은 값들을 names로 선언하고 ','로 분할하고, 분할한 값들을 리스트로 만든다.\n",
    "names = input(\"Enter the names: \")\n",
    "names = names.split(\",\")\n",
    "names = list(names)\n",
    "\n",
    "# for 반복문을 사용하여, 각 값들을 소문자로 바꾼(lower), 양 옆의 공백을 없앤(strip) 데이터의 [0:3] 구간 값이 \"kim\"이면, count +1을 한다. \n",
    "for name in names:\n",
    "    if name.lower().strip()[0:3] == \"kim\":\n",
    "        count += 1\n",
    "# count를 출력한다\n",
    "print(count)"
   ]
  },
  {
   "cell_type": "markdown",
   "metadata": {},
   "source": [
    "##### 2. 2단에서 9단까지 구구단을 출력하는 프로그램을 작성"
   ]
  },
  {
   "cell_type": "markdown",
   "metadata": {},
   "source": [
    "- 가로로 출력"
   ]
  },
  {
   "cell_type": "code",
   "execution_count": 339,
   "metadata": {},
   "outputs": [
    {
     "name": "stdout",
     "output_type": "stream",
     "text": [
      "2단\n",
      "2*1=2\n",
      "2*2=4\n",
      "2*3=6\n",
      "2*4=8\n",
      "2*5=10\n",
      "2*6=12\n",
      "2*7=14\n",
      "2*8=16\n",
      "2*9=18\n",
      " \n",
      "3단\n",
      "3*1=3\n",
      "3*2=6\n",
      "3*3=9\n",
      "3*4=12\n",
      "3*5=15\n",
      "3*6=18\n",
      "3*7=21\n",
      "3*8=24\n",
      "3*9=27\n",
      " \n",
      "4단\n",
      "4*1=4\n",
      "4*2=8\n",
      "4*3=12\n",
      "4*4=16\n",
      "4*5=20\n",
      "4*6=24\n",
      "4*7=28\n",
      "4*8=32\n",
      "4*9=36\n",
      " \n",
      "5단\n",
      "5*1=5\n",
      "5*2=10\n",
      "5*3=15\n",
      "5*4=20\n",
      "5*5=25\n",
      "5*6=30\n",
      "5*7=35\n",
      "5*8=40\n",
      "5*9=45\n",
      " \n",
      "6단\n",
      "6*1=6\n",
      "6*2=12\n",
      "6*3=18\n",
      "6*4=24\n",
      "6*5=30\n",
      "6*6=36\n",
      "6*7=42\n",
      "6*8=48\n",
      "6*9=54\n",
      " \n",
      "7단\n",
      "7*1=7\n",
      "7*2=14\n",
      "7*3=21\n",
      "7*4=28\n",
      "7*5=35\n",
      "7*6=42\n",
      "7*7=49\n",
      "7*8=56\n",
      "7*9=63\n",
      " \n",
      "8단\n",
      "8*1=8\n",
      "8*2=16\n",
      "8*3=24\n",
      "8*4=32\n",
      "8*5=40\n",
      "8*6=48\n",
      "8*7=56\n",
      "8*8=64\n",
      "8*9=72\n",
      " \n",
      "9단\n",
      "9*1=9\n",
      "9*2=18\n",
      "9*3=27\n",
      "9*4=36\n",
      "9*5=45\n",
      "9*6=54\n",
      "9*7=63\n",
      "9*8=72\n",
      "9*9=81\n",
      " \n"
     ]
    }
   ],
   "source": [
    "# TODO\n",
    "\n",
    "# 2단\n",
    "\n",
    "for left in range(2,10):\n",
    "    print(\"{e1}단\".format(e1 = left))\n",
    "    for right in range(1,10):\n",
    "        print(\"{e1}*{e2}={e3}\".format(e1 = left, e2 = right, e3 = left * right))\n",
    "    print(\" \")"
   ]
  },
  {
   "cell_type": "markdown",
   "metadata": {},
   "source": [
    "- 세로로 출력"
   ]
  },
  {
   "cell_type": "code",
   "execution_count": 343,
   "metadata": {},
   "outputs": [
    {
     "name": "stdout",
     "output_type": "stream",
     "text": [
      "2*1=2\t3*1=3\t4*1=4\t5*1=5\t6*1=6\t7*1=7\t8*1=8\t9*1=9\t \n",
      "2*2=4\t3*2=6\t4*2=8\t5*2=10\t6*2=12\t7*2=14\t8*2=16\t9*2=18\t \n",
      "2*3=6\t3*3=9\t4*3=12\t5*3=15\t6*3=18\t7*3=21\t8*3=24\t9*3=27\t \n",
      "2*4=8\t3*4=12\t4*4=16\t5*4=20\t6*4=24\t7*4=28\t8*4=32\t9*4=36\t \n",
      "2*5=10\t3*5=15\t4*5=20\t5*5=25\t6*5=30\t7*5=35\t8*5=40\t9*5=45\t \n",
      "2*6=12\t3*6=18\t4*6=24\t5*6=30\t6*6=36\t7*6=42\t8*6=48\t9*6=54\t \n",
      "2*7=14\t3*7=21\t4*7=28\t5*7=35\t6*7=42\t7*7=49\t8*7=56\t9*7=63\t \n",
      "2*8=16\t3*8=24\t4*8=32\t5*8=40\t6*8=48\t7*8=56\t8*8=64\t9*8=72\t \n",
      "2*9=18\t3*9=27\t4*9=36\t5*9=45\t6*9=54\t7*9=63\t8*9=72\t9*9=81\t \n"
     ]
    }
   ],
   "source": [
    "for right in range(1,10):\n",
    "    for left in range(2,10):\n",
    "        print(\"{e1}*{e2}={e3}\".format(e1 = left, e2 = right, e3 = left * right), end=\"\\t\")\n",
    "    print(\" \")\n",
    "\n",
    "# 엔터 치지 않도록\n",
    "\n",
    "\n",
    "\n",
    "\n",
    "\n",
    "    \n",
    "# 딕셔너리 사용. keys = 2,3,4...9 / values = 1,2,3...9\n",
    "# key 값과 value 값을 곱한 다음, print"
   ]
  },
  {
   "cell_type": "markdown",
   "metadata": {},
   "source": [
    "- 입력 받은 단수의 구구단을 출력"
   ]
  },
  {
   "cell_type": "code",
   "execution_count": 344,
   "metadata": {},
   "outputs": [
    {
     "name": "stdout",
     "output_type": "stream",
     "text": [
      "insert number : 3\n",
      "3*1=3\n",
      "3*2=6\n",
      "3*3=9\n",
      "3*4=12\n",
      "3*5=15\n",
      "3*6=18\n",
      "3*7=21\n",
      "3*8=24\n",
      "3*9=27\n",
      " \n"
     ]
    }
   ],
   "source": [
    "left = int(input(\"insert number : \"))\n",
    "    \n",
    "for right in range(1,10):\n",
    "    print(\"{e1}*{e2}={e3}\".format(e1 = left, e2 = right, e3 = left * right))\n",
    "print(\" \")"
   ]
  },
  {
   "cell_type": "markdown",
   "metadata": {},
   "source": [
    "##### 3. up down으로 숫자 맞추기 게임\n",
    "- 랜덤으로 숫자(1~100)를 발생시킴\n",
    "- 숫자를 입력받아 랜덤숫자가 입력받은 숫자보다 크면 Up을 출력, 작으면 Down을 출력\n",
    "- 랜덤 숫자를 맞추면 몇번만에 맞췄는지 카운트를 알려줌\n",
    "- 랜덤수 발생 방법\n",
    "```\n",
    "import random\n",
    "random_number = random.randint(1,100)\n",
    "```"
   ]
  },
  {
   "cell_type": "code",
   "execution_count": 319,
   "metadata": {},
   "outputs": [
    {
     "name": "stdout",
     "output_type": "stream",
     "text": [
      "insert number :40\n",
      "Down\n",
      "insert number :20\n",
      "Down\n",
      "insert number :10\n",
      "Down\n",
      "insert number :5\n",
      "Down\n",
      "insert number :2\n",
      "Up\n",
      "insert number :4\n",
      "6\n"
     ]
    }
   ],
   "source": [
    "import random\n",
    "\n",
    "random_number = random.randint(1,100)\n",
    "\n",
    "# TODO\n",
    "\n",
    "count = 0\n",
    "number = 0\n",
    "\n",
    "# while 반복문을 사용하여, 입력 받은 number가 random_number가 되는 경우에 quit하도록 한다.\n",
    "while number != random_number:\n",
    "    number = int(input(\"insert number :\"))\n",
    "    count += 1\n",
    "    # if를 사용하여, random_number 보다 number가 큰 경우 \"Down\"을, 작은 경우에는 \"Up\"을 출력하도록한다.\n",
    "    if number > random_number:\n",
    "        print(\"Down\")\n",
    "    elif number < random_number:\n",
    "        print(\"Up\")\n",
    "print(count)\n",
    "\n",
    "\n",
    "# 질문을 물어볼 때마다 count를 +1한다"
   ]
  },
  {
   "cell_type": "markdown",
   "metadata": {},
   "source": [
    "##### 4. 로또번호 출력\n",
    "- 1~45의 6자리의 로또번호를 출력"
   ]
  },
  {
   "cell_type": "code",
   "execution_count": 348,
   "metadata": {},
   "outputs": [
    {
     "name": "stdout",
     "output_type": "stream",
     "text": [
      "[2, 10, 15, 31, 33, 42]\n"
     ]
    }
   ],
   "source": [
    "import random\n",
    "\n",
    "# for 반복문, random.radint, append를 사용하여, result 리스트에 1~45의 임의의 수를 넣는다\n",
    "while True:\n",
    "    result = []    \n",
    "    for number in range(0,6):\n",
    "        random_number = random.randint(1,45)\n",
    "        result.append(random_number)\n",
    "\n",
    "# result에서 중복을 제거하고 길이가 6일때(중복이 없을 경우), 분류하고 print한다. 중복이 있을 경우, 다시 임의의 수를 result 리스트에 넣는다.\n",
    "    if len(set(result)) == 6:\n",
    "        result.sort()\n",
    "        print(result)\n",
    "        break\n",
    "    else:\n",
    "        continue\n",
    "\n"
   ]
  },
  {
   "cell_type": "markdown",
   "metadata": {},
   "source": [
    "##### 5. FizzBuzz\n",
    "- 1에서 1씩 숫자를 입력받은 숫자까지 증가시키며 3의 배수에서는 Fizz 5의 배수에서는 Buzz 가 출력되도록 프로그램을 작성\n",
    "- 3과 5의 배수에서는 FizzBuzz가 출력"
   ]
  },
  {
   "cell_type": "code",
   "execution_count": 330,
   "metadata": {},
   "outputs": [
    {
     "name": "stdout",
     "output_type": "stream",
     "text": [
      "Enter a number: 30\n",
      "1\n",
      "2\n",
      "Fizz\n",
      "4\n",
      "Buzz\n",
      "Fizz\n",
      "7\n",
      "8\n",
      "Fizz\n",
      "Buzz\n",
      "11\n",
      "Fizz\n",
      "13\n",
      "14\n",
      "FizzBuzz\n",
      "16\n",
      "17\n",
      "Fizz\n",
      "19\n",
      "Buzz\n",
      "Fizz\n",
      "22\n",
      "23\n",
      "Fizz\n",
      "Buzz\n",
      "26\n",
      "Fizz\n",
      "28\n",
      "29\n",
      "FizzBuzz\n"
     ]
    }
   ],
   "source": [
    "# 숫자 입력 받기\n",
    "\n",
    "numbers = int(input(\"Enter a number: \"))\n",
    "\n",
    "for number in range(1,numbers + 1):\n",
    "    if number % 15 == 0:\n",
    "        print(\"FizzBuzz\")\n",
    "    elif number % 3 == 0:\n",
    "        print(\"Fizz\")\n",
    "    elif number % 5 == 0:\n",
    "        print(\"Buzz\")\n",
    "    else:\n",
    "        print(number)\n",
    "\n",
    "# for 반복문으로 1부터 입력 받은 숫자까지 출력하기\n",
    "# 입력받은 숫자가 3으로 나누어 떨어질 경우 Fizz 출력\n",
    "# 입력받은 숫자가 5로 나누어 떨어질 경우 Buzz출력\n"
   ]
  },
  {
   "cell_type": "markdown",
   "metadata": {},
   "source": [
    "##### 6. 별찍기 "
   ]
  },
  {
   "cell_type": "markdown",
   "metadata": {},
   "source": [
    "- 숫자를 입력 받아 아래와 같이 별찍기 1"
   ]
  },
  {
   "cell_type": "code",
   "execution_count": 393,
   "metadata": {},
   "outputs": [
    {
     "name": "stdout",
     "output_type": "stream",
     "text": [
      "Enter any number: 9\n",
      "*\n",
      "**\n",
      "***\n",
      "****\n",
      "*****\n",
      "******\n",
      "*******\n",
      "********\n",
      "*********\n"
     ]
    }
   ],
   "source": [
    "# 숫자 입력 받기 \n",
    "# for 반복문을 활용하여, 입력 받은 숫자 만큼 별 print하기\n",
    "\n",
    "numbers = int(input(\"Enter any number: \"))\n",
    "stars = 1\n",
    "\n",
    "for _ in range(numbers):\n",
    "    print(\"{e1}\".format(e1 = \"*\" * stars))    \n",
    "    stars += 1\n"
   ]
  },
  {
   "cell_type": "markdown",
   "metadata": {},
   "source": [
    "- 숫자를 입력받아 아래와 같이 별찍기 2"
   ]
  },
  {
   "cell_type": "code",
   "execution_count": 395,
   "metadata": {},
   "outputs": [
    {
     "name": "stdout",
     "output_type": "stream",
     "text": [
      "Enter any number: 21\n",
      "                    *\n",
      "                   **\n",
      "                  ***\n",
      "                 ****\n",
      "                *****\n",
      "               ******\n",
      "              *******\n",
      "             ********\n",
      "            *********\n",
      "           **********\n",
      "          ***********\n",
      "         ************\n",
      "        *************\n",
      "       **************\n",
      "      ***************\n",
      "     ****************\n",
      "    *****************\n",
      "   ******************\n",
      "  *******************\n",
      " ********************\n",
      "*********************\n"
     ]
    }
   ],
   "source": [
    "# 숫자 입력 받기 \n",
    "# for 반복문을 활용하여, 입력 받은 숫자 만큼 별 print하기\n",
    "\n",
    "numbers = int(input(\"Enter any number: \"))\n",
    "stars = 1\n",
    "\n",
    "for _ in range(numbers):\n",
    "    print(\"{e1}{e2}\".format(e1 = \" \" * (numbers - 1), e2 = \"*\" * stars))\n",
    "    stars += 1\n",
    "    numbers -= 1\n"
   ]
  },
  {
   "cell_type": "markdown",
   "metadata": {},
   "source": [
    "- 홀수를 입력 받아 아래와 같이 별을 찍으세요 3"
   ]
  },
  {
   "cell_type": "code",
   "execution_count": 372,
   "metadata": {},
   "outputs": [
    {
     "name": "stdout",
     "output_type": "stream",
     "text": [
      "Enter any odd number: 21\n",
      "          *          \n",
      "         ***         \n",
      "        *****        \n",
      "       *******       \n",
      "      *********      \n",
      "     ***********     \n",
      "    *************    \n",
      "   ***************   \n",
      "  *****************  \n",
      " ******************* \n",
      "*********************\n"
     ]
    }
   ],
   "source": [
    "# 숫자 입력 받기 \n",
    "# for 반복문을 활용하여, 입력 받은 숫자 만큼 별 print하기\n",
    "\n",
    "numbers = int(input(\"Enter any odd number: \"))\n",
    "stars = 1\n",
    "blank = numbers // 2\n",
    "\n",
    "for _ in range(blank + 1):\n",
    "    print(\"{e1}{e2}{e3}\".format(e1 = \" \" * blank, e2 = \"*\" * stars, e3 = \" \" * blank))\n",
    "    blank -= 1\n",
    "    stars += 2\n",
    "    \n",
    "# 1 >> 0(-1)\n",
    "# 3 >> 1(-2)\n",
    "# 5 >> 2,1(-3,-4)\n",
    "# 7 >> 3,2,1(-4,-5,-6)"
   ]
  },
  {
   "cell_type": "markdown",
   "metadata": {},
   "source": [
    "- 홀수를 입력 받아 아래와 같이 별을 찍으세요 4"
   ]
  },
  {
   "cell_type": "code",
   "execution_count": 380,
   "metadata": {},
   "outputs": [
    {
     "name": "stdout",
     "output_type": "stream",
     "text": [
      "Enter any odd number: 7\n",
      "*******\n",
      " ***** \n",
      "  ***  \n",
      "   *   \n"
     ]
    }
   ],
   "source": [
    "# 숫자 입력 받기 \n",
    "# for 반복문을 활용하여, 입력 받은 숫자 만큼 별 print하기\n",
    "\n",
    "numbers = int(input(\"Enter any odd number: \"))\n",
    "stars = numbers\n",
    "blank = 0\n",
    "\n",
    "for _ in range(numbers // 2 + 1):\n",
    "    print(\"{e1}{e2}{e3}\".format(e1 = \" \" * blank, e2 = \"*\" * stars, e3 = \" \" * blank))\n",
    "    blank += 1\n",
    "    stars -= 2\n"
   ]
  },
  {
   "cell_type": "markdown",
   "metadata": {},
   "source": [
    "- 홀수의 숫자를 입력받아 다이아몬드 형태의 별을 찍음 5"
   ]
  },
  {
   "cell_type": "code",
   "execution_count": 390,
   "metadata": {},
   "outputs": [
    {
     "name": "stdout",
     "output_type": "stream",
     "text": [
      "Enter any odd number: 9\n",
      "    *    \n",
      "   ***   \n",
      "  *****  \n",
      " ******* \n",
      "*********\n",
      " ******* \n",
      "  *****  \n",
      "   ***   \n",
      "    *    \n"
     ]
    }
   ],
   "source": [
    "# 숫자 입력 받기 \n",
    "# for 반복문을 활용하여, 입력 받은 숫자 만큼 별 print하기\n",
    "\n",
    "numbers = int(input(\"Enter any odd number: \"))\n",
    "stars = -1\n",
    "blank = numbers // 2 + 1\n",
    "\n",
    "for number in range(numbers):\n",
    "    if number <= numbers // 2:\n",
    "        # count가 numbers // 2 + 1이면, 다음 스텝을 실행\n",
    "        blank -= 1\n",
    "        stars += 2\n",
    "        print(\"{e1}{e2}{e3}\".format(e1 = \" \" * blank, e2 = \"*\" * stars, e3 = \" \" * blank))\n",
    "    else:\n",
    "        blank += 1\n",
    "        stars -= 2\n",
    "        print(\"{e1}{e2}{e3}\".format(e1 = \" \" * blank, e2 = \"*\" * stars, e3 = \" \" * blank))\n"
   ]
  }
 ],
 "metadata": {
  "kernelspec": {
   "display_name": "Python 3",
   "language": "python",
   "name": "python3"
  },
  "language_info": {
   "codemirror_mode": {
    "name": "ipython",
    "version": 3
   },
   "file_extension": ".py",
   "mimetype": "text/x-python",
   "name": "python",
   "nbconvert_exporter": "python",
   "pygments_lexer": "ipython3",
   "version": "3.6.5"
  }
 },
 "nbformat": 4,
 "nbformat_minor": 2
}
