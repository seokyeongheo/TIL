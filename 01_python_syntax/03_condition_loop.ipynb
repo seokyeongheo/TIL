{
 "cells": [
  {
   "cell_type": "markdown",
   "metadata": {},
   "source": [
    "## Condition, Loop"
   ]
  },
  {
   "cell_type": "markdown",
   "metadata": {},
   "source": [
    "### 1.Input / Output\n",
    "\n",
    "- 데이터를 받을 때 사용한다\n"
   ]
  },
  {
   "cell_type": "code",
   "execution_count": 1,
   "metadata": {},
   "outputs": [
    {
     "name": "stdout",
     "output_type": "stream",
     "text": [
      "insert string : 안녕\n",
      "안녕\n"
     ]
    }
   ],
   "source": [
    "# input\n",
    "# input은 항상 문자열만 입력 받을 수 있다.\n",
    "\n",
    "s = raw_input(\"insert string : \")\n",
    "\n",
    "print(s)"
   ]
  },
  {
   "cell_type": "code",
   "execution_count": 7,
   "metadata": {},
   "outputs": [
    {
     "name": "stdout",
     "output_type": "stream",
     "text": [
      "number!: 1234\n",
      "(<type 'int'>, 1234)\n"
     ]
    }
   ],
   "source": [
    "# input parameter를 숫자로 받기 위해서는.\n",
    "\n",
    "n = int(input(\"number!: \"))\n",
    "print(type(n), n)"
   ]
  },
  {
   "cell_type": "code",
   "execution_count": 14,
   "metadata": {},
   "outputs": [
    {
     "name": "stdout",
     "output_type": "stream",
     "text": [
      "insert: 아러아러\n"
     ]
    },
    {
     "ename": "SyntaxError",
     "evalue": "invalid syntax (<string>, line 1)",
     "output_type": "error",
     "traceback": [
      "\u001b[0;36m  File \u001b[0;32m\"<string>\"\u001b[0;36m, line \u001b[0;32m1\u001b[0m\n\u001b[0;31m    아러아러\u001b[0m\n\u001b[0m    ^\u001b[0m\n\u001b[0;31mSyntaxError\u001b[0m\u001b[0;31m:\u001b[0m invalid syntax\n"
     ]
    }
   ],
   "source": [
    "# 리스트로 입력 받기 위해서는.\n",
    "\n",
    "ls = rawinput(\"insert list (sep=' ') : \")\n",
    "ls = ls.split(' ')\n",
    "\n",
    "print(ls)"
   ]
  },
  {
   "cell_type": "code",
   "execution_count": 15,
   "metadata": {},
   "outputs": [
    {
     "name": "stdout",
     "output_type": "stream",
     "text": [
      "(0, 1, 2, 3, 4, 5, 6)\n"
     ]
    }
   ],
   "source": [
    "# 출력 = print\n",
    "\n",
    "a, b , c, d, e, f, g = 0, 1, 2, 3, 4, 5, 6\n",
    "print(a, b, c, d, e, f, g)"
   ]
  },
  {
   "cell_type": "code",
   "execution_count": 16,
   "metadata": {},
   "outputs": [
    {
     "name": "stdout",
     "output_type": "stream",
     "text": [
      "{1: 'one', 2: 'two'}\n"
     ]
    }
   ],
   "source": [
    "# pprint : 딕셔너리 형태의 큰 데이터를 보기 편하게 출력한다\n",
    "\n",
    "from pprint import pprint \n",
    "\n",
    "dic = {\n",
    "    1:\"one\",\n",
    "    2:\"two\"\n",
    "}\n",
    "pprint(dic)"
   ]
  },
  {
   "cell_type": "markdown",
   "metadata": {},
   "source": [
    "### 2. 조건문 : if, elif, else\n",
    "\n",
    "```\n",
    "if <조건>:\n",
    "    <code>\n",
    "조건이 True일 경우에 code를 실행한다.\n",
    "```\n",
    "\n",
    "- if, elif, else 이후, 들여쓰기(indent)를 꼭 지켜야 한다\n",
    "- 다른 에디터를 쓸 경우에, 기본값을 네 칸으로 바꾸어야 한다. "
   ]
  },
  {
   "cell_type": "code",
   "execution_count": 10,
   "metadata": {},
   "outputs": [
    {
     "name": "stdout",
     "output_type": "stream",
     "text": [
      "True\n"
     ]
    }
   ],
   "source": [
    "# if\n",
    "a = True\n",
    "\n",
    "if a:\n",
    "    print(True)"
   ]
  },
  {
   "cell_type": "code",
   "execution_count": 13,
   "metadata": {},
   "outputs": [
    {
     "name": "stdout",
     "output_type": "stream",
     "text": [
      "Enter a number under 20 : 1234\n",
      "Up\n"
     ]
    }
   ],
   "source": [
    "# else\n",
    "\n",
    "star = int(input(\"Enter a number under 20 : \"))\n",
    "\n",
    "if star > 10:\n",
    "    print(\"Up\")\n",
    "else:\n",
    "    print(\"Down\")"
   ]
  },
  {
   "cell_type": "code",
   "execution_count": 17,
   "metadata": {},
   "outputs": [
    {
     "name": "stdout",
     "output_type": "stream",
     "text": [
      "Enter your score under 100 : 44\n",
      "F\n"
     ]
    }
   ],
   "source": [
    "# 퀴즈1 - 성적 매기기 프로그램.\n",
    "\n",
    "score = int(input(\"Enter your score under 100 : \"))\n",
    "\n",
    "if score > 90:\n",
    "    print(\"A\")\n",
    "elif score > 80:\n",
    "    print(\"B\")\n",
    "elif score > 70:\n",
    "    print(\"C\")\n",
    "elif score > 60:\n",
    "    print(\"D\")\n",
    "else:\n",
    "    print(\"F\")"
   ]
  },
  {
   "cell_type": "code",
   "execution_count": 18,
   "metadata": {},
   "outputs": [
    {
     "name": "stdout",
     "output_type": "stream",
     "text": [
      "Enter a number : 2\n",
      "Even\n"
     ]
    }
   ],
   "source": [
    "# 퀴즈2 - 숫자를 입력 받아서 짝수이면 even, 홀수이면 odd 출력하는 프로그램 작성 \n",
    "\n",
    "numb = input(\"Enter a number : \")\n",
    "\n",
    "try:\n",
    "    if int(numb) % 2 == 0:\n",
    "        print(\"Even\")\n",
    "    else:\n",
    "        print(\"Odd\")\n",
    "except:\n",
    "    print(\"You should enter a number!\")\n",
    "        "
   ]
  },
  {
   "cell_type": "markdown",
   "metadata": {},
   "source": [
    "### 3.삼항연산\n",
    "\n",
    "```\n",
    "(True) if <조건> else (False)\n",
    "```"
   ]
  },
  {
   "cell_type": "code",
   "execution_count": 19,
   "metadata": {},
   "outputs": [
    {
     "name": "stdout",
     "output_type": "stream",
     "text": [
      "Enter a number : 4\n",
      "even\n"
     ]
    }
   ],
   "source": [
    "numb = input(\"Enter a number : \")\n",
    "result = \"even\" if int(numb) % 2 == 0 else \"odd\"\n",
    "print(result)"
   ]
  },
  {
   "cell_type": "markdown",
   "metadata": {},
   "source": [
    "### 반복문\n",
    "- while, for, break, continue, list comprehention\n",
    "\n",
    "### 4. while\n",
    "\n",
    "```\n",
    "while <조건> : \n",
    "    <code>\n",
    "```"
   ]
  },
  {
   "cell_type": "code",
   "execution_count": 35,
   "metadata": {},
   "outputs": [
    {
     "name": "stdout",
     "output_type": "stream",
     "text": [
      "3\n",
      "2\n",
      "1\n"
     ]
    }
   ],
   "source": [
    "a = 3\n",
    "while a > 0:\n",
    "    print(a)\n",
    "    a -= 1"
   ]
  },
  {
   "cell_type": "code",
   "execution_count": 38,
   "metadata": {},
   "outputs": [
    {
     "name": "stdout",
     "output_type": "stream",
     "text": [
      "0\n",
      "1\n",
      "2\n",
      "3\n"
     ]
    }
   ],
   "source": [
    "# break\n",
    "a = 0\n",
    "\n",
    "while True:\n",
    "    print(a)\n",
    "    if a == 3:\n",
    "        break\n",
    "    a += 1\n",
    "    "
   ]
  },
  {
   "cell_type": "code",
   "execution_count": 39,
   "metadata": {},
   "outputs": [
    {
     "name": "stdout",
     "output_type": "stream",
     "text": [
      "even 4\n",
      "even 2\n",
      "even 0\n"
     ]
    }
   ],
   "source": [
    "# continue\n",
    "\n",
    "a = 5\n",
    "\n",
    "while a > 0:\n",
    "    a -= 1\n",
    "    if a % 2 != 0:\n",
    "        continue    \n",
    "    print(\"even\", a)\n",
    "        \n",
    "    "
   ]
  },
  {
   "cell_type": "markdown",
   "metadata": {},
   "source": [
    "### 5.for\n",
    "\n",
    "\n",
    "```\n",
    "for <var> in <list>:\n",
    "    <code>\n",
    "```\n",
    "\n",
    "- `<var>`을 사용하지 않을 경우 `_`을 넣어준다"
   ]
  },
  {
   "cell_type": "code",
   "execution_count": 20,
   "metadata": {},
   "outputs": [
    {
     "name": "stdout",
     "output_type": "stream",
     "text": [
      "number: 18\n",
      "0\n",
      "9\n"
     ]
    }
   ],
   "source": [
    "# range\n",
    "number = input(\"number: \")\n",
    "\n",
    "for value in range(int(number)):\n",
    "    if value % 9 != 0:\n",
    "        continue\n",
    "    print(value)"
   ]
  },
  {
   "cell_type": "code",
   "execution_count": 58,
   "metadata": {},
   "outputs": [
    {
     "data": {
      "text/plain": [
       "{'math': 100, 'korean': 80, 'science': 90}"
      ]
     },
     "execution_count": 58,
     "metadata": {},
     "output_type": "execute_result"
    }
   ],
   "source": [
    "# zip : 2개의 리스트를 key, value 형태로 묶어주는 함수\n",
    "\n",
    "# zip 없이 묶는 경우 \n",
    "\n",
    "subs = [\"math\", \"korean\", \"science\"]\n",
    "points = [100, 80, 90]\n",
    "\n",
    "dic = {}\n",
    "\n",
    "for idx in range(len(subs)):\n",
    "    dic[subs[idx]] = points[idx]\n",
    "dic"
   ]
  },
  {
   "cell_type": "code",
   "execution_count": 60,
   "metadata": {},
   "outputs": [
    {
     "data": {
      "text/plain": [
       "{'math': 100, 'korean': 80, 'science': 90}"
      ]
     },
     "execution_count": 60,
     "metadata": {},
     "output_type": "execute_result"
    }
   ],
   "source": [
    "# zip으로 묶는 경우 1\n",
    "\n",
    "subs = [\"math\", \"korean\", \"science\"]\n",
    "points = [100, 80, 90]\n",
    "\n",
    "dic = {}\n",
    "\n",
    "for sub, point in zip(subs, points):\n",
    "    dic[sub] = point\n",
    "dic"
   ]
  },
  {
   "cell_type": "code",
   "execution_count": 61,
   "metadata": {},
   "outputs": [
    {
     "data": {
      "text/plain": [
       "{'math': 100, 'korean': 80, 'science': 90}"
      ]
     },
     "execution_count": 61,
     "metadata": {},
     "output_type": "execute_result"
    }
   ],
   "source": [
    "# zip으로 묶는 경우 2\n",
    "\n",
    "dict(zip(subs, points))"
   ]
  },
  {
   "cell_type": "code",
   "execution_count": 23,
   "metadata": {},
   "outputs": [
    {
     "name": "stdout",
     "output_type": "stream",
     "text": [
      "(0, 'data')\n",
      "(1, 'dss')\n",
      "(2, 'science')\n",
      "(3, 'dss')\n"
     ]
    }
   ],
   "source": [
    "# enumerate : 리스트 데이터를 index와 value 동시에 사용하고 싶을때 \n",
    "\n",
    "# enumerate를 쓰지 않고 index 값을 띄우고 싶은 경우\n",
    "ls = [\"data\", \"dss\", \"science\", \"dss\"]\n",
    "i = 0\n",
    "\n",
    "for value in ls:\n",
    "    print(i, value)\n",
    "    i += 1"
   ]
  },
  {
   "cell_type": "code",
   "execution_count": 67,
   "metadata": {},
   "outputs": [
    {
     "name": "stdout",
     "output_type": "stream",
     "text": [
      "(0, 'data')\n",
      "(1, 'dss')\n",
      "(2, 'science')\n",
      "(3, 'dss')\n"
     ]
    }
   ],
   "source": [
    "# enumerate를 쓰는 경우\n",
    "ls = [\"data\", \"dss\", \"science\", \"dss\"]\n",
    "\n",
    "for value in enumerate(ls):\n",
    "    print(value)\n"
   ]
  },
  {
   "cell_type": "code",
   "execution_count": 69,
   "metadata": {},
   "outputs": [
    {
     "data": {
      "text/plain": [
       "25"
      ]
     },
     "execution_count": 69,
     "metadata": {},
     "output_type": "execute_result"
    }
   ],
   "source": [
    "# for 문을 이용해서 리스트 안에 있는 모든 숫자를 더하는 프로그램 작성 \n",
    "\n",
    "ls = [1,3,5,7,9]\n",
    "\n",
    "result = 0\n",
    "\n",
    "# TODO\n",
    "for number in ls:\n",
    "    result += number\n",
    "result"
   ]
  },
  {
   "cell_type": "markdown",
   "metadata": {},
   "source": [
    "### 6.List Comprehension\n",
    "\n",
    "- 반복문의 리스트 결과를 한 줄로 코딩하여 바로 만들어주는 방법이다.\n",
    "- 리스트 데이터를 만들 때 for 문보다 속도가 빠르다\n",
    "- list conprehension으로 만들 수 있는 for문은 그때 그때 다르다\n",
    "\n",
    "```\n",
    "ls = [<value> for in <value> in <list> (if <condition>)]\n",
    "```"
   ]
  },
  {
   "cell_type": "code",
   "execution_count": 5,
   "metadata": {},
   "outputs": [
    {
     "data": {
      "text/plain": [
       "[0, 2, 4]"
      ]
     },
     "execution_count": 5,
     "metadata": {},
     "output_type": "execute_result"
    }
   ],
   "source": [
    "ls = []\n",
    "ls = [num for num in range(0,5) if num % 2 == 0]\n",
    "ls"
   ]
  },
  {
   "cell_type": "code",
   "execution_count": 9,
   "metadata": {},
   "outputs": [
    {
     "name": "stdout",
     "output_type": "stream",
     "text": [
      "[1, 2, 3, 4, 5]\n",
      "[1, 2, 3, 4, 5]\n",
      "[1, 2, 3, 4, 5]\n",
      "[1, 2, 3, 4, 5]\n"
     ]
    }
   ],
   "source": [
    "# list를 만드는 4가지 방법\n",
    "\n",
    "# method 1\n",
    "ls = []\n",
    "ls = [1,2,3,4,5]\n",
    "print(ls)\n",
    "\n",
    "# method 2\n",
    "ls = []\n",
    "ls.append(1)\n",
    "ls.append(2)\n",
    "ls.append(3)\n",
    "ls.append(4)\n",
    "ls.append(5)\n",
    "print(ls)\n",
    "\n",
    "# method 3\n",
    "ls = []\n",
    "for num in range(1,6):\n",
    "    ls.append(num)\n",
    "print(ls)\n",
    "\n",
    "# method 4\n",
    "\n",
    "ls = []\n",
    "ls = [num for num in range(1,6)]\n",
    "print(ls)\n"
   ]
  },
  {
   "cell_type": "code",
   "execution_count": 14,
   "metadata": {
    "collapsed": true
   },
   "outputs": [],
   "source": [
    "# list comprehension과 for문의 속도 비교"
   ]
  },
  {
   "cell_type": "code",
   "execution_count": 18,
   "metadata": {},
   "outputs": [
    {
     "name": "stdout",
     "output_type": "stream",
     "text": [
      "1.34 ms ± 70.3 µs per loop (mean ± std. dev. of 7 runs, 1000 loops each)\n"
     ]
    }
   ],
   "source": [
    "%%timeit\n",
    "ls = []\n",
    "for num in range(1,10000):\n",
    "    ls.append(num)\n",
    "len(ls)"
   ]
  },
  {
   "cell_type": "code",
   "execution_count": 19,
   "metadata": {},
   "outputs": [
    {
     "name": "stdout",
     "output_type": "stream",
     "text": [
      "560 µs ± 5.58 µs per loop (mean ± std. dev. of 7 runs, 1000 loops each)\n"
     ]
    }
   ],
   "source": [
    "%%timeit\n",
    "ls = []\n",
    "ls = [num for num in range(1,10000)]\n",
    "len(ls)"
   ]
  },
  {
   "cell_type": "code",
   "execution_count": 25,
   "metadata": {},
   "outputs": [
    {
     "name": "stdout",
     "output_type": "stream",
     "text": [
      "['even:0', 'odd:1', 'even:2', 'odd:3', 'even:4', 'odd:5', 'even:6', 'odd:7', 'even:8', 'odd:9', 'even:10']\n"
     ]
    }
   ],
   "source": [
    "# 퀴즈1. 0~10까지 숫자를 출력. 홀수인지, 짝수인지 문자열을 붙여 출력하는 코드. list comprehension + 삼항함수\n",
    "\n",
    "ls = [\"even:\" + str(num) if num % 2 == 0 else \"odd:\" + str(num) for num in range(11)]\n",
    "\n",
    "print(ls)"
   ]
  },
  {
   "cell_type": "code",
   "execution_count": 30,
   "metadata": {},
   "outputs": [
    {
     "name": "stdout",
     "output_type": "stream",
     "text": [
      "[1, 3, 5, 7, 9]\n"
     ]
    }
   ],
   "source": [
    "# 퀴즈2. 필터링 기능. 0~10까지 숫자 중 홀수만 출력해주는 코드.\n",
    "\n",
    "ls = [num for num in range(11) if num % 2 == 1]\n",
    "print(ls)"
   ]
  },
  {
   "cell_type": "code",
   "execution_count": 31,
   "metadata": {},
   "outputs": [
    {
     "data": {
      "text/plain": [
       "['kim dss', 'data', 'school', 'jung science']"
      ]
     },
     "execution_count": 31,
     "metadata": {},
     "output_type": "execute_result"
    }
   ],
   "source": [
    "# 퀴즈3\n",
    "\n",
    "names = [\"kim dss\", \"park python\", \"lee data\", \"lee school\", \"jung science\"]\n",
    "\n",
    "names = [\n",
    "    name.split(\" \")[1] if name.split(\" \")[0] == \"lee\" else name # 리스트에 만들 때 사전작업을 할 수 있다\n",
    "    for name in names \n",
    "    if name.split(\" \")[0] != \"park\"] # for 문의 결과값을 필터링해주는 역할을 한다\n",
    "names"
   ]
  }
 ],
 "metadata": {
  "kernelspec": {
   "display_name": "Python 3",
   "language": "python",
   "name": "python3"
  },
  "language_info": {
   "codemirror_mode": {
    "name": "ipython",
    "version": 3
   },
   "file_extension": ".py",
   "mimetype": "text/x-python",
   "name": "python",
   "nbconvert_exporter": "python",
   "pygments_lexer": "ipython3",
   "version": "3.6.5"
  }
 },
 "nbformat": 4,
 "nbformat_minor": 2
}
