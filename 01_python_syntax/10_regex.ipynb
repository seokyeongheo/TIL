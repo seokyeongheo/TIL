{
 "cells": [
  {
   "cell_type": "markdown",
   "metadata": {},
   "source": [
    "## _정규표현식 - regex_\n",
    "\n",
    "- 특정 패턴으로 문자열을 처리할 때 사용되는 문법\n",
    "- 정규표현식 함수\n",
    "    - match : 문자열을 가장 앞에서 부터 일치하는 패턴을 찾는 함수\n",
    "    - search : 문자열에서 가장 첫번째로 일치하는 패턴을 찾는 함수\n",
    "    - findall : 패턴과 일치하는 문자열을 모두 찾는 함수. match, search보다 주로 사용된다\n",
    "    - split : 문자열을 특정 패턴으로 나누는 함수\n",
    "    - sub : 문자열을 특정 패턴에 맞게 대체하는 함수. replace와 유사.\n",
    "   \n",
    "- 패턴(pattern)"
   ]
  },
  {
   "cell_type": "code",
   "execution_count": 1,
   "metadata": {},
   "outputs": [],
   "source": [
    "import re"
   ]
  },
  {
   "cell_type": "code",
   "execution_count": 2,
   "metadata": {},
   "outputs": [],
   "source": [
    "# 정규표현식 test\n",
    "\n",
    "s = \"fast campus datascience school. datascience school. fast campus school\""
   ]
  },
  {
   "cell_type": "markdown",
   "metadata": {},
   "source": [
    "### 1.match"
   ]
  },
  {
   "cell_type": "code",
   "execution_count": 7,
   "metadata": {},
   "outputs": [
    {
     "data": {
      "text/plain": [
       "<_sre.SRE_Match object; span=(0, 4), match='fast'>"
      ]
     },
     "execution_count": 7,
     "metadata": {},
     "output_type": "execute_result"
    }
   ],
   "source": [
    "# 문자열의 가장 앞에서 부터 패턴이 일치되는 문자열 찾기\n",
    "\n",
    "re.match(\"fast\", s) # re.mathc({pattern}, {문자열})\n",
    "\n",
    "# <_sre.SRE_Match object; span=(0, 4), match='fast'>\n",
    "# index0~4까지 \"fast\"라는 문자열이 매칭된다"
   ]
  },
  {
   "cell_type": "code",
   "execution_count": 8,
   "metadata": {},
   "outputs": [
    {
     "name": "stdout",
     "output_type": "stream",
     "text": [
      "None\n"
     ]
    }
   ],
   "source": [
    "# match는 앞 줄부터 찾기 때문에, 뒤에 있는 패턴은 찾지 못한다\n",
    "\n",
    "result = re.match(\"campus\", s)\n",
    "print(result)"
   ]
  },
  {
   "cell_type": "markdown",
   "metadata": {},
   "source": [
    "### 2.search"
   ]
  },
  {
   "cell_type": "code",
   "execution_count": 10,
   "metadata": {},
   "outputs": [
    {
     "data": {
      "text/plain": [
       "<_sre.SRE_Match object; span=(0, 4), match='fast'>"
      ]
     },
     "execution_count": 10,
     "metadata": {},
     "output_type": "execute_result"
    }
   ],
   "source": [
    "# 문자열에서 패턴에 가장 첫번째로 일치되는 문자열을 찾는다 \n",
    "\n",
    "re.search(\"fast\", s)"
   ]
  },
  {
   "cell_type": "code",
   "execution_count": 11,
   "metadata": {},
   "outputs": [
    {
     "data": {
      "text/plain": [
       "<_sre.SRE_Match object; span=(5, 11), match='campus'>"
      ]
     },
     "execution_count": 11,
     "metadata": {},
     "output_type": "execute_result"
    }
   ],
   "source": [
    "re.search(\"campus\", s)"
   ]
  },
  {
   "cell_type": "markdown",
   "metadata": {},
   "source": [
    "### 3.findall"
   ]
  },
  {
   "cell_type": "code",
   "execution_count": 13,
   "metadata": {},
   "outputs": [
    {
     "data": {
      "text/plain": [
       "['campus', 'campus']"
      ]
     },
     "execution_count": 13,
     "metadata": {},
     "output_type": "execute_result"
    }
   ],
   "source": [
    "# 일치하는 모든 패턴을 찾아서 리스트로 리턴한다 \n",
    "\n",
    "re.findall(\"fast\", s)\n",
    "re.findall(\"campus\", s)"
   ]
  },
  {
   "cell_type": "markdown",
   "metadata": {},
   "source": [
    "### 4.split"
   ]
  },
  {
   "cell_type": "code",
   "execution_count": 17,
   "metadata": {},
   "outputs": [
    {
     "data": {
      "text/plain": [
       "['fast ', ' datascience school. datascience school. fast ', ' school']"
      ]
     },
     "execution_count": 17,
     "metadata": {},
     "output_type": "execute_result"
    }
   ],
   "source": [
    "# 문자열을 특정 패턴으로 나누는 함수\n",
    "\n",
    "re.split(\"campus\", s)"
   ]
  },
  {
   "cell_type": "markdown",
   "metadata": {},
   "source": [
    "### 5.sub"
   ]
  },
  {
   "cell_type": "code",
   "execution_count": 20,
   "metadata": {},
   "outputs": [
    {
     "data": {
      "text/plain": [
       "'slow campus datascience school. datascience school. slow campus school'"
      ]
     },
     "execution_count": 20,
     "metadata": {},
     "output_type": "execute_result"
    }
   ],
   "source": [
    "# 일치하는 패턴을 찾아서 바꾸고자 하는 패턴으로 문자열을 변경해준다\n",
    "\n",
    "re.sub(\"fast\", \"slow\", s) # re.sub({기존 문자열}, {바꾸려는 문자열}, {범위})"
   ]
  },
  {
   "cell_type": "markdown",
   "metadata": {},
   "source": [
    "### 6.pattern\n",
    "\n",
    "- 문자 : 숫자, 문자 등을 구분해주는 패턴\n",
    "- 지정자 : 숫자 몇 개, 특정 숫자나 문자의 범위 등을 제한해주는 패턴 "
   ]
  },
  {
   "cell_type": "markdown",
   "metadata": {},
   "source": [
    "#### 문자 패턴\n",
    "\n",
    "- \\d(숫자), \\D(비숫자)\n",
    "- \\w(숫자, 문자, _), \\W(숫자, 문자, _를 제외한 패턴)\n",
    "- \\s(공백문자), \\s(비공백문자)"
   ]
  },
  {
   "cell_type": "code",
   "execution_count": 25,
   "metadata": {},
   "outputs": [
    {
     "data": {
      "text/plain": [
       "(100,\n",
       " '0123456789abcdefghijklmnopqrstuvwxyzABCDEFGHIJKLMNOPQRSTUVWXYZ!\"#$%&\\'()*+,-./:;<=>?@[\\\\]^_`{|}~ \\t\\n\\r\\x0b\\x0c')"
      ]
     },
     "execution_count": 25,
     "metadata": {},
     "output_type": "execute_result"
    }
   ],
   "source": [
    "import string\n",
    "\n",
    "pt = string.printable\n",
    "len(pt), pt # 쓸 수 있는 문자들을 출력"
   ]
  },
  {
   "cell_type": "code",
   "execution_count": 26,
   "metadata": {},
   "outputs": [
    {
     "data": {
      "text/plain": [
       "['0', '1', '2', '3', '4', '5', '6', '7', '8', '9']"
      ]
     },
     "execution_count": 26,
     "metadata": {},
     "output_type": "execute_result"
    }
   ],
   "source": [
    "# \\d : 숫자만 걸러서 출력한다\n",
    "\n",
    "re.findall(\"\\d\", pt)"
   ]
  },
  {
   "cell_type": "code",
   "execution_count": 31,
   "metadata": {},
   "outputs": [
    {
     "data": {
      "text/plain": [
       "'abcdefghijklmnopqrstuvwxyzABCDEFGHIJKLMNOPQRSTUVWXYZ!\"#$%&\\'()*+,-./:;<=>?@[\\\\]^_`{|}~ \\t\\n\\r\\x0b\\x0c'"
      ]
     },
     "execution_count": 31,
     "metadata": {},
     "output_type": "execute_result"
    }
   ],
   "source": [
    "result = re.findall(\"\\D\", pt)\n",
    "\"\".join(result)"
   ]
  },
  {
   "cell_type": "code",
   "execution_count": 33,
   "metadata": {},
   "outputs": [
    {
     "data": {
      "text/plain": [
       "'0123456789abcdefghijklmnopqrstuvwxyzABCDEFGHIJKLMNOPQRSTUVWXYZ_'"
      ]
     },
     "execution_count": 33,
     "metadata": {},
     "output_type": "execute_result"
    }
   ],
   "source": [
    "# \\w : 숫자, 문자, _ 만 걸러서 출력\n",
    "\n",
    "result = re.findall(\"\\w\", pt)\n",
    "\"\".join(result)"
   ]
  },
  {
   "cell_type": "code",
   "execution_count": 34,
   "metadata": {},
   "outputs": [
    {
     "data": {
      "text/plain": [
       "'!\"#$%&\\'()*+,-./:;<=>?@[\\\\]^`{|}~ \\t\\n\\r\\x0b\\x0c'"
      ]
     },
     "execution_count": 34,
     "metadata": {},
     "output_type": "execute_result"
    }
   ],
   "source": [
    "# \\W : 숫자, 문자, _를 제외한 문자만 걸러서 출력\n",
    "\n",
    "result = re.findall(\"\\W\", pt)\n",
    "\"\".join(result)"
   ]
  },
  {
   "cell_type": "code",
   "execution_count": 38,
   "metadata": {},
   "outputs": [
    {
     "data": {
      "text/plain": [
       "' \\t\\n\\r\\x0b\\x0c'"
      ]
     },
     "execution_count": 38,
     "metadata": {},
     "output_type": "execute_result"
    }
   ],
   "source": [
    "# \\s : 공백만 걸러서 출력\n",
    "\n",
    "result = re.findall(\"\\s\", pt)\n",
    "\"\".join(result)"
   ]
  },
  {
   "cell_type": "code",
   "execution_count": 40,
   "metadata": {},
   "outputs": [
    {
     "data": {
      "text/plain": [
       "'0123456789abcdefghijklmnopqrstuvwxyzABCDEFGHIJKLMNOPQRSTUVWXYZ!\"#$%&\\'()*+,-./:;<=>?@[\\\\]^_`{|}~'"
      ]
     },
     "execution_count": 40,
     "metadata": {},
     "output_type": "execute_result"
    }
   ],
   "source": [
    "# \\S : 공백을 제외한 문자를 걸러서 출력\n",
    "\n",
    "result = re.findall(\"\\S\", pt)\n",
    "\"\".join(result)"
   ]
  },
  {
   "cell_type": "markdown",
   "metadata": {},
   "source": [
    "#### 지정자 패턴\n",
    "\n",
    "- `[]` : 문자 나타내고 묶어주는 역할을 한다₩\n",
    "- `-` : 범위를 나타내는 역할\n",
    "- `.` : 하나의 문자\n",
    "- `?` : 0 또는 1회 반복\n",
    "- `*` : 0회 이상 반복\n",
    "- `+` : 1회 이상 반복\n",
    "- `{m}` : m회 반복\n",
    "- `{m,n}` : m~n회 반복\n",
    "- `()` : 그룹핑해주는 역할 "
   ]
  },
  {
   "cell_type": "code",
   "execution_count": 44,
   "metadata": {},
   "outputs": [
    {
     "data": {
      "text/plain": [
       "'09azAZ~'"
      ]
     },
     "execution_count": 44,
     "metadata": {},
     "output_type": "execute_result"
    }
   ],
   "source": [
    "# 범위 \n",
    "\n",
    "result = re.findall(\"[0~9azAZ]\", pt)\n",
    "\"\".join(result)"
   ]
  },
  {
   "cell_type": "code",
   "execution_count": 42,
   "metadata": {},
   "outputs": [
    {
     "data": {
      "text/plain": [
       "'0123456789abcdefghijklmnopqrstuvwxyzABCDEFGHIJKLMNOPQRSTUVWXYZ!\"#$%&\\'()*+,-./:;<=>?@[\\\\]^_`{|}~ \\t\\n\\r\\x0b\\x0c'"
      ]
     },
     "execution_count": 42,
     "metadata": {},
     "output_type": "execute_result"
    }
   ],
   "source": [
    "pt"
   ]
  },
  {
   "cell_type": "code",
   "execution_count": 49,
   "metadata": {},
   "outputs": [
    {
     "data": {
      "text/plain": [
       "'0123456789abcdefghijklmnopqrstuvwxyzABCDEFGHIJKLMNOPQRSTUVWXYZ_'"
      ]
     },
     "execution_count": 49,
     "metadata": {},
     "output_type": "execute_result"
    }
   ],
   "source": [
    "result = re.findall(\"\\w\", pt)\n",
    "\"\".join(result)"
   ]
  },
  {
   "cell_type": "code",
   "execution_count": 51,
   "metadata": {},
   "outputs": [
    {
     "name": "stdout",
     "output_type": "stream",
     "text": [
      "aab ['aab']\n",
      "aob ['aob']\n",
      "abc []\n"
     ]
    }
   ],
   "source": [
    "# . : 문자 하나\n",
    "\n",
    "ls = [\"aab\", \"aob\", \"abc\"]\n",
    "\n",
    "for s in ls:\n",
    "    result = re.findall(\"a.b\", s) # a + 아무 문자 하나 + b 라는 형태의 패턴을 걸러 출력한다\n",
    "    print(s, result)"
   ]
  },
  {
   "cell_type": "code",
   "execution_count": 54,
   "metadata": {},
   "outputs": [
    {
     "name": "stdout",
     "output_type": "stream",
     "text": [
      "aab ['aab']\n",
      "a3b ['a3b']\n",
      "abc ['ab']\n",
      "accb []\n"
     ]
    }
   ],
   "source": [
    "# ? : 0 또는 1회 반복\n",
    "\n",
    "ls = [\"aab\", \"a3b\", \"abc\", \"accb\"]\n",
    "\n",
    "for s in ls:\n",
    "    result = re.findall(\"a.?b\", s) # a + 아무 문자가 0개 혹은 1개 + b 라는 형태의 패턴을 걸러 출력한다\n",
    "    print(s, result)"
   ]
  },
  {
   "cell_type": "code",
   "execution_count": 57,
   "metadata": {},
   "outputs": [
    {
     "name": "stdout",
     "output_type": "stream",
     "text": [
      "aab ['aab']\n",
      "a3b ['a3b']\n",
      "abc ['ab']\n",
      "accb ['accb']\n"
     ]
    }
   ],
   "source": [
    "# * : 0회 이상 반복\n",
    "\n",
    "ls = [\"aab\", \"a3b\", \"abc\", \"accb\"]\n",
    "\n",
    "for s in ls:\n",
    "    result = re.findall(\"a.*b\", s) # a + 아무 문자가 0개 이상 + b 인 패턴을 걸러 출력한다\n",
    "    print(s, result)"
   ]
  },
  {
   "cell_type": "code",
   "execution_count": 58,
   "metadata": {},
   "outputs": [
    {
     "name": "stdout",
     "output_type": "stream",
     "text": [
      "aab ['aab']\n",
      "a3b ['a3b']\n",
      "abc []\n",
      "accb ['accb']\n"
     ]
    }
   ],
   "source": [
    "# + : 1회 이상 반복\n",
    "\n",
    "ls = [\"aab\", \"a3b\", \"abc\", \"accb\"]\n",
    "\n",
    "for s in ls:\n",
    "    result = re.findall(\"a.+b\", s) # a + 아무 문자가 1개 이상 + b 인 패턴을 걸러 출력한다\n",
    "    print(s, result)"
   ]
  },
  {
   "cell_type": "code",
   "execution_count": 65,
   "metadata": {},
   "outputs": [
    {
     "name": "stdout",
     "output_type": "stream",
     "text": [
      "ab ['ab']\n",
      "acb []\n",
      "acccb []\n",
      "acccccb []\n"
     ]
    }
   ],
   "source": [
    "# {m} : m회\n",
    "\n",
    "ls = [\"ab\", \"acb\", \"acccb\", \"acccccb\"]\n",
    "\n",
    "for s in ls:\n",
    "    result = re.findall(\"ac{0}b\", s) # a + 앞문자가 {m}개 + b인 패턴을 걸러 출력\n",
    "    print(s, result)"
   ]
  },
  {
   "cell_type": "code",
   "execution_count": 66,
   "metadata": {},
   "outputs": [
    {
     "name": "stdout",
     "output_type": "stream",
     "text": [
      "ab ['ab']\n",
      "acb ['acb']\n",
      "acccb ['acccb']\n",
      "acccccb ['acccccb']\n"
     ]
    }
   ],
   "source": [
    "# {m,n} : m~n회 반복\n",
    "\n",
    "ls = [\"ab\", \"acb\", \"acccb\", \"acccccb\"]\n",
    "\n",
    "for s in ls:\n",
    "    result = re.findall(\"ac{0,5}b\", s) # a + 앞문자가 {m~n}개 + b인 패턴을 걸러 출력\n",
    "    print(s, result)"
   ]
  },
  {
   "cell_type": "code",
   "execution_count": null,
   "metadata": {},
   "outputs": [],
   "source": []
  },
  {
   "cell_type": "code",
   "execution_count": null,
   "metadata": {},
   "outputs": [],
   "source": []
  },
  {
   "cell_type": "code",
   "execution_count": null,
   "metadata": {},
   "outputs": [],
   "source": []
  },
  {
   "cell_type": "code",
   "execution_count": null,
   "metadata": {},
   "outputs": [],
   "source": []
  },
  {
   "cell_type": "code",
   "execution_count": null,
   "metadata": {},
   "outputs": [],
   "source": []
  },
  {
   "cell_type": "code",
   "execution_count": null,
   "metadata": {},
   "outputs": [],
   "source": []
  }
 ],
 "metadata": {
  "kernelspec": {
   "display_name": "Python 3",
   "language": "python",
   "name": "python3"
  },
  "language_info": {
   "codemirror_mode": {
    "name": "ipython",
    "version": 3
   },
   "file_extension": ".py",
   "mimetype": "text/x-python",
   "name": "python",
   "nbconvert_exporter": "python",
   "pygments_lexer": "ipython3",
   "version": "3.6.5"
  }
 },
 "nbformat": 4,
 "nbformat_minor": 2
}
