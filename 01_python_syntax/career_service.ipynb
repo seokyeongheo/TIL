{
 "cells": [
  {
   "cell_type": "markdown",
   "metadata": {},
   "source": [
    "## 커리어서비스 소개 (04.23) -채용매니저 원희정"
   ]
  },
  {
   "cell_type": "markdown",
   "metadata": {},
   "source": [
    "### 커리어서비스 구성"
   ]
  },
  {
   "cell_type": "markdown",
   "metadata": {},
   "source": [
    "- 취업특강 \n",
    "\n",
    "- 모의면접\n",
    "\n",
    "- 수료 후 취업 지원\n",
    " - 기업별 맞춤 이력서 코칭 3회\n",
    " - 원티드 추천사 3번 \n",
    "\n",
    "- 하이어링 데이\n",
    " - 스쿨 WEB 채용연계: 참여 기업이 수시로 체크. 채용 제안.\n",
    "\n",
    "- 취업 다이어리"
   ]
  },
  {
   "cell_type": "markdown",
   "metadata": {},
   "source": [
    "### 과정 \n",
    "\n",
    "- 7주차부터 진행"
   ]
  },
  {
   "cell_type": "markdown",
   "metadata": {},
   "source": [
    "- 7주차\n",
    " - 자기소개서 \n",
    " - 특강1"
   ]
  },
  {
   "cell_type": "markdown",
   "metadata": {},
   "source": [
    "### 자기소개서 특강 & 첨삭"
   ]
  },
  {
   "cell_type": "markdown",
   "metadata": {},
   "source": [
    "- 1회차\n",
    " - 자기소개서 작성을 위한 기본 내용 숙지\n",
    "\n",
    "- 2회차\n",
    " - 작성한 초안을 바탕으로 업그레이드 및 그룹 활동\n",
    "\n",
    "- 3회차\n",
    " - 자기소개서 참고, 1:1 첨삭"
   ]
  },
  {
   "cell_type": "markdown",
   "metadata": {},
   "source": [
    "### 현업자 특강\n",
    "\n",
    "- 실무 작업자와의 만남을 통해, 커리어 방향 잡기"
   ]
  },
  {
   "cell_type": "markdown",
   "metadata": {},
   "source": [
    "### 면접 특강"
   ]
  },
  {
   "cell_type": "markdown",
   "metadata": {},
   "source": [
    "### 모의 면접\n",
    "\n",
    "총 3회로 진행\n",
    "\n",
    "- 1:1로 면접진행\n",
    " - 인성면접 20분 진행\n",
    " - 즉석에서 10분 피드백\n",
    " - 자소서 특강 2회차 과제로 해온 이력서 바탕으로 진행"
   ]
  },
  {
   "cell_type": "markdown",
   "metadata": {},
   "source": [
    "### 그룹 기술 면접\n",
    "\n",
    "그룹 면접으로 진행\n",
    " - 4~5명이 1시간 동안 면접"
   ]
  },
  {
   "cell_type": "markdown",
   "metadata": {},
   "source": [
    "### 기업 맞춤 모의 면접\n",
    "\n",
    "- 하이어링 데이 이후 진행\n",
    "- 본인이 가고싶은 기업에 맞춰 인성면접 진행\n",
    "- "
   ]
  },
  {
   "cell_type": "markdown",
   "metadata": {},
   "source": [
    "### 스쿨 WEB 페이지 "
   ]
  },
  {
   "cell_type": "markdown",
   "metadata": {},
   "source": [
    "### 하이어링 데이 \n",
    "\n",
    "- 인사담당자와 안면을 틀 수 있다 \n",
    "- 면접 테스트를 할 수 있다"
   ]
  },
  {
   "cell_type": "markdown",
   "metadata": {},
   "source": [
    "### 원티드 추천사 작성 \n",
    "\n",
    "- 원하는 기업 3곳에 한해 추천사 작성\n",
    "- 본인 장점 3개 어필 가능 "
   ]
  },
  {
   "cell_type": "markdown",
   "metadata": {},
   "source": [
    "### 취업 다이어리\n",
    "\n",
    "- 혜택\n",
    "    - 미션을 수행할 때마다 스탬프를 받을 수 있다\n",
    "    - 스탬프는 차후 사용 가능하다\n",
    "\n",
    "- 방법\n",
    "    - 미션1: 1주에 3개 이상 기업조사\n",
    "    - 미션2: 취업박람회 참가\n",
    "    - 미션3: 면접 후기 제출\n",
    " \n"
   ]
  },
  {
   "cell_type": "markdown",
   "metadata": {},
   "source": [
    "### 툴 - 슬랙: 모든 공지, 일정 안내"
   ]
  },
  {
   "cell_type": "markdown",
   "metadata": {},
   "source": [
    "### Q&A"
   ]
  },
  {
   "cell_type": "markdown",
   "metadata": {},
   "source": []
  },
  {
   "cell_type": "markdown",
   "metadata": {},
   "source": []
  },
  {
   "cell_type": "markdown",
   "metadata": {},
   "source": []
  },
  {
   "cell_type": "markdown",
   "metadata": {},
   "source": []
  },
  {
   "cell_type": "markdown",
   "metadata": {},
   "source": []
  },
  {
   "cell_type": "markdown",
   "metadata": {},
   "source": []
  },
  {
   "cell_type": "markdown",
   "metadata": {},
   "source": []
  },
  {
   "cell_type": "markdown",
   "metadata": {},
   "source": []
  }
 ],
 "metadata": {
  "kernelspec": {
   "display_name": "Python 3",
   "language": "python",
   "name": "python3"
  },
  "language_info": {
   "codemirror_mode": {
    "name": "ipython",
    "version": 3
   },
   "file_extension": ".py",
   "mimetype": "text/x-python",
   "name": "python",
   "nbconvert_exporter": "python",
   "pygments_lexer": "ipython3",
   "version": "3.6.5"
  }
 },
 "nbformat": 4,
 "nbformat_minor": 2
}
