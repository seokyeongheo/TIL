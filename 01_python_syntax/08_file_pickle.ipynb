{
 "cells": [
  {
   "cell_type": "markdown",
   "metadata": {},
   "source": [
    "### File - 파일\n",
    "\n",
    "- 파이썬을 이용해서 파일을 읽고 쓸 수 있다\n",
    "- 파일을 읽고 쓸 때의 파일 작성에 대한 옵션\n",
    "    - w : 파일 쓰기 (덮어쓰기)\n",
    "    - x : 파일 쓰기 (파일이 존재하면 에러가 발생한다)\n",
    "    - r : 파일 읽기 \n",
    "    - a : 파일에 추가 쓰기 (append)\n",
    "    \n",
    "- 파일 읽고 쓸 때의 파일 타입에 대한 옵션\n",
    "    - t : 텍스트 타입 : 문자열을 저장할 때 사용한다\n",
    "    - b : 이진데이터 타입 : 객체를 저장할 때 사용한다\n",
    "     \n",
    "- `open` : 파일을 열 때 사용하는 함수 : open(\"{파일 경로 및 이름\", \"옵션\")"
   ]
  },
  {
   "cell_type": "markdown",
   "metadata": {},
   "source": [
    "#### 파일 쓰기 "
   ]
  },
  {
   "cell_type": "code",
   "execution_count": 10,
   "metadata": {},
   "outputs": [],
   "source": [
    "s = \"\"\"\n",
    "Class B cheer! ! !\n",
    "\"\"\""
   ]
  },
  {
   "cell_type": "code",
   "execution_count": 11,
   "metadata": {},
   "outputs": [],
   "source": [
    "f = open(\"test.txt\", \"wt\")\n",
    "f.write(s)\n",
    "f.close()"
   ]
  },
  {
   "cell_type": "code",
   "execution_count": 12,
   "metadata": {},
   "outputs": [],
   "source": [
    "# print로 파일 쓰기\n",
    "\n",
    "f = open(\"test2.txt\", \"wt\")\n",
    "print(s, file = f, end=\"\")\n",
    "f.close()"
   ]
  },
  {
   "cell_type": "code",
   "execution_count": 14,
   "metadata": {},
   "outputs": [],
   "source": [
    "# xt\n",
    "\n",
    "f = open(\"test3.txt\", \"xt\")\n",
    "print(s, file = f, end=\"\")\n",
    "f.close()"
   ]
  },
  {
   "cell_type": "code",
   "execution_count": 15,
   "metadata": {},
   "outputs": [],
   "source": [
    "# 이진 파일 쓰기 - binary 파일쓰기\n",
    "# bytes 함수 : 이진데이터로 바꿔주는 함수\n",
    "# wb"
   ]
  },
  {
   "cell_type": "code",
   "execution_count": 1,
   "metadata": {},
   "outputs": [],
   "source": [
    "data = bytes(range(10))"
   ]
  },
  {
   "cell_type": "code",
   "execution_count": 20,
   "metadata": {},
   "outputs": [],
   "source": [
    "f = open(\"range.b\", \"wb\")\n",
    "f.write(data)\n",
    "f.close()"
   ]
  },
  {
   "cell_type": "code",
   "execution_count": 26,
   "metadata": {},
   "outputs": [],
   "source": [
    "# 이진 파일 읽기\n",
    "\n",
    "f = open(\"range.b\", \"rb\")\n",
    "data = f.read()\n",
    "f.close()"
   ]
  },
  {
   "cell_type": "code",
   "execution_count": 28,
   "metadata": {},
   "outputs": [
    {
     "data": {
      "text/plain": [
       "[0, 1, 2, 3, 4, 5, 6, 7, 8, 9]"
      ]
     },
     "execution_count": 28,
     "metadata": {},
     "output_type": "execute_result"
    }
   ],
   "source": [
    "list(data)"
   ]
  },
  {
   "cell_type": "code",
   "execution_count": 36,
   "metadata": {},
   "outputs": [
    {
     "name": "stdout",
     "output_type": "stream",
     "text": [
      "\n",
      "Class B cheer!\n"
     ]
    }
   ],
   "source": [
    "# 텍스트 파일 읽기\n",
    "\n",
    "f = open(\"test.txt\", \"rt\")\n",
    "s = f.read(15) # 읽고자 하는 글자 수 입력하기\n",
    "f.close()\n",
    "print(s)"
   ]
  },
  {
   "cell_type": "code",
   "execution_count": 39,
   "metadata": {},
   "outputs": [
    {
     "name": "stdout",
     "output_type": "stream",
     "text": [
      "\n",
      "\n",
      "Class B cheer! ! !\n",
      "\n",
      "\n"
     ]
    }
   ],
   "source": [
    "# 텍스트 파일 한 줄 읽기\n",
    "\n",
    "f = open(\"test.txt\", \"rt\")\n",
    "s = f.readline() # 첫번째 줄\n",
    "print(s)\n",
    "s = f.readline() # 두번째 줄\n",
    "print(s)\n",
    "s = f.readline() # 세번째 줄\n",
    "print(s)\n",
    "f.close()"
   ]
  },
  {
   "cell_type": "code",
   "execution_count": 40,
   "metadata": {},
   "outputs": [
    {
     "name": "stdout",
     "output_type": "stream",
     "text": [
      "['\\n', 'Class B cheer! ! !\\n']\n"
     ]
    }
   ],
   "source": [
    "# 줄 단위로 읽기\n",
    "\n",
    "# 텍스트 파일 한 줄 읽기\n",
    "\n",
    "f = open(\"test.txt\", \"rt\")\n",
    "s = f.readlines() # 첫번째 줄\n",
    "print(s)\n",
    "f.close()"
   ]
  },
  {
   "cell_type": "markdown",
   "metadata": {},
   "source": [
    "### with\n",
    "\n",
    "- close() 함수 사용하지 않을 수 있다\n",
    "- close 함수를 사용하지 않는 실수를 줄여줄 수 있다"
   ]
  },
  {
   "cell_type": "code",
   "execution_count": 41,
   "metadata": {},
   "outputs": [
    {
     "name": "stdout",
     "output_type": "stream",
     "text": [
      "\n",
      "Class B cheer! ! !\n",
      "\n"
     ]
    }
   ],
   "source": [
    "with open(\"test.txt\", \"rt\") as f:\n",
    "    s = f.read()\n",
    "    print(s)"
   ]
  },
  {
   "cell_type": "markdown",
   "metadata": {},
   "source": [
    "### Pickle(피클)\n",
    "\n",
    "- Pickle은 파이썬에서 객체를 직렬화해서, 저장 / 복원하는 모듈이다 \n",
    "- 직렬화는 객체를 저장하는 것을 말한다\n",
    "- file 모듈에 있는 write 함수를 쓰는 것보다, pickle 모델에 쓰는 write를 좋아서 쓰고는 한다"
   ]
  },
  {
   "cell_type": "code",
   "execution_count": 2,
   "metadata": {},
   "outputs": [],
   "source": [
    "import pickle"
   ]
  },
  {
   "cell_type": "code",
   "execution_count": 3,
   "metadata": {},
   "outputs": [
    {
     "name": "stdout",
     "output_type": "stream",
     "text": [
      "do!\n"
     ]
    }
   ],
   "source": [
    "class A:\n",
    "    def __init__(self, data):\n",
    "        self.data = data\n",
    "        \n",
    "    def disp(self):\n",
    "        print(self.data)\n",
    "        \n",
    "a = A(\"do!\")\n",
    "a.disp()"
   ]
  },
  {
   "cell_type": "code",
   "execution_count": 4,
   "metadata": {},
   "outputs": [],
   "source": [
    "with open(\"obj.p\", \"wb\") as f:\n",
    "    pickle.dump(a, f) # dump : 입력 ({obj}, {file})"
   ]
  },
  {
   "cell_type": "code",
   "execution_count": 5,
   "metadata": {},
   "outputs": [],
   "source": [
    "with open(\"obj.p\", \"rb\") as f:\n",
    "    load_a = pickle.load(f)"
   ]
  },
  {
   "cell_type": "code",
   "execution_count": 6,
   "metadata": {},
   "outputs": [
    {
     "name": "stdout",
     "output_type": "stream",
     "text": [
      "do!\n"
     ]
    }
   ],
   "source": [
    "load_a.disp()"
   ]
  }
 ],
 "metadata": {
  "kernelspec": {
   "display_name": "Python 3",
   "language": "python",
   "name": "python3"
  },
  "language_info": {
   "codemirror_mode": {
    "name": "ipython",
    "version": 3
   },
   "file_extension": ".py",
   "mimetype": "text/x-python",
   "name": "python",
   "nbconvert_exporter": "python",
   "pygments_lexer": "ipython3",
   "version": "3.6.5"
  }
 },
 "nbformat": 4,
 "nbformat_minor": 2
}
