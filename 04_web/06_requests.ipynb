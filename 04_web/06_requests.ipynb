{
 "cells": [
  {
   "cell_type": "markdown",
   "metadata": {},
   "source": [
    "## _크롤링_\n",
    "\n",
    "- resquests : 브라우저가 아닌 코드에서 서버로 리퀘스트를 보내는 것. \n",
    "    - 1.API 이용 : request를 던져서 JSON이라는 데이터 포맷(문자열)으로 데이터를 받는다. 문자열을 JSON object로 바꾸어주고 위해 파싱(parsing)을 한다. 그리고 JSON에서 필요한 데이터를 모으면 된다.\n",
    "    - 2.HTML 코드 이용 : request를 던져서 HTML 코드를 문자열로 받는다. beautifulsoup4(bs4)를 이용해서 파싱(parsing)한다. 그러면 css-selector로 데이터를 모으면 된다. / 정적 웹페이지를 크롤링할 때 사용한다 / \n",
    "    - 3.Selenium 이용 : 프론트엔드 페이지 테스팅 도구. 직접 브라우저를 띄우고 css-selector를 이용해서 특정 데이터를 가져온다. / 동적 웹페이지를 크롤링할 때 사용한다\n",
    "    - 4.scrapy 이용 : 웹 크롤링을 위해 만들어진 파이썬 패키지. request/response 방식. 크롤링 정책을 설정할 수 있다. 동적 페이지를 가져오기 위해서는 Selenium을 사용해야 한다. \n",
    "\n",
    "\n",
    "\n",
    "- 우선순위 : 1 > 2 > 3\n",
    "    - JSON : 필요한 데이터만 집약되어 있다 \n",
    "    - HTML : JSON에 비해 상대적으로 불필요한 데이터가 있다. request/response로 데이터만 가져온다.\n",
    "    - Selenium : 브라우저를 띄우고 데이터를 가져오는데 자원이 소모된다.\n",
    "\n",
    "\n",
    "\n",
    "- 기타 : 화면이 없는 서버에서 오류가 나지 않도록 하기 위해서\n",
    "    - 크롬드라이버 헤드리스 : 화면을 띄우지 않은 상태에서 크롤링하는 것. Selenium이 이제 더는 phantom.JS를 지원하지 않음.\n",
    "    - XVfb : 메모리 상 가상화면을 만들어서, 로컬의 화면을 그대로 가져와서 사용할 수 있다."
   ]
  },
  {
   "cell_type": "code",
   "execution_count": 1,
   "metadata": {},
   "outputs": [],
   "source": [
    "import requests\n",
    "from bs4 import BeautifulSoup\n",
    "import forecastio\n",
    "import pandas as pd"
   ]
  },
  {
   "cell_type": "markdown",
   "metadata": {},
   "source": [
    "### *실습*\n",
    "\n",
    "- api json : 네이버 주식 데이터 크롤링\n",
    "- api josn / forecastio : dark sky api로 날씨 데이터를 수집\n",
    "- bs4 : 네이버 실시간 키워드, 다음 실시간 키워드 크롤링\n",
    "- web file url로 파일을 다운로드 받는 방법"
   ]
  },
  {
   "cell_type": "code",
   "execution_count": null,
   "metadata": {},
   "outputs": [],
   "source": [
    "from pandas.io.json import json_normalize"
   ]
  },
  {
   "cell_type": "markdown",
   "metadata": {},
   "source": [
    "##### 네이버 주식데이터 가져오기\n",
    "\n",
    "- 모바일 웹이 크롤링하기 더욱 용이하다"
   ]
  },
  {
   "cell_type": "code",
   "execution_count": null,
   "metadata": {},
   "outputs": [],
   "source": [
    "def make_url(pageSize=10, page=1):\n",
    "    return \"http://m.stock.naver.com/api/json/sise/siseListJson.nhn?\\\n",
    "    menu=market_sum&sosok=0&pageSize=\" + str(pageSize) + \"&page=\" + str(page)\n",
    "make_url(1458, 1)"
   ]
  },
  {
   "cell_type": "code",
   "execution_count": null,
   "metadata": {},
   "outputs": [],
   "source": [
    "# 데이터를 가져와서 판다스의 데이터프레임으로 만드는 함수\n",
    "# 1.텍스트 그대로 가져오기\n",
    "# 2.제이슨 오브젝트로 파싱해서 가져오기\n",
    "\n",
    "def get_data(url):\n",
    "    response = requests.get(url)\n",
    "    json_info = response.json()\n",
    "    companys = json_info[\"result\"][\"itemList\"]\n",
    "    df = pd.DataFrame(columns=[\"종목\", \"시세\", \"전일비\", \"등락율\", \"시가총액\", \"거래량\"])\n",
    "    return json.normalize(companys)\n",
    "    \n",
    "#     for company in companys:\n",
    "#         df.loc[len(df)] = {\n",
    "#             \"종목\":company[\"nm\"],\n",
    "#             \"시세\":company[\"nv\"],\n",
    "#             \"전일비\":company[\"cv\"],\n",
    "#             \"등락율\":company[\"cr\"],\n",
    "#             \"시가총액\":company[\"mks\"],\n",
    "#             \"거래량\":company[\"aq\"],\n",
    "#         }  \n",
    "        \n",
    "#     return df\n",
    "#     print(response.text) # text 형태로 가져온다\n",
    "#     print(json_info) # dict 형태로 가져온다\n",
    "#     print(type(companys)) # List 형태로 가져온다"
   ]
  },
  {
   "cell_type": "code",
   "execution_count": null,
   "metadata": {},
   "outputs": [],
   "source": [
    "url = make_url(1500, 1)\n",
    "df = get_data(url)\n",
    "df.tail()"
   ]
  },
  {
   "cell_type": "code",
   "execution_count": null,
   "metadata": {},
   "outputs": [],
   "source": [
    "# 뉴스 크롤링"
   ]
  },
  {
   "cell_type": "code",
   "execution_count": 2,
   "metadata": {},
   "outputs": [
    {
     "data": {
      "text/plain": [
       "'https://m.naver.com/api_airs_news?st=rec&display=100&start=1'"
      ]
     },
     "execution_count": 2,
     "metadata": {},
     "output_type": "execute_result"
    }
   ],
   "source": [
    "def make_url(count=10, start=1):\n",
    "    return \"https://m.naver.com/api_airs_news?st=rec&display=\"\\\n",
    "+ str(count) + \"&start=\" + str(start)\n",
    "make_url(100, 1)"
   ]
  },
  {
   "cell_type": "code",
   "execution_count": 3,
   "metadata": {},
   "outputs": [
    {
     "ename": "TypeError",
     "evalue": "get_news() missing 1 required positional argument: 'url'",
     "output_type": "error",
     "traceback": [
      "\u001b[0;31m---------------------------------------------------------------------------\u001b[0m",
      "\u001b[0;31mTypeError\u001b[0m                                 Traceback (most recent call last)",
      "\u001b[0;32m<ipython-input-3-2c8ec655eb66>\u001b[0m in \u001b[0;36m<module>\u001b[0;34m()\u001b[0m\n\u001b[1;32m     12\u001b[0m         }  \n\u001b[1;32m     13\u001b[0m     \u001b[0;32mreturn\u001b[0m \u001b[0mdf2\u001b[0m\u001b[0;34m\u001b[0m\u001b[0m\n\u001b[0;32m---> 14\u001b[0;31m \u001b[0mget_news\u001b[0m\u001b[0;34m(\u001b[0m\u001b[0;34m)\u001b[0m\u001b[0;34m\u001b[0m\u001b[0m\n\u001b[0m",
      "\u001b[0;31mTypeError\u001b[0m: get_news() missing 1 required positional argument: 'url'"
     ]
    }
   ],
   "source": [
    "def get_news(url):\n",
    "    response = requests.get(url)\n",
    "    json_info = response.json()\n",
    "    news = json_info[\"result\"][\"recommend\"]\n",
    "    df2 = pd.DataFrame(columns=[\"제목\", \"언론사\", \"시간\"])\n",
    "    \n",
    "    for new in news:\n",
    "        df2.loc[len(df2)] = {\n",
    "            \"제목\":new[\"title\"],\n",
    "            \"언론사\":new[\"office_name\"],\n",
    "            \"시간\":new[\"dt_svc\"],\n",
    "        }  \n",
    "    return df2\n",
    "news_site = make_url()\n",
    "\n",
    "get_news(news_site)"
   ]
  },
  {
   "cell_type": "code",
   "execution_count": null,
   "metadata": {},
   "outputs": [],
   "source": [
    "url = make_url()\n",
    "df2 = get_data(url)\n",
    "df2.tail()"
   ]
  },
  {
   "cell_type": "markdown",
   "metadata": {},
   "source": [
    "### _dark sky api_\n",
    "\n",
    "- dark sky api : 위도와 경도를 입력하면 날씨 정보를 알려주는 api"
   ]
  },
  {
   "cell_type": "code",
   "execution_count": null,
   "metadata": {},
   "outputs": [],
   "source": [
    "FORECAST_TOKEN = \"30dc208a4ebd307081cbb81003d5e455\""
   ]
  },
  {
   "cell_type": "code",
   "execution_count": null,
   "metadata": {},
   "outputs": [],
   "source": [
    "def forecast(lat, lng):\n",
    "    url = \"https://api.darksky.net/forecast/{}/{},{}\"\\\n",
    "    .format(FORECAST_TOKEN, lat, lng)\n",
    "    response = requests.get(url)\n",
    "    json_info = response.json()\n",
    "    return json_info[\"timezone\"], json_info[\"hourly\"][\"summary\"]"
   ]
  },
  {
   "cell_type": "code",
   "execution_count": null,
   "metadata": {},
   "outputs": [],
   "source": [
    "forecast(37.53, 127.04)"
   ]
  },
  {
   "cell_type": "code",
   "execution_count": null,
   "metadata": {},
   "outputs": [],
   "source": []
  },
  {
   "cell_type": "markdown",
   "metadata": {},
   "source": [
    "### _forecastio_\n",
    "\n",
    "- 복잡한 api인 경우에는 패키지를 사용하는 것이 좋을 수 있다"
   ]
  },
  {
   "cell_type": "code",
   "execution_count": null,
   "metadata": {},
   "outputs": [],
   "source": [
    "def forecast2(lat, lng):\n",
    "    forecast = forecastio.load_forecast(FORECAST_TOKEN, lat, lng)\n",
    "    byHourly = forecast.hourly()\n",
    "    return byHourly.summary\n",
    "forecast2(37.53, 127.04)"
   ]
  },
  {
   "cell_type": "code",
   "execution_count": null,
   "metadata": {},
   "outputs": [],
   "source": []
  },
  {
   "cell_type": "markdown",
   "metadata": {},
   "source": [
    "### _bs4_\n",
    "\n",
    "- 네이버 키워드 랭킹 데이터 크롤링\n",
    "- 다음 키워드 랭킹 데이터 크롤링\n",
    "- dom : HTML 모델\n",
    "- dom.select : 여러 개의 html 엘리먼트를 셀렉팅할 때 사용. 결과로 리스트 데이터를 리턴한다.\n",
    "- dom.select_one : 하나의 html 엘리먼트를 셀렉팅할 때 사용. 결과로 문자열 데이터를 리턴한다."
   ]
  },
  {
   "cell_type": "code",
   "execution_count": null,
   "metadata": {},
   "outputs": [],
   "source": [
    "def naver():\n",
    "    df = pd.DataFrame(columns=[\"rank\", \"keyword\"])\n",
    "    \n",
    "    response = requests.get(\"https://www.naver.com/\") # requests 가져오기\n",
    "    dom = BeautifulSoup(response.content, \"html.parser\") # (markup, feature)\n",
    "    keywords = dom.select(\".ah_roll_area > .ah_l > .ah_item\") # css-selecting\n",
    "    \n",
    "    for keyword in keywords:\n",
    "        df.loc[len(df)] = {\n",
    "            \"rank\": keyword.select_one(\".ah_r\").text,\n",
    "            \"keyword\": keyword.select_one(\".ah_k\").text,\n",
    "        }\n",
    "    \n",
    "    return df\n",
    "naver_df = naver()\n",
    "naver_df[\"keyword\"]"
   ]
  },
  {
   "cell_type": "code",
   "execution_count": null,
   "metadata": {},
   "outputs": [],
   "source": [
    "import time\n",
    "ls = []\n",
    "for idx in range(3):\n",
    "    ls.append(naver())\n",
    "    time.sleep(5*1*1)"
   ]
  },
  {
   "cell_type": "code",
   "execution_count": null,
   "metadata": {},
   "outputs": [],
   "source": [
    "ls[0]"
   ]
  },
  {
   "cell_type": "markdown",
   "metadata": {},
   "source": [
    "### *실습*\n",
    "    1. daum 실시간 이슈 검색어 10개 수집\n",
    "    2. 네이버 20개 데이터와 다음 10개 데이터에서 중복되는 데이터 출력"
   ]
  },
  {
   "cell_type": "code",
   "execution_count": null,
   "metadata": {},
   "outputs": [],
   "source": [
    "# 나\n",
    "\n",
    "def daum():\n",
    "    df = pd.DataFrame(columns=[\"rank\", \"keyword\"])\n",
    "    \n",
    "    response = requests.get(\"https://www.daum.net/\")\n",
    "    dom = BeautifulSoup(response.content, \"html.parser\")\n",
    "    keywords = dom.select(\".list_hotissue > roll_txt\")\n",
    "\n",
    "    return len(keywords)\n",
    "daum()"
   ]
  },
  {
   "cell_type": "code",
   "execution_count": null,
   "metadata": {},
   "outputs": [],
   "source": [
    "# 강사님\n",
    "\n",
    "def daum():\n",
    "    df = pd.DataFrame()\n",
    "    rank = []\n",
    "    keyword = []\n",
    "    response = requests.get(\"https://www.daum.net\")\n",
    "    dom = BeautifulSoup(response.content, 'html.parser')\n",
    "    keywords = dom.select(\".realtime_part .list_hotissue.issue_row > li\")\n",
    "\n",
    "    rank = [ keyword.select_one(\".ir_wa\").text for keyword in keywords]\n",
    "    keyword = [ keyword.select_one(\".link_issue\").text for keyword in keywords]\n",
    "    \n",
    "    df[\"rank\"] = rank\n",
    "    df[\"keyword\"] = keyword\n",
    "    \n",
    "    return df\n",
    "\n",
    "daum_df = daum()\n",
    "daum_df[\"keyword\"]"
   ]
  },
  {
   "cell_type": "code",
   "execution_count": null,
   "metadata": {},
   "outputs": [],
   "source": [
    "daum_df[\"keyword\"], naver_df[\"keyword\"]"
   ]
  },
  {
   "cell_type": "code",
   "execution_count": null,
   "metadata": {},
   "outputs": [],
   "source": [
    "# 중복값 확인하기\n",
    "\n",
    "result = [\n",
    "    keyword\n",
    "    for keyword in naver_df[\"keyword\"]\n",
    "    if daum_df[\"keyword\"].str.contains(keyword).any()\n",
    "]\n",
    "result"
   ]
  },
  {
   "cell_type": "code",
   "execution_count": null,
   "metadata": {},
   "outputs": [],
   "source": [
    "# set(집합)의 교집합 확인하기"
   ]
  },
  {
   "cell_type": "code",
   "execution_count": null,
   "metadata": {},
   "outputs": [],
   "source": []
  },
  {
   "cell_type": "code",
   "execution_count": null,
   "metadata": {},
   "outputs": [],
   "source": [
    "def naver():\n",
    "    df = pd.DataFrame(columns=[\"rank\", \"keyword\"])\n",
    "    \n",
    "    response = requests.get(\"https://www.naver.com/\") # requests 가져오기\n",
    "    dom = BeautifulSoup(response.content, \"html.parser\") # (markup, feature)\n",
    "    keywords = dom.select(\".ah_roll_area > .ah_l > .ah_item\") # css-selecting\n",
    "    \n",
    "    for keyword in keywords:\n",
    "        df.loc[len(df)] = {\n",
    "            \"rank\": keyword.select_one(\".ah_r\").text,\n",
    "            \"keyword\": keyword.select_one(\".ah_k\").text,\n",
    "        }\n",
    "    \n",
    "    return df\n",
    "naver()"
   ]
  },
  {
   "cell_type": "markdown",
   "metadata": {},
   "source": [
    "### _file down load : requests_\n",
    "\n",
    "- file의 url을 받아서 해당 url의 파일을 다운로드하는 방법\n",
    "- 청크\n",
    "- 특정 키워드 영상의 url을 가지고 반복적으로 지속가능하게 다운로드할 수 있다\n"
   ]
  },
  {
   "cell_type": "code",
   "execution_count": null,
   "metadata": {},
   "outputs": [],
   "source": [
    "url = \"https://bit.ly/2tbDF7n\"\n",
    "title = \"video.mp4\""
   ]
  },
  {
   "cell_type": "code",
   "execution_count": null,
   "metadata": {},
   "outputs": [],
   "source": [
    "def download(title, download_link):\n",
    "    response = requests.get(download_link, stream=True)\n",
    "    file_size = 0\n",
    "    with open(title, 'wb') as f:\n",
    "        for chunk in response.iter_content(chunk_size=1024): # chunk의 단위는 byte\n",
    "            if chunk:\n",
    "                file_size += 1024\n",
    "                f.write(chunk)\n",
    "    return file_size/1024/1024"
   ]
  },
  {
   "cell_type": "code",
   "execution_count": null,
   "metadata": {},
   "outputs": [],
   "source": [
    "download_link = \"https://bit.ly/2tbDF7n\"\n",
    "title = \"video.mp4\"\n",
    "download(title, download_link)"
   ]
  },
  {
   "cell_type": "code",
   "execution_count": null,
   "metadata": {},
   "outputs": [],
   "source": []
  },
  {
   "cell_type": "code",
   "execution_count": null,
   "metadata": {},
   "outputs": [],
   "source": []
  },
  {
   "cell_type": "code",
   "execution_count": null,
   "metadata": {},
   "outputs": [],
   "source": []
  },
  {
   "cell_type": "code",
   "execution_count": null,
   "metadata": {},
   "outputs": [],
   "source": []
  }
 ],
 "metadata": {
  "kernelspec": {
   "display_name": "Python 3",
   "language": "python",
   "name": "python3"
  },
  "language_info": {
   "codemirror_mode": {
    "name": "ipython",
    "version": 3
   },
   "file_extension": ".py",
   "mimetype": "text/x-python",
   "name": "python",
   "nbconvert_exporter": "python",
   "pygments_lexer": "ipython3",
   "version": "3.6.5"
  }
 },
 "nbformat": 4,
 "nbformat_minor": 2
}
