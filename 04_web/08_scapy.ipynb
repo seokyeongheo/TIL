{
 "cells": [
  {
   "cell_type": "markdown",
   "metadata": {},
   "source": [
    "## _scrapy_\n",
    "\n",
    "- xpath 기본 문법\n",
    "- xpath 실습\n",
    "    - scrapy sehll(ipython), jupyter notebook\n",
    "    - 네이버 키워드 데이터 수집, 다음 키워드 데이터 수집, gmarket 베스트 상품 데이터 수집\n",
    "    - css selector보다 명시적이다.\n",
    "\n",
    "- scrapy project\n",
    "    - scrapy 파일 디렉토리 구조 \n",
    "    - crawler\n",
    "        - 네이버 현재 상영 영화 링크\n",
    "        - 각각 영화 링크에서 영화 제목, 관객 수를 크롤링한다.\n",
    "        - 크롤링한 정보를 csv로 저장한다.\n",
    "        - pipeline 학습"
   ]
  },
  {
   "cell_type": "code",
   "execution_count": 2,
   "metadata": {},
   "outputs": [],
   "source": [
    "import scrapy "
   ]
  },
  {
   "cell_type": "markdown",
   "metadata": {},
   "source": [
    "### _xpath syntax_\n",
    "\n",
    "- 네이버 영화 제목 xpath : `//*[@id=\"content\"]/div[1]/div[1]/div[3]/ul/li[1]/dl/dt/a`\n",
    "- `//` : 가장 상위 엘리먼트이다.\n",
    "- `*` : css selector 하위 엘리먼트를 선택할 때 \"div a\"과 같다. 모든 하위 엘리먼트를 검색한다.\n",
    "- `[@<key>=<value>]` : @가 속성값(attribute)를 의미한다.\n",
    "    - `[@id=\"content\"]` : id가 content인 엘리먼트를 선택한다.\n",
    "- `/` : css selector에서 ` > `와 같다. 1단계 아래 하위 엘리먼트를 검색한다.\n",
    "- `div` : 엘리먼트 이름\n",
    "- `[<number>]` : number 번째의 엘리먼트를 선택한다. (0부터 시작이 아니라 1부터 시작한다)\n",
    "- `not` : `not(조건)`, `not(@class=\"test\")` - class test가 아닌 엘리먼트를 선택한다.\n",
    "- `.` : 현재 엘리먼트를 의미한다.\n",
    "\n",
    "\n"
   ]
  },
  {
   "cell_type": "markdown",
   "metadata": {},
   "source": [
    "### _scrapy shell_\n",
    "\n",
    "- `$ scrapy shell \"<url>\"`\n",
    "- 네이버 실시간 검색어\n",
    "- 다음 실시간 검색어\n",
    "- gmarket"
   ]
  },
  {
   "cell_type": "markdown",
   "metadata": {},
   "source": [
    "#### _네이버 실시간 검색_\n",
    "\n",
    "- scrapy shell 실행 : $ scrapy shell \"www.naver.com\"\n",
    "- 네이버 실시간 검색어 1위 객체 가져오기 \n",
    "\n",
    "`response.xpath('//*[@id=\"PM_ID_ct\"]/div[1]/div[2]/div[2]/div[1]/div/ul/li[1]/a/span[2]')`"
   ]
  },
  {
   "cell_type": "markdown",
   "metadata": {},
   "source": [
    "### _jupyter notebook 사용_"
   ]
  },
  {
   "cell_type": "code",
   "execution_count": 1,
   "metadata": {},
   "outputs": [],
   "source": [
    "import requests\n",
    "from scrapy.http import TextResponse"
   ]
  },
  {
   "cell_type": "code",
   "execution_count": 3,
   "metadata": {},
   "outputs": [],
   "source": [
    "reg = requests.get(\"http://naver.com\")"
   ]
  },
  {
   "cell_type": "code",
   "execution_count": 4,
   "metadata": {},
   "outputs": [],
   "source": [
    "response = TextResponse(reg.url, body=reg.text, encoding=\"utf-8\")"
   ]
  },
  {
   "cell_type": "code",
   "execution_count": 5,
   "metadata": {},
   "outputs": [
    {
     "data": {
      "text/plain": [
       "[<Selector xpath='//*[@id=\"PM_ID_ct\"]/div[1]/div[2]/div[2]/div[1]/div/ul/li[1]/a/span[2]' data='<span class=\"ah_k\">대구 수돗물</span>'>]"
      ]
     },
     "execution_count": 5,
     "metadata": {},
     "output_type": "execute_result"
    }
   ],
   "source": [
    "# 네이버 실시간 검색어 1위 객체 선택\n",
    "\n",
    "response.xpath('//*[@id=\"PM_ID_ct\"]/div[1]/div[2]/div[2]/div[1]/div/ul/li[1]/a/span[2]')"
   ]
  },
  {
   "cell_type": "code",
   "execution_count": 6,
   "metadata": {},
   "outputs": [
    {
     "data": {
      "text/plain": [
       "[<Selector xpath='//*[@id=\"PM_ID_ct\"]/div[1]/div[2]/div[2]/div[1]/div/ul/li/a/span[2]' data='<span class=\"ah_k\">대구 수돗물</span>'>,\n",
       " <Selector xpath='//*[@id=\"PM_ID_ct\"]/div[1]/div[2]/div[2]/div[1]/div/ul/li/a/span[2]' data='<span class=\"ah_k\">조정석</span>'>,\n",
       " <Selector xpath='//*[@id=\"PM_ID_ct\"]/div[1]/div[2]/div[2]/div[1]/div/ul/li/a/span[2]' data='<span class=\"ah_k\">거미</span>'>,\n",
       " <Selector xpath='//*[@id=\"PM_ID_ct\"]/div[1]/div[2]/div[2]/div[1]/div/ul/li/a/span[2]' data='<span class=\"ah_k\">밥블레스유</span>'>,\n",
       " <Selector xpath='//*[@id=\"PM_ID_ct\"]/div[1]/div[2]/div[2]/div[1]/div/ul/li/a/span[2]' data='<span class=\"ah_k\">배그 점검</span>'>,\n",
       " <Selector xpath='//*[@id=\"PM_ID_ct\"]/div[1]/div[2]/div[2]/div[1]/div/ul/li/a/span[2]' data='<span class=\"ah_k\">월드컵 조별순위</span>'>,\n",
       " <Selector xpath='//*[@id=\"PM_ID_ct\"]/div[1]/div[2]/div[2]/div[1]/div/ul/li/a/span[2]' data='<span class=\"ah_k\">아르헨티나 크로아티아</span>'>,\n",
       " <Selector xpath='//*[@id=\"PM_ID_ct\"]/div[1]/div[2]/div[2]/div[1]/div/ul/li/a/span[2]' data='<span class=\"ah_k\">브라질 코스타리카</span>'>,\n",
       " <Selector xpath='//*[@id=\"PM_ID_ct\"]/div[1]/div[2]/div[2]/div[1]/div/ul/li/a/span[2]' data='<span class=\"ah_k\">배틀그라운드</span>'>,\n",
       " <Selector xpath='//*[@id=\"PM_ID_ct\"]/div[1]/div[2]/div[2]/div[1]/div/ul/li/a/span[2]' data='<span class=\"ah_k\">크로아티아</span>'>,\n",
       " <Selector xpath='//*[@id=\"PM_ID_ct\"]/div[1]/div[2]/div[2]/div[1]/div/ul/li/a/span[2]' data='<span class=\"ah_k\">울산 포항 고속도로</span>'>,\n",
       " <Selector xpath='//*[@id=\"PM_ID_ct\"]/div[1]/div[2]/div[2]/div[1]/div/ul/li/a/span[2]' data='<span class=\"ah_k\">에브라</span>'>,\n",
       " <Selector xpath='//*[@id=\"PM_ID_ct\"]/div[1]/div[2]/div[2]/div[1]/div/ul/li/a/span[2]' data='<span class=\"ah_k\">아르헨티나</span>'>,\n",
       " <Selector xpath='//*[@id=\"PM_ID_ct\"]/div[1]/div[2]/div[2]/div[1]/div/ul/li/a/span[2]' data='<span class=\"ah_k\">모드리치</span>'>,\n",
       " <Selector xpath='//*[@id=\"PM_ID_ct\"]/div[1]/div[2]/div[2]/div[1]/div/ul/li/a/span[2]' data='<span class=\"ah_k\">조현우 아내</span>'>,\n",
       " <Selector xpath='//*[@id=\"PM_ID_ct\"]/div[1]/div[2]/div[2]/div[1]/div/ul/li/a/span[2]' data='<span class=\"ah_k\">썰전</span>'>,\n",
       " <Selector xpath='//*[@id=\"PM_ID_ct\"]/div[1]/div[2]/div[2]/div[1]/div/ul/li/a/span[2]' data='<span class=\"ah_k\">박세은</span>'>,\n",
       " <Selector xpath='//*[@id=\"PM_ID_ct\"]/div[1]/div[2]/div[2]/div[1]/div/ul/li/a/span[2]' data='<span class=\"ah_k\">메시</span>'>,\n",
       " <Selector xpath='//*[@id=\"PM_ID_ct\"]/div[1]/div[2]/div[2]/div[1]/div/ul/li/a/span[2]' data='<span class=\"ah_k\">거미 조정석 결혼</span>'>,\n",
       " <Selector xpath='//*[@id=\"PM_ID_ct\"]/div[1]/div[2]/div[2]/div[1]/div/ul/li/a/span[2]' data='<span class=\"ah_k\">대한항공 채용</span>'>]"
      ]
     },
     "execution_count": 6,
     "metadata": {},
     "output_type": "execute_result"
    }
   ],
   "source": [
    "# 네이버 실시간 검색어 20개 객체 선택\n",
    "\n",
    "response.xpath('//*[@id=\"PM_ID_ct\"]/div[1]/div[2]/div[2]/div[1]/div/ul/li/a/span[2]')"
   ]
  },
  {
   "cell_type": "code",
   "execution_count": 7,
   "metadata": {},
   "outputs": [
    {
     "data": {
      "text/plain": [
       "['대구 수돗물',\n",
       " '조정석',\n",
       " '거미',\n",
       " '밥블레스유',\n",
       " '배그 점검',\n",
       " '월드컵 조별순위',\n",
       " '아르헨티나 크로아티아',\n",
       " '브라질 코스타리카',\n",
       " '배틀그라운드',\n",
       " '크로아티아',\n",
       " '울산 포항 고속도로',\n",
       " '에브라',\n",
       " '아르헨티나',\n",
       " '모드리치',\n",
       " '조현우 아내',\n",
       " '썰전',\n",
       " '박세은',\n",
       " '메시',\n",
       " '거미 조정석 결혼',\n",
       " '대한항공 채용']"
      ]
     },
     "execution_count": 7,
     "metadata": {},
     "output_type": "execute_result"
    }
   ],
   "source": [
    "# 네이버 실시간 검색어 20개 객체 문자열 데이터 선택\n",
    "\n",
    "words = response.xpath('//*[@id=\"PM_ID_ct\"]/div[1]/div[2]/div[2]/div[1]/div/ul/li/a/span[2]/text()').extract()\n",
    "words"
   ]
  },
  {
   "cell_type": "markdown",
   "metadata": {},
   "source": [
    "### _다음 10개 검색어 문자열 리스트 출력_"
   ]
  },
  {
   "cell_type": "code",
   "execution_count": 25,
   "metadata": {},
   "outputs": [
    {
     "data": {
      "text/plain": [
       "<200 https://www.daum.net/>"
      ]
     },
     "execution_count": 25,
     "metadata": {},
     "output_type": "execute_result"
    }
   ],
   "source": [
    "reg2 = requests.get(\"https://www.daum.net/\")\n",
    "response2 = TextResponse(reg2.url, body=reg2.text, encoding=\"utf-8\")\n",
    "response2"
   ]
  },
  {
   "cell_type": "code",
   "execution_count": 26,
   "metadata": {},
   "outputs": [
    {
     "data": {
      "text/plain": [
       "['거미',\n",
       " '조정석',\n",
       " '대구 수돗물',\n",
       " '진에어',\n",
       " '포천 천주호',\n",
       " '릴리',\n",
       " '크로아티아',\n",
       " '아르헨티나',\n",
       " '큐넷',\n",
       " '개그 아이돌']"
      ]
     },
     "execution_count": 26,
     "metadata": {},
     "output_type": "execute_result"
    }
   ],
   "source": [
    "response2.xpath('//*[@id=\"mArticle\"]/div[2]/div[2]/div[3]/div[1]/ol/li/div/div/span[2]/a/text()').extract()"
   ]
  },
  {
   "cell_type": "markdown",
   "metadata": {},
   "source": [
    "### _Gmarket 베스트셀러 200_"
   ]
  },
  {
   "cell_type": "code",
   "execution_count": 27,
   "metadata": {},
   "outputs": [],
   "source": [
    "reg3 = requests.get(\"http://corners.gmarket.co.kr/Bestsellers\")\n",
    "response3 = TextResponse(reg3.url, body=reg3.text, encoding=\"utf-8\")"
   ]
  },
  {
   "cell_type": "code",
   "execution_count": 30,
   "metadata": {},
   "outputs": [
    {
     "data": {
      "text/plain": [
       "['[빕스](빕스) 평일 런치 샐러드바1인',\n",
       " '[빕스](빕스) 평일 디너/주말 샐러드바1인',\n",
       " '모스트맘 쿨하게가즈아~ 냉감 쿨세트/원피스/파자마',\n",
       " '[크리넥스]크리넥스 마이비데리필 46매10팩/물티슈/화장지/휴지',\n",
       " '+여름 반팔티+ 빅사이즈77-99 롱/루즈핏/스트라이프',\n",
       " '사은품 여름모자/여름가방/아동/리본햇/라탄백',\n",
       " '데일리콤마 디퓨저 본품 100ml 1+1+1+1 /신향 출시',\n",
       " '스위스밀리터리/페이크삭스/덧신/스니커즈/최대10족',\n",
       " '1+1 여름 신상품 워싱스프레드(Q)',\n",
       " '[월드컵]월드컵 성인 키즈 인기 운동화/슬리퍼',\n",
       " '[샐리]샐리 더위에도 산뜻하게 썸머 블라우스/티셔츠',\n",
       " '[토리밤]여름히트 풍기인견/자가드 아동주니어 실내복+3개무배',\n",
       " '[앤디애플]아동복/상하복/반바지/원피스/치마/레깅스/반팔',\n",
       " '[CJ]CJ 비비고 사골곰탕x10개 무료배송/육개장/만두',\n",
       " '프리미엄 참쥐포 최대 30마리/튀김쥐포/육포/짱다리',\n",
       " '[팬콧]팬콧 남녀 여름 반팔/원피스/팬츠/모자/슬리퍼 특가',\n",
       " '[홈닥터]저주파마사지기 홈닥터 HD SYK-2018 저주파안마기',\n",
       " 'CJ 햇반 210G 12입 기획 X 4 (총 48입) / 무료배송/ 씨제이제일제당',\n",
       " '[돌핀]폴라레티 후르츠 트로피칼 아이스바 40mlx70개 쭈쭈바',\n",
       " '[미쏘]미쏘 외 이랜드썸머 브랜드 몽땅모아 전~',\n",
       " '쿠션솜+커버 풀세트/패브릭포스터/방석/배게/등쿠션',\n",
       " 'PVC 그루트 피규어 장난감 펜 홀더 화분',\n",
       " '[탑모델]여름신상 샌들 스트랩/웨지/슬리퍼/플랫샌들/구두',\n",
       " '밀크바오밥 베이비로션 1+1 / 수딩젤 / 워시 /샴푸',\n",
       " '[GFresh](국산) 마녀 포기김치10kg / 배추김치',\n",
       " '[동원에프앤비]디 레몬 톡 500mlx20병+쿨피스톡레몬콜라24캔 /자몽',\n",
       " '[동원참치]마일드참치 150gx7캔+후레쉬150gx3캔+(김자반2봉)/EPA',\n",
       " '[디프니]디프니~여름신상 롱원피스/티셔츠',\n",
       " '1+1 아날도바시니 캐릭터 거실화 슬리퍼 욕실화',\n",
       " '추성훈나시티 기능성 반팔티 쿨티 반바지 등산바지 남',\n",
       " '닥터방기원 탈모샴푸 탈모증상완화 임상시험완료',\n",
       " '종이컵 1000개 한박스(사업자반값상품)',\n",
       " '[시크릿키]시크릿키 베스트 스윗 글램 투톤 외 최대 50%할인',\n",
       " '[동원샘물미네마인]동원 샘물 2Lx9병x3팩(총 27병) /생수',\n",
       " '꼰띠키즈 프릴티/레깅스/원피스 59~99균일가전',\n",
       " '타임리스 여름신상 린넨 티셔츠/민소매/나시/원피스',\n",
       " '보니렌 휴대용/선풍기/5엽날개/탁상/미니/유모차/usb',\n",
       " '알베테 빅사이즈 신상추가 프린트/ 반팔티/남녀공용/',\n",
       " '[아망떼]1+1여름베개커버/인견/순면/30x50/40x60/50x70',\n",
       " '[미샤]미샤 6월 썸머 페스티벌 전품목 1+1 (6/19~6/23)',\n",
       " '[크리넥스]순수 30롤 2팩 + 베이킹소다 550g /휴지/화장지',\n",
       " '무료배송 국내생산 종이컵 2000개 1Box/특별기획상품',\n",
       " '[노스페이스키즈]여름 상하복/라운지웨어/반팔티/슬리퍼/샌들 35종 택1',\n",
       " '[잘풀리는집]순수PURE 천연펄프 25m30롤 x3팩 무료배송',\n",
       " '거시기장터 옥정영농 2018년 햅찰보리5kg+5kg/무배/',\n",
       " '3+1 2018년 프롬비 휴대용 선풍기 매직스톰 핸즈프리',\n",
       " 'CJ 햇반210gx24개/오뚜기밥24개/컵밥10개/컵반',\n",
       " '[아몬드브리즈]쿠폰가12900 매일 아몬드브리즈 190ml 24팩/두유',\n",
       " '[파세코]파세코 써큘레이터 공기순환기 PCF-D087AB',\n",
       " '서래푸드 브라질너트 반태 500g+500g 페루산',\n",
       " '캐릭터 모기밴드 5갑/아이스겔/패치/팔찌/뽀로로/기피',\n",
       " '더다다/원피스형 롱티/신상/루즈/박시/빅사이즈',\n",
       " '매트피니쉬 타투틴트 1+1/립스틱/여름 타투 메이크업',\n",
       " '업계를 리드하는 기업 3SK택배박스',\n",
       " '[카파]카파 2018년 흡습속건 반팔반바지 세트 KJRSTK283MO',\n",
       " '9900의 행복/공기정화식물36종/중대형/화분/미세먼지',\n",
       " '[동원에프앤비]덴마크 무항생제 목장우유120mlx24개+(3개추가) /멸균',\n",
       " 'NESTA 남녀 스트릿 반팔 티셔츠 특가',\n",
       " '[하기스]2018년형 에어솔솔 썸머 팬티 / 밴드 기저귀 2팩',\n",
       " '[마미포코]쿨썸머그린 팬티3팩/밴드2팩/2박스구매시튜브증정',\n",
       " '대박 장난감 완구 창고 대방출 최대할인',\n",
       " '[맥심]할인가32900원~모카골드/화이트 340T/320T/커피믹스',\n",
       " '샌들 99균일가 플랫샌들 스트랩 웨지 슬리퍼 슬링백',\n",
       " '스미후루 로즈바나나 4팩+4팩 증정 (2.4kg) - 무료배송',\n",
       " '유스타일팜 여름신상/빅사이즈/밴딩/데님/스커트',\n",
       " '[쿠첸]쿠첸 6인용 전기압력밥솥/전기밥솥/밥솥 CJS-FA0601V',\n",
       " 'S~4XL 반팔티/티셔츠/남자/면티/남성/의류/티/반팔',\n",
       " '[요즘에]여름신상 역대급특가/반바지/치마/슬랙스/청바지/SALE',\n",
       " '니베아 데오드란트 블랙앤화이트 200mlX2개+데오 35ml',\n",
       " '[하림]하림 프로라인 치킨너겟 1kg 2봉+치킨너겟 100g(증정)',\n",
       " '리빙 미니 미용티슈 230매 6입x2개 비즈온 한정행사',\n",
       " '티셔츠5장9900 원피스/티셔츠/린넨팬츠 세트',\n",
       " '[쏘피]바디피트 순간흡수 16Px6팩+쿠폰할인 초특가/생리대',\n",
       " '[앤디애플]아동복/티셔츠/원피스/레깅스/반바지/수영복/래쉬가드',\n",
       " '대박난박양 빅사이즈 원피스 블라우스 티셔츠 바지',\n",
       " 'NB정품 F80 F160 모니터암 듀얼 모니터 노트북 거치대',\n",
       " '덴마크유산균 100억 프로바이오틱스 2개월 특가 장건강',\n",
       " '[팬콧키즈]15%쿠폰할인+여름 신상 샌들 아쿠아슈즈',\n",
       " '[크로커다일](현대Hmall)[무료배송][크로커다일][기존가78000원] 스트레치 버뮤다팬츠 모음전 7종택1',\n",
       " '10+5 고급하이드로 더치커피 파우치 선물세트',\n",
       " '나이키 스우시 라운드 반팔 티셔츠',\n",
       " '2018 최신판 세이펜 허니북1탄/2탄/송아리 선택구매',\n",
       " '[썬키스트](사업자반값)해태 썬키스트 훼미리제주감귤 2Lx3페트',\n",
       " '[에스오일](S-OIL) 모바일주유권 5만원/ 실시간발송',\n",
       " '[아디다스오리지널스](아디다스본사)코트밴티지 /CQ2570',\n",
       " '[클라우드로랑]프랑스브랜드 C.LAURENT 2018 뉴 런칭 여성가방',\n",
       " '여름신상/롱티셔츠/반바지/원피스/블라우스/팬츠',\n",
       " '[크리넥스]순수3겹 화장지 27M 30롤x2팩/휴지 +증정',\n",
       " '천지양 벌꿀품은 국내산 6년근 홍삼스틱 30포+쇼핑백',\n",
       " '[에이지투웨니스]에이지투웨니스 에센스 커버팩트 시즌10 RX 1종견미리',\n",
       " '[위즈홈]위즈홈 빨래건조대 6단',\n",
       " '착한푸드 깔라만시원액 페트 1000ml 1+1+1',\n",
       " '[맥심]쿠폰가36900원~/화이트/모카골드 420T/400T/커피믹스',\n",
       " '[카누](카누아이스)카누미니 120T/155T/스프링/커피믹스',\n",
       " '[크라운]초코파이 360gx3곽 과자 간식',\n",
       " '[미샤]미샤 6월 썸머 HOT ITEM / 선케어 1+1 (6/19~6/23)',\n",
       " '언니드랑 블라우스/원피스/팬츠/스커트/린넨',\n",
       " '[그린핑거]특가행사/ New 투명선밤 1+1 특가/ 유아 선크림 행사',\n",
       " '(체리빌레)여름신상 예쁜 원피스/하객룩/플라워/린넨',\n",
       " '[바자르]바자르 아이스 쿨젤매트 4종 택1',\n",
       " '[티비제이]TBJ 남녀 여름 티셔츠/팬츠 특가 상품 모음',\n",
       " '여름신상 원피스44~110빅사이즈 루즈핏 린넨 쉬폰 롱',\n",
       " '[맥심]할인32900)모카골드 커피믹스 340T/화이트골드',\n",
       " '[세타필]-대박사은품5종증정- 세타필 1+1 초특가 베스트모음전',\n",
       " '2017년산 햅쌀 황금미가 20kg/10kg',\n",
       " '청매실 황매실10kg 왕특~상 구례매실 산지직송 설탕',\n",
       " '우리스카이종이컵 2000개/6.5oz자판기용 /국내산',\n",
       " '[쓰임]맥주컵 겸용 유리컵 세트 11종 모음',\n",
       " '[카누](쿠폰가17900)카누아이스미니100T+20T/텀블러/커피',\n",
       " '매월 둘째 주 추가할인 / 박스포유 택배박스',\n",
       " '[아침농산]2017년산 햅쌀 현미10kg/백미/찰현미/찹쌀/귀리',\n",
       " '[블랙야크키즈](신세계하남점)2018 신상품 역시즌특가  블랙야크키즈 BK투미 구스다운 벤치파카',\n",
       " '올리(Ollie) 여성 여름 샌들/슬리퍼/에스파듀/통굽',\n",
       " '[순창](기획)순창 찰고추장1kgx2+450gx2/양념/소스',\n",
       " '[월튼키즈]여름세일/상하복/원피스/티셔츠/팬츠/래쉬가드',\n",
       " '[대우]대우 에어프라이어 블랙 공기튀김기 포토상품평이벤트',\n",
       " '재입고 마지막 수량 크록스 특가 50종 택1(G180621)',\n",
       " '항균 여름이불패드 여름이불세트 침대패드 여름침구',\n",
       " '2봉/HACCP옹심이만두1kgx2봉/만두.간식',\n",
       " '캐릭터 아동샌들 슬리퍼 메쉬운동화 아쿠아워터슈즈',\n",
       " '에스쁘아 베스트템 최대 50%off',\n",
       " '자두와 살구의 특별한 만남 신품종 플럼코트 450g',\n",
       " '대박난박양 전품목 균일가 빅사이즈 블라우스 원피스',\n",
       " '((20%쿠폰))클리오/페리페라 6월 클럽데이 ~65%',\n",
       " '역대급특가/반바지/치마바지/숏팬츠/청바지/SALE',\n",
       " '(톰앤래빗) 지금필요한 BEST100',\n",
       " '[젤리스푼]아동복/상하복/원피스/반팔티/레깅스/팬츠/수영복',\n",
       " '[동원참치]동원 건강한참치 100gx9캔 +마일드 100gx3캔 (총12캔)',\n",
       " '티메이 원피스 블라우스 스커트 롱원피스',\n",
       " '전국 13개지점 / 키즈런 여름시즌 스플레쉬~ 도심에서 즐기는 물놀이  (신개념 놀이프로그램)',\n",
       " '차량용 음성 경보 과속 단속 레이더 탐지기 2종',\n",
       " '[스티유(Stiu)](신세계강남점)[스티유] 여성화 바캉스준비 스포티샌들 8종택1',\n",
       " '린넨 강자 로드블링 신상9900원/원피스/린넨/하객',\n",
       " '[아토세이프]진짜그대로 액상 겔타입 베이킹소다 3L 2개',\n",
       " '대디오대디-여름신상/아동복/유아복/반팔티/반바지/',\n",
       " '[아디다스]캠퍼스 외 12종 택1 (AQ1089 B41939 B37725 B37726 BY4392 BY3574 B41674 AQ1134 B28156 AQ1214)/ 아디다스',\n",
       " '[쁘리엘르]여름 이불베개세트 패드 침구/시어서커 인견 스프레드',\n",
       " '[닥터마밍](New)닥터마밍 라이트 아기물티슈 캡형 72매 10팩',\n",
       " '키즈웰 젤리스트로우 800GX2개',\n",
       " '[어퓨]어퓨 6월 빅세일 UP TO 50% 선케어1+1',\n",
       " '1+1 오뗄 순살 후라이드 치킨 1kg+1kg/가라아게',\n",
       " '단하루특가 투투 ~3XL/린넨/슬랙스/반바지',\n",
       " '파격특가 슈프림정품 반팔티 반바지 무지티 티셔츠',\n",
       " '[프렌치카페](쿠폰가23660)남양 프렌치카페 커피믹스 300T+10Tx2',\n",
       " '[디프니]디프니 여름신상~셔츠/블라우스/원피스/패턴/꽃무늬',\n",
       " '모니카룸/신상/Best상품/감성데일리룩/캐주얼룩',\n",
       " '[아디다스오리지널스](아디다스본사)(상설제품) 슈퍼스타 360 I (BY9932)',\n",
       " '[아디다스오리지널스](아디다스본사)(상설제품) 슈퍼스타 360 I (BB2516)',\n",
       " 'UV차단 기능성~4XL/여름 쿨레깅스/치마/린넨/밴딩팬츠',\n",
       " '대방출 문구세트 크레파스 색연필 색종이 생일선물',\n",
       " '셰프웨어  기획세트 쌀통10kg+잡곡통2개 총3종세트',\n",
       " '[비버리힐스폴로클럽]1매3400원/드로즈/사각/팬티/남성/남자/세트/면/속옷',\n",
       " '[카카오프렌즈]카카오 노트8 5 4 S9 S8 G6 아이폰X 7 핸드폰 케이스',\n",
       " '[네슬레]네슬레 퓨어라이프 2Lx12 500mlx20 330mlx20 생수 물',\n",
       " '브리치x럭키567 여름최신상 티셔츠 /원피스/스커트',\n",
       " '(1+1)쿨링바지 통바지/아이스슬랙스/반바지 XXL까지',\n",
       " '주니코 데일리룩/트레이닝복세트/원피스/블라우스',\n",
       " '전상품할인/롱원피스/박스티/오버핏/빅사이즈/린넨',\n",
       " '[소보제화]격자무늬 스트랩 스포티샌들',\n",
       " '[세컨스킨]세컨스킨 썸머 드레스/스커트/언더웨어 특별가전',\n",
       " '아이러브베베물티슈핑크 100매 리필형X20팩',\n",
       " '초특가브랜드3단자동우산/아동/장우산/양산/돌답례품',\n",
       " '[디프니]디프니 여름신상 큐티원피스/블라우스/셔츠',\n",
       " '[첨이첨이]아동팬티5매4900원특가/유아/런닝/순면/속옷/무료배송',\n",
       " '[GFresh]여수직송 양념 새우장 800g/간장 새우장 1kg',\n",
       " '[트라이]5매4900원/여자팬티/여성팬티/여성속옷/여자속옷',\n",
       " '글램공감/ABCD컵 여성속옷세트/왕뽕/빅사이즈/버블돌',\n",
       " '블론디44~77여성7부롱티/긴팔면티/반팔롱티/특양면',\n",
       " '[닥터웰](한정특가) 콕콕 저주파마사지기 HDW-300/저주파패드',\n",
       " '[아디다스오리지널스](신세계김해점)[UNISEX ORIGINALS] 퍼렐 윌리암스 테니스 휴 (AQ1056 B41792)',\n",
       " '브리치x콤마엠 신상 원피스/스커트 80종 +10%쿠폰',\n",
       " '[비지트인뉴욕]비지트인뉴욕 쉬폰블라우스/롱원피스/린넨/티셔츠',\n",
       " '[머거본]단하루만/땅콩 균일가 6개 골라담기',\n",
       " '[고스트리퍼블릭]M~2XL 빅사이즈 남여공용 인조양털 후드 집업',\n",
       " '[빈스걸]빅사이즈XL~99까지 린넨 롱반팔 티셔츠 원피스 남방',\n",
       " '한큐 모기사냥올킬 LED 모기퇴치기 USB 해충퇴치기',\n",
       " '스웨덴세탁소 빅사이즈 루즈핏 봄원피스 XXL까지',\n",
       " '(당일사용불가) 전국 키자니아 이용권 (6.1~6.30까지 사용가능)',\n",
       " '알베테 베이직티셔츠~3XL/오버핏/레이어드/빅사이즈',\n",
       " '로뎀푸드 구워나온 마리 10+1 SET 무료배송',\n",
       " '[쟈뎅]쿠폰가8400 시그니쳐 아메리카노 커피 1.1Lx3pet+증정',\n",
       " '샤오미 보조배터리 신형 3세대 20000mAh 2C PLM06ZM 1',\n",
       " '[테리파머]호텔수건 미국목화 타올 수건 리본포장 타월',\n",
       " '베베맘마 아기 물티슈 100매 X 20팩 리필형',\n",
       " '[에스오일](S-OIL) 모바일주유권 3만원/ 실시간발송',\n",
       " '핀덴썬스틱 1+1  물티슈 20매 3개까지',\n",
       " '[코디아이]여름신상/반소내의/칠부내의/수면조끼/바디/우주복',\n",
       " '[CGV](CGV) 영화관람권 1매/예매권/전일 사용가능',\n",
       " '[네고]강화유리액정보호갤럭시노트8 S9플러스 아이폰X 8 V30',\n",
       " '[가파치]가파치 숄더백/토트백/보스턴백/장지갑/파우치 外',\n",
       " '[도리도리]도리도리 아기물티슈 100매캡 10팩+10팩 식약처 cGMP',\n",
       " '스파클생수 2리터 24병',\n",
       " '달리샵/스커트/바캉스룩/린넨/롱/빅사이즈/쉬폰',\n",
       " '[드넬]드넬 루즈핏티셔츠/블라우스/원피스/프릴/롱셔츠',\n",
       " '(공식판매처/QR발송) 캐리비안 베이 종일권/자켓/방수팩패키지',\n",
       " '[돌체구스토]2만원 무배/돌체구스토/캡슐커피/특별사은품/중복쿠폰',\n",
       " '밸루아 18년 쿨매트 여름 캠핑매트 침대쿨매트 냉각젤',\n",
       " '[올시즌]여름청바지/스키니/9부/세미일자/빅사이즈/반바지',\n",
       " '2017년햅쌀 보성농협 보성다향미20kg/쌀20kg/백미현미',\n",
       " '[첨이첨이]아동팬티 5매4900원/아동/속옷/런닝/유아/주니어']"
      ]
     },
     "execution_count": 30,
     "metadata": {},
     "output_type": "execute_result"
    }
   ],
   "source": [
    "titles = response.xpath('//*[@id=\"gBestWrap\"]/div/div[3]/div[2]/ul/li/a/text()').extract()\n",
    "titles"
   ]
  },
  {
   "cell_type": "code",
   "execution_count": 33,
   "metadata": {},
   "outputs": [
    {
     "data": {
      "text/plain": [
       "(50,\n",
       " ['[빕스](빕스) 평일 런치 샐러드바1인',\n",
       "  '+여름 반팔티+ 빅사이즈77-99 롱/루즈핏/스트라이프',\n",
       "  '1+1 여름 신상품 워싱스프레드(Q)',\n",
       "  '[앤디애플]아동복/상하복/반바지/원피스/치마/레깅스/반팔',\n",
       "  '[홈닥터]저주파마사지기 홈닥터 HD SYK-2018 저주파안마기'])"
      ]
     },
     "execution_count": 33,
     "metadata": {},
     "output_type": "execute_result"
    }
   ],
   "source": [
    "# li 엘리먼트에서 class가 first인 데이터만 가져오기 \n",
    "\n",
    "titles2 = response3.xpath('//*[@id=\"gBestWrap\"]/div/div[3]/div[2]/ul/li[@class=\"first\"]/a/text()').extract()\n",
    "len(titles2), titles2[:5]"
   ]
  },
  {
   "cell_type": "code",
   "execution_count": 35,
   "metadata": {},
   "outputs": [
    {
     "data": {
      "text/plain": [
       "(150,\n",
       " ['[빕스](빕스) 평일 디너/주말 샐러드바1인',\n",
       "  '모스트맘 쿨하게가즈아~ 냉감 쿨세트/원피스/파자마',\n",
       "  '[크리넥스]크리넥스 마이비데리필 46매10팩/물티슈/화장지/휴지',\n",
       "  '사은품 여름모자/여름가방/아동/리본햇/라탄백',\n",
       "  '데일리콤마 디퓨저 본품 100ml 1+1+1+1 /신향 출시'])"
      ]
     },
     "execution_count": 35,
     "metadata": {},
     "output_type": "execute_result"
    }
   ],
   "source": [
    "# li 엘리먼트에서 class가 first인 데이터만 빼고 가져오기 \n",
    "\n",
    "titles3 = response3.xpath('//*[@id=\"gBestWrap\"]/div/div[3]/div[2]/ul/li[not(@class=\"first\")]/a/text()').extract()\n",
    "len(titles3), titles3[:5]"
   ]
  },
  {
   "cell_type": "code",
   "execution_count": 41,
   "metadata": {},
   "outputs": [
    {
     "data": {
      "text/plain": [
       "['적십자회담…南 \"민족의 한 풀어야\", 北 \"겨레에 깊은 기쁨을\"',\n",
       " '잇따른 붉은불개미…코코넛껍질 등 컨테이너 모두 열어본다',\n",
       " '김상조 \"검찰 수사와 전속고발권 폐지 논의는 별개의 사안\"',\n",
       " '朴국정농단 2심 첫 공판…국선 \"18개 혐의 전부 무죄다\"',\n",
       " '피치, 한국 신용등급 AA- 유지…\"지정학적 위험 지속\"']"
      ]
     },
     "execution_count": 41,
     "metadata": {},
     "output_type": "execute_result"
    }
   ],
   "source": [
    "# 네이버 메인 뉴스 \n",
    "\n",
    "reg = requests.get(\"http://news.naver.com/\")\n",
    "response = TextResponse(reg.url, body=reg.text, encoding=\"utf-8\")\n",
    "response.xpath('//*[@id=\"text_today_main_news_801001\"]/li/div/a/strong/text()').extract()"
   ]
  },
  {
   "cell_type": "code",
   "execution_count": 14,
   "metadata": {},
   "outputs": [],
   "source": [
    "import pandas as pd"
   ]
  },
  {
   "cell_type": "code",
   "execution_count": 45,
   "metadata": {},
   "outputs": [],
   "source": [
    "# 네이버 뉴스 : 가장 많이 본 뉴스 (2014.01.01 ~)\n",
    "\n",
    "reg = requests.get(\"http://m.news.naver.com/rankingList.nhn?sid1=100&date=20180621\")\n",
    "response = TextResponse(reg.url, body=reg.text, encoding=\"utf-8\")"
   ]
  },
  {
   "cell_type": "code",
   "execution_count": 11,
   "metadata": {},
   "outputs": [
    {
     "data": {
      "text/plain": [
       "['文대통령, 오늘 방러…우리 대통령 사상 최초 러시아 하원 연설',\n",
       " '주한미군 73년 만에 용산서 나간다…평택 시대 개막',\n",
       " '“배현진·김문수·남경필 뭐하나…” 6·13 선거 낙선자 근황']"
      ]
     },
     "execution_count": 11,
     "metadata": {},
     "output_type": "execute_result"
    }
   ],
   "source": [
    "news_title = response.xpath('//*[@id=\"ct\"]/div[6]/ul/li/a/div[1]/div[1]/text()').extract()\n",
    "news_title[:3]"
   ]
  },
  {
   "cell_type": "code",
   "execution_count": 12,
   "metadata": {},
   "outputs": [
    {
     "data": {
      "text/plain": [
       "['327,465', '213,244', '126,429']"
      ]
     },
     "execution_count": 12,
     "metadata": {},
     "output_type": "execute_result"
    }
   ],
   "source": [
    "news_viewcount = response.xpath('//*[@id=\"ct\"]/div[6]/ul/li/a/div[1]/div[2]/text()').extract()\n",
    "news_viewcount[:3]"
   ]
  },
  {
   "cell_type": "code",
   "execution_count": 18,
   "metadata": {},
   "outputs": [],
   "source": [
    "news_df = pd.DataFrame(columns=['제목', '조회수'])\n",
    "news_df['제목'] = news_title\n",
    "news_df['조회수'] = news_viewcount"
   ]
  },
  {
   "cell_type": "code",
   "execution_count": 21,
   "metadata": {},
   "outputs": [
    {
     "data": {
      "text/html": [
       "<div>\n",
       "<style scoped>\n",
       "    .dataframe tbody tr th:only-of-type {\n",
       "        vertical-align: middle;\n",
       "    }\n",
       "\n",
       "    .dataframe tbody tr th {\n",
       "        vertical-align: top;\n",
       "    }\n",
       "\n",
       "    .dataframe thead th {\n",
       "        text-align: right;\n",
       "    }\n",
       "</style>\n",
       "<table border=\"1\" class=\"dataframe\">\n",
       "  <thead>\n",
       "    <tr style=\"text-align: right;\">\n",
       "      <th></th>\n",
       "      <th>제목</th>\n",
       "      <th>조회수</th>\n",
       "    </tr>\n",
       "  </thead>\n",
       "  <tbody>\n",
       "    <tr>\n",
       "      <th>0</th>\n",
       "      <td>文대통령, 오늘 방러…우리 대통령 사상 최초 러시아 하원 연설</td>\n",
       "      <td>327,465</td>\n",
       "    </tr>\n",
       "    <tr>\n",
       "      <th>1</th>\n",
       "      <td>주한미군 73년 만에 용산서 나간다…평택 시대 개막</td>\n",
       "      <td>213,244</td>\n",
       "    </tr>\n",
       "    <tr>\n",
       "      <th>2</th>\n",
       "      <td>“배현진·김문수·남경필 뭐하나…” 6·13 선거 낙선자 근황</td>\n",
       "      <td>126,429</td>\n",
       "    </tr>\n",
       "  </tbody>\n",
       "</table>\n",
       "</div>"
      ],
      "text/plain": [
       "                                   제목      조회수\n",
       "0  文대통령, 오늘 방러…우리 대통령 사상 최초 러시아 하원 연설  327,465\n",
       "1        주한미군 73년 만에 용산서 나간다…평택 시대 개막  213,244\n",
       "2   “배현진·김문수·남경필 뭐하나…” 6·13 선거 낙선자 근황  126,429"
      ]
     },
     "execution_count": 21,
     "metadata": {},
     "output_type": "execute_result"
    }
   ],
   "source": [
    "news_df[:3]"
   ]
  },
  {
   "cell_type": "code",
   "execution_count": 37,
   "metadata": {},
   "outputs": [],
   "source": [
    "def naver_ranking_news(date):\n",
    "    link = \"http://m.news.naver.com/rankingList.nhn?sid1=100&date=\" + str(date)\n",
    "    reg = requests.get(link)\n",
    "    response = TextResponse(reg.url, body=reg.text, encoding=\"utf-8\")\n",
    "    \n",
    "    news_title = response.xpath('//*[@id=\"ct\"]/div[6]/ul/li/a/div[1]/div[1]/text()').extract()\n",
    "    news_viewcount = response.xpath('//*[@id=\"ct\"]/div[6]/ul/li/a/div[1]/div[2]/text()').extract()\n",
    "    news_df = pd.DataFrame(columns=['제목', '조회수'])\n",
    "    news_df['제목'] = news_title\n",
    "    news_df['조회수'] = news_viewcount\n",
    "    return news_df"
   ]
  },
  {
   "cell_type": "code",
   "execution_count": null,
   "metadata": {},
   "outputs": [],
   "source": [
    "http://m.news.naver.com/rankingList.nhn?sid1=100&date=20150101"
   ]
  },
  {
   "cell_type": "code",
   "execution_count": 44,
   "metadata": {},
   "outputs": [
    {
     "data": {
      "text/html": [
       "<div>\n",
       "<style scoped>\n",
       "    .dataframe tbody tr th:only-of-type {\n",
       "        vertical-align: middle;\n",
       "    }\n",
       "\n",
       "    .dataframe tbody tr th {\n",
       "        vertical-align: top;\n",
       "    }\n",
       "\n",
       "    .dataframe thead th {\n",
       "        text-align: right;\n",
       "    }\n",
       "</style>\n",
       "<table border=\"1\" class=\"dataframe\">\n",
       "  <thead>\n",
       "    <tr style=\"text-align: right;\">\n",
       "      <th></th>\n",
       "      <th>제목</th>\n",
       "      <th>조회수</th>\n",
       "    </tr>\n",
       "  </thead>\n",
       "  <tbody>\n",
       "    <tr>\n",
       "      <th>0</th>\n",
       "      <td>軍, 계급별 정년 1∼3년 연장…'20년근무' 보장 추진</td>\n",
       "      <td>107,601</td>\n",
       "    </tr>\n",
       "    <tr>\n",
       "      <th>1</th>\n",
       "      <td>北김정은, \"최고위급 남북회담 못할 이유 없다\"</td>\n",
       "      <td>102,397</td>\n",
       "    </tr>\n",
       "    <tr>\n",
       "      <th>2</th>\n",
       "      <td>정부, 김정은 신년사에 긍정반응…정상회담 여지 남겨</td>\n",
       "      <td>73,944</td>\n",
       "    </tr>\n",
       "    <tr>\n",
       "      <th>3</th>\n",
       "      <td>이명박 전대통령 \"4대강 사업 조금 더 지켜봐야\"(종합)</td>\n",
       "      <td>73,484</td>\n",
       "    </tr>\n",
       "    <tr>\n",
       "      <th>4</th>\n",
       "      <td>北김정은 최고위급 남북회담 언급 배경은?</td>\n",
       "      <td>70,041</td>\n",
       "    </tr>\n",
       "    <tr>\n",
       "      <th>5</th>\n",
       "      <td>박 대통령 신년 첫 일성, 군장병 격려 \"분단의 역사 마감해야\"</td>\n",
       "      <td>58,851</td>\n",
       "    </tr>\n",
       "    <tr>\n",
       "      <th>6</th>\n",
       "      <td>'노동당 창건 70주년' 北, 신년사에 드러난 정책방향은</td>\n",
       "      <td>51,869</td>\n",
       "    </tr>\n",
       "    <tr>\n",
       "      <th>7</th>\n",
       "      <td>군납비리 털어낸 전투복 좋아질까</td>\n",
       "      <td>50,628</td>\n",
       "    </tr>\n",
       "    <tr>\n",
       "      <th>8</th>\n",
       "      <td>朴대통령 \"한반도에 평화와 번영 깃들기를\"(종합)</td>\n",
       "      <td>46,517</td>\n",
       "    </tr>\n",
       "    <tr>\n",
       "      <th>9</th>\n",
       "      <td>이명박 전 대통령 \"4대강 사업 더 지켜봐야\"</td>\n",
       "      <td>43,147</td>\n",
       "    </tr>\n",
       "    <tr>\n",
       "      <th>10</th>\n",
       "      <td>2014년 마지막 경계근무…\"최전방 이상 무!\"</td>\n",
       "      <td>37,907</td>\n",
       "    </tr>\n",
       "    <tr>\n",
       "      <th>11</th>\n",
       "      <td>유권자 63% \"선거제도 손질 필요\"</td>\n",
       "      <td>26,419</td>\n",
       "    </tr>\n",
       "    <tr>\n",
       "      <th>12</th>\n",
       "      <td>&lt;여야 새해맞이…현충원참배·단배식 새출발&gt;(종합)</td>\n",
       "      <td>25,567</td>\n",
       "    </tr>\n",
       "    <tr>\n",
       "      <th>13</th>\n",
       "      <td>'정상회담' 언급 北, 올 한 해 전면적 대화공세로 이어질 듯</td>\n",
       "      <td>24,869</td>\n",
       "    </tr>\n",
       "    <tr>\n",
       "      <th>14</th>\n",
       "      <td>북한 김정은 \"남북 정상회담 못할 이유 없다\"(3보)</td>\n",
       "      <td>24,708</td>\n",
       "    </tr>\n",
       "    <tr>\n",
       "      <th>15</th>\n",
       "      <td>국민 10명 중 4명 \"경제 활성화·일자리 시급\"</td>\n",
       "      <td>22,555</td>\n",
       "    </tr>\n",
       "    <tr>\n",
       "      <th>16</th>\n",
       "      <td>정부 \"北, 관계개선 의지있다면 우리 대화 제안 응해야\"</td>\n",
       "      <td>20,044</td>\n",
       "    </tr>\n",
       "    <tr>\n",
       "      <th>17</th>\n",
       "      <td>朴대통령, 국립현충원 참배로 새해 일정 시작</td>\n",
       "      <td>17,465</td>\n",
       "    </tr>\n",
       "    <tr>\n",
       "      <th>18</th>\n",
       "      <td>반기문, 2017년 대선 최대변수…여론조사 압도적 1위</td>\n",
       "      <td>16,969</td>\n",
       "    </tr>\n",
       "    <tr>\n",
       "      <th>19</th>\n",
       "      <td>‘가장 좋아하는 대통령’ 노무현 32%…10년 전보다 3배 늘어</td>\n",
       "      <td>14,633</td>\n",
       "    </tr>\n",
       "    <tr>\n",
       "      <th>20</th>\n",
       "      <td>'까라면 까' 정신이 앗아간 두 청년의 목숨</td>\n",
       "      <td>13,353</td>\n",
       "    </tr>\n",
       "    <tr>\n",
       "      <th>21</th>\n",
       "      <td>류길재 장관 \"가까운 시일내 형식에 구애받지 않는 대화 기대\"</td>\n",
       "      <td>13,283</td>\n",
       "    </tr>\n",
       "    <tr>\n",
       "      <th>22</th>\n",
       "      <td>북한 김정은 \"남북 정상회담 못할 이유 없다\"(1보)</td>\n",
       "      <td>12,271</td>\n",
       "    </tr>\n",
       "    <tr>\n",
       "      <th>23</th>\n",
       "      <td>독도경비대 24시간 철통 경계…독도 수호 ‘이상 무’</td>\n",
       "      <td>11,791</td>\n",
       "    </tr>\n",
       "    <tr>\n",
       "      <th>24</th>\n",
       "      <td>청양의 해 맞은 군...철통경계 다짐</td>\n",
       "      <td>10,800</td>\n",
       "    </tr>\n",
       "    <tr>\n",
       "      <th>25</th>\n",
       "      <td>정부, 신중…남북관계 실제 진전까진 난제도 산적</td>\n",
       "      <td>10,445</td>\n",
       "    </tr>\n",
       "    <tr>\n",
       "      <th>26</th>\n",
       "      <td>세배·음식 나눠먹기 등 우리와 비슷한 북한의 새해맞이</td>\n",
       "      <td>10,342</td>\n",
       "    </tr>\n",
       "    <tr>\n",
       "      <th>27</th>\n",
       "      <td>[신년 여론조사]차기 대선주자 반기문 24%로 1위… 박원순·문재인 순으로 뒤이어</td>\n",
       "      <td>10,023</td>\n",
       "    </tr>\n",
       "    <tr>\n",
       "      <th>28</th>\n",
       "      <td>북한, 김정은 신년사 통해 남북대화 '총공세' 예고</td>\n",
       "      <td>9,675</td>\n",
       "    </tr>\n",
       "    <tr>\n",
       "      <th>29</th>\n",
       "      <td>북한 김정은 \"남북 정상회담 못할 이유 없다\"(2보)</td>\n",
       "      <td>9,540</td>\n",
       "    </tr>\n",
       "  </tbody>\n",
       "</table>\n",
       "</div>"
      ],
      "text/plain": [
       "                                               제목      조회수\n",
       "0                 軍, 계급별 정년 1∼3년 연장…'20년근무' 보장 추진  107,601\n",
       "1                      北김정은, \"최고위급 남북회담 못할 이유 없다\"  102,397\n",
       "2                    정부, 김정은 신년사에 긍정반응…정상회담 여지 남겨   73,944\n",
       "3                 이명박 전대통령 \"4대강 사업 조금 더 지켜봐야\"(종합)   73,484\n",
       "4                          北김정은 최고위급 남북회담 언급 배경은?   70,041\n",
       "5             박 대통령 신년 첫 일성, 군장병 격려 \"분단의 역사 마감해야\"   58,851\n",
       "6                 '노동당 창건 70주년' 北, 신년사에 드러난 정책방향은   51,869\n",
       "7                               군납비리 털어낸 전투복 좋아질까   50,628\n",
       "8                     朴대통령 \"한반도에 평화와 번영 깃들기를\"(종합)   46,517\n",
       "9                       이명박 전 대통령 \"4대강 사업 더 지켜봐야\"   43,147\n",
       "10                     2014년 마지막 경계근무…\"최전방 이상 무!\"   37,907\n",
       "11                           유권자 63% \"선거제도 손질 필요\"   26,419\n",
       "12                    <여야 새해맞이…현충원참배·단배식 새출발>(종합)   25,567\n",
       "13             '정상회담' 언급 北, 올 한 해 전면적 대화공세로 이어질 듯   24,869\n",
       "14                  북한 김정은 \"남북 정상회담 못할 이유 없다\"(3보)   24,708\n",
       "15                    국민 10명 중 4명 \"경제 활성화·일자리 시급\"   22,555\n",
       "16                정부 \"北, 관계개선 의지있다면 우리 대화 제안 응해야\"   20,044\n",
       "17                       朴대통령, 국립현충원 참배로 새해 일정 시작   17,465\n",
       "18                 반기문, 2017년 대선 최대변수…여론조사 압도적 1위   16,969\n",
       "19           ‘가장 좋아하는 대통령’ 노무현 32%…10년 전보다 3배 늘어    14,633\n",
       "20                       '까라면 까' 정신이 앗아간 두 청년의 목숨   13,353\n",
       "21             류길재 장관 \"가까운 시일내 형식에 구애받지 않는 대화 기대\"   13,283\n",
       "22                  북한 김정은 \"남북 정상회담 못할 이유 없다\"(1보)   12,271\n",
       "23                  독도경비대 24시간 철통 경계…독도 수호 ‘이상 무’   11,791\n",
       "24                           청양의 해 맞은 군...철통경계 다짐   10,800\n",
       "25                     정부, 신중…남북관계 실제 진전까진 난제도 산적   10,445\n",
       "26                  세배·음식 나눠먹기 등 우리와 비슷한 북한의 새해맞이   10,342\n",
       "27  [신년 여론조사]차기 대선주자 반기문 24%로 1위… 박원순·문재인 순으로 뒤이어   10,023\n",
       "28                   북한, 김정은 신년사 통해 남북대화 '총공세' 예고    9,675\n",
       "29                  북한 김정은 \"남북 정상회담 못할 이유 없다\"(2보)    9,540"
      ]
     },
     "execution_count": 44,
     "metadata": {},
     "output_type": "execute_result"
    }
   ],
   "source": [
    "naver_ranking_news(20150101)"
   ]
  },
  {
   "cell_type": "code",
   "execution_count": null,
   "metadata": {},
   "outputs": [],
   "source": []
  },
  {
   "cell_type": "markdown",
   "metadata": {},
   "source": [
    "### _scrapy project_\n",
    "\n",
    "- 프로젝트 생성\n",
    "    - `$ scrapy startproject <프로젝트명>\n",
    "- 프로젝트 파일 설명\n",
    "\n",
    "```\n",
    ".\n",
    "├── crawler\n",
    "│   ├── __init__.py\n",
    "│   ├── __pycache__\n",
    "│   ├── items.py\n",
    "│   ├── middlewares.py\n",
    "│   ├── pipelines.py\n",
    "│   ├── settings.py\n",
    "│   └── spiders\n",
    "│       ├── __init__.py\n",
    "│       └── __pycache__\n",
    "└── scrapy.cfg\n",
    "```\n",
    "\n",
    "- crawler 디렉토리 : 프로젝트 디렉토리\n",
    "- spiders 디렉토리 : 크롤링을 실행할 클래스와 함수가 모여있는 디렉토리\n",
    "- items.py : 크롤링을 할때 가져오는 데이터를 정의하는 클래스 (MVC - Model)\n",
    "- pipelines.py : 여러 개의 링크에서 데이터를 가져올 때 실행하는 함수를 정의하는 클래스\n",
    "- settings.py : 스크래핑을 할 때 정책과 같은 설정을 할 수 있는 파일 \n",
    "    - (예를 들어 robots.txt 정책을 따를 것인지 결정할 수 있다)\n",
    "\n",
    "\n",
    "- 아톰에서 크롤링\n",
    "- 네이버 영화에서 현재 상영중 영화의 제목과 관객 수 데이터 크롤링"
   ]
  },
  {
   "cell_type": "code",
   "execution_count": null,
   "metadata": {},
   "outputs": [],
   "source": [
    "# 쥬피터 노트북에서 실행되는지 계속해서 점검해야 한다."
   ]
  },
  {
   "cell_type": "code",
   "execution_count": 46,
   "metadata": {},
   "outputs": [],
   "source": [
    "reg = requests.get(\"https://movie.naver.com/movie/running/current.nhn\")\n",
    "response = TextResponse(reg.url, body=reg.text, encoding='utf-8')"
   ]
  },
  {
   "cell_type": "code",
   "execution_count": 47,
   "metadata": {},
   "outputs": [
    {
     "data": {
      "text/plain": [
       "['/movie/bi/mi/basic.nhn?code=159892',\n",
       " '/movie/bi/mi/basic.nhn?code=154285',\n",
       " '/movie/bi/mi/basic.nhn?code=153675',\n",
       " '/movie/bi/mi/basic.nhn?code=158178',\n",
       " '/movie/bi/mi/basic.nhn?code=168405',\n",
       " '/movie/bi/mi/basic.nhn?code=143416',\n",
       " '/movie/bi/mi/basic.nhn?code=168017',\n",
       " '/movie/bi/mi/basic.nhn?code=150097',\n",
       " '/movie/bi/mi/basic.nhn?code=172420',\n",
       " '/movie/bi/mi/basic.nhn?code=169899']"
      ]
     },
     "execution_count": 47,
     "metadata": {},
     "output_type": "execute_result"
    }
   ],
   "source": [
    "links = response.xpath('//*[@id=\"content\"]/div[1]/div[1]/div[3]/ul/li/dl/dt/a/@href')[:10].extract()\n",
    "links"
   ]
  },
  {
   "cell_type": "code",
   "execution_count": 62,
   "metadata": {},
   "outputs": [
    {
     "data": {
      "text/plain": [
       "'https://movie.naver.com/movie/bi/mi/basic.nhn?code=159892'"
      ]
     },
     "execution_count": 62,
     "metadata": {},
     "output_type": "execute_result"
    }
   ],
   "source": [
    "response.urljoin(links[0])"
   ]
  },
  {
   "cell_type": "code",
   "execution_count": 60,
   "metadata": {},
   "outputs": [
    {
     "name": "stdout",
     "output_type": "stream",
     "text": [
      "https://movie.naver.com/movie/bi/mi/basic.nhn?code=159892\n",
      "https://movie.naver.com/movie/bi/mi/basic.nhn?code=154285\n",
      "https://movie.naver.com/movie/bi/mi/basic.nhn?code=153675\n",
      "https://movie.naver.com/movie/bi/mi/basic.nhn?code=158178\n",
      "https://movie.naver.com/movie/bi/mi/basic.nhn?code=168405\n",
      "https://movie.naver.com/movie/bi/mi/basic.nhn?code=168017\n",
      "https://movie.naver.com/movie/bi/mi/basic.nhn?code=143416\n",
      "https://movie.naver.com/movie/bi/mi/basic.nhn?code=150097\n",
      "https://movie.naver.com/movie/bi/mi/basic.nhn?code=172420\n",
      "https://movie.naver.com/movie/bi/mi/basic.nhn?code=162854\n"
     ]
    }
   ],
   "source": [
    "# 아직 부족한 url. full url로 만들기. (url 조인 사용))\n",
    "\n",
    "for link in links:\n",
    "    link = response.urljoin(link)\n",
    "    print(link)"
   ]
  },
  {
   "cell_type": "code",
   "execution_count": 48,
   "metadata": {},
   "outputs": [],
   "source": [
    "reg = requests.get(\"https://movie.naver.com/movie/bi/mi/basic.nhn?code=159892\")\n",
    "response = TextResponse(reg.url, body=reg.text, encoding='utf-8')"
   ]
  },
  {
   "cell_type": "code",
   "execution_count": 49,
   "metadata": {},
   "outputs": [
    {
     "data": {
      "text/plain": [
       "'1,405,591명'"
      ]
     },
     "execution_count": 49,
     "metadata": {},
     "output_type": "execute_result"
    }
   ],
   "source": [
    "response.xpath('//*[@id=\"content\"]/div[1]/div[2]/div[1]/h3/a[1]/text()').extract()[0]\n",
    "response.xpath('//*[@id=\"content\"]/div[1]/div[2]/div[1]/dl/dd[5]/div/p[2]/text()').extract()[0]"
   ]
  },
  {
   "cell_type": "code",
   "execution_count": null,
   "metadata": {},
   "outputs": [],
   "source": [
    "# 프로젝트 디렉토리로 이동\n",
    "# scrapy crawl NaverMovie"
   ]
  },
  {
   "cell_type": "code",
   "execution_count": null,
   "metadata": {},
   "outputs": [],
   "source": [
    "# csv 파일로 저장\n",
    "# scrapy crawl NaverMovie -o movie.csv"
   ]
  },
  {
   "cell_type": "code",
   "execution_count": 77,
   "metadata": {},
   "outputs": [],
   "source": [
    "# yield : 각 아이템을 순서대로 리턴한다. \n",
    "# 제너레이터"
   ]
  },
  {
   "cell_type": "code",
   "execution_count": 69,
   "metadata": {},
   "outputs": [],
   "source": [
    "# 함수를 순서대로 리턴하기 위해 yield를 사용\n",
    "\n",
    "def number():\n",
    "    return [0, 1, 2]"
   ]
  },
  {
   "cell_type": "code",
   "execution_count": 70,
   "metadata": {},
   "outputs": [
    {
     "data": {
      "text/plain": [
       "[0, 1, 2]"
      ]
     },
     "execution_count": 70,
     "metadata": {},
     "output_type": "execute_result"
    }
   ],
   "source": [
    "number()"
   ]
  },
  {
   "cell_type": "code",
   "execution_count": 71,
   "metadata": {},
   "outputs": [],
   "source": [
    "def number():\n",
    "    yield 0\n",
    "    yield 1\n",
    "    yield 2"
   ]
  },
  {
   "cell_type": "code",
   "execution_count": 72,
   "metadata": {},
   "outputs": [],
   "source": [
    "n = number()"
   ]
  },
  {
   "cell_type": "code",
   "execution_count": 73,
   "metadata": {},
   "outputs": [
    {
     "data": {
      "text/plain": [
       "<generator object number at 0x115124eb8>"
      ]
     },
     "execution_count": 73,
     "metadata": {},
     "output_type": "execute_result"
    }
   ],
   "source": [
    "n"
   ]
  },
  {
   "cell_type": "code",
   "execution_count": 74,
   "metadata": {},
   "outputs": [
    {
     "data": {
      "text/plain": [
       "0"
      ]
     },
     "execution_count": 74,
     "metadata": {},
     "output_type": "execute_result"
    }
   ],
   "source": [
    "n.__next__()"
   ]
  },
  {
   "cell_type": "code",
   "execution_count": 75,
   "metadata": {},
   "outputs": [
    {
     "data": {
      "text/plain": [
       "1"
      ]
     },
     "execution_count": 75,
     "metadata": {},
     "output_type": "execute_result"
    }
   ],
   "source": [
    "n.__next__()"
   ]
  },
  {
   "cell_type": "code",
   "execution_count": 76,
   "metadata": {},
   "outputs": [
    {
     "data": {
      "text/plain": [
       "2"
      ]
     },
     "execution_count": 76,
     "metadata": {},
     "output_type": "execute_result"
    }
   ],
   "source": [
    "n.__next__()"
   ]
  },
  {
   "cell_type": "markdown",
   "metadata": {},
   "source": [
    "### _pipe line_\n",
    "\n",
    "- 파이프 라인을 사용하기 위해서는 settings의 주석을 해지해줘야 한다."
   ]
  },
  {
   "cell_type": "code",
   "execution_count": 80,
   "metadata": {},
   "outputs": [],
   "source": [
    "import csv"
   ]
  },
  {
   "cell_type": "code",
   "execution_count": 83,
   "metadata": {},
   "outputs": [
    {
     "data": {
      "text/plain": [
       "13"
      ]
     },
     "execution_count": 83,
     "metadata": {},
     "output_type": "execute_result"
    }
   ],
   "source": [
    "csvwriter = csv.writer(open(\"NaverMovie.csv\", \"w\"))\n",
    "csvwriter.writerow([\"title\", \"count\"])"
   ]
  },
  {
   "cell_type": "code",
   "execution_count": 50,
   "metadata": {},
   "outputs": [
    {
     "data": {
      "text/plain": [
       "13"
      ]
     },
     "execution_count": 50,
     "metadata": {},
     "output_type": "execute_result"
    }
   ],
   "source": [
    "import csv\n",
    "csvwriter = csv.writer(open(\"NaverMovie.csv\", \"w\"))\n",
    "csvwriter.writerow([\"title\",\"count\"])"
   ]
  },
  {
   "cell_type": "code",
   "execution_count": null,
   "metadata": {},
   "outputs": [],
   "source": []
  },
  {
   "cell_type": "code",
   "execution_count": null,
   "metadata": {},
   "outputs": [],
   "source": []
  }
 ],
 "metadata": {
  "kernelspec": {
   "display_name": "Python 3",
   "language": "python",
   "name": "python3"
  },
  "language_info": {
   "codemirror_mode": {
    "name": "ipython",
    "version": 3
   },
   "file_extension": ".py",
   "mimetype": "text/x-python",
   "name": "python",
   "nbconvert_exporter": "python",
   "pygments_lexer": "ipython3",
   "version": "3.6.5"
  }
 },
 "nbformat": 4,
 "nbformat_minor": 2
}
