{
 "cells": [
  {
   "cell_type": "markdown",
   "metadata": {},
   "source": [
    "### 웹을 공부해야 하는 이유\n",
    "\n",
    "- 웹은 데이터의 보고이다\n",
    "- 웹이 어떤 것인지 알아야, 웹의 데이터를 자유자재로 활용할 수 있다\n",
    "\n",
    "- atom\n",
    "- html, css, js\n",
    "- aws, crawling"
   ]
  },
  {
   "cell_type": "markdown",
   "metadata": {},
   "source": [
    "## 웹\n",
    "\n",
    "- Server & Client Architecture\n",
    "- URL : url 내부 구조\n",
    "- Get & Post : 요청하는 방식\n",
    "- Internet\n",
    "- OSI 7 layer\n",
    "- cookie & session & cache\n",
    "- web status code\n",
    "- web language & framework\n",
    "- spider & bot & scraping & crawling"
   ]
  },
  {
   "cell_type": "code",
   "execution_count": null,
   "metadata": {},
   "outputs": [],
   "source": [
    "###\n"
   ]
  }
 ],
 "metadata": {
  "kernelspec": {
   "display_name": "Python 3",
   "language": "python",
   "name": "python3"
  },
  "language_info": {
   "codemirror_mode": {
    "name": "ipython",
    "version": 3
   },
   "file_extension": ".py",
   "mimetype": "text/x-python",
   "name": "python",
   "nbconvert_exporter": "python",
   "pygments_lexer": "ipython3",
   "version": "3.6.5"
  }
 },
 "nbformat": 4,
 "nbformat_minor": 2
}
