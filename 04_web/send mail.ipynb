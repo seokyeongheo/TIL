{
 "cells": [
  {
   "cell_type": "markdown",
   "metadata": {},
   "source": [
    "### SMTP\n",
    "\n",
    "- SMTP : simple mail transfer protocol\n",
    "- SMTP 서버가 이어야 메일을 주고 받을 수 있다\n",
    "- google, daum, naver 등 포털에서 서비스를 제공한다"
   ]
  },
  {
   "cell_type": "code",
   "execution_count": 4,
   "metadata": {},
   "outputs": [],
   "source": [
    "import smtplib, os, pickle\n",
    "from email import encoders\n",
    "from email.mime.text import MIMEText\n",
    "from email.mime.multipart import MIMEMultipart \n",
    "from email.mime.base import MIMEBase"
   ]
  },
  {
   "cell_type": "code",
   "execution_count": 16,
   "metadata": {},
   "outputs": [],
   "source": [
    "toAddr = [\"syh602@naver.com\", \"syh602@gmail.com\", \"syh602@daum.net\"]"
   ]
  },
  {
   "cell_type": "code",
   "execution_count": 8,
   "metadata": {},
   "outputs": [],
   "source": [
    "# 비밀번호 저장\n",
    "pw = \"\"\n",
    "pickle.dump(pw, open(\"../pw.pickle\", 'wb'))"
   ]
  },
  {
   "cell_type": "code",
   "execution_count": 9,
   "metadata": {},
   "outputs": [
    {
     "data": {
      "text/plain": [
       "(235, b'2.7.0 Accepted')"
      ]
     },
     "execution_count": 9,
     "metadata": {},
     "output_type": "execute_result"
    }
   ],
   "source": [
    "# Access smtp server\n",
    "smtp = smtplib.SMTP('smtp.gmail.com', 587) # gmail SMTP 서버를 사용한다. 587은 포트명.\n",
    "smtp.ehlo()\n",
    "smtp.starttls() # 접속하는 방식 중 하나. tls\n",
    "smtp.login('syh602@gmail.com', pickle.load( open('../pw.pickle', 'rb') )) # smtp.login(email, pw)"
   ]
  },
  {
   "cell_type": "code",
   "execution_count": 11,
   "metadata": {},
   "outputs": [],
   "source": [
    "# make message\n",
    "msg = MIMEMultipart() # MIMEMultipart는 이메일 메시지 만들 때 사용하는 패키지\n",
    "msg['subject'] = \"SMTP 전송 해보자\""
   ]
  },
  {
   "cell_type": "code",
   "execution_count": 13,
   "metadata": {},
   "outputs": [],
   "source": [
    "part = MIMEText(\"SMTP 잘 되나요?\")\n",
    "msg.attach(part)"
   ]
  },
  {
   "cell_type": "code",
   "execution_count": 14,
   "metadata": {},
   "outputs": [
    {
     "data": {
      "text/plain": [
       "<email.mime.multipart.MIMEMultipart at 0x111fe0828>"
      ]
     },
     "execution_count": 14,
     "metadata": {},
     "output_type": "execute_result"
    }
   ],
   "source": [
    "msg # 메시지에 제목과 본문이 추가되어 있는 상태"
   ]
  },
  {
   "cell_type": "code",
   "execution_count": 18,
   "metadata": {},
   "outputs": [],
   "source": [
    "# 전송\n",
    "\n",
    "for addr in toAddr:\n",
    "    msg[\"To\"] = addr\n",
    "    # smtp.sendmail('보내는 사람 메일주소', '받는 사람 메일주소', 메시지)\n",
    "    # 메시지는 문자열로 보내야 제대로 전송된다\n",
    "    smtp.sendmail('syh602@gmail.com', addr, msg.as_string())"
   ]
  },
  {
   "cell_type": "code",
   "execution_count": 19,
   "metadata": {},
   "outputs": [
    {
     "data": {
      "text/plain": [
       "(221, b'2.0.0 closing connection w7-v6sm4401952pgs.68 - gsmtp')"
      ]
     },
     "execution_count": 19,
     "metadata": {},
     "output_type": "execute_result"
    }
   ],
   "source": [
    "# close smtp object\n",
    "\n",
    "smtp.quit()"
   ]
  },
  {
   "cell_type": "code",
   "execution_count": null,
   "metadata": {},
   "outputs": [],
   "source": []
  },
  {
   "cell_type": "code",
   "execution_count": null,
   "metadata": {},
   "outputs": [],
   "source": []
  },
  {
   "cell_type": "code",
   "execution_count": null,
   "metadata": {},
   "outputs": [],
   "source": []
  },
  {
   "cell_type": "code",
   "execution_count": null,
   "metadata": {},
   "outputs": [],
   "source": []
  },
  {
   "cell_type": "code",
   "execution_count": null,
   "metadata": {},
   "outputs": [],
   "source": []
  },
  {
   "cell_type": "code",
   "execution_count": null,
   "metadata": {},
   "outputs": [],
   "source": []
  }
 ],
 "metadata": {
  "kernelspec": {
   "display_name": "Python 3",
   "language": "python",
   "name": "python3"
  },
  "language_info": {
   "codemirror_mode": {
    "name": "ipython",
    "version": 3
   },
   "file_extension": ".py",
   "mimetype": "text/x-python",
   "name": "python",
   "nbconvert_exporter": "python",
   "pygments_lexer": "ipython3",
   "version": "3.6.5"
  }
 },
 "nbformat": 4,
 "nbformat_minor": 2
}
