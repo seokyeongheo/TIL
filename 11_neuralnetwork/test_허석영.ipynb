{
 "cells": [
  {
   "cell_type": "markdown",
   "metadata": {},
   "source": [
    "# SETUP\n",
    "- - -"
   ]
  },
  {
   "cell_type": "code",
   "execution_count": 1,
   "metadata": {},
   "outputs": [],
   "source": [
    "import tensorflow as tf\n",
    "import numpy as np\n",
    "import pandas as pd"
   ]
  },
  {
   "cell_type": "code",
   "execution_count": 2,
   "metadata": {},
   "outputs": [
    {
     "data": {
      "text/html": [
       "<div>\n",
       "<style scoped>\n",
       "    .dataframe tbody tr th:only-of-type {\n",
       "        vertical-align: middle;\n",
       "    }\n",
       "\n",
       "    .dataframe tbody tr th {\n",
       "        vertical-align: top;\n",
       "    }\n",
       "\n",
       "    .dataframe thead th {\n",
       "        text-align: right;\n",
       "    }\n",
       "</style>\n",
       "<table border=\"1\" class=\"dataframe\">\n",
       "  <thead>\n",
       "    <tr style=\"text-align: right;\">\n",
       "      <th></th>\n",
       "      <th>col1</th>\n",
       "      <th>col2</th>\n",
       "      <th>col3</th>\n",
       "      <th>col4</th>\n",
       "      <th>col5</th>\n",
       "      <th>col6</th>\n",
       "      <th>label</th>\n",
       "    </tr>\n",
       "  </thead>\n",
       "  <tbody>\n",
       "    <tr>\n",
       "      <th>114</th>\n",
       "      <td>5.64</td>\n",
       "      <td>4.08</td>\n",
       "      <td>1.36</td>\n",
       "      <td>0.42</td>\n",
       "      <td>7.48</td>\n",
       "      <td>3.80</td>\n",
       "      <td>0</td>\n",
       "    </tr>\n",
       "    <tr>\n",
       "      <th>115</th>\n",
       "      <td>6.06</td>\n",
       "      <td>4.18</td>\n",
       "      <td>1.25</td>\n",
       "      <td>0.21</td>\n",
       "      <td>7.61</td>\n",
       "      <td>3.86</td>\n",
       "      <td>0</td>\n",
       "    </tr>\n",
       "    <tr>\n",
       "      <th>116</th>\n",
       "      <td>5.43</td>\n",
       "      <td>4.28</td>\n",
       "      <td>1.57</td>\n",
       "      <td>0.10</td>\n",
       "      <td>7.40</td>\n",
       "      <td>3.76</td>\n",
       "      <td>0</td>\n",
       "    </tr>\n",
       "    <tr>\n",
       "      <th>117</th>\n",
       "      <td>5.75</td>\n",
       "      <td>4.39</td>\n",
       "      <td>1.46</td>\n",
       "      <td>0.21</td>\n",
       "      <td>7.68</td>\n",
       "      <td>3.90</td>\n",
       "      <td>0</td>\n",
       "    </tr>\n",
       "    <tr>\n",
       "      <th>118</th>\n",
       "      <td>5.96</td>\n",
       "      <td>4.60</td>\n",
       "      <td>1.57</td>\n",
       "      <td>0.42</td>\n",
       "      <td>8.16</td>\n",
       "      <td>4.14</td>\n",
       "      <td>0</td>\n",
       "    </tr>\n",
       "  </tbody>\n",
       "</table>\n",
       "</div>"
      ],
      "text/plain": [
       "     col1  col2  col3  col4  col5  col6  label\n",
       "114  5.64  4.08  1.36  0.42  7.48  3.80      0\n",
       "115  6.06  4.18  1.25  0.21  7.61  3.86      0\n",
       "116  5.43  4.28  1.57  0.10  7.40  3.76      0\n",
       "117  5.75  4.39  1.46  0.21  7.68  3.90      0\n",
       "118  5.96  4.60  1.57  0.42  8.16  4.14      0"
      ]
     },
     "execution_count": 2,
     "metadata": {},
     "output_type": "execute_result"
    }
   ],
   "source": [
    "# 데이터 불러오기\n",
    "\n",
    "data_raw = pd.read_csv('exam_181121.csv')\n",
    "data_raw.tail()"
   ]
  },
  {
   "cell_type": "code",
   "execution_count": 3,
   "metadata": {},
   "outputs": [
    {
     "data": {
      "text/plain": [
       "2    40\n",
       "1    40\n",
       "0    39\n",
       "Name: label, dtype: int64"
      ]
     },
     "execution_count": 3,
     "metadata": {},
     "output_type": "execute_result"
    }
   ],
   "source": [
    "data_raw.label.value_counts()"
   ]
  },
  {
   "cell_type": "code",
   "execution_count": 4,
   "metadata": {},
   "outputs": [],
   "source": [
    "data = data_raw.values"
   ]
  },
  {
   "cell_type": "code",
   "execution_count": 5,
   "metadata": {},
   "outputs": [],
   "source": [
    "x_data = data[:, 0:-1]\n",
    "y_data = data[:, [-1]]"
   ]
  },
  {
   "cell_type": "code",
   "execution_count": 6,
   "metadata": {},
   "outputs": [
    {
     "data": {
      "text/plain": [
       "((119, 7), (119, 6), (119, 1))"
      ]
     },
     "execution_count": 6,
     "metadata": {},
     "output_type": "execute_result"
    }
   ],
   "source": [
    "data_raw.shape, x_data.shape, y_data.shape"
   ]
  },
  {
   "cell_type": "code",
   "execution_count": 8,
   "metadata": {},
   "outputs": [],
   "source": [
    "nb_classes = 3\n",
    "\n",
    "X = tf.placeholder(tf.float32, [None, 6])\n",
    "Y = tf.placeholder(tf.int32, [None, 1])\n",
    "Y_one_hot = tf.one_hot(Y, nb_classes)"
   ]
  },
  {
   "cell_type": "code",
   "execution_count": 114,
   "metadata": {},
   "outputs": [],
   "source": [
    "Y_one_hot = tf.reshape(Y_one_hot, [-1, nb_classes])\n",
    "\n",
    "W = tf.Variable(tf.random_normal([6, nb_classes]), name='weight')\n",
    "b = tf.Variable(tf.random_normal([nb_classes]), name='bias')\n",
    "\n",
    "logits = tf.matmul(X, W) + b\n",
    "y_ = tf.nn.softmax(logits)\n",
    "\n",
    "cross_entropy = tf.nn.softmax_cross_entropy_with_logits(logits=logits, labels=Y_one_hot)\n",
    "cost = tf.reduce_mean(cross_entropy)\n",
    "optimizer = tf.train.GradientDescentOptimizer(learning_rate=0.05).minimize(cost)\n",
    "\n",
    "prediction = tf.argmax(y_, 1)\n",
    "correct_prediction = tf.equal(prediction, tf.argmax(Y_one_hot, 1))\n",
    "accuracy = tf.reduce_mean(tf.cast(correct_prediction, tf.float32))"
   ]
  },
  {
   "cell_type": "code",
   "execution_count": 115,
   "metadata": {},
   "outputs": [
    {
     "name": "stdout",
     "output_type": "stream",
     "text": [
      "Step:     0 | Loss: 13.328 | Acc: 33.61%\n",
      "Step:   100 | Loss: 0.887 | Acc: 66.39%\n",
      "Step:   200 | Loss: 0.745 | Acc: 67.23%\n",
      "Step:   300 | Loss: 0.644 | Acc: 67.23%\n",
      "Step:   400 | Loss: 0.552 | Acc: 70.59%\n",
      "Step:   500 | Loss: 0.443 | Acc: 78.99%\n",
      "Step:   600 | Loss: 0.305 | Acc: 84.03%\n",
      "Step:   700 | Loss: 0.192 | Acc: 93.28%\n",
      "Step:   800 | Loss: 0.173 | Acc: 96.64%\n",
      "Step:   900 | Loss: 0.166 | Acc: 96.64%\n",
      "Step:  1000 | Loss: 0.161 | Acc: 96.64%\n",
      "Step:  1100 | Loss: 0.156 | Acc: 96.64%\n",
      "Step:  1200 | Loss: 0.152 | Acc: 96.64%\n",
      "Step:  1300 | Loss: 0.148 | Acc: 96.64%\n",
      "Step:  1400 | Loss: 0.144 | Acc: 96.64%\n",
      "Step:  1500 | Loss: 0.141 | Acc: 96.64%\n",
      "Step:  1600 | Loss: 0.139 | Acc: 96.64%\n",
      "Step:  1700 | Loss: 0.136 | Acc: 96.64%\n",
      "Step:  1800 | Loss: 0.134 | Acc: 96.64%\n",
      "Step:  1900 | Loss: 0.132 | Acc: 96.64%\n"
     ]
    }
   ],
   "source": [
    "sess = tf.Session()\n",
    "sess.run(tf.global_variables_initializer())\n",
    "\n",
    "for step in range(2000):\n",
    "    sess.run(optimizer, feed_dict={X: x_data, Y: y_data})\n",
    "\n",
    "    if step % 100 == 0:\n",
    "        loss, acc = sess.run([cost, accuracy], feed_dict={X: x_data, Y: y_data})\n",
    "        print(\"Step: {:5} | Loss: {:.3f} | Acc: {:.2%}\".format(step, loss, acc))"
   ]
  }
 ],
 "metadata": {
  "kernelspec": {
   "display_name": "Python 3",
   "language": "python",
   "name": "python3"
  },
  "language_info": {
   "codemirror_mode": {
    "name": "ipython",
    "version": 3
   },
   "file_extension": ".py",
   "mimetype": "text/x-python",
   "name": "python",
   "nbconvert_exporter": "python",
   "pygments_lexer": "ipython3",
   "version": "3.6.5"
  }
 },
 "nbformat": 4,
 "nbformat_minor": 2
}
